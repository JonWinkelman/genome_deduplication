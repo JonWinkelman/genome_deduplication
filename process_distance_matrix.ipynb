{
 "cells": [
  {
   "cell_type": "code",
   "execution_count": 1,
   "metadata": {
    "tags": []
   },
   "outputs": [],
   "source": [
    "from jw_utils import file_utils as fu\n",
    "import plotly.graph_objects as go\n",
    "import plotly.offline as pyo\n",
    "import numpy as np\n",
    "from Bio import Phylo\n",
    "import pandas as pd\n",
    "from Bio.Phylo.TreeConstruction import DistanceTreeConstructor\n",
    "from jw_utils import jw_draw_tree\n",
    "import os\n",
    "import json\n",
    "from jw_utils import ncbi_utils as nu"
   ]
  },
  {
   "cell_type": "markdown",
   "metadata": {},
   "source": [
    "### Read in distance matrix generated in 'dwnld_assemblies_make_distMatrix.ipynb'"
   ]
  },
  {
   "cell_type": "code",
   "execution_count": null,
   "metadata": {},
   "outputs": [],
   "source": []
  },
  {
   "cell_type": "code",
   "execution_count": 2,
   "metadata": {
    "tags": []
   },
   "outputs": [],
   "source": [
    "dist_matrix_lowTriang_df = pd.read_csv('./dist_mat.csv').set_index('Unnamed: 0')\n",
    "dist_matrix_df = dist_matrix_lowTriang_df.fillna(0) + dist_matrix_lowTriang_df.T.fillna(0)"
   ]
  },
  {
   "cell_type": "code",
   "execution_count": 11,
   "metadata": {},
   "outputs": [],
   "source": [
    "def get_n50_d(json_summary_fp):\n",
    "    summary_d = nu.parse_ncbi_summary(json_summary_fp)\n",
    "    n50 = {}\n",
    "    for acc, summ_dict in summary_d.items():\n",
    "        n50_val = summ_dict['assembly_stats']['contig_n50']\n",
    "        n50[acc] = n50_val\n",
    "    return n50\n",
    "\n",
    "json_summary_fp = './summary_all.json'\n",
    "n50 = get_n50_d(json_summary_fp)"
   ]
  },
  {
   "cell_type": "code",
   "execution_count": 12,
   "metadata": {
    "tags": []
   },
   "outputs": [],
   "source": [
    "def make_phylo_distMatrix(df):\n",
    "    \"make a Bio.Phylo distance matrix from a lower triangle df with names set as the df.index\"\n",
    "\n",
    "    matrix = []\n",
    "    names=[]\n",
    "    for i, name in enumerate(df.index):\n",
    "        names.append(name)\n",
    "        matrix.append(list(df.iloc[i, :(i+1)]))\n",
    "    return Phylo.TreeConstruction.DistanceMatrix(names=names, matrix=matrix)"
   ]
  },
  {
   "cell_type": "code",
   "execution_count": 13,
   "metadata": {
    "tags": []
   },
   "outputs": [
    {
     "data": {
      "text/plain": [
       "230"
      ]
     },
     "execution_count": 13,
     "metadata": {},
     "output_type": "execute_result"
    }
   ],
   "source": [
    "def deduplicate_genomes(distance_matrix, quality_scores, similarity_threshold):\n",
    "    \"\"\"\n",
    "    Deduplicates genomes based on a similarity threshold and quality scores.\n",
    "\n",
    "    Parameters:\n",
    "        distance_matrix (pd.DataFrame): Square DataFrame where index and columns are genome accessions,\n",
    "                                        and values are distances between genomes.\n",
    "        quality_scores (dict): Dictionary mapping genome accessions to quality scores.\n",
    "        similarity_threshold (float): Threshold for similarity. Genomes with a distance below this\n",
    "                                       are considered similar.\n",
    "\n",
    "    Returns:\n",
    "        list: List of genome accessions to keep after deduplication.\n",
    "    \"\"\"\n",
    "    # Make a copy of the distance matrix to avoid modifying the original\n",
    "    remaining_genomes = set(distance_matrix.index)\n",
    "    \n",
    "    # Convert quality_scores to a pandas Series for easy sorting and lookups\n",
    "    quality_series = pd.Series(quality_scores)\n",
    "    \n",
    "    # Sort genomes by quality score (highest to lowest)\n",
    "    genomes_sorted = quality_series.loc[list(remaining_genomes)].sort_values(ascending=False).index\n",
    "    \n",
    "    # Set to track genomes to keep\n",
    "    to_keep = set()\n",
    "    \n",
    "    # Iterate over genomes by quality score\n",
    "    for genome in genomes_sorted:\n",
    "        if genome not in remaining_genomes:\n",
    "            continue  # Skip genomes already removed\n",
    "        \n",
    "        # Add the genome to the \"to keep\" set\n",
    "        to_keep.add(genome)\n",
    "        \n",
    "        # Find all genomes that are similar to the current genome\n",
    "        similar_genomes = distance_matrix.loc[genome, list(remaining_genomes)]\n",
    "        similar_genomes = similar_genomes[similar_genomes < similarity_threshold].index\n",
    "        \n",
    "        # Remove all similar genomes except the one we're keeping\n",
    "        remaining_genomes -= set(similar_genomes) - {genome}\n",
    "    \n",
    "    return list(to_keep)\n",
    "\n",
    "\n",
    "to_keep = deduplicate_genomes(dist_matrix_df, n50, similarity_threshold=0.0125)\n",
    "len(to_keep)"
   ]
  },
  {
   "cell_type": "code",
   "execution_count": 38,
   "metadata": {},
   "outputs": [],
   "source": [
    "import plotly.express as px\n",
    "# Display all sequential colorscales\n",
    "fig = px.colors.sequential.swatches()\n",
    "import plotly.express as px\n",
    "import plotly.io as pio\n",
    "scales = px.colors.named_colorscales()\n",
    "colors = px.colors.sample_colorscale(scales[39],np.linspace(0,1,17))"
   ]
  },
  {
   "cell_type": "code",
   "execution_count": 14,
   "metadata": {},
   "outputs": [],
   "source": [
    "import shutil\n",
    "def move_proteomes(proteome_source, proteome_out_dir, proteomes_to_move):\n",
    "    \"\"\"Move selected proteomes to own dir\"\"\"\n",
    "\n",
    "    \n",
    "    os.makedirs(proteome_out_dir, exist_ok=True)\n",
    "    for proteome in proteomes_to_move:\n",
    "        source_fp = os.path.join(proteome_source, proteome+'.faa')\n",
    "        dest_fp = os.path.join(proteome_out_dir, proteome+'.faa')\n",
    "        if os.path.exists(source_fp):\n",
    "            shutil.copy(source_fp,dest_fp)\n",
    "        else:\n",
    "            print(\"path does not exist\")\n",
    "\n",
    "#move_proteomes(proteome_source, proteome_out_dir, proteomes_to_move)"
   ]
  },
  {
   "cell_type": "code",
   "execution_count": 58,
   "metadata": {},
   "outputs": [
    {
     "data": {
      "application/vnd.plotly.v1+json": {
       "config": {
        "plotlyServerURL": "https://plot.ly"
       },
       "data": [
        {
         "marker": {
          "color": "rgb(245, 172, 139)"
         },
         "name": "all",
         "type": "bar",
         "x": [
          5197,
          92382.54,
          179568.08,
          266753.62,
          353939.16,
          441124.69999999995,
          528310.24,
          615495.7799999999,
          702681.32,
          789866.86,
          877052.3999999999,
          964237.94,
          1051423.48,
          1138609.02,
          1225794.5599999998,
          1312980.0999999999,
          1400165.64,
          1487351.18,
          1574536.72,
          1661722.2599999998,
          1748907.7999999998,
          1836093.3399999999,
          1923278.88,
          2010464.42,
          2097649.96,
          2184835.5,
          2272021.04,
          2359206.5799999996,
          2446392.1199999996,
          2533577.6599999997,
          2620763.1999999997,
          2707948.7399999998,
          2795134.28,
          2882319.82,
          2969505.36,
          3056690.9,
          3143876.44,
          3231061.98,
          3318247.5199999996,
          3405433.0599999996,
          3492618.5999999996,
          3579804.1399999997,
          3666989.6799999997,
          3754175.2199999997,
          3841360.76,
          3928546.3,
          4015731.84,
          4102917.38,
          4190102.92,
          4277288.46,
          4364474
         ],
         "xaxis": "x",
         "y": [
          3.2387363315481953e-06,
          5.646396275449749e-06,
          8.510034660528373e-07,
          2.3091967329532922e-07,
          1.301121001816322e-07,
          1.3948954884337137e-07,
          2.813234598521779e-08,
          1.5238354075326284e-08,
          8.205267579021845e-09,
          7.033086496304448e-09,
          1.992707840619591e-08,
          4.688724330869626e-09,
          2.344362165434813e-09,
          1.1721810827174095e-09,
          1.1721810827174064e-09,
          1.1721810827174064e-09,
          0,
          2.344362165434813e-09,
          0,
          0,
          0,
          0,
          1.1721810827174064e-08,
          7.0330864963044386e-09,
          2.5787983819782938e-08,
          7.0330864963044386e-09,
          5.8609054135870636e-09,
          9.377448661739251e-09,
          2.344362165434813e-09,
          1.1721810827174064e-09,
          0,
          1.1721810827174064e-09,
          0,
          3.5165432481522193e-09,
          0,
          0,
          2.344362165434813e-09,
          1.1721810827174128e-09,
          0,
          1.1721810827174064e-09,
          3.5165432481522193e-09,
          4.688724330869626e-09,
          4.219851897782663e-08,
          8.088049470750105e-08,
          2.238865867990246e-07,
          4.1964082761283146e-07,
          2.2740313004717683e-07,
          4.4542881143261444e-08,
          1.2893991909891469e-08,
          2.344362165434813e-09
         ],
         "yaxis": "y"
        },
        {
         "marker": {
          "color": "rgb(193, 221, 236)"
         },
         "name": "keep",
         "type": "bar",
         "x": [
          100040,
          185328.68,
          270617.36,
          355906.04,
          441194.72,
          526483.3999999999,
          611772.08,
          697060.76,
          782349.44,
          867638.1199999999,
          952926.7999999999,
          1038215.48,
          1123504.16,
          1208792.8399999999,
          1294081.52,
          1379370.2,
          1464658.88,
          1549947.5599999998,
          1635236.2399999998,
          1720524.92,
          1805813.5999999999,
          1891102.2799999998,
          1976390.96,
          2061679.64,
          2146968.32,
          2232257,
          2317545.6799999997,
          2402834.36,
          2488123.04,
          2573411.7199999997,
          2658700.4,
          2743989.0799999996,
          2829277.76,
          2914566.44,
          2999855.1199999996,
          3085143.8,
          3170432.4799999995,
          3255721.1599999997,
          3341009.84,
          3426298.5199999996,
          3511587.1999999997,
          3596875.88,
          3682164.5599999996,
          3767453.2399999998,
          3852741.92,
          3938030.5999999996,
          4023319.28,
          4108607.9599999995,
          4193896.6399999997,
          4279185.32,
          4364474
         ],
         "xaxis": "x2",
         "y": [
          1.3254218292611584e-06,
          1.019555253277814e-06,
          1.1215107786055956e-06,
          1.0705330159417047e-06,
          1.580310642580613e-06,
          1.5293328799167202e-07,
          1.5293328799167202e-07,
          0,
          2.0391105065556298e-07,
          2.0391105065556269e-07,
          1.5293328799167202e-07,
          0,
          0,
          0,
          5.0977762663890744e-08,
          0,
          0,
          0,
          0,
          0,
          0,
          5.0977762663890605e-08,
          1.0195552532778149e-07,
          2.548888133194537e-07,
          2.54888813319453e-07,
          1.0195552532778177e-07,
          5.0977762663890605e-08,
          0,
          0,
          0,
          0,
          0,
          0,
          0,
          0,
          0,
          0,
          0,
          0,
          0,
          0,
          0,
          4.0782210131112484e-07,
          8.666219652861403e-07,
          6.117331519666905e-07,
          1.1724885412694838e-06,
          3.5684433864723616e-07,
          1.529332879916718e-07,
          2.039110506555613e-07,
          1.0195552532778177e-07
         ],
         "yaxis": "y2"
        },
        {
         "marker": {
          "color": "rgb(23, 82, 144)"
         },
         "name": "deleted",
         "type": "bar",
         "x": [
          5197,
          90101.98,
          175006.96,
          259911.94,
          344816.92,
          429721.89999999997,
          514626.88,
          599531.86,
          684436.84,
          769341.82,
          854246.7999999999,
          939151.7799999999,
          1024056.76,
          1108961.74,
          1193866.72,
          1278771.7,
          1363676.68,
          1448581.66,
          1533486.64,
          1618391.6199999999,
          1703296.5999999999,
          1788201.5799999998,
          1873106.5599999998,
          1958011.5399999998,
          2042916.52,
          2127821.5,
          2212726.48,
          2297631.46,
          2382536.44,
          2467441.42,
          2552346.4,
          2637251.38,
          2722156.36,
          2807061.34,
          2891966.32,
          2976871.3,
          3061776.28,
          3146681.26,
          3231586.2399999998,
          3316491.2199999997,
          3401396.1999999997,
          3486301.1799999997,
          3571206.1599999997,
          3656111.1399999997,
          3741016.1199999996,
          3825921.0999999996,
          3910826.0799999996,
          3995731.0599999996,
          4080636.04,
          4165541.02,
          4250446
         ],
         "xaxis": "x3",
         "y": [
          3.318266022896877e-06,
          5.830385694020145e-06,
          9.984381421049295e-07,
          1.972223490577639e-07,
          1.5901051892782215e-07,
          1.1340285070821416e-07,
          2.3420153950609466e-08,
          9.861117452888195e-09,
          1.2326396816110244e-08,
          2.465279363222049e-09,
          1.602431586094332e-08,
          2.4652793632220455e-09,
          1.2326396816110244e-09,
          2.465279363222049e-09,
          0,
          1.2326396816110244e-09,
          0,
          1.2326396816110244e-09,
          1.2326396816110244e-09,
          0,
          0,
          0,
          1.2326396816110244e-09,
          9.861117452888169e-09,
          4.930558726444098e-09,
          2.0954874587387416e-08,
          0,
          6.163198408055122e-09,
          7.395838089666147e-09,
          2.465279363222049e-09,
          1.2326396816110244e-09,
          0,
          1.2326396816110244e-09,
          0,
          3.6979190448330735e-09,
          0,
          0,
          2.465279363222049e-09,
          1.2326396816110244e-09,
          0,
          1.2326396816110244e-09,
          3.6979190448330735e-09,
          3.6979190448330735e-09,
          2.8350712677053563e-08,
          5.793406503571815e-08,
          1.811980331968206e-07,
          3.7102454416491834e-07,
          2.79809207725701e-07,
          8.258685866793863e-08,
          1.4791676179332294e-08
         ],
         "yaxis": "y3"
        }
       ],
       "layout": {
        "annotations": [
         {
          "font": {
           "size": 16
          },
          "showarrow": false,
          "text": "contig n50",
          "x": 0.5,
          "xanchor": "center",
          "xref": "paper",
          "y": 0,
          "yanchor": "top",
          "yref": "paper",
          "yshift": -30
         },
         {
          "font": {
           "size": 16
          },
          "showarrow": false,
          "text": "Fraction of genomes",
          "textangle": -90,
          "x": 0,
          "xanchor": "right",
          "xref": "paper",
          "xshift": -40,
          "y": 0.5,
          "yanchor": "middle",
          "yref": "paper"
         }
        ],
        "autosize": true,
        "template": {
         "data": {
          "bar": [
           {
            "error_x": {
             "color": "rgb(36,36,36)"
            },
            "error_y": {
             "color": "rgb(36,36,36)"
            },
            "marker": {
             "line": {
              "color": "white",
              "width": 0.5
             },
             "pattern": {
              "fillmode": "overlay",
              "size": 10,
              "solidity": 0.2
             }
            },
            "type": "bar"
           }
          ],
          "barpolar": [
           {
            "marker": {
             "line": {
              "color": "white",
              "width": 0.5
             },
             "pattern": {
              "fillmode": "overlay",
              "size": 10,
              "solidity": 0.2
             }
            },
            "type": "barpolar"
           }
          ],
          "carpet": [
           {
            "aaxis": {
             "endlinecolor": "rgb(36,36,36)",
             "gridcolor": "white",
             "linecolor": "white",
             "minorgridcolor": "white",
             "startlinecolor": "rgb(36,36,36)"
            },
            "baxis": {
             "endlinecolor": "rgb(36,36,36)",
             "gridcolor": "white",
             "linecolor": "white",
             "minorgridcolor": "white",
             "startlinecolor": "rgb(36,36,36)"
            },
            "type": "carpet"
           }
          ],
          "choropleth": [
           {
            "colorbar": {
             "outlinewidth": 1,
             "tickcolor": "rgb(36,36,36)",
             "ticks": "outside"
            },
            "type": "choropleth"
           }
          ],
          "contour": [
           {
            "colorbar": {
             "outlinewidth": 1,
             "tickcolor": "rgb(36,36,36)",
             "ticks": "outside"
            },
            "colorscale": [
             [
              0,
              "#440154"
             ],
             [
              0.1111111111111111,
              "#482878"
             ],
             [
              0.2222222222222222,
              "#3e4989"
             ],
             [
              0.3333333333333333,
              "#31688e"
             ],
             [
              0.4444444444444444,
              "#26828e"
             ],
             [
              0.5555555555555556,
              "#1f9e89"
             ],
             [
              0.6666666666666666,
              "#35b779"
             ],
             [
              0.7777777777777778,
              "#6ece58"
             ],
             [
              0.8888888888888888,
              "#b5de2b"
             ],
             [
              1,
              "#fde725"
             ]
            ],
            "type": "contour"
           }
          ],
          "contourcarpet": [
           {
            "colorbar": {
             "outlinewidth": 1,
             "tickcolor": "rgb(36,36,36)",
             "ticks": "outside"
            },
            "type": "contourcarpet"
           }
          ],
          "heatmap": [
           {
            "colorbar": {
             "outlinewidth": 1,
             "tickcolor": "rgb(36,36,36)",
             "ticks": "outside"
            },
            "colorscale": [
             [
              0,
              "#440154"
             ],
             [
              0.1111111111111111,
              "#482878"
             ],
             [
              0.2222222222222222,
              "#3e4989"
             ],
             [
              0.3333333333333333,
              "#31688e"
             ],
             [
              0.4444444444444444,
              "#26828e"
             ],
             [
              0.5555555555555556,
              "#1f9e89"
             ],
             [
              0.6666666666666666,
              "#35b779"
             ],
             [
              0.7777777777777778,
              "#6ece58"
             ],
             [
              0.8888888888888888,
              "#b5de2b"
             ],
             [
              1,
              "#fde725"
             ]
            ],
            "type": "heatmap"
           }
          ],
          "heatmapgl": [
           {
            "colorbar": {
             "outlinewidth": 1,
             "tickcolor": "rgb(36,36,36)",
             "ticks": "outside"
            },
            "colorscale": [
             [
              0,
              "#440154"
             ],
             [
              0.1111111111111111,
              "#482878"
             ],
             [
              0.2222222222222222,
              "#3e4989"
             ],
             [
              0.3333333333333333,
              "#31688e"
             ],
             [
              0.4444444444444444,
              "#26828e"
             ],
             [
              0.5555555555555556,
              "#1f9e89"
             ],
             [
              0.6666666666666666,
              "#35b779"
             ],
             [
              0.7777777777777778,
              "#6ece58"
             ],
             [
              0.8888888888888888,
              "#b5de2b"
             ],
             [
              1,
              "#fde725"
             ]
            ],
            "type": "heatmapgl"
           }
          ],
          "histogram": [
           {
            "marker": {
             "line": {
              "color": "white",
              "width": 0.6
             }
            },
            "type": "histogram"
           }
          ],
          "histogram2d": [
           {
            "colorbar": {
             "outlinewidth": 1,
             "tickcolor": "rgb(36,36,36)",
             "ticks": "outside"
            },
            "colorscale": [
             [
              0,
              "#440154"
             ],
             [
              0.1111111111111111,
              "#482878"
             ],
             [
              0.2222222222222222,
              "#3e4989"
             ],
             [
              0.3333333333333333,
              "#31688e"
             ],
             [
              0.4444444444444444,
              "#26828e"
             ],
             [
              0.5555555555555556,
              "#1f9e89"
             ],
             [
              0.6666666666666666,
              "#35b779"
             ],
             [
              0.7777777777777778,
              "#6ece58"
             ],
             [
              0.8888888888888888,
              "#b5de2b"
             ],
             [
              1,
              "#fde725"
             ]
            ],
            "type": "histogram2d"
           }
          ],
          "histogram2dcontour": [
           {
            "colorbar": {
             "outlinewidth": 1,
             "tickcolor": "rgb(36,36,36)",
             "ticks": "outside"
            },
            "colorscale": [
             [
              0,
              "#440154"
             ],
             [
              0.1111111111111111,
              "#482878"
             ],
             [
              0.2222222222222222,
              "#3e4989"
             ],
             [
              0.3333333333333333,
              "#31688e"
             ],
             [
              0.4444444444444444,
              "#26828e"
             ],
             [
              0.5555555555555556,
              "#1f9e89"
             ],
             [
              0.6666666666666666,
              "#35b779"
             ],
             [
              0.7777777777777778,
              "#6ece58"
             ],
             [
              0.8888888888888888,
              "#b5de2b"
             ],
             [
              1,
              "#fde725"
             ]
            ],
            "type": "histogram2dcontour"
           }
          ],
          "mesh3d": [
           {
            "colorbar": {
             "outlinewidth": 1,
             "tickcolor": "rgb(36,36,36)",
             "ticks": "outside"
            },
            "type": "mesh3d"
           }
          ],
          "parcoords": [
           {
            "line": {
             "colorbar": {
              "outlinewidth": 1,
              "tickcolor": "rgb(36,36,36)",
              "ticks": "outside"
             }
            },
            "type": "parcoords"
           }
          ],
          "pie": [
           {
            "automargin": true,
            "type": "pie"
           }
          ],
          "scatter": [
           {
            "fillpattern": {
             "fillmode": "overlay",
             "size": 10,
             "solidity": 0.2
            },
            "type": "scatter"
           }
          ],
          "scatter3d": [
           {
            "line": {
             "colorbar": {
              "outlinewidth": 1,
              "tickcolor": "rgb(36,36,36)",
              "ticks": "outside"
             }
            },
            "marker": {
             "colorbar": {
              "outlinewidth": 1,
              "tickcolor": "rgb(36,36,36)",
              "ticks": "outside"
             }
            },
            "type": "scatter3d"
           }
          ],
          "scattercarpet": [
           {
            "marker": {
             "colorbar": {
              "outlinewidth": 1,
              "tickcolor": "rgb(36,36,36)",
              "ticks": "outside"
             }
            },
            "type": "scattercarpet"
           }
          ],
          "scattergeo": [
           {
            "marker": {
             "colorbar": {
              "outlinewidth": 1,
              "tickcolor": "rgb(36,36,36)",
              "ticks": "outside"
             }
            },
            "type": "scattergeo"
           }
          ],
          "scattergl": [
           {
            "marker": {
             "colorbar": {
              "outlinewidth": 1,
              "tickcolor": "rgb(36,36,36)",
              "ticks": "outside"
             }
            },
            "type": "scattergl"
           }
          ],
          "scattermapbox": [
           {
            "marker": {
             "colorbar": {
              "outlinewidth": 1,
              "tickcolor": "rgb(36,36,36)",
              "ticks": "outside"
             }
            },
            "type": "scattermapbox"
           }
          ],
          "scatterpolar": [
           {
            "marker": {
             "colorbar": {
              "outlinewidth": 1,
              "tickcolor": "rgb(36,36,36)",
              "ticks": "outside"
             }
            },
            "type": "scatterpolar"
           }
          ],
          "scatterpolargl": [
           {
            "marker": {
             "colorbar": {
              "outlinewidth": 1,
              "tickcolor": "rgb(36,36,36)",
              "ticks": "outside"
             }
            },
            "type": "scatterpolargl"
           }
          ],
          "scatterternary": [
           {
            "marker": {
             "colorbar": {
              "outlinewidth": 1,
              "tickcolor": "rgb(36,36,36)",
              "ticks": "outside"
             }
            },
            "type": "scatterternary"
           }
          ],
          "surface": [
           {
            "colorbar": {
             "outlinewidth": 1,
             "tickcolor": "rgb(36,36,36)",
             "ticks": "outside"
            },
            "colorscale": [
             [
              0,
              "#440154"
             ],
             [
              0.1111111111111111,
              "#482878"
             ],
             [
              0.2222222222222222,
              "#3e4989"
             ],
             [
              0.3333333333333333,
              "#31688e"
             ],
             [
              0.4444444444444444,
              "#26828e"
             ],
             [
              0.5555555555555556,
              "#1f9e89"
             ],
             [
              0.6666666666666666,
              "#35b779"
             ],
             [
              0.7777777777777778,
              "#6ece58"
             ],
             [
              0.8888888888888888,
              "#b5de2b"
             ],
             [
              1,
              "#fde725"
             ]
            ],
            "type": "surface"
           }
          ],
          "table": [
           {
            "cells": {
             "fill": {
              "color": "rgb(237,237,237)"
             },
             "line": {
              "color": "white"
             }
            },
            "header": {
             "fill": {
              "color": "rgb(217,217,217)"
             },
             "line": {
              "color": "white"
             }
            },
            "type": "table"
           }
          ]
         },
         "layout": {
          "annotationdefaults": {
           "arrowhead": 0,
           "arrowwidth": 1
          },
          "autotypenumbers": "strict",
          "coloraxis": {
           "colorbar": {
            "outlinewidth": 1,
            "tickcolor": "rgb(36,36,36)",
            "ticks": "outside"
           }
          },
          "colorscale": {
           "diverging": [
            [
             0,
             "rgb(103,0,31)"
            ],
            [
             0.1,
             "rgb(178,24,43)"
            ],
            [
             0.2,
             "rgb(214,96,77)"
            ],
            [
             0.3,
             "rgb(244,165,130)"
            ],
            [
             0.4,
             "rgb(253,219,199)"
            ],
            [
             0.5,
             "rgb(247,247,247)"
            ],
            [
             0.6,
             "rgb(209,229,240)"
            ],
            [
             0.7,
             "rgb(146,197,222)"
            ],
            [
             0.8,
             "rgb(67,147,195)"
            ],
            [
             0.9,
             "rgb(33,102,172)"
            ],
            [
             1,
             "rgb(5,48,97)"
            ]
           ],
           "sequential": [
            [
             0,
             "#440154"
            ],
            [
             0.1111111111111111,
             "#482878"
            ],
            [
             0.2222222222222222,
             "#3e4989"
            ],
            [
             0.3333333333333333,
             "#31688e"
            ],
            [
             0.4444444444444444,
             "#26828e"
            ],
            [
             0.5555555555555556,
             "#1f9e89"
            ],
            [
             0.6666666666666666,
             "#35b779"
            ],
            [
             0.7777777777777778,
             "#6ece58"
            ],
            [
             0.8888888888888888,
             "#b5de2b"
            ],
            [
             1,
             "#fde725"
            ]
           ],
           "sequentialminus": [
            [
             0,
             "#440154"
            ],
            [
             0.1111111111111111,
             "#482878"
            ],
            [
             0.2222222222222222,
             "#3e4989"
            ],
            [
             0.3333333333333333,
             "#31688e"
            ],
            [
             0.4444444444444444,
             "#26828e"
            ],
            [
             0.5555555555555556,
             "#1f9e89"
            ],
            [
             0.6666666666666666,
             "#35b779"
            ],
            [
             0.7777777777777778,
             "#6ece58"
            ],
            [
             0.8888888888888888,
             "#b5de2b"
            ],
            [
             1,
             "#fde725"
            ]
           ]
          },
          "colorway": [
           "#1F77B4",
           "#FF7F0E",
           "#2CA02C",
           "#D62728",
           "#9467BD",
           "#8C564B",
           "#E377C2",
           "#7F7F7F",
           "#BCBD22",
           "#17BECF"
          ],
          "font": {
           "color": "rgb(36,36,36)"
          },
          "geo": {
           "bgcolor": "white",
           "lakecolor": "white",
           "landcolor": "white",
           "showlakes": true,
           "showland": true,
           "subunitcolor": "white"
          },
          "hoverlabel": {
           "align": "left"
          },
          "hovermode": "closest",
          "mapbox": {
           "style": "light"
          },
          "paper_bgcolor": "white",
          "plot_bgcolor": "white",
          "polar": {
           "angularaxis": {
            "gridcolor": "rgb(232,232,232)",
            "linecolor": "rgb(36,36,36)",
            "showgrid": false,
            "showline": true,
            "ticks": "outside"
           },
           "bgcolor": "white",
           "radialaxis": {
            "gridcolor": "rgb(232,232,232)",
            "linecolor": "rgb(36,36,36)",
            "showgrid": false,
            "showline": true,
            "ticks": "outside"
           }
          },
          "scene": {
           "xaxis": {
            "backgroundcolor": "white",
            "gridcolor": "rgb(232,232,232)",
            "gridwidth": 2,
            "linecolor": "rgb(36,36,36)",
            "showbackground": true,
            "showgrid": false,
            "showline": true,
            "ticks": "outside",
            "zeroline": false,
            "zerolinecolor": "rgb(36,36,36)"
           },
           "yaxis": {
            "backgroundcolor": "white",
            "gridcolor": "rgb(232,232,232)",
            "gridwidth": 2,
            "linecolor": "rgb(36,36,36)",
            "showbackground": true,
            "showgrid": false,
            "showline": true,
            "ticks": "outside",
            "zeroline": false,
            "zerolinecolor": "rgb(36,36,36)"
           },
           "zaxis": {
            "backgroundcolor": "white",
            "gridcolor": "rgb(232,232,232)",
            "gridwidth": 2,
            "linecolor": "rgb(36,36,36)",
            "showbackground": true,
            "showgrid": false,
            "showline": true,
            "ticks": "outside",
            "zeroline": false,
            "zerolinecolor": "rgb(36,36,36)"
           }
          },
          "shapedefaults": {
           "fillcolor": "black",
           "line": {
            "width": 0
           },
           "opacity": 0.3
          },
          "ternary": {
           "aaxis": {
            "gridcolor": "rgb(232,232,232)",
            "linecolor": "rgb(36,36,36)",
            "showgrid": false,
            "showline": true,
            "ticks": "outside"
           },
           "baxis": {
            "gridcolor": "rgb(232,232,232)",
            "linecolor": "rgb(36,36,36)",
            "showgrid": false,
            "showline": true,
            "ticks": "outside"
           },
           "bgcolor": "white",
           "caxis": {
            "gridcolor": "rgb(232,232,232)",
            "linecolor": "rgb(36,36,36)",
            "showgrid": false,
            "showline": true,
            "ticks": "outside"
           }
          },
          "title": {
           "x": 0.05
          },
          "xaxis": {
           "automargin": true,
           "gridcolor": "rgb(232,232,232)",
           "linecolor": "rgb(36,36,36)",
           "showgrid": false,
           "showline": true,
           "ticks": "outside",
           "title": {
            "standoff": 15
           },
           "zeroline": false,
           "zerolinecolor": "rgb(36,36,36)"
          },
          "yaxis": {
           "automargin": true,
           "gridcolor": "rgb(232,232,232)",
           "linecolor": "rgb(36,36,36)",
           "showgrid": false,
           "showline": true,
           "ticks": "outside",
           "title": {
            "standoff": 15
           },
           "zeroline": false,
           "zerolinecolor": "rgb(36,36,36)"
          }
         }
        },
        "title": {
         "text": "n50 contig before/after filtering and deduplication"
        },
        "xaxis": {
         "anchor": "y",
         "autorange": true,
         "domain": [
          0,
          1
         ],
         "matches": "x3",
         "range": [
          -38395.769999999786,
          4321829.66
         ],
         "showticklabels": false,
         "type": "linear"
        },
        "xaxis2": {
         "anchor": "y2",
         "autorange": true,
         "domain": [
          0,
          1
         ],
         "matches": "x3",
         "range": [
          -38395.769999999786,
          4321829.66
         ],
         "showticklabels": false,
         "type": "linear"
        },
        "xaxis3": {
         "anchor": "y3",
         "autorange": true,
         "domain": [
          0,
          1
         ],
         "range": [
          -38395.769999999786,
          4321829.66
         ],
         "type": "linear"
        },
        "yaxis": {
         "anchor": "x",
         "autorange": true,
         "domain": [
          0.7333333333333333,
          1
         ],
         "range": [
          0,
          5.943575026789209e-06
         ],
         "type": "linear"
        },
        "yaxis2": {
         "anchor": "x2",
         "autorange": true,
         "domain": [
          0.36666666666666664,
          0.6333333333333333
         ],
         "range": [
          0,
          1.663484886926961e-06
         ],
         "type": "linear"
        },
        "yaxis3": {
         "anchor": "x3",
         "autorange": true,
         "domain": [
          0,
          0.26666666666666666
         ],
         "range": [
          0,
          6.137248098968574e-06
         ],
         "type": "linear"
        }
       }
      },
      "image/png": "[encoded data removed]",
      "text/html": [
       "<div>                            <div id=\"264b78ce-7d3b-40a2-957c-e96f368218b5\" class=\"plotly-graph-div\" style=\"height:500px; width:100%;\"></div>            <script type=\"text/javascript\">                require([\"plotly\"], function(Plotly) {                    window.PLOTLYENV=window.PLOTLYENV || {};                                    if (document.getElementById(\"264b78ce-7d3b-40a2-957c-e96f368218b5\")) {                    Plotly.newPlot(                        \"264b78ce-7d3b-40a2-957c-e96f368218b5\",                        [{\"marker\":{\"color\":\"rgb(245, 172, 139)\"},\"name\":\"all\",\"x\":[5197.0,92382.54,179568.08,266753.62,353939.16,441124.69999999995,528310.24,615495.7799999999,702681.32,789866.86,877052.3999999999,964237.94,1051423.48,1138609.02,1225794.5599999998,1312980.0999999999,1400165.64,1487351.18,1574536.72,1661722.2599999998,1748907.7999999998,1836093.3399999999,1923278.88,2010464.42,2097649.96,2184835.5,2272021.04,2359206.5799999996,2446392.1199999996,2533577.6599999997,2620763.1999999997,2707948.7399999998,2795134.28,2882319.82,2969505.36,3056690.9,3143876.44,3231061.98,3318247.5199999996,3405433.0599999996,3492618.5999999996,3579804.1399999997,3666989.6799999997,3754175.2199999997,3841360.76,3928546.3,4015731.84,4102917.38,4190102.92,4277288.46,4364474.0],\"y\":[3.2387363315481953e-06,5.646396275449749e-06,8.510034660528373e-07,2.3091967329532922e-07,1.301121001816322e-07,1.3948954884337137e-07,2.813234598521779e-08,1.5238354075326284e-08,8.205267579021845e-09,7.033086496304448e-09,1.992707840619591e-08,4.688724330869626e-09,2.344362165434813e-09,1.1721810827174095e-09,1.1721810827174064e-09,1.1721810827174064e-09,0.0,2.344362165434813e-09,0.0,0.0,0.0,0.0,1.1721810827174064e-08,7.0330864963044386e-09,2.5787983819782938e-08,7.0330864963044386e-09,5.8609054135870636e-09,9.377448661739251e-09,2.344362165434813e-09,1.1721810827174064e-09,0.0,1.1721810827174064e-09,0.0,3.5165432481522193e-09,0.0,0.0,2.344362165434813e-09,1.1721810827174128e-09,0.0,1.1721810827174064e-09,3.5165432481522193e-09,4.688724330869626e-09,4.219851897782663e-08,8.088049470750105e-08,2.238865867990246e-07,4.1964082761283146e-07,2.2740313004717683e-07,4.4542881143261444e-08,1.2893991909891469e-08,2.344362165434813e-09],\"type\":\"bar\",\"xaxis\":\"x\",\"yaxis\":\"y\"},{\"marker\":{\"color\":\"rgb(193, 221, 236)\"},\"name\":\"keep\",\"x\":[100040.0,185328.68,270617.36,355906.04,441194.72,526483.3999999999,611772.08,697060.76,782349.44,867638.1199999999,952926.7999999999,1038215.48,1123504.16,1208792.8399999999,1294081.52,1379370.2,1464658.88,1549947.5599999998,1635236.2399999998,1720524.92,1805813.5999999999,1891102.2799999998,1976390.96,2061679.64,2146968.32,2232257.0,2317545.6799999997,2402834.36,2488123.04,2573411.7199999997,2658700.4,2743989.0799999996,2829277.76,2914566.44,2999855.1199999996,3085143.8,3170432.4799999995,3255721.1599999997,3341009.84,3426298.5199999996,3511587.1999999997,3596875.88,3682164.5599999996,3767453.2399999998,3852741.92,3938030.5999999996,4023319.28,4108607.9599999995,4193896.6399999997,4279185.32,4364474.0],\"y\":[1.3254218292611584e-06,1.019555253277814e-06,1.1215107786055956e-06,1.0705330159417047e-06,1.580310642580613e-06,1.5293328799167202e-07,1.5293328799167202e-07,0.0,2.0391105065556298e-07,2.0391105065556269e-07,1.5293328799167202e-07,0.0,0.0,0.0,5.0977762663890744e-08,0.0,0.0,0.0,0.0,0.0,0.0,5.0977762663890605e-08,1.0195552532778149e-07,2.548888133194537e-07,2.54888813319453e-07,1.0195552532778177e-07,5.0977762663890605e-08,0.0,0.0,0.0,0.0,0.0,0.0,0.0,0.0,0.0,0.0,0.0,0.0,0.0,0.0,0.0,4.0782210131112484e-07,8.666219652861403e-07,6.117331519666905e-07,1.1724885412694838e-06,3.5684433864723616e-07,1.529332879916718e-07,2.039110506555613e-07,1.0195552532778177e-07],\"type\":\"bar\",\"xaxis\":\"x2\",\"yaxis\":\"y2\"},{\"marker\":{\"color\":\"rgb(23, 82, 144)\"},\"name\":\"deleted\",\"x\":[5197.0,90101.98,175006.96,259911.94,344816.92,429721.89999999997,514626.88,599531.86,684436.84,769341.82,854246.7999999999,939151.7799999999,1024056.76,1108961.74,1193866.72,1278771.7,1363676.68,1448581.66,1533486.64,1618391.6199999999,1703296.5999999999,1788201.5799999998,1873106.5599999998,1958011.5399999998,2042916.52,2127821.5,2212726.48,2297631.46,2382536.44,2467441.42,2552346.4,2637251.38,2722156.36,2807061.34,2891966.32,2976871.3,3061776.28,3146681.26,3231586.2399999998,3316491.2199999997,3401396.1999999997,3486301.1799999997,3571206.1599999997,3656111.1399999997,3741016.1199999996,3825921.0999999996,3910826.0799999996,3995731.0599999996,4080636.04,4165541.02,4250446.0],\"y\":[3.318266022896877e-06,5.830385694020145e-06,9.984381421049295e-07,1.972223490577639e-07,1.5901051892782215e-07,1.1340285070821416e-07,2.3420153950609466e-08,9.861117452888195e-09,1.2326396816110244e-08,2.465279363222049e-09,1.602431586094332e-08,2.4652793632220455e-09,1.2326396816110244e-09,2.465279363222049e-09,0.0,1.2326396816110244e-09,0.0,1.2326396816110244e-09,1.2326396816110244e-09,0.0,0.0,0.0,1.2326396816110244e-09,9.861117452888169e-09,4.930558726444098e-09,2.0954874587387416e-08,0.0,6.163198408055122e-09,7.395838089666147e-09,2.465279363222049e-09,1.2326396816110244e-09,0.0,1.2326396816110244e-09,0.0,3.6979190448330735e-09,0.0,0.0,2.465279363222049e-09,1.2326396816110244e-09,0.0,1.2326396816110244e-09,3.6979190448330735e-09,3.6979190448330735e-09,2.8350712677053563e-08,5.793406503571815e-08,1.811980331968206e-07,3.7102454416491834e-07,2.79809207725701e-07,8.258685866793863e-08,1.4791676179332294e-08],\"type\":\"bar\",\"xaxis\":\"x3\",\"yaxis\":\"y3\"}],                        {\"template\":{\"data\":{\"barpolar\":[{\"marker\":{\"line\":{\"color\":\"white\",\"width\":0.5},\"pattern\":{\"fillmode\":\"overlay\",\"size\":10,\"solidity\":0.2}},\"type\":\"barpolar\"}],\"bar\":[{\"error_x\":{\"color\":\"rgb(36,36,36)\"},\"error_y\":{\"color\":\"rgb(36,36,36)\"},\"marker\":{\"line\":{\"color\":\"white\",\"width\":0.5},\"pattern\":{\"fillmode\":\"overlay\",\"size\":10,\"solidity\":0.2}},\"type\":\"bar\"}],\"carpet\":[{\"aaxis\":{\"endlinecolor\":\"rgb(36,36,36)\",\"gridcolor\":\"white\",\"linecolor\":\"white\",\"minorgridcolor\":\"white\",\"startlinecolor\":\"rgb(36,36,36)\"},\"baxis\":{\"endlinecolor\":\"rgb(36,36,36)\",\"gridcolor\":\"white\",\"linecolor\":\"white\",\"minorgridcolor\":\"white\",\"startlinecolor\":\"rgb(36,36,36)\"},\"type\":\"carpet\"}],\"choropleth\":[{\"colorbar\":{\"outlinewidth\":1,\"tickcolor\":\"rgb(36,36,36)\",\"ticks\":\"outside\"},\"type\":\"choropleth\"}],\"contourcarpet\":[{\"colorbar\":{\"outlinewidth\":1,\"tickcolor\":\"rgb(36,36,36)\",\"ticks\":\"outside\"},\"type\":\"contourcarpet\"}],\"contour\":[{\"colorbar\":{\"outlinewidth\":1,\"tickcolor\":\"rgb(36,36,36)\",\"ticks\":\"outside\"},\"colorscale\":[[0.0,\"#440154\"],[0.1111111111111111,\"#482878\"],[0.2222222222222222,\"#3e4989\"],[0.3333333333333333,\"#31688e\"],[0.4444444444444444,\"#26828e\"],[0.5555555555555556,\"#1f9e89\"],[0.6666666666666666,\"#35b779\"],[0.7777777777777778,\"#6ece58\"],[0.8888888888888888,\"#b5de2b\"],[1.0,\"#fde725\"]],\"type\":\"contour\"}],\"heatmapgl\":[{\"colorbar\":{\"outlinewidth\":1,\"tickcolor\":\"rgb(36,36,36)\",\"ticks\":\"outside\"},\"colorscale\":[[0.0,\"#440154\"],[0.1111111111111111,\"#482878\"],[0.2222222222222222,\"#3e4989\"],[0.3333333333333333,\"#31688e\"],[0.4444444444444444,\"#26828e\"],[0.5555555555555556,\"#1f9e89\"],[0.6666666666666666,\"#35b779\"],[0.7777777777777778,\"#6ece58\"],[0.8888888888888888,\"#b5de2b\"],[1.0,\"#fde725\"]],\"type\":\"heatmapgl\"}],\"heatmap\":[{\"colorbar\":{\"outlinewidth\":1,\"tickcolor\":\"rgb(36,36,36)\",\"ticks\":\"outside\"},\"colorscale\":[[0.0,\"#440154\"],[0.1111111111111111,\"#482878\"],[0.2222222222222222,\"#3e4989\"],[0.3333333333333333,\"#31688e\"],[0.4444444444444444,\"#26828e\"],[0.5555555555555556,\"#1f9e89\"],[0.6666666666666666,\"#35b779\"],[0.7777777777777778,\"#6ece58\"],[0.8888888888888888,\"#b5de2b\"],[1.0,\"#fde725\"]],\"type\":\"heatmap\"}],\"histogram2dcontour\":[{\"colorbar\":{\"outlinewidth\":1,\"tickcolor\":\"rgb(36,36,36)\",\"ticks\":\"outside\"},\"colorscale\":[[0.0,\"#440154\"],[0.1111111111111111,\"#482878\"],[0.2222222222222222,\"#3e4989\"],[0.3333333333333333,\"#31688e\"],[0.4444444444444444,\"#26828e\"],[0.5555555555555556,\"#1f9e89\"],[0.6666666666666666,\"#35b779\"],[0.7777777777777778,\"#6ece58\"],[0.8888888888888888,\"#b5de2b\"],[1.0,\"#fde725\"]],\"type\":\"histogram2dcontour\"}],\"histogram2d\":[{\"colorbar\":{\"outlinewidth\":1,\"tickcolor\":\"rgb(36,36,36)\",\"ticks\":\"outside\"},\"colorscale\":[[0.0,\"#440154\"],[0.1111111111111111,\"#482878\"],[0.2222222222222222,\"#3e4989\"],[0.3333333333333333,\"#31688e\"],[0.4444444444444444,\"#26828e\"],[0.5555555555555556,\"#1f9e89\"],[0.6666666666666666,\"#35b779\"],[0.7777777777777778,\"#6ece58\"],[0.8888888888888888,\"#b5de2b\"],[1.0,\"#fde725\"]],\"type\":\"histogram2d\"}],\"histogram\":[{\"marker\":{\"line\":{\"color\":\"white\",\"width\":0.6}},\"type\":\"histogram\"}],\"mesh3d\":[{\"colorbar\":{\"outlinewidth\":1,\"tickcolor\":\"rgb(36,36,36)\",\"ticks\":\"outside\"},\"type\":\"mesh3d\"}],\"parcoords\":[{\"line\":{\"colorbar\":{\"outlinewidth\":1,\"tickcolor\":\"rgb(36,36,36)\",\"ticks\":\"outside\"}},\"type\":\"parcoords\"}],\"pie\":[{\"automargin\":true,\"type\":\"pie\"}],\"scatter3d\":[{\"line\":{\"colorbar\":{\"outlinewidth\":1,\"tickcolor\":\"rgb(36,36,36)\",\"ticks\":\"outside\"}},\"marker\":{\"colorbar\":{\"outlinewidth\":1,\"tickcolor\":\"rgb(36,36,36)\",\"ticks\":\"outside\"}},\"type\":\"scatter3d\"}],\"scattercarpet\":[{\"marker\":{\"colorbar\":{\"outlinewidth\":1,\"tickcolor\":\"rgb(36,36,36)\",\"ticks\":\"outside\"}},\"type\":\"scattercarpet\"}],\"scattergeo\":[{\"marker\":{\"colorbar\":{\"outlinewidth\":1,\"tickcolor\":\"rgb(36,36,36)\",\"ticks\":\"outside\"}},\"type\":\"scattergeo\"}],\"scattergl\":[{\"marker\":{\"colorbar\":{\"outlinewidth\":1,\"tickcolor\":\"rgb(36,36,36)\",\"ticks\":\"outside\"}},\"type\":\"scattergl\"}],\"scattermapbox\":[{\"marker\":{\"colorbar\":{\"outlinewidth\":1,\"tickcolor\":\"rgb(36,36,36)\",\"ticks\":\"outside\"}},\"type\":\"scattermapbox\"}],\"scatterpolargl\":[{\"marker\":{\"colorbar\":{\"outlinewidth\":1,\"tickcolor\":\"rgb(36,36,36)\",\"ticks\":\"outside\"}},\"type\":\"scatterpolargl\"}],\"scatterpolar\":[{\"marker\":{\"colorbar\":{\"outlinewidth\":1,\"tickcolor\":\"rgb(36,36,36)\",\"ticks\":\"outside\"}},\"type\":\"scatterpolar\"}],\"scatter\":[{\"fillpattern\":{\"fillmode\":\"overlay\",\"size\":10,\"solidity\":0.2},\"type\":\"scatter\"}],\"scatterternary\":[{\"marker\":{\"colorbar\":{\"outlinewidth\":1,\"tickcolor\":\"rgb(36,36,36)\",\"ticks\":\"outside\"}},\"type\":\"scatterternary\"}],\"surface\":[{\"colorbar\":{\"outlinewidth\":1,\"tickcolor\":\"rgb(36,36,36)\",\"ticks\":\"outside\"},\"colorscale\":[[0.0,\"#440154\"],[0.1111111111111111,\"#482878\"],[0.2222222222222222,\"#3e4989\"],[0.3333333333333333,\"#31688e\"],[0.4444444444444444,\"#26828e\"],[0.5555555555555556,\"#1f9e89\"],[0.6666666666666666,\"#35b779\"],[0.7777777777777778,\"#6ece58\"],[0.8888888888888888,\"#b5de2b\"],[1.0,\"#fde725\"]],\"type\":\"surface\"}],\"table\":[{\"cells\":{\"fill\":{\"color\":\"rgb(237,237,237)\"},\"line\":{\"color\":\"white\"}},\"header\":{\"fill\":{\"color\":\"rgb(217,217,217)\"},\"line\":{\"color\":\"white\"}},\"type\":\"table\"}]},\"layout\":{\"annotationdefaults\":{\"arrowhead\":0,\"arrowwidth\":1},\"autotypenumbers\":\"strict\",\"coloraxis\":{\"colorbar\":{\"outlinewidth\":1,\"tickcolor\":\"rgb(36,36,36)\",\"ticks\":\"outside\"}},\"colorscale\":{\"diverging\":[[0.0,\"rgb(103,0,31)\"],[0.1,\"rgb(178,24,43)\"],[0.2,\"rgb(214,96,77)\"],[0.3,\"rgb(244,165,130)\"],[0.4,\"rgb(253,219,199)\"],[0.5,\"rgb(247,247,247)\"],[0.6,\"rgb(209,229,240)\"],[0.7,\"rgb(146,197,222)\"],[0.8,\"rgb(67,147,195)\"],[0.9,\"rgb(33,102,172)\"],[1.0,\"rgb(5,48,97)\"]],\"sequential\":[[0.0,\"#440154\"],[0.1111111111111111,\"#482878\"],[0.2222222222222222,\"#3e4989\"],[0.3333333333333333,\"#31688e\"],[0.4444444444444444,\"#26828e\"],[0.5555555555555556,\"#1f9e89\"],[0.6666666666666666,\"#35b779\"],[0.7777777777777778,\"#6ece58\"],[0.8888888888888888,\"#b5de2b\"],[1.0,\"#fde725\"]],\"sequentialminus\":[[0.0,\"#440154\"],[0.1111111111111111,\"#482878\"],[0.2222222222222222,\"#3e4989\"],[0.3333333333333333,\"#31688e\"],[0.4444444444444444,\"#26828e\"],[0.5555555555555556,\"#1f9e89\"],[0.6666666666666666,\"#35b779\"],[0.7777777777777778,\"#6ece58\"],[0.8888888888888888,\"#b5de2b\"],[1.0,\"#fde725\"]]},\"colorway\":[\"#1F77B4\",\"#FF7F0E\",\"#2CA02C\",\"#D62728\",\"#9467BD\",\"#8C564B\",\"#E377C2\",\"#7F7F7F\",\"#BCBD22\",\"#17BECF\"],\"font\":{\"color\":\"rgb(36,36,36)\"},\"geo\":{\"bgcolor\":\"white\",\"lakecolor\":\"white\",\"landcolor\":\"white\",\"showlakes\":true,\"showland\":true,\"subunitcolor\":\"white\"},\"hoverlabel\":{\"align\":\"left\"},\"hovermode\":\"closest\",\"mapbox\":{\"style\":\"light\"},\"paper_bgcolor\":\"white\",\"plot_bgcolor\":\"white\",\"polar\":{\"angularaxis\":{\"gridcolor\":\"rgb(232,232,232)\",\"linecolor\":\"rgb(36,36,36)\",\"showgrid\":false,\"showline\":true,\"ticks\":\"outside\"},\"bgcolor\":\"white\",\"radialaxis\":{\"gridcolor\":\"rgb(232,232,232)\",\"linecolor\":\"rgb(36,36,36)\",\"showgrid\":false,\"showline\":true,\"ticks\":\"outside\"}},\"scene\":{\"xaxis\":{\"backgroundcolor\":\"white\",\"gridcolor\":\"rgb(232,232,232)\",\"gridwidth\":2,\"linecolor\":\"rgb(36,36,36)\",\"showbackground\":true,\"showgrid\":false,\"showline\":true,\"ticks\":\"outside\",\"zeroline\":false,\"zerolinecolor\":\"rgb(36,36,36)\"},\"yaxis\":{\"backgroundcolor\":\"white\",\"gridcolor\":\"rgb(232,232,232)\",\"gridwidth\":2,\"linecolor\":\"rgb(36,36,36)\",\"showbackground\":true,\"showgrid\":false,\"showline\":true,\"ticks\":\"outside\",\"zeroline\":false,\"zerolinecolor\":\"rgb(36,36,36)\"},\"zaxis\":{\"backgroundcolor\":\"white\",\"gridcolor\":\"rgb(232,232,232)\",\"gridwidth\":2,\"linecolor\":\"rgb(36,36,36)\",\"showbackground\":true,\"showgrid\":false,\"showline\":true,\"ticks\":\"outside\",\"zeroline\":false,\"zerolinecolor\":\"rgb(36,36,36)\"}},\"shapedefaults\":{\"fillcolor\":\"black\",\"line\":{\"width\":0},\"opacity\":0.3},\"ternary\":{\"aaxis\":{\"gridcolor\":\"rgb(232,232,232)\",\"linecolor\":\"rgb(36,36,36)\",\"showgrid\":false,\"showline\":true,\"ticks\":\"outside\"},\"baxis\":{\"gridcolor\":\"rgb(232,232,232)\",\"linecolor\":\"rgb(36,36,36)\",\"showgrid\":false,\"showline\":true,\"ticks\":\"outside\"},\"bgcolor\":\"white\",\"caxis\":{\"gridcolor\":\"rgb(232,232,232)\",\"linecolor\":\"rgb(36,36,36)\",\"showgrid\":false,\"showline\":true,\"ticks\":\"outside\"}},\"title\":{\"x\":0.05},\"xaxis\":{\"automargin\":true,\"gridcolor\":\"rgb(232,232,232)\",\"linecolor\":\"rgb(36,36,36)\",\"showgrid\":false,\"showline\":true,\"ticks\":\"outside\",\"title\":{\"standoff\":15},\"zeroline\":false,\"zerolinecolor\":\"rgb(36,36,36)\"},\"yaxis\":{\"automargin\":true,\"gridcolor\":\"rgb(232,232,232)\",\"linecolor\":\"rgb(36,36,36)\",\"showgrid\":false,\"showline\":true,\"ticks\":\"outside\",\"title\":{\"standoff\":15},\"zeroline\":false,\"zerolinecolor\":\"rgb(36,36,36)\"}}},\"xaxis\":{\"anchor\":\"y\",\"domain\":[0.0,1.0],\"matches\":\"x3\",\"showticklabels\":false},\"yaxis\":{\"anchor\":\"x\",\"domain\":[0.7333333333333333,1.0]},\"xaxis2\":{\"anchor\":\"y2\",\"domain\":[0.0,1.0],\"matches\":\"x3\",\"showticklabels\":false},\"yaxis2\":{\"anchor\":\"x2\",\"domain\":[0.36666666666666664,0.6333333333333333]},\"xaxis3\":{\"anchor\":\"y3\",\"domain\":[0.0,1.0]},\"yaxis3\":{\"anchor\":\"x3\",\"domain\":[0.0,0.26666666666666666]},\"annotations\":[{\"font\":{\"size\":16},\"showarrow\":false,\"text\":\"contig n50\",\"x\":0.5,\"xanchor\":\"center\",\"xref\":\"paper\",\"y\":0,\"yanchor\":\"top\",\"yref\":\"paper\",\"yshift\":-30},{\"font\":{\"size\":16},\"showarrow\":false,\"text\":\"Fraction of genomes\",\"textangle\":-90,\"x\":0,\"xanchor\":\"right\",\"xref\":\"paper\",\"xshift\":-40,\"y\":0.5,\"yanchor\":\"middle\",\"yref\":\"paper\"}],\"title\":{\"text\":\"n50 contig before\\u002fafter filtering and deduplication\"},\"height\":500},                        {\"responsive\": true}                    ).then(function(){\n",
       "                            \n",
       "var gd = document.getElementById('264b78ce-7d3b-40a2-957c-e96f368218b5');\n",
       "var x = new MutationObserver(function (mutations, observer) {{\n",
       "        var display = window.getComputedStyle(gd).display;\n",
       "        if (!display || display === 'none') {{\n",
       "            console.log([gd, 'removed!']);\n",
       "            Plotly.purge(gd);\n",
       "            observer.disconnect();\n",
       "        }}\n",
       "}});\n",
       "\n",
       "// Listen for the removal of the full notebook cells\n",
       "var notebookContainer = gd.closest('#notebook-container');\n",
       "if (notebookContainer) {{\n",
       "    x.observe(notebookContainer, {childList: true});\n",
       "}}\n",
       "\n",
       "// Listen for the clearing of the current output cell\n",
       "var outputEl = gd.closest('.output');\n",
       "if (outputEl) {{\n",
       "    x.observe(outputEl, {childList: true});\n",
       "}}\n",
       "\n",
       "                        })                };                });            </script>        </div>"
      ]
     },
     "metadata": {},
     "output_type": "display_data"
    }
   ],
   "source": [
    "from plotly.subplots import make_subplots\n",
    "n50_s = pd.Series(n50)\n",
    "fig = make_subplots(rows=3, cols=1, shared_xaxes=True, y_title=\"Fraction of genomes\", x_title=\"contig n50\")\n",
    "to_delete = list(set(n50_s.index).difference(to_keep))\n",
    "y,x = np.histogram(n50_s.loc[to_keep], bins=50, density=True)\n",
    "y_all,x_all = np.histogram(n50_s, bins=50, density=True)\n",
    "y_del,x_del = np.histogram(n50_s.loc[to_delete], bins=50, density=True)\n",
    "\n",
    "trace_all = go.Bar(x=x_all, y=y_all, name='all', marker_color=colors[5],)\n",
    "trace_deduped = go.Bar(x=x, y=y,marker_color=colors[10], name='keep')\n",
    "trace_deleted = go.Bar(x=x_del, y=y_del,marker_color=colors[15], name='deleted')\n",
    "fig.add_trace(trace_all, row=1, col=1)\n",
    "fig.add_trace(trace_deduped, row=2, col=1)\n",
    "fig.add_trace(trace_deleted, row=3, col=1)\n",
    "fig.update_layout(title=\"n50 contig before/after filtering and deduplication\",  template=\"simple_white\", height=500)\n",
    "\n",
    "\n",
    "import plotly.io as pio\n",
    "pio.write_image(fig, './figures/n50_scores.png')\n",
    "fig"
   ]
  },
  {
   "cell_type": "code",
   "execution_count": 51,
   "metadata": {
    "tags": []
   },
   "outputs": [],
   "source": [
    "def make_histogram(one_dim_list, range2 = [0.0125,0.028], bins=100):\n",
    "    \"\"\"Return plotly fig from one dimensional list of distances\"\"\"\n",
    "    binsize = (max(range2)-min(range2))/bins\n",
    "\n",
    "    range1 = [min(one_dim_list),min(range2)]\n",
    "    range1_num_bins = int((max(range1)-min(range1))/binsize)\n",
    "    range3 = [max(range2),max(one_dim_list)]\n",
    "    range3_num_bins = 1\n",
    "\n",
    "    hist_highly_similar = np.histogram(one_dim_list, range=[0,0.0125], bins=range1_num_bins )\n",
    "    hist = np.histogram(one_dim_list, range=[0.0125,0.028], bins=bins)\n",
    "    hist_outliers = np.histogram(one_dim_list, range=[0.028,max(one_dim_list)], bins=range3_num_bins )\n",
    "\n",
    "    trace_highly_similar = go.Bar(x=hist_highly_similar[1], y=hist_highly_similar[0],marker_color=colors[5], name='highly_similar')\n",
    "    trace = go.Bar(x=hist[1], y=hist[0],marker_color=colors[10], name='keep')\n",
    "    trace_outlier = go.Bar(x=hist_outliers[1], y=hist_outliers[0], marker_color=colors[15], name='outliers, > 0.028')\n",
    "\n",
    "    fig = go.Figure(data=[trace_highly_similar, trace, trace_outlier])\n",
    "    fig.update_xaxes({'tickfont':\n",
    "                        {'size':10},\n",
    "                    'title':{\n",
    "                        'text': 'minHash distance',\n",
    "                        'font': {'size':15}\n",
    "                        }\n",
    "                    })\n",
    "    fig.update_yaxes({'title':\n",
    "                    {'text':'counts, distances',\n",
    "                        'font':\n",
    "                            {'size':15}\n",
    "                        },\n",
    "                    'tickfont':\n",
    "                        {'size':10}\n",
    "                    })\n",
    "    fig.update_layout({\n",
    "                    'legend':\n",
    "                        {'font':\n",
    "                            {'size':15}}\n",
    "                    }, template=\"simple_white\",)\n",
    "    return fig"
   ]
  },
  {
   "cell_type": "markdown",
   "metadata": {},
   "source": [
    "#### get distribution of minHash genome distances\n",
    "\n",
    "###### collapse distance matrix to one dimensional list"
   ]
  },
  {
   "cell_type": "markdown",
   "metadata": {},
   "source": [
    "##### Make plotly histogram of distribution of genome pairwise distances"
   ]
  },
  {
   "cell_type": "code",
   "execution_count": 56,
   "metadata": {
    "tags": []
   },
   "outputs": [
    {
     "data": {
      "application/vnd.plotly.v1+json": {
       "config": {
        "plotlyServerURL": "https://plot.ly"
       },
       "data": [
        {
         "marker": {
          "color": "rgb(245, 172, 139)"
         },
         "name": "highly_similar",
         "type": "bar",
         "x": [
          0,
          0.000390625,
          0.00078125,
          0.0011718750000000002,
          0.0015625,
          0.001953125,
          0.0023437500000000003,
          0.0027343750000000003,
          0.003125,
          0.003515625,
          0.00390625,
          0.004296875,
          0.004687500000000001,
          0.005078125,
          0.0054687500000000005,
          0.005859375,
          0.00625,
          0.006640625000000001,
          0.00703125,
          0.0074218750000000005,
          0.0078125,
          0.008203125,
          0.00859375,
          0.008984375000000001,
          0.009375000000000001,
          0.009765625,
          0.01015625,
          0.010546875,
          0.010937500000000001,
          0.011328125000000001,
          0.01171875,
          0.012109375,
          0.0125
         ],
         "y": [
          155482,
          431976,
          734868,
          928906,
          1078686,
          1352576,
          2014504,
          2578260,
          2468054,
          2180604,
          1373914,
          1158720,
          908990,
          782992,
          665242,
          499016,
          261060,
          144740,
          74100,
          32682,
          20804,
          21308,
          43554,
          83912,
          92964,
          92972,
          65296,
          45268,
          23888,
          12172,
          6274,
          8364
         ]
        },
        {
         "marker": {
          "color": "rgb(193, 221, 236)"
         },
         "name": "keep",
         "type": "bar",
         "x": [
          0.0125,
          0.012887500000000001,
          0.013275,
          0.013662500000000001,
          0.01405,
          0.0144375,
          0.014825000000000001,
          0.0152125,
          0.015600000000000001,
          0.0159875,
          0.016375,
          0.0167625,
          0.01715,
          0.0175375,
          0.017925,
          0.018312500000000002,
          0.0187,
          0.0190875,
          0.019475,
          0.0198625,
          0.02025,
          0.0206375,
          0.021025000000000002,
          0.0214125,
          0.0218,
          0.0221875,
          0.022574999999999998,
          0.0229625,
          0.023350000000000003,
          0.0237375,
          0.024125,
          0.0245125,
          0.0249,
          0.0252875,
          0.025675,
          0.026062500000000002,
          0.02645,
          0.0268375,
          0.027225,
          0.027612499999999998,
          0.028
         ],
         "y": [
          9498,
          8956,
          10182,
          9572,
          7992,
          17712,
          19452,
          19476,
          19832,
          17380,
          17958,
          22744,
          35336,
          67688,
          167282,
          469126,
          767084,
          1193292,
          1633224,
          2082394,
          2607396,
          3070538,
          2572454,
          2805070,
          2016134,
          2022172,
          1362450,
          1089882,
          855368,
          654116,
          427896,
          236892,
          123190,
          69128,
          37912,
          13628,
          9598,
          4066,
          2100,
          1182
         ]
        },
        {
         "marker": {
          "color": "rgb(23, 82, 144)"
         },
         "name": "outliers, > 0.028",
         "type": "bar",
         "x": [
          0.028,
          0.0344723
         ],
         "y": [
          3000
         ]
        }
       ],
       "layout": {
        "autosize": true,
        "legend": {
         "font": {
          "size": 15
         }
        },
        "template": {
         "data": {
          "bar": [
           {
            "error_x": {
             "color": "rgb(36,36,36)"
            },
            "error_y": {
             "color": "rgb(36,36,36)"
            },
            "marker": {
             "line": {
              "color": "white",
              "width": 0.5
             },
             "pattern": {
              "fillmode": "overlay",
              "size": 10,
              "solidity": 0.2
             }
            },
            "type": "bar"
           }
          ],
          "barpolar": [
           {
            "marker": {
             "line": {
              "color": "white",
              "width": 0.5
             },
             "pattern": {
              "fillmode": "overlay",
              "size": 10,
              "solidity": 0.2
             }
            },
            "type": "barpolar"
           }
          ],
          "carpet": [
           {
            "aaxis": {
             "endlinecolor": "rgb(36,36,36)",
             "gridcolor": "white",
             "linecolor": "white",
             "minorgridcolor": "white",
             "startlinecolor": "rgb(36,36,36)"
            },
            "baxis": {
             "endlinecolor": "rgb(36,36,36)",
             "gridcolor": "white",
             "linecolor": "white",
             "minorgridcolor": "white",
             "startlinecolor": "rgb(36,36,36)"
            },
            "type": "carpet"
           }
          ],
          "choropleth": [
           {
            "colorbar": {
             "outlinewidth": 1,
             "tickcolor": "rgb(36,36,36)",
             "ticks": "outside"
            },
            "type": "choropleth"
           }
          ],
          "contour": [
           {
            "colorbar": {
             "outlinewidth": 1,
             "tickcolor": "rgb(36,36,36)",
             "ticks": "outside"
            },
            "colorscale": [
             [
              0,
              "#440154"
             ],
             [
              0.1111111111111111,
              "#482878"
             ],
             [
              0.2222222222222222,
              "#3e4989"
             ],
             [
              0.3333333333333333,
              "#31688e"
             ],
             [
              0.4444444444444444,
              "#26828e"
             ],
             [
              0.5555555555555556,
              "#1f9e89"
             ],
             [
              0.6666666666666666,
              "#35b779"
             ],
             [
              0.7777777777777778,
              "#6ece58"
             ],
             [
              0.8888888888888888,
              "#b5de2b"
             ],
             [
              1,
              "#fde725"
             ]
            ],
            "type": "contour"
           }
          ],
          "contourcarpet": [
           {
            "colorbar": {
             "outlinewidth": 1,
             "tickcolor": "rgb(36,36,36)",
             "ticks": "outside"
            },
            "type": "contourcarpet"
           }
          ],
          "heatmap": [
           {
            "colorbar": {
             "outlinewidth": 1,
             "tickcolor": "rgb(36,36,36)",
             "ticks": "outside"
            },
            "colorscale": [
             [
              0,
              "#440154"
             ],
             [
              0.1111111111111111,
              "#482878"
             ],
             [
              0.2222222222222222,
              "#3e4989"
             ],
             [
              0.3333333333333333,
              "#31688e"
             ],
             [
              0.4444444444444444,
              "#26828e"
             ],
             [
              0.5555555555555556,
              "#1f9e89"
             ],
             [
              0.6666666666666666,
              "#35b779"
             ],
             [
              0.7777777777777778,
              "#6ece58"
             ],
             [
              0.8888888888888888,
              "#b5de2b"
             ],
             [
              1,
              "#fde725"
             ]
            ],
            "type": "heatmap"
           }
          ],
          "heatmapgl": [
           {
            "colorbar": {
             "outlinewidth": 1,
             "tickcolor": "rgb(36,36,36)",
             "ticks": "outside"
            },
            "colorscale": [
             [
              0,
              "#440154"
             ],
             [
              0.1111111111111111,
              "#482878"
             ],
             [
              0.2222222222222222,
              "#3e4989"
             ],
             [
              0.3333333333333333,
              "#31688e"
             ],
             [
              0.4444444444444444,
              "#26828e"
             ],
             [
              0.5555555555555556,
              "#1f9e89"
             ],
             [
              0.6666666666666666,
              "#35b779"
             ],
             [
              0.7777777777777778,
              "#6ece58"
             ],
             [
              0.8888888888888888,
              "#b5de2b"
             ],
             [
              1,
              "#fde725"
             ]
            ],
            "type": "heatmapgl"
           }
          ],
          "histogram": [
           {
            "marker": {
             "line": {
              "color": "white",
              "width": 0.6
             }
            },
            "type": "histogram"
           }
          ],
          "histogram2d": [
           {
            "colorbar": {
             "outlinewidth": 1,
             "tickcolor": "rgb(36,36,36)",
             "ticks": "outside"
            },
            "colorscale": [
             [
              0,
              "#440154"
             ],
             [
              0.1111111111111111,
              "#482878"
             ],
             [
              0.2222222222222222,
              "#3e4989"
             ],
             [
              0.3333333333333333,
              "#31688e"
             ],
             [
              0.4444444444444444,
              "#26828e"
             ],
             [
              0.5555555555555556,
              "#1f9e89"
             ],
             [
              0.6666666666666666,
              "#35b779"
             ],
             [
              0.7777777777777778,
              "#6ece58"
             ],
             [
              0.8888888888888888,
              "#b5de2b"
             ],
             [
              1,
              "#fde725"
             ]
            ],
            "type": "histogram2d"
           }
          ],
          "histogram2dcontour": [
           {
            "colorbar": {
             "outlinewidth": 1,
             "tickcolor": "rgb(36,36,36)",
             "ticks": "outside"
            },
            "colorscale": [
             [
              0,
              "#440154"
             ],
             [
              0.1111111111111111,
              "#482878"
             ],
             [
              0.2222222222222222,
              "#3e4989"
             ],
             [
              0.3333333333333333,
              "#31688e"
             ],
             [
              0.4444444444444444,
              "#26828e"
             ],
             [
              0.5555555555555556,
              "#1f9e89"
             ],
             [
              0.6666666666666666,
              "#35b779"
             ],
             [
              0.7777777777777778,
              "#6ece58"
             ],
             [
              0.8888888888888888,
              "#b5de2b"
             ],
             [
              1,
              "#fde725"
             ]
            ],
            "type": "histogram2dcontour"
           }
          ],
          "mesh3d": [
           {
            "colorbar": {
             "outlinewidth": 1,
             "tickcolor": "rgb(36,36,36)",
             "ticks": "outside"
            },
            "type": "mesh3d"
           }
          ],
          "parcoords": [
           {
            "line": {
             "colorbar": {
              "outlinewidth": 1,
              "tickcolor": "rgb(36,36,36)",
              "ticks": "outside"
             }
            },
            "type": "parcoords"
           }
          ],
          "pie": [
           {
            "automargin": true,
            "type": "pie"
           }
          ],
          "scatter": [
           {
            "fillpattern": {
             "fillmode": "overlay",
             "size": 10,
             "solidity": 0.2
            },
            "type": "scatter"
           }
          ],
          "scatter3d": [
           {
            "line": {
             "colorbar": {
              "outlinewidth": 1,
              "tickcolor": "rgb(36,36,36)",
              "ticks": "outside"
             }
            },
            "marker": {
             "colorbar": {
              "outlinewidth": 1,
              "tickcolor": "rgb(36,36,36)",
              "ticks": "outside"
             }
            },
            "type": "scatter3d"
           }
          ],
          "scattercarpet": [
           {
            "marker": {
             "colorbar": {
              "outlinewidth": 1,
              "tickcolor": "rgb(36,36,36)",
              "ticks": "outside"
             }
            },
            "type": "scattercarpet"
           }
          ],
          "scattergeo": [
           {
            "marker": {
             "colorbar": {
              "outlinewidth": 1,
              "tickcolor": "rgb(36,36,36)",
              "ticks": "outside"
             }
            },
            "type": "scattergeo"
           }
          ],
          "scattergl": [
           {
            "marker": {
             "colorbar": {
              "outlinewidth": 1,
              "tickcolor": "rgb(36,36,36)",
              "ticks": "outside"
             }
            },
            "type": "scattergl"
           }
          ],
          "scattermapbox": [
           {
            "marker": {
             "colorbar": {
              "outlinewidth": 1,
              "tickcolor": "rgb(36,36,36)",
              "ticks": "outside"
             }
            },
            "type": "scattermapbox"
           }
          ],
          "scatterpolar": [
           {
            "marker": {
             "colorbar": {
              "outlinewidth": 1,
              "tickcolor": "rgb(36,36,36)",
              "ticks": "outside"
             }
            },
            "type": "scatterpolar"
           }
          ],
          "scatterpolargl": [
           {
            "marker": {
             "colorbar": {
              "outlinewidth": 1,
              "tickcolor": "rgb(36,36,36)",
              "ticks": "outside"
             }
            },
            "type": "scatterpolargl"
           }
          ],
          "scatterternary": [
           {
            "marker": {
             "colorbar": {
              "outlinewidth": 1,
              "tickcolor": "rgb(36,36,36)",
              "ticks": "outside"
             }
            },
            "type": "scatterternary"
           }
          ],
          "surface": [
           {
            "colorbar": {
             "outlinewidth": 1,
             "tickcolor": "rgb(36,36,36)",
             "ticks": "outside"
            },
            "colorscale": [
             [
              0,
              "#440154"
             ],
             [
              0.1111111111111111,
              "#482878"
             ],
             [
              0.2222222222222222,
              "#3e4989"
             ],
             [
              0.3333333333333333,
              "#31688e"
             ],
             [
              0.4444444444444444,
              "#26828e"
             ],
             [
              0.5555555555555556,
              "#1f9e89"
             ],
             [
              0.6666666666666666,
              "#35b779"
             ],
             [
              0.7777777777777778,
              "#6ece58"
             ],
             [
              0.8888888888888888,
              "#b5de2b"
             ],
             [
              1,
              "#fde725"
             ]
            ],
            "type": "surface"
           }
          ],
          "table": [
           {
            "cells": {
             "fill": {
              "color": "rgb(237,237,237)"
             },
             "line": {
              "color": "white"
             }
            },
            "header": {
             "fill": {
              "color": "rgb(217,217,217)"
             },
             "line": {
              "color": "white"
             }
            },
            "type": "table"
           }
          ]
         },
         "layout": {
          "annotationdefaults": {
           "arrowhead": 0,
           "arrowwidth": 1
          },
          "autotypenumbers": "strict",
          "coloraxis": {
           "colorbar": {
            "outlinewidth": 1,
            "tickcolor": "rgb(36,36,36)",
            "ticks": "outside"
           }
          },
          "colorscale": {
           "diverging": [
            [
             0,
             "rgb(103,0,31)"
            ],
            [
             0.1,
             "rgb(178,24,43)"
            ],
            [
             0.2,
             "rgb(214,96,77)"
            ],
            [
             0.3,
             "rgb(244,165,130)"
            ],
            [
             0.4,
             "rgb(253,219,199)"
            ],
            [
             0.5,
             "rgb(247,247,247)"
            ],
            [
             0.6,
             "rgb(209,229,240)"
            ],
            [
             0.7,
             "rgb(146,197,222)"
            ],
            [
             0.8,
             "rgb(67,147,195)"
            ],
            [
             0.9,
             "rgb(33,102,172)"
            ],
            [
             1,
             "rgb(5,48,97)"
            ]
           ],
           "sequential": [
            [
             0,
             "#440154"
            ],
            [
             0.1111111111111111,
             "#482878"
            ],
            [
             0.2222222222222222,
             "#3e4989"
            ],
            [
             0.3333333333333333,
             "#31688e"
            ],
            [
             0.4444444444444444,
             "#26828e"
            ],
            [
             0.5555555555555556,
             "#1f9e89"
            ],
            [
             0.6666666666666666,
             "#35b779"
            ],
            [
             0.7777777777777778,
             "#6ece58"
            ],
            [
             0.8888888888888888,
             "#b5de2b"
            ],
            [
             1,
             "#fde725"
            ]
           ],
           "sequentialminus": [
            [
             0,
             "#440154"
            ],
            [
             0.1111111111111111,
             "#482878"
            ],
            [
             0.2222222222222222,
             "#3e4989"
            ],
            [
             0.3333333333333333,
             "#31688e"
            ],
            [
             0.4444444444444444,
             "#26828e"
            ],
            [
             0.5555555555555556,
             "#1f9e89"
            ],
            [
             0.6666666666666666,
             "#35b779"
            ],
            [
             0.7777777777777778,
             "#6ece58"
            ],
            [
             0.8888888888888888,
             "#b5de2b"
            ],
            [
             1,
             "#fde725"
            ]
           ]
          },
          "colorway": [
           "#1F77B4",
           "#FF7F0E",
           "#2CA02C",
           "#D62728",
           "#9467BD",
           "#8C564B",
           "#E377C2",
           "#7F7F7F",
           "#BCBD22",
           "#17BECF"
          ],
          "font": {
           "color": "rgb(36,36,36)"
          },
          "geo": {
           "bgcolor": "white",
           "lakecolor": "white",
           "landcolor": "white",
           "showlakes": true,
           "showland": true,
           "subunitcolor": "white"
          },
          "hoverlabel": {
           "align": "left"
          },
          "hovermode": "closest",
          "mapbox": {
           "style": "light"
          },
          "paper_bgcolor": "white",
          "plot_bgcolor": "white",
          "polar": {
           "angularaxis": {
            "gridcolor": "rgb(232,232,232)",
            "linecolor": "rgb(36,36,36)",
            "showgrid": false,
            "showline": true,
            "ticks": "outside"
           },
           "bgcolor": "white",
           "radialaxis": {
            "gridcolor": "rgb(232,232,232)",
            "linecolor": "rgb(36,36,36)",
            "showgrid": false,
            "showline": true,
            "ticks": "outside"
           }
          },
          "scene": {
           "xaxis": {
            "backgroundcolor": "white",
            "gridcolor": "rgb(232,232,232)",
            "gridwidth": 2,
            "linecolor": "rgb(36,36,36)",
            "showbackground": true,
            "showgrid": false,
            "showline": true,
            "ticks": "outside",
            "zeroline": false,
            "zerolinecolor": "rgb(36,36,36)"
           },
           "yaxis": {
            "backgroundcolor": "white",
            "gridcolor": "rgb(232,232,232)",
            "gridwidth": 2,
            "linecolor": "rgb(36,36,36)",
            "showbackground": true,
            "showgrid": false,
            "showline": true,
            "ticks": "outside",
            "zeroline": false,
            "zerolinecolor": "rgb(36,36,36)"
           },
           "zaxis": {
            "backgroundcolor": "white",
            "gridcolor": "rgb(232,232,232)",
            "gridwidth": 2,
            "linecolor": "rgb(36,36,36)",
            "showbackground": true,
            "showgrid": false,
            "showline": true,
            "ticks": "outside",
            "zeroline": false,
            "zerolinecolor": "rgb(36,36,36)"
           }
          },
          "shapedefaults": {
           "fillcolor": "black",
           "line": {
            "width": 0
           },
           "opacity": 0.3
          },
          "ternary": {
           "aaxis": {
            "gridcolor": "rgb(232,232,232)",
            "linecolor": "rgb(36,36,36)",
            "showgrid": false,
            "showline": true,
            "ticks": "outside"
           },
           "baxis": {
            "gridcolor": "rgb(232,232,232)",
            "linecolor": "rgb(36,36,36)",
            "showgrid": false,
            "showline": true,
            "ticks": "outside"
           },
           "bgcolor": "white",
           "caxis": {
            "gridcolor": "rgb(232,232,232)",
            "linecolor": "rgb(36,36,36)",
            "showgrid": false,
            "showline": true,
            "ticks": "outside"
           }
          },
          "title": {
           "x": 0.05
          },
          "xaxis": {
           "automargin": true,
           "gridcolor": "rgb(232,232,232)",
           "linecolor": "rgb(36,36,36)",
           "showgrid": false,
           "showline": true,
           "ticks": "outside",
           "title": {
            "standoff": 15
           },
           "zeroline": false,
           "zerolinecolor": "rgb(36,36,36)"
          },
          "yaxis": {
           "automargin": true,
           "gridcolor": "rgb(232,232,232)",
           "linecolor": "rgb(36,36,36)",
           "showgrid": false,
           "showline": true,
           "ticks": "outside",
           "title": {
            "standoff": 15
           },
           "zeroline": false,
           "zerolinecolor": "rgb(36,36,36)"
          }
         }
        },
        "xaxis": {
         "autorange": true,
         "range": [
          -0.00019374999999999948,
          0.02819375
         ],
         "tickfont": {
          "size": 10
         },
         "title": {
          "font": {
           "size": 15
          },
          "text": "minHash distance"
         },
         "type": "linear"
        },
        "yaxis": {
         "autorange": true,
         "range": [
          0,
          3232145.263157895
         ],
         "tickfont": {
          "size": 10
         },
         "title": {
          "font": {
           "size": 15
          },
          "text": "counts, distances"
         },
         "type": "linear"
        }
       }
      },
      "image/png": "[encoded data removed]",
      "text/html": [
       "<div>                            <div id=\"26fc799c-cd28-4dbe-a6cb-fdd782c1618a\" class=\"plotly-graph-div\" style=\"height:525px; width:100%;\"></div>            <script type=\"text/javascript\">                require([\"plotly\"], function(Plotly) {                    window.PLOTLYENV=window.PLOTLYENV || {};                                    if (document.getElementById(\"26fc799c-cd28-4dbe-a6cb-fdd782c1618a\")) {                    Plotly.newPlot(                        \"26fc799c-cd28-4dbe-a6cb-fdd782c1618a\",                        [{\"marker\":{\"color\":\"rgb(245, 172, 139)\"},\"name\":\"highly_similar\",\"x\":[0.0,0.000390625,0.00078125,0.0011718750000000002,0.0015625,0.001953125,0.0023437500000000003,0.0027343750000000003,0.003125,0.003515625,0.00390625,0.004296875,0.004687500000000001,0.005078125,0.0054687500000000005,0.005859375,0.00625,0.006640625000000001,0.00703125,0.0074218750000000005,0.0078125,0.008203125,0.00859375,0.008984375000000001,0.009375000000000001,0.009765625,0.01015625,0.010546875,0.010937500000000001,0.011328125000000001,0.01171875,0.012109375,0.0125],\"y\":[155482,431976,734868,928906,1078686,1352576,2014504,2578260,2468054,2180604,1373914,1158720,908990,782992,665242,499016,261060,144740,74100,32682,20804,21308,43554,83912,92964,92972,65296,45268,23888,12172,6274,8364],\"type\":\"bar\"},{\"marker\":{\"color\":\"rgb(193, 221, 236)\"},\"name\":\"keep\",\"x\":[0.0125,0.012887500000000001,0.013275,0.013662500000000001,0.01405,0.0144375,0.014825000000000001,0.0152125,0.015600000000000001,0.0159875,0.016375,0.0167625,0.01715,0.0175375,0.017925,0.018312500000000002,0.0187,0.0190875,0.019475,0.0198625,0.02025,0.0206375,0.021025000000000002,0.0214125,0.0218,0.0221875,0.022574999999999998,0.0229625,0.023350000000000003,0.0237375,0.024125,0.0245125,0.0249,0.0252875,0.025675,0.026062500000000002,0.02645,0.0268375,0.027225,0.027612499999999998,0.028],\"y\":[9498,8956,10182,9572,7992,17712,19452,19476,19832,17380,17958,22744,35336,67688,167282,469126,767084,1193292,1633224,2082394,2607396,3070538,2572454,2805070,2016134,2022172,1362450,1089882,855368,654116,427896,236892,123190,69128,37912,13628,9598,4066,2100,1182],\"type\":\"bar\"},{\"marker\":{\"color\":\"rgb(23, 82, 144)\"},\"name\":\"outliers, \\u003e 0.028\",\"x\":[0.028,0.0344723],\"y\":[3000],\"type\":\"bar\"}],                        {\"template\":{\"data\":{\"barpolar\":[{\"marker\":{\"line\":{\"color\":\"white\",\"width\":0.5},\"pattern\":{\"fillmode\":\"overlay\",\"size\":10,\"solidity\":0.2}},\"type\":\"barpolar\"}],\"bar\":[{\"error_x\":{\"color\":\"rgb(36,36,36)\"},\"error_y\":{\"color\":\"rgb(36,36,36)\"},\"marker\":{\"line\":{\"color\":\"white\",\"width\":0.5},\"pattern\":{\"fillmode\":\"overlay\",\"size\":10,\"solidity\":0.2}},\"type\":\"bar\"}],\"carpet\":[{\"aaxis\":{\"endlinecolor\":\"rgb(36,36,36)\",\"gridcolor\":\"white\",\"linecolor\":\"white\",\"minorgridcolor\":\"white\",\"startlinecolor\":\"rgb(36,36,36)\"},\"baxis\":{\"endlinecolor\":\"rgb(36,36,36)\",\"gridcolor\":\"white\",\"linecolor\":\"white\",\"minorgridcolor\":\"white\",\"startlinecolor\":\"rgb(36,36,36)\"},\"type\":\"carpet\"}],\"choropleth\":[{\"colorbar\":{\"outlinewidth\":1,\"tickcolor\":\"rgb(36,36,36)\",\"ticks\":\"outside\"},\"type\":\"choropleth\"}],\"contourcarpet\":[{\"colorbar\":{\"outlinewidth\":1,\"tickcolor\":\"rgb(36,36,36)\",\"ticks\":\"outside\"},\"type\":\"contourcarpet\"}],\"contour\":[{\"colorbar\":{\"outlinewidth\":1,\"tickcolor\":\"rgb(36,36,36)\",\"ticks\":\"outside\"},\"colorscale\":[[0.0,\"#440154\"],[0.1111111111111111,\"#482878\"],[0.2222222222222222,\"#3e4989\"],[0.3333333333333333,\"#31688e\"],[0.4444444444444444,\"#26828e\"],[0.5555555555555556,\"#1f9e89\"],[0.6666666666666666,\"#35b779\"],[0.7777777777777778,\"#6ece58\"],[0.8888888888888888,\"#b5de2b\"],[1.0,\"#fde725\"]],\"type\":\"contour\"}],\"heatmapgl\":[{\"colorbar\":{\"outlinewidth\":1,\"tickcolor\":\"rgb(36,36,36)\",\"ticks\":\"outside\"},\"colorscale\":[[0.0,\"#440154\"],[0.1111111111111111,\"#482878\"],[0.2222222222222222,\"#3e4989\"],[0.3333333333333333,\"#31688e\"],[0.4444444444444444,\"#26828e\"],[0.5555555555555556,\"#1f9e89\"],[0.6666666666666666,\"#35b779\"],[0.7777777777777778,\"#6ece58\"],[0.8888888888888888,\"#b5de2b\"],[1.0,\"#fde725\"]],\"type\":\"heatmapgl\"}],\"heatmap\":[{\"colorbar\":{\"outlinewidth\":1,\"tickcolor\":\"rgb(36,36,36)\",\"ticks\":\"outside\"},\"colorscale\":[[0.0,\"#440154\"],[0.1111111111111111,\"#482878\"],[0.2222222222222222,\"#3e4989\"],[0.3333333333333333,\"#31688e\"],[0.4444444444444444,\"#26828e\"],[0.5555555555555556,\"#1f9e89\"],[0.6666666666666666,\"#35b779\"],[0.7777777777777778,\"#6ece58\"],[0.8888888888888888,\"#b5de2b\"],[1.0,\"#fde725\"]],\"type\":\"heatmap\"}],\"histogram2dcontour\":[{\"colorbar\":{\"outlinewidth\":1,\"tickcolor\":\"rgb(36,36,36)\",\"ticks\":\"outside\"},\"colorscale\":[[0.0,\"#440154\"],[0.1111111111111111,\"#482878\"],[0.2222222222222222,\"#3e4989\"],[0.3333333333333333,\"#31688e\"],[0.4444444444444444,\"#26828e\"],[0.5555555555555556,\"#1f9e89\"],[0.6666666666666666,\"#35b779\"],[0.7777777777777778,\"#6ece58\"],[0.8888888888888888,\"#b5de2b\"],[1.0,\"#fde725\"]],\"type\":\"histogram2dcontour\"}],\"histogram2d\":[{\"colorbar\":{\"outlinewidth\":1,\"tickcolor\":\"rgb(36,36,36)\",\"ticks\":\"outside\"},\"colorscale\":[[0.0,\"#440154\"],[0.1111111111111111,\"#482878\"],[0.2222222222222222,\"#3e4989\"],[0.3333333333333333,\"#31688e\"],[0.4444444444444444,\"#26828e\"],[0.5555555555555556,\"#1f9e89\"],[0.6666666666666666,\"#35b779\"],[0.7777777777777778,\"#6ece58\"],[0.8888888888888888,\"#b5de2b\"],[1.0,\"#fde725\"]],\"type\":\"histogram2d\"}],\"histogram\":[{\"marker\":{\"line\":{\"color\":\"white\",\"width\":0.6}},\"type\":\"histogram\"}],\"mesh3d\":[{\"colorbar\":{\"outlinewidth\":1,\"tickcolor\":\"rgb(36,36,36)\",\"ticks\":\"outside\"},\"type\":\"mesh3d\"}],\"parcoords\":[{\"line\":{\"colorbar\":{\"outlinewidth\":1,\"tickcolor\":\"rgb(36,36,36)\",\"ticks\":\"outside\"}},\"type\":\"parcoords\"}],\"pie\":[{\"automargin\":true,\"type\":\"pie\"}],\"scatter3d\":[{\"line\":{\"colorbar\":{\"outlinewidth\":1,\"tickcolor\":\"rgb(36,36,36)\",\"ticks\":\"outside\"}},\"marker\":{\"colorbar\":{\"outlinewidth\":1,\"tickcolor\":\"rgb(36,36,36)\",\"ticks\":\"outside\"}},\"type\":\"scatter3d\"}],\"scattercarpet\":[{\"marker\":{\"colorbar\":{\"outlinewidth\":1,\"tickcolor\":\"rgb(36,36,36)\",\"ticks\":\"outside\"}},\"type\":\"scattercarpet\"}],\"scattergeo\":[{\"marker\":{\"colorbar\":{\"outlinewidth\":1,\"tickcolor\":\"rgb(36,36,36)\",\"ticks\":\"outside\"}},\"type\":\"scattergeo\"}],\"scattergl\":[{\"marker\":{\"colorbar\":{\"outlinewidth\":1,\"tickcolor\":\"rgb(36,36,36)\",\"ticks\":\"outside\"}},\"type\":\"scattergl\"}],\"scattermapbox\":[{\"marker\":{\"colorbar\":{\"outlinewidth\":1,\"tickcolor\":\"rgb(36,36,36)\",\"ticks\":\"outside\"}},\"type\":\"scattermapbox\"}],\"scatterpolargl\":[{\"marker\":{\"colorbar\":{\"outlinewidth\":1,\"tickcolor\":\"rgb(36,36,36)\",\"ticks\":\"outside\"}},\"type\":\"scatterpolargl\"}],\"scatterpolar\":[{\"marker\":{\"colorbar\":{\"outlinewidth\":1,\"tickcolor\":\"rgb(36,36,36)\",\"ticks\":\"outside\"}},\"type\":\"scatterpolar\"}],\"scatter\":[{\"fillpattern\":{\"fillmode\":\"overlay\",\"size\":10,\"solidity\":0.2},\"type\":\"scatter\"}],\"scatterternary\":[{\"marker\":{\"colorbar\":{\"outlinewidth\":1,\"tickcolor\":\"rgb(36,36,36)\",\"ticks\":\"outside\"}},\"type\":\"scatterternary\"}],\"surface\":[{\"colorbar\":{\"outlinewidth\":1,\"tickcolor\":\"rgb(36,36,36)\",\"ticks\":\"outside\"},\"colorscale\":[[0.0,\"#440154\"],[0.1111111111111111,\"#482878\"],[0.2222222222222222,\"#3e4989\"],[0.3333333333333333,\"#31688e\"],[0.4444444444444444,\"#26828e\"],[0.5555555555555556,\"#1f9e89\"],[0.6666666666666666,\"#35b779\"],[0.7777777777777778,\"#6ece58\"],[0.8888888888888888,\"#b5de2b\"],[1.0,\"#fde725\"]],\"type\":\"surface\"}],\"table\":[{\"cells\":{\"fill\":{\"color\":\"rgb(237,237,237)\"},\"line\":{\"color\":\"white\"}},\"header\":{\"fill\":{\"color\":\"rgb(217,217,217)\"},\"line\":{\"color\":\"white\"}},\"type\":\"table\"}]},\"layout\":{\"annotationdefaults\":{\"arrowhead\":0,\"arrowwidth\":1},\"autotypenumbers\":\"strict\",\"coloraxis\":{\"colorbar\":{\"outlinewidth\":1,\"tickcolor\":\"rgb(36,36,36)\",\"ticks\":\"outside\"}},\"colorscale\":{\"diverging\":[[0.0,\"rgb(103,0,31)\"],[0.1,\"rgb(178,24,43)\"],[0.2,\"rgb(214,96,77)\"],[0.3,\"rgb(244,165,130)\"],[0.4,\"rgb(253,219,199)\"],[0.5,\"rgb(247,247,247)\"],[0.6,\"rgb(209,229,240)\"],[0.7,\"rgb(146,197,222)\"],[0.8,\"rgb(67,147,195)\"],[0.9,\"rgb(33,102,172)\"],[1.0,\"rgb(5,48,97)\"]],\"sequential\":[[0.0,\"#440154\"],[0.1111111111111111,\"#482878\"],[0.2222222222222222,\"#3e4989\"],[0.3333333333333333,\"#31688e\"],[0.4444444444444444,\"#26828e\"],[0.5555555555555556,\"#1f9e89\"],[0.6666666666666666,\"#35b779\"],[0.7777777777777778,\"#6ece58\"],[0.8888888888888888,\"#b5de2b\"],[1.0,\"#fde725\"]],\"sequentialminus\":[[0.0,\"#440154\"],[0.1111111111111111,\"#482878\"],[0.2222222222222222,\"#3e4989\"],[0.3333333333333333,\"#31688e\"],[0.4444444444444444,\"#26828e\"],[0.5555555555555556,\"#1f9e89\"],[0.6666666666666666,\"#35b779\"],[0.7777777777777778,\"#6ece58\"],[0.8888888888888888,\"#b5de2b\"],[1.0,\"#fde725\"]]},\"colorway\":[\"#1F77B4\",\"#FF7F0E\",\"#2CA02C\",\"#D62728\",\"#9467BD\",\"#8C564B\",\"#E377C2\",\"#7F7F7F\",\"#BCBD22\",\"#17BECF\"],\"font\":{\"color\":\"rgb(36,36,36)\"},\"geo\":{\"bgcolor\":\"white\",\"lakecolor\":\"white\",\"landcolor\":\"white\",\"showlakes\":true,\"showland\":true,\"subunitcolor\":\"white\"},\"hoverlabel\":{\"align\":\"left\"},\"hovermode\":\"closest\",\"mapbox\":{\"style\":\"light\"},\"paper_bgcolor\":\"white\",\"plot_bgcolor\":\"white\",\"polar\":{\"angularaxis\":{\"gridcolor\":\"rgb(232,232,232)\",\"linecolor\":\"rgb(36,36,36)\",\"showgrid\":false,\"showline\":true,\"ticks\":\"outside\"},\"bgcolor\":\"white\",\"radialaxis\":{\"gridcolor\":\"rgb(232,232,232)\",\"linecolor\":\"rgb(36,36,36)\",\"showgrid\":false,\"showline\":true,\"ticks\":\"outside\"}},\"scene\":{\"xaxis\":{\"backgroundcolor\":\"white\",\"gridcolor\":\"rgb(232,232,232)\",\"gridwidth\":2,\"linecolor\":\"rgb(36,36,36)\",\"showbackground\":true,\"showgrid\":false,\"showline\":true,\"ticks\":\"outside\",\"zeroline\":false,\"zerolinecolor\":\"rgb(36,36,36)\"},\"yaxis\":{\"backgroundcolor\":\"white\",\"gridcolor\":\"rgb(232,232,232)\",\"gridwidth\":2,\"linecolor\":\"rgb(36,36,36)\",\"showbackground\":true,\"showgrid\":false,\"showline\":true,\"ticks\":\"outside\",\"zeroline\":false,\"zerolinecolor\":\"rgb(36,36,36)\"},\"zaxis\":{\"backgroundcolor\":\"white\",\"gridcolor\":\"rgb(232,232,232)\",\"gridwidth\":2,\"linecolor\":\"rgb(36,36,36)\",\"showbackground\":true,\"showgrid\":false,\"showline\":true,\"ticks\":\"outside\",\"zeroline\":false,\"zerolinecolor\":\"rgb(36,36,36)\"}},\"shapedefaults\":{\"fillcolor\":\"black\",\"line\":{\"width\":0},\"opacity\":0.3},\"ternary\":{\"aaxis\":{\"gridcolor\":\"rgb(232,232,232)\",\"linecolor\":\"rgb(36,36,36)\",\"showgrid\":false,\"showline\":true,\"ticks\":\"outside\"},\"baxis\":{\"gridcolor\":\"rgb(232,232,232)\",\"linecolor\":\"rgb(36,36,36)\",\"showgrid\":false,\"showline\":true,\"ticks\":\"outside\"},\"bgcolor\":\"white\",\"caxis\":{\"gridcolor\":\"rgb(232,232,232)\",\"linecolor\":\"rgb(36,36,36)\",\"showgrid\":false,\"showline\":true,\"ticks\":\"outside\"}},\"title\":{\"x\":0.05},\"xaxis\":{\"automargin\":true,\"gridcolor\":\"rgb(232,232,232)\",\"linecolor\":\"rgb(36,36,36)\",\"showgrid\":false,\"showline\":true,\"ticks\":\"outside\",\"title\":{\"standoff\":15},\"zeroline\":false,\"zerolinecolor\":\"rgb(36,36,36)\"},\"yaxis\":{\"automargin\":true,\"gridcolor\":\"rgb(232,232,232)\",\"linecolor\":\"rgb(36,36,36)\",\"showgrid\":false,\"showline\":true,\"ticks\":\"outside\",\"title\":{\"standoff\":15},\"zeroline\":false,\"zerolinecolor\":\"rgb(36,36,36)\"}}},\"xaxis\":{\"tickfont\":{\"size\":10},\"title\":{\"font\":{\"size\":15},\"text\":\"minHash distance\"}},\"yaxis\":{\"title\":{\"font\":{\"size\":15},\"text\":\"counts, distances\"},\"tickfont\":{\"size\":10}},\"legend\":{\"font\":{\"size\":15}}},                        {\"responsive\": true}                    ).then(function(){\n",
       "                            \n",
       "var gd = document.getElementById('26fc799c-cd28-4dbe-a6cb-fdd782c1618a');\n",
       "var x = new MutationObserver(function (mutations, observer) {{\n",
       "        var display = window.getComputedStyle(gd).display;\n",
       "        if (!display || display === 'none') {{\n",
       "            console.log([gd, 'removed!']);\n",
       "            Plotly.purge(gd);\n",
       "            observer.disconnect();\n",
       "        }}\n",
       "}});\n",
       "\n",
       "// Listen for the removal of the full notebook cells\n",
       "var notebookContainer = gd.closest('#notebook-container');\n",
       "if (notebookContainer) {{\n",
       "    x.observe(notebookContainer, {childList: true});\n",
       "}}\n",
       "\n",
       "// Listen for the clearing of the current output cell\n",
       "var outputEl = gd.closest('.output');\n",
       "if (outputEl) {{\n",
       "    x.observe(outputEl, {childList: true});\n",
       "}}\n",
       "\n",
       "                        })                };                });            </script>        </div>"
      ]
     },
     "metadata": {},
     "output_type": "display_data"
    }
   ],
   "source": [
    "#one_dim_list_all =  dist_matrix_df.melt()['value']\n",
    "fig_all = make_histogram(one_dim_list_all, range2 = [0.0125,0.028], bins=40) \n",
    "pio.write_image(fig_all, './figures/distances_all.png')\n",
    "fig_all"
   ]
  },
  {
   "cell_type": "code",
   "execution_count": 55,
   "metadata": {},
   "outputs": [
    {
     "data": {
      "application/vnd.plotly.v1+json": {
       "config": {
        "plotlyServerURL": "https://plot.ly"
       },
       "data": [
        {
         "marker": {
          "color": "rgb(245, 172, 139)"
         },
         "name": "highly_similar",
         "type": "bar",
         "x": [
          0,
          0.000390625,
          0.00078125,
          0.0011718750000000002,
          0.0015625,
          0.001953125,
          0.0023437500000000003,
          0.0027343750000000003,
          0.003125,
          0.003515625,
          0.00390625,
          0.004296875,
          0.004687500000000001,
          0.005078125,
          0.0054687500000000005,
          0.005859375,
          0.00625,
          0.006640625000000001,
          0.00703125,
          0.0074218750000000005,
          0.0078125,
          0.008203125,
          0.00859375,
          0.008984375000000001,
          0.009375000000000001,
          0.009765625,
          0.01015625,
          0.010546875,
          0.010937500000000001,
          0.011328125000000001,
          0.01171875,
          0.012109375,
          0.0125
         ],
         "y": [
          230,
          0,
          0,
          0,
          0,
          0,
          0,
          0,
          0,
          0,
          0,
          0,
          0,
          0,
          0,
          0,
          0,
          0,
          0,
          0,
          0,
          0,
          0,
          0,
          0,
          0,
          0,
          0,
          0,
          0,
          0,
          0
         ]
        },
        {
         "marker": {
          "color": "rgb(193, 221, 236)"
         },
         "name": "keep",
         "type": "bar",
         "x": [
          0.0125,
          0.012887500000000001,
          0.013275,
          0.013662500000000001,
          0.01405,
          0.0144375,
          0.014825000000000001,
          0.0152125,
          0.015600000000000001,
          0.0159875,
          0.016375,
          0.0167625,
          0.01715,
          0.0175375,
          0.017925,
          0.018312500000000002,
          0.0187,
          0.0190875,
          0.019475,
          0.0198625,
          0.02025,
          0.0206375,
          0.021025000000000002,
          0.0214125,
          0.0218,
          0.0221875,
          0.022574999999999998,
          0.0229625,
          0.023350000000000003,
          0.0237375,
          0.024125,
          0.0245125,
          0.0249,
          0.0252875,
          0.025675,
          0.026062500000000002,
          0.02645,
          0.0268375,
          0.027225,
          0.027612499999999998,
          0.028
         ],
         "y": [
          12,
          14,
          16,
          20,
          10,
          22,
          34,
          26,
          40,
          92,
          180,
          348,
          644,
          958,
          1404,
          2254,
          2674,
          3284,
          3734,
          4386,
          4548,
          4880,
          3896,
          4514,
          3396,
          3514,
          2238,
          1678,
          1250,
          900,
          638,
          364,
          270,
          180,
          102,
          52,
          56,
          16,
          10,
          4
         ]
        },
        {
         "marker": {
          "color": "rgb(23, 82, 144)"
         },
         "name": "outliers, > 0.028",
         "type": "bar",
         "x": [
          0.028,
          0.0294234
         ],
         "y": [
          12
         ]
        }
       ],
       "layout": {
        "autosize": true,
        "legend": {
         "font": {
          "size": 15
         }
        },
        "template": {
         "data": {
          "bar": [
           {
            "error_x": {
             "color": "rgb(36,36,36)"
            },
            "error_y": {
             "color": "rgb(36,36,36)"
            },
            "marker": {
             "line": {
              "color": "white",
              "width": 0.5
             },
             "pattern": {
              "fillmode": "overlay",
              "size": 10,
              "solidity": 0.2
             }
            },
            "type": "bar"
           }
          ],
          "barpolar": [
           {
            "marker": {
             "line": {
              "color": "white",
              "width": 0.5
             },
             "pattern": {
              "fillmode": "overlay",
              "size": 10,
              "solidity": 0.2
             }
            },
            "type": "barpolar"
           }
          ],
          "carpet": [
           {
            "aaxis": {
             "endlinecolor": "rgb(36,36,36)",
             "gridcolor": "white",
             "linecolor": "white",
             "minorgridcolor": "white",
             "startlinecolor": "rgb(36,36,36)"
            },
            "baxis": {
             "endlinecolor": "rgb(36,36,36)",
             "gridcolor": "white",
             "linecolor": "white",
             "minorgridcolor": "white",
             "startlinecolor": "rgb(36,36,36)"
            },
            "type": "carpet"
           }
          ],
          "choropleth": [
           {
            "colorbar": {
             "outlinewidth": 1,
             "tickcolor": "rgb(36,36,36)",
             "ticks": "outside"
            },
            "type": "choropleth"
           }
          ],
          "contour": [
           {
            "colorbar": {
             "outlinewidth": 1,
             "tickcolor": "rgb(36,36,36)",
             "ticks": "outside"
            },
            "colorscale": [
             [
              0,
              "#440154"
             ],
             [
              0.1111111111111111,
              "#482878"
             ],
             [
              0.2222222222222222,
              "#3e4989"
             ],
             [
              0.3333333333333333,
              "#31688e"
             ],
             [
              0.4444444444444444,
              "#26828e"
             ],
             [
              0.5555555555555556,
              "#1f9e89"
             ],
             [
              0.6666666666666666,
              "#35b779"
             ],
             [
              0.7777777777777778,
              "#6ece58"
             ],
             [
              0.8888888888888888,
              "#b5de2b"
             ],
             [
              1,
              "#fde725"
             ]
            ],
            "type": "contour"
           }
          ],
          "contourcarpet": [
           {
            "colorbar": {
             "outlinewidth": 1,
             "tickcolor": "rgb(36,36,36)",
             "ticks": "outside"
            },
            "type": "contourcarpet"
           }
          ],
          "heatmap": [
           {
            "colorbar": {
             "outlinewidth": 1,
             "tickcolor": "rgb(36,36,36)",
             "ticks": "outside"
            },
            "colorscale": [
             [
              0,
              "#440154"
             ],
             [
              0.1111111111111111,
              "#482878"
             ],
             [
              0.2222222222222222,
              "#3e4989"
             ],
             [
              0.3333333333333333,
              "#31688e"
             ],
             [
              0.4444444444444444,
              "#26828e"
             ],
             [
              0.5555555555555556,
              "#1f9e89"
             ],
             [
              0.6666666666666666,
              "#35b779"
             ],
             [
              0.7777777777777778,
              "#6ece58"
             ],
             [
              0.8888888888888888,
              "#b5de2b"
             ],
             [
              1,
              "#fde725"
             ]
            ],
            "type": "heatmap"
           }
          ],
          "heatmapgl": [
           {
            "colorbar": {
             "outlinewidth": 1,
             "tickcolor": "rgb(36,36,36)",
             "ticks": "outside"
            },
            "colorscale": [
             [
              0,
              "#440154"
             ],
             [
              0.1111111111111111,
              "#482878"
             ],
             [
              0.2222222222222222,
              "#3e4989"
             ],
             [
              0.3333333333333333,
              "#31688e"
             ],
             [
              0.4444444444444444,
              "#26828e"
             ],
             [
              0.5555555555555556,
              "#1f9e89"
             ],
             [
              0.6666666666666666,
              "#35b779"
             ],
             [
              0.7777777777777778,
              "#6ece58"
             ],
             [
              0.8888888888888888,
              "#b5de2b"
             ],
             [
              1,
              "#fde725"
             ]
            ],
            "type": "heatmapgl"
           }
          ],
          "histogram": [
           {
            "marker": {
             "line": {
              "color": "white",
              "width": 0.6
             }
            },
            "type": "histogram"
           }
          ],
          "histogram2d": [
           {
            "colorbar": {
             "outlinewidth": 1,
             "tickcolor": "rgb(36,36,36)",
             "ticks": "outside"
            },
            "colorscale": [
             [
              0,
              "#440154"
             ],
             [
              0.1111111111111111,
              "#482878"
             ],
             [
              0.2222222222222222,
              "#3e4989"
             ],
             [
              0.3333333333333333,
              "#31688e"
             ],
             [
              0.4444444444444444,
              "#26828e"
             ],
             [
              0.5555555555555556,
              "#1f9e89"
             ],
             [
              0.6666666666666666,
              "#35b779"
             ],
             [
              0.7777777777777778,
              "#6ece58"
             ],
             [
              0.8888888888888888,
              "#b5de2b"
             ],
             [
              1,
              "#fde725"
             ]
            ],
            "type": "histogram2d"
           }
          ],
          "histogram2dcontour": [
           {
            "colorbar": {
             "outlinewidth": 1,
             "tickcolor": "rgb(36,36,36)",
             "ticks": "outside"
            },
            "colorscale": [
             [
              0,
              "#440154"
             ],
             [
              0.1111111111111111,
              "#482878"
             ],
             [
              0.2222222222222222,
              "#3e4989"
             ],
             [
              0.3333333333333333,
              "#31688e"
             ],
             [
              0.4444444444444444,
              "#26828e"
             ],
             [
              0.5555555555555556,
              "#1f9e89"
             ],
             [
              0.6666666666666666,
              "#35b779"
             ],
             [
              0.7777777777777778,
              "#6ece58"
             ],
             [
              0.8888888888888888,
              "#b5de2b"
             ],
             [
              1,
              "#fde725"
             ]
            ],
            "type": "histogram2dcontour"
           }
          ],
          "mesh3d": [
           {
            "colorbar": {
             "outlinewidth": 1,
             "tickcolor": "rgb(36,36,36)",
             "ticks": "outside"
            },
            "type": "mesh3d"
           }
          ],
          "parcoords": [
           {
            "line": {
             "colorbar": {
              "outlinewidth": 1,
              "tickcolor": "rgb(36,36,36)",
              "ticks": "outside"
             }
            },
            "type": "parcoords"
           }
          ],
          "pie": [
           {
            "automargin": true,
            "type": "pie"
           }
          ],
          "scatter": [
           {
            "fillpattern": {
             "fillmode": "overlay",
             "size": 10,
             "solidity": 0.2
            },
            "type": "scatter"
           }
          ],
          "scatter3d": [
           {
            "line": {
             "colorbar": {
              "outlinewidth": 1,
              "tickcolor": "rgb(36,36,36)",
              "ticks": "outside"
             }
            },
            "marker": {
             "colorbar": {
              "outlinewidth": 1,
              "tickcolor": "rgb(36,36,36)",
              "ticks": "outside"
             }
            },
            "type": "scatter3d"
           }
          ],
          "scattercarpet": [
           {
            "marker": {
             "colorbar": {
              "outlinewidth": 1,
              "tickcolor": "rgb(36,36,36)",
              "ticks": "outside"
             }
            },
            "type": "scattercarpet"
           }
          ],
          "scattergeo": [
           {
            "marker": {
             "colorbar": {
              "outlinewidth": 1,
              "tickcolor": "rgb(36,36,36)",
              "ticks": "outside"
             }
            },
            "type": "scattergeo"
           }
          ],
          "scattergl": [
           {
            "marker": {
             "colorbar": {
              "outlinewidth": 1,
              "tickcolor": "rgb(36,36,36)",
              "ticks": "outside"
             }
            },
            "type": "scattergl"
           }
          ],
          "scattermapbox": [
           {
            "marker": {
             "colorbar": {
              "outlinewidth": 1,
              "tickcolor": "rgb(36,36,36)",
              "ticks": "outside"
             }
            },
            "type": "scattermapbox"
           }
          ],
          "scatterpolar": [
           {
            "marker": {
             "colorbar": {
              "outlinewidth": 1,
              "tickcolor": "rgb(36,36,36)",
              "ticks": "outside"
             }
            },
            "type": "scatterpolar"
           }
          ],
          "scatterpolargl": [
           {
            "marker": {
             "colorbar": {
              "outlinewidth": 1,
              "tickcolor": "rgb(36,36,36)",
              "ticks": "outside"
             }
            },
            "type": "scatterpolargl"
           }
          ],
          "scatterternary": [
           {
            "marker": {
             "colorbar": {
              "outlinewidth": 1,
              "tickcolor": "rgb(36,36,36)",
              "ticks": "outside"
             }
            },
            "type": "scatterternary"
           }
          ],
          "surface": [
           {
            "colorbar": {
             "outlinewidth": 1,
             "tickcolor": "rgb(36,36,36)",
             "ticks": "outside"
            },
            "colorscale": [
             [
              0,
              "#440154"
             ],
             [
              0.1111111111111111,
              "#482878"
             ],
             [
              0.2222222222222222,
              "#3e4989"
             ],
             [
              0.3333333333333333,
              "#31688e"
             ],
             [
              0.4444444444444444,
              "#26828e"
             ],
             [
              0.5555555555555556,
              "#1f9e89"
             ],
             [
              0.6666666666666666,
              "#35b779"
             ],
             [
              0.7777777777777778,
              "#6ece58"
             ],
             [
              0.8888888888888888,
              "#b5de2b"
             ],
             [
              1,
              "#fde725"
             ]
            ],
            "type": "surface"
           }
          ],
          "table": [
           {
            "cells": {
             "fill": {
              "color": "rgb(237,237,237)"
             },
             "line": {
              "color": "white"
             }
            },
            "header": {
             "fill": {
              "color": "rgb(217,217,217)"
             },
             "line": {
              "color": "white"
             }
            },
            "type": "table"
           }
          ]
         },
         "layout": {
          "annotationdefaults": {
           "arrowhead": 0,
           "arrowwidth": 1
          },
          "autotypenumbers": "strict",
          "coloraxis": {
           "colorbar": {
            "outlinewidth": 1,
            "tickcolor": "rgb(36,36,36)",
            "ticks": "outside"
           }
          },
          "colorscale": {
           "diverging": [
            [
             0,
             "rgb(103,0,31)"
            ],
            [
             0.1,
             "rgb(178,24,43)"
            ],
            [
             0.2,
             "rgb(214,96,77)"
            ],
            [
             0.3,
             "rgb(244,165,130)"
            ],
            [
             0.4,
             "rgb(253,219,199)"
            ],
            [
             0.5,
             "rgb(247,247,247)"
            ],
            [
             0.6,
             "rgb(209,229,240)"
            ],
            [
             0.7,
             "rgb(146,197,222)"
            ],
            [
             0.8,
             "rgb(67,147,195)"
            ],
            [
             0.9,
             "rgb(33,102,172)"
            ],
            [
             1,
             "rgb(5,48,97)"
            ]
           ],
           "sequential": [
            [
             0,
             "#440154"
            ],
            [
             0.1111111111111111,
             "#482878"
            ],
            [
             0.2222222222222222,
             "#3e4989"
            ],
            [
             0.3333333333333333,
             "#31688e"
            ],
            [
             0.4444444444444444,
             "#26828e"
            ],
            [
             0.5555555555555556,
             "#1f9e89"
            ],
            [
             0.6666666666666666,
             "#35b779"
            ],
            [
             0.7777777777777778,
             "#6ece58"
            ],
            [
             0.8888888888888888,
             "#b5de2b"
            ],
            [
             1,
             "#fde725"
            ]
           ],
           "sequentialminus": [
            [
             0,
             "#440154"
            ],
            [
             0.1111111111111111,
             "#482878"
            ],
            [
             0.2222222222222222,
             "#3e4989"
            ],
            [
             0.3333333333333333,
             "#31688e"
            ],
            [
             0.4444444444444444,
             "#26828e"
            ],
            [
             0.5555555555555556,
             "#1f9e89"
            ],
            [
             0.6666666666666666,
             "#35b779"
            ],
            [
             0.7777777777777778,
             "#6ece58"
            ],
            [
             0.8888888888888888,
             "#b5de2b"
            ],
            [
             1,
             "#fde725"
            ]
           ]
          },
          "colorway": [
           "#1F77B4",
           "#FF7F0E",
           "#2CA02C",
           "#D62728",
           "#9467BD",
           "#8C564B",
           "#E377C2",
           "#7F7F7F",
           "#BCBD22",
           "#17BECF"
          ],
          "font": {
           "color": "rgb(36,36,36)"
          },
          "geo": {
           "bgcolor": "white",
           "lakecolor": "white",
           "landcolor": "white",
           "showlakes": true,
           "showland": true,
           "subunitcolor": "white"
          },
          "hoverlabel": {
           "align": "left"
          },
          "hovermode": "closest",
          "mapbox": {
           "style": "light"
          },
          "paper_bgcolor": "white",
          "plot_bgcolor": "white",
          "polar": {
           "angularaxis": {
            "gridcolor": "rgb(232,232,232)",
            "linecolor": "rgb(36,36,36)",
            "showgrid": false,
            "showline": true,
            "ticks": "outside"
           },
           "bgcolor": "white",
           "radialaxis": {
            "gridcolor": "rgb(232,232,232)",
            "linecolor": "rgb(36,36,36)",
            "showgrid": false,
            "showline": true,
            "ticks": "outside"
           }
          },
          "scene": {
           "xaxis": {
            "backgroundcolor": "white",
            "gridcolor": "rgb(232,232,232)",
            "gridwidth": 2,
            "linecolor": "rgb(36,36,36)",
            "showbackground": true,
            "showgrid": false,
            "showline": true,
            "ticks": "outside",
            "zeroline": false,
            "zerolinecolor": "rgb(36,36,36)"
           },
           "yaxis": {
            "backgroundcolor": "white",
            "gridcolor": "rgb(232,232,232)",
            "gridwidth": 2,
            "linecolor": "rgb(36,36,36)",
            "showbackground": true,
            "showgrid": false,
            "showline": true,
            "ticks": "outside",
            "zeroline": false,
            "zerolinecolor": "rgb(36,36,36)"
           },
           "zaxis": {
            "backgroundcolor": "white",
            "gridcolor": "rgb(232,232,232)",
            "gridwidth": 2,
            "linecolor": "rgb(36,36,36)",
            "showbackground": true,
            "showgrid": false,
            "showline": true,
            "ticks": "outside",
            "zeroline": false,
            "zerolinecolor": "rgb(36,36,36)"
           }
          },
          "shapedefaults": {
           "fillcolor": "black",
           "line": {
            "width": 0
           },
           "opacity": 0.3
          },
          "ternary": {
           "aaxis": {
            "gridcolor": "rgb(232,232,232)",
            "linecolor": "rgb(36,36,36)",
            "showgrid": false,
            "showline": true,
            "ticks": "outside"
           },
           "baxis": {
            "gridcolor": "rgb(232,232,232)",
            "linecolor": "rgb(36,36,36)",
            "showgrid": false,
            "showline": true,
            "ticks": "outside"
           },
           "bgcolor": "white",
           "caxis": {
            "gridcolor": "rgb(232,232,232)",
            "linecolor": "rgb(36,36,36)",
            "showgrid": false,
            "showline": true,
            "ticks": "outside"
           }
          },
          "title": {
           "x": 0.05
          },
          "xaxis": {
           "automargin": true,
           "gridcolor": "rgb(232,232,232)",
           "linecolor": "rgb(36,36,36)",
           "showgrid": false,
           "showline": true,
           "ticks": "outside",
           "title": {
            "standoff": 15
           },
           "zeroline": false,
           "zerolinecolor": "rgb(36,36,36)"
          },
          "yaxis": {
           "automargin": true,
           "gridcolor": "rgb(232,232,232)",
           "linecolor": "rgb(36,36,36)",
           "showgrid": false,
           "showline": true,
           "ticks": "outside",
           "title": {
            "standoff": 15
           },
           "zeroline": false,
           "zerolinecolor": "rgb(36,36,36)"
          }
         }
        },
        "xaxis": {
         "autorange": true,
         "range": [
          -0.00019374999999999948,
          0.02819375
         ],
         "tickfont": {
          "size": 10
         },
         "title": {
          "font": {
           "size": 15
          },
          "text": "minHash distance"
         },
         "type": "linear"
        },
        "yaxis": {
         "autorange": true,
         "range": [
          0,
          5136.842105263158
         ],
         "tickfont": {
          "size": 10
         },
         "title": {
          "font": {
           "size": 15
          },
          "text": "counts, distances"
         },
         "type": "linear"
        }
       }
      },
      "image/png": "[encoded data removed]",
      "text/html": [
       "<div>                            <div id=\"24787f06-7b16-4133-9a1f-58ca20286fac\" class=\"plotly-graph-div\" style=\"height:525px; width:100%;\"></div>            <script type=\"text/javascript\">                require([\"plotly\"], function(Plotly) {                    window.PLOTLYENV=window.PLOTLYENV || {};                                    if (document.getElementById(\"24787f06-7b16-4133-9a1f-58ca20286fac\")) {                    Plotly.newPlot(                        \"24787f06-7b16-4133-9a1f-58ca20286fac\",                        [{\"marker\":{\"color\":\"rgb(245, 172, 139)\"},\"name\":\"highly_similar\",\"x\":[0.0,0.000390625,0.00078125,0.0011718750000000002,0.0015625,0.001953125,0.0023437500000000003,0.0027343750000000003,0.003125,0.003515625,0.00390625,0.004296875,0.004687500000000001,0.005078125,0.0054687500000000005,0.005859375,0.00625,0.006640625000000001,0.00703125,0.0074218750000000005,0.0078125,0.008203125,0.00859375,0.008984375000000001,0.009375000000000001,0.009765625,0.01015625,0.010546875,0.010937500000000001,0.011328125000000001,0.01171875,0.012109375,0.0125],\"y\":[230,0,0,0,0,0,0,0,0,0,0,0,0,0,0,0,0,0,0,0,0,0,0,0,0,0,0,0,0,0,0,0],\"type\":\"bar\"},{\"marker\":{\"color\":\"rgb(193, 221, 236)\"},\"name\":\"keep\",\"x\":[0.0125,0.012887500000000001,0.013275,0.013662500000000001,0.01405,0.0144375,0.014825000000000001,0.0152125,0.015600000000000001,0.0159875,0.016375,0.0167625,0.01715,0.0175375,0.017925,0.018312500000000002,0.0187,0.0190875,0.019475,0.0198625,0.02025,0.0206375,0.021025000000000002,0.0214125,0.0218,0.0221875,0.022574999999999998,0.0229625,0.023350000000000003,0.0237375,0.024125,0.0245125,0.0249,0.0252875,0.025675,0.026062500000000002,0.02645,0.0268375,0.027225,0.027612499999999998,0.028],\"y\":[12,14,16,20,10,22,34,26,40,92,180,348,644,958,1404,2254,2674,3284,3734,4386,4548,4880,3896,4514,3396,3514,2238,1678,1250,900,638,364,270,180,102,52,56,16,10,4],\"type\":\"bar\"},{\"marker\":{\"color\":\"rgb(23, 82, 144)\"},\"name\":\"outliers, \\u003e 0.028\",\"x\":[0.028,0.0294234],\"y\":[12],\"type\":\"bar\"}],                        {\"template\":{\"data\":{\"barpolar\":[{\"marker\":{\"line\":{\"color\":\"white\",\"width\":0.5},\"pattern\":{\"fillmode\":\"overlay\",\"size\":10,\"solidity\":0.2}},\"type\":\"barpolar\"}],\"bar\":[{\"error_x\":{\"color\":\"rgb(36,36,36)\"},\"error_y\":{\"color\":\"rgb(36,36,36)\"},\"marker\":{\"line\":{\"color\":\"white\",\"width\":0.5},\"pattern\":{\"fillmode\":\"overlay\",\"size\":10,\"solidity\":0.2}},\"type\":\"bar\"}],\"carpet\":[{\"aaxis\":{\"endlinecolor\":\"rgb(36,36,36)\",\"gridcolor\":\"white\",\"linecolor\":\"white\",\"minorgridcolor\":\"white\",\"startlinecolor\":\"rgb(36,36,36)\"},\"baxis\":{\"endlinecolor\":\"rgb(36,36,36)\",\"gridcolor\":\"white\",\"linecolor\":\"white\",\"minorgridcolor\":\"white\",\"startlinecolor\":\"rgb(36,36,36)\"},\"type\":\"carpet\"}],\"choropleth\":[{\"colorbar\":{\"outlinewidth\":1,\"tickcolor\":\"rgb(36,36,36)\",\"ticks\":\"outside\"},\"type\":\"choropleth\"}],\"contourcarpet\":[{\"colorbar\":{\"outlinewidth\":1,\"tickcolor\":\"rgb(36,36,36)\",\"ticks\":\"outside\"},\"type\":\"contourcarpet\"}],\"contour\":[{\"colorbar\":{\"outlinewidth\":1,\"tickcolor\":\"rgb(36,36,36)\",\"ticks\":\"outside\"},\"colorscale\":[[0.0,\"#440154\"],[0.1111111111111111,\"#482878\"],[0.2222222222222222,\"#3e4989\"],[0.3333333333333333,\"#31688e\"],[0.4444444444444444,\"#26828e\"],[0.5555555555555556,\"#1f9e89\"],[0.6666666666666666,\"#35b779\"],[0.7777777777777778,\"#6ece58\"],[0.8888888888888888,\"#b5de2b\"],[1.0,\"#fde725\"]],\"type\":\"contour\"}],\"heatmapgl\":[{\"colorbar\":{\"outlinewidth\":1,\"tickcolor\":\"rgb(36,36,36)\",\"ticks\":\"outside\"},\"colorscale\":[[0.0,\"#440154\"],[0.1111111111111111,\"#482878\"],[0.2222222222222222,\"#3e4989\"],[0.3333333333333333,\"#31688e\"],[0.4444444444444444,\"#26828e\"],[0.5555555555555556,\"#1f9e89\"],[0.6666666666666666,\"#35b779\"],[0.7777777777777778,\"#6ece58\"],[0.8888888888888888,\"#b5de2b\"],[1.0,\"#fde725\"]],\"type\":\"heatmapgl\"}],\"heatmap\":[{\"colorbar\":{\"outlinewidth\":1,\"tickcolor\":\"rgb(36,36,36)\",\"ticks\":\"outside\"},\"colorscale\":[[0.0,\"#440154\"],[0.1111111111111111,\"#482878\"],[0.2222222222222222,\"#3e4989\"],[0.3333333333333333,\"#31688e\"],[0.4444444444444444,\"#26828e\"],[0.5555555555555556,\"#1f9e89\"],[0.6666666666666666,\"#35b779\"],[0.7777777777777778,\"#6ece58\"],[0.8888888888888888,\"#b5de2b\"],[1.0,\"#fde725\"]],\"type\":\"heatmap\"}],\"histogram2dcontour\":[{\"colorbar\":{\"outlinewidth\":1,\"tickcolor\":\"rgb(36,36,36)\",\"ticks\":\"outside\"},\"colorscale\":[[0.0,\"#440154\"],[0.1111111111111111,\"#482878\"],[0.2222222222222222,\"#3e4989\"],[0.3333333333333333,\"#31688e\"],[0.4444444444444444,\"#26828e\"],[0.5555555555555556,\"#1f9e89\"],[0.6666666666666666,\"#35b779\"],[0.7777777777777778,\"#6ece58\"],[0.8888888888888888,\"#b5de2b\"],[1.0,\"#fde725\"]],\"type\":\"histogram2dcontour\"}],\"histogram2d\":[{\"colorbar\":{\"outlinewidth\":1,\"tickcolor\":\"rgb(36,36,36)\",\"ticks\":\"outside\"},\"colorscale\":[[0.0,\"#440154\"],[0.1111111111111111,\"#482878\"],[0.2222222222222222,\"#3e4989\"],[0.3333333333333333,\"#31688e\"],[0.4444444444444444,\"#26828e\"],[0.5555555555555556,\"#1f9e89\"],[0.6666666666666666,\"#35b779\"],[0.7777777777777778,\"#6ece58\"],[0.8888888888888888,\"#b5de2b\"],[1.0,\"#fde725\"]],\"type\":\"histogram2d\"}],\"histogram\":[{\"marker\":{\"line\":{\"color\":\"white\",\"width\":0.6}},\"type\":\"histogram\"}],\"mesh3d\":[{\"colorbar\":{\"outlinewidth\":1,\"tickcolor\":\"rgb(36,36,36)\",\"ticks\":\"outside\"},\"type\":\"mesh3d\"}],\"parcoords\":[{\"line\":{\"colorbar\":{\"outlinewidth\":1,\"tickcolor\":\"rgb(36,36,36)\",\"ticks\":\"outside\"}},\"type\":\"parcoords\"}],\"pie\":[{\"automargin\":true,\"type\":\"pie\"}],\"scatter3d\":[{\"line\":{\"colorbar\":{\"outlinewidth\":1,\"tickcolor\":\"rgb(36,36,36)\",\"ticks\":\"outside\"}},\"marker\":{\"colorbar\":{\"outlinewidth\":1,\"tickcolor\":\"rgb(36,36,36)\",\"ticks\":\"outside\"}},\"type\":\"scatter3d\"}],\"scattercarpet\":[{\"marker\":{\"colorbar\":{\"outlinewidth\":1,\"tickcolor\":\"rgb(36,36,36)\",\"ticks\":\"outside\"}},\"type\":\"scattercarpet\"}],\"scattergeo\":[{\"marker\":{\"colorbar\":{\"outlinewidth\":1,\"tickcolor\":\"rgb(36,36,36)\",\"ticks\":\"outside\"}},\"type\":\"scattergeo\"}],\"scattergl\":[{\"marker\":{\"colorbar\":{\"outlinewidth\":1,\"tickcolor\":\"rgb(36,36,36)\",\"ticks\":\"outside\"}},\"type\":\"scattergl\"}],\"scattermapbox\":[{\"marker\":{\"colorbar\":{\"outlinewidth\":1,\"tickcolor\":\"rgb(36,36,36)\",\"ticks\":\"outside\"}},\"type\":\"scattermapbox\"}],\"scatterpolargl\":[{\"marker\":{\"colorbar\":{\"outlinewidth\":1,\"tickcolor\":\"rgb(36,36,36)\",\"ticks\":\"outside\"}},\"type\":\"scatterpolargl\"}],\"scatterpolar\":[{\"marker\":{\"colorbar\":{\"outlinewidth\":1,\"tickcolor\":\"rgb(36,36,36)\",\"ticks\":\"outside\"}},\"type\":\"scatterpolar\"}],\"scatter\":[{\"fillpattern\":{\"fillmode\":\"overlay\",\"size\":10,\"solidity\":0.2},\"type\":\"scatter\"}],\"scatterternary\":[{\"marker\":{\"colorbar\":{\"outlinewidth\":1,\"tickcolor\":\"rgb(36,36,36)\",\"ticks\":\"outside\"}},\"type\":\"scatterternary\"}],\"surface\":[{\"colorbar\":{\"outlinewidth\":1,\"tickcolor\":\"rgb(36,36,36)\",\"ticks\":\"outside\"},\"colorscale\":[[0.0,\"#440154\"],[0.1111111111111111,\"#482878\"],[0.2222222222222222,\"#3e4989\"],[0.3333333333333333,\"#31688e\"],[0.4444444444444444,\"#26828e\"],[0.5555555555555556,\"#1f9e89\"],[0.6666666666666666,\"#35b779\"],[0.7777777777777778,\"#6ece58\"],[0.8888888888888888,\"#b5de2b\"],[1.0,\"#fde725\"]],\"type\":\"surface\"}],\"table\":[{\"cells\":{\"fill\":{\"color\":\"rgb(237,237,237)\"},\"line\":{\"color\":\"white\"}},\"header\":{\"fill\":{\"color\":\"rgb(217,217,217)\"},\"line\":{\"color\":\"white\"}},\"type\":\"table\"}]},\"layout\":{\"annotationdefaults\":{\"arrowhead\":0,\"arrowwidth\":1},\"autotypenumbers\":\"strict\",\"coloraxis\":{\"colorbar\":{\"outlinewidth\":1,\"tickcolor\":\"rgb(36,36,36)\",\"ticks\":\"outside\"}},\"colorscale\":{\"diverging\":[[0.0,\"rgb(103,0,31)\"],[0.1,\"rgb(178,24,43)\"],[0.2,\"rgb(214,96,77)\"],[0.3,\"rgb(244,165,130)\"],[0.4,\"rgb(253,219,199)\"],[0.5,\"rgb(247,247,247)\"],[0.6,\"rgb(209,229,240)\"],[0.7,\"rgb(146,197,222)\"],[0.8,\"rgb(67,147,195)\"],[0.9,\"rgb(33,102,172)\"],[1.0,\"rgb(5,48,97)\"]],\"sequential\":[[0.0,\"#440154\"],[0.1111111111111111,\"#482878\"],[0.2222222222222222,\"#3e4989\"],[0.3333333333333333,\"#31688e\"],[0.4444444444444444,\"#26828e\"],[0.5555555555555556,\"#1f9e89\"],[0.6666666666666666,\"#35b779\"],[0.7777777777777778,\"#6ece58\"],[0.8888888888888888,\"#b5de2b\"],[1.0,\"#fde725\"]],\"sequentialminus\":[[0.0,\"#440154\"],[0.1111111111111111,\"#482878\"],[0.2222222222222222,\"#3e4989\"],[0.3333333333333333,\"#31688e\"],[0.4444444444444444,\"#26828e\"],[0.5555555555555556,\"#1f9e89\"],[0.6666666666666666,\"#35b779\"],[0.7777777777777778,\"#6ece58\"],[0.8888888888888888,\"#b5de2b\"],[1.0,\"#fde725\"]]},\"colorway\":[\"#1F77B4\",\"#FF7F0E\",\"#2CA02C\",\"#D62728\",\"#9467BD\",\"#8C564B\",\"#E377C2\",\"#7F7F7F\",\"#BCBD22\",\"#17BECF\"],\"font\":{\"color\":\"rgb(36,36,36)\"},\"geo\":{\"bgcolor\":\"white\",\"lakecolor\":\"white\",\"landcolor\":\"white\",\"showlakes\":true,\"showland\":true,\"subunitcolor\":\"white\"},\"hoverlabel\":{\"align\":\"left\"},\"hovermode\":\"closest\",\"mapbox\":{\"style\":\"light\"},\"paper_bgcolor\":\"white\",\"plot_bgcolor\":\"white\",\"polar\":{\"angularaxis\":{\"gridcolor\":\"rgb(232,232,232)\",\"linecolor\":\"rgb(36,36,36)\",\"showgrid\":false,\"showline\":true,\"ticks\":\"outside\"},\"bgcolor\":\"white\",\"radialaxis\":{\"gridcolor\":\"rgb(232,232,232)\",\"linecolor\":\"rgb(36,36,36)\",\"showgrid\":false,\"showline\":true,\"ticks\":\"outside\"}},\"scene\":{\"xaxis\":{\"backgroundcolor\":\"white\",\"gridcolor\":\"rgb(232,232,232)\",\"gridwidth\":2,\"linecolor\":\"rgb(36,36,36)\",\"showbackground\":true,\"showgrid\":false,\"showline\":true,\"ticks\":\"outside\",\"zeroline\":false,\"zerolinecolor\":\"rgb(36,36,36)\"},\"yaxis\":{\"backgroundcolor\":\"white\",\"gridcolor\":\"rgb(232,232,232)\",\"gridwidth\":2,\"linecolor\":\"rgb(36,36,36)\",\"showbackground\":true,\"showgrid\":false,\"showline\":true,\"ticks\":\"outside\",\"zeroline\":false,\"zerolinecolor\":\"rgb(36,36,36)\"},\"zaxis\":{\"backgroundcolor\":\"white\",\"gridcolor\":\"rgb(232,232,232)\",\"gridwidth\":2,\"linecolor\":\"rgb(36,36,36)\",\"showbackground\":true,\"showgrid\":false,\"showline\":true,\"ticks\":\"outside\",\"zeroline\":false,\"zerolinecolor\":\"rgb(36,36,36)\"}},\"shapedefaults\":{\"fillcolor\":\"black\",\"line\":{\"width\":0},\"opacity\":0.3},\"ternary\":{\"aaxis\":{\"gridcolor\":\"rgb(232,232,232)\",\"linecolor\":\"rgb(36,36,36)\",\"showgrid\":false,\"showline\":true,\"ticks\":\"outside\"},\"baxis\":{\"gridcolor\":\"rgb(232,232,232)\",\"linecolor\":\"rgb(36,36,36)\",\"showgrid\":false,\"showline\":true,\"ticks\":\"outside\"},\"bgcolor\":\"white\",\"caxis\":{\"gridcolor\":\"rgb(232,232,232)\",\"linecolor\":\"rgb(36,36,36)\",\"showgrid\":false,\"showline\":true,\"ticks\":\"outside\"}},\"title\":{\"x\":0.05},\"xaxis\":{\"automargin\":true,\"gridcolor\":\"rgb(232,232,232)\",\"linecolor\":\"rgb(36,36,36)\",\"showgrid\":false,\"showline\":true,\"ticks\":\"outside\",\"title\":{\"standoff\":15},\"zeroline\":false,\"zerolinecolor\":\"rgb(36,36,36)\"},\"yaxis\":{\"automargin\":true,\"gridcolor\":\"rgb(232,232,232)\",\"linecolor\":\"rgb(36,36,36)\",\"showgrid\":false,\"showline\":true,\"ticks\":\"outside\",\"title\":{\"standoff\":15},\"zeroline\":false,\"zerolinecolor\":\"rgb(36,36,36)\"}}},\"xaxis\":{\"tickfont\":{\"size\":10},\"title\":{\"font\":{\"size\":15},\"text\":\"minHash distance\"}},\"yaxis\":{\"title\":{\"font\":{\"size\":15},\"text\":\"counts, distances\"},\"tickfont\":{\"size\":10}},\"legend\":{\"font\":{\"size\":15}}},                        {\"responsive\": true}                    ).then(function(){\n",
       "                            \n",
       "var gd = document.getElementById('24787f06-7b16-4133-9a1f-58ca20286fac');\n",
       "var x = new MutationObserver(function (mutations, observer) {{\n",
       "        var display = window.getComputedStyle(gd).display;\n",
       "        if (!display || display === 'none') {{\n",
       "            console.log([gd, 'removed!']);\n",
       "            Plotly.purge(gd);\n",
       "            observer.disconnect();\n",
       "        }}\n",
       "}});\n",
       "\n",
       "// Listen for the removal of the full notebook cells\n",
       "var notebookContainer = gd.closest('#notebook-container');\n",
       "if (notebookContainer) {{\n",
       "    x.observe(notebookContainer, {childList: true});\n",
       "}}\n",
       "\n",
       "// Listen for the clearing of the current output cell\n",
       "var outputEl = gd.closest('.output');\n",
       "if (outputEl) {{\n",
       "    x.observe(outputEl, {childList: true});\n",
       "}}\n",
       "\n",
       "                        })                };                });            </script>        </div>"
      ]
     },
     "metadata": {},
     "output_type": "display_data"
    }
   ],
   "source": [
    "one_dim_list_deduped =  dist_matrix_df.loc[to_keep, to_keep].melt()['value']\n",
    "fig_deduped = make_histogram(one_dim_list_deduped, range2 = [0.0125,0.028], bins=40) \n",
    "pio.write_image(fig_deduped, './figures/distances_deduped.png')\n",
    "fig_deduped"
   ]
  },
  {
   "cell_type": "code",
   "execution_count": null,
   "metadata": {
    "tags": []
   },
   "outputs": [],
   "source": []
  },
  {
   "cell_type": "code",
   "execution_count": null,
   "metadata": {
    "tags": []
   },
   "outputs": [],
   "source": []
  },
  {
   "cell_type": "code",
   "execution_count": null,
   "metadata": {
    "tags": []
   },
   "outputs": [],
   "source": []
  },
  {
   "cell_type": "markdown",
   "metadata": {},
   "source": [
    "### Make neighbor joining tree from deduped distance matrix"
   ]
  },
  {
   "cell_type": "code",
   "execution_count": 20,
   "metadata": {
    "tags": []
   },
   "outputs": [
    {
     "data": {
      "text/plain": [
       "1"
      ]
     },
     "execution_count": 20,
     "metadata": {},
     "output_type": "execute_result"
    }
   ],
   "source": [
    "def reoder_to_keep_accs(to_keep, dist_matrix_lowTriang_df):\n",
    "\n",
    "    df = dist_matrix_lowTriang_df\n",
    "    re_ordered_to_keep = []\n",
    "    for acc in dist_matrix_lowTriang_df.index:\n",
    "        if acc in to_keep:\n",
    "            re_ordered_to_keep.append(acc)\n",
    "    return re_ordered_to_keep\n",
    "\n",
    "re_ordered_to_keep = reoder_to_keep_accs(to_keep, dist_matrix_lowTriang_df)\n",
    "\n",
    "dist_matrix_deduped_df = dist_matrix_lowTriang_df.loc[re_ordered_to_keep, re_ordered_to_keep]\n",
    "phylo_distMatrix = make_phylo_distMatrix(dist_matrix_deduped_df)\n",
    "if not os.path.exists('./nj_trees'):\n",
    "    os.makedirs('./nj_trees')\n",
    "constructor = DistanceTreeConstructor()\n",
    "njTree = constructor.nj(phylo_distMatrix)\n",
    "Phylo.write(njTree, format='newick', file='./nj_trees/njTree.nwk')"
   ]
  },
  {
   "cell_type": "code",
   "execution_count": 21,
   "metadata": {
    "tags": []
   },
   "outputs": [
    {
     "data": {
      "application/vnd.plotly.v1+json": {
       "config": {
        "plotlyServerURL": "https://plot.ly"
       },
       "data": [
        {
         "hoverinfo": "text",
         "marker": {
          "color": [],
          "size": [
           6,
           6,
           6,
           6,
           6,
           10,
           10,
           6,
           10,
           10,
           6,
           6,
           6,
           6,
           10,
           6,
           10,
           6,
           10,
           10,
           6,
           10,
           6,
           6,
           10,
           6,
           10,
           10,
           10,
           6,
           6,
           10,
           6,
           10,
           6,
           10,
           10,
           6,
           10,
           10,
           6,
           6,
           6,
           10,
           10,
           6,
           10,
           10,
           6,
           10,
           6,
           6,
           10,
           10,
           10,
           6,
           6,
           6,
           6,
           10,
           6,
           10,
           10,
           6,
           6,
           10,
           6,
           10,
           10,
           6,
           10,
           10,
           6,
           10,
           6,
           6,
           10,
           10,
           6,
           6,
           10,
           10,
           6,
           10,
           10,
           6,
           6,
           6,
           10,
           10,
           6,
           6,
           10,
           10,
           6,
           6,
           10,
           10,
           10,
           6,
           6,
           6,
           10,
           10,
           6,
           6,
           10,
           6,
           10,
           10,
           6,
           6,
           6,
           6,
           10,
           10,
           6,
           10,
           6,
           10,
           10,
           6,
           6,
           10,
           6,
           10,
           10,
           6,
           6,
           10,
           6,
           6,
           6,
           10,
           10,
           10,
           6,
           10,
           10,
           10,
           6,
           10,
           6,
           10,
           10,
           6,
           6,
           6,
           10,
           10,
           6,
           10,
           6,
           10,
           10,
           6,
           10,
           6,
           6,
           10,
           6,
           10,
           10,
           6,
           10,
           10,
           6,
           6,
           6,
           6,
           6,
           10,
           10,
           10,
           6,
           6,
           6,
           6,
           10,
           10,
           10,
           6,
           10,
           6,
           10,
           10,
           6,
           10,
           6,
           6,
           6,
           10,
           10,
           6,
           10,
           10,
           6,
           10,
           10,
           6,
           6,
           10,
           6,
           10,
           6,
           10,
           10,
           6,
           6,
           6,
           6,
           6,
           10,
           10,
           6,
           6,
           10,
           10,
           6,
           10,
           10,
           6,
           6,
           10,
           6,
           10,
           10,
           6,
           6,
           10,
           6,
           6,
           6,
           10,
           6,
           10,
           10,
           6,
           10,
           10,
           6,
           10,
           6,
           6,
           10,
           10,
           6,
           10,
           10,
           6,
           6,
           10,
           6,
           10,
           10,
           6,
           10,
           6,
           10,
           10,
           6,
           6,
           10,
           10,
           6,
           10,
           6,
           10,
           10,
           6,
           6,
           6,
           10,
           10,
           6,
           10,
           10,
           6,
           6,
           6,
           10,
           10,
           10,
           6,
           6,
           6,
           6,
           10,
           10,
           10,
           10,
           10,
           6,
           6,
           6,
           10,
           6,
           6,
           10,
           10,
           6,
           10,
           10,
           6,
           6,
           6,
           10,
           10,
           6,
           6,
           10,
           10,
           6,
           10,
           6,
           10,
           6,
           10,
           10,
           6,
           6,
           6,
           10,
           10,
           10,
           10,
           6,
           6,
           10,
           6,
           6,
           10,
           6,
           10,
           10,
           6,
           6,
           10,
           6,
           10,
           6,
           10,
           6,
           6,
           10,
           10,
           10,
           10,
           6,
           6,
           6,
           6,
           10,
           6,
           10,
           10,
           10,
           6,
           10,
           10,
           6,
           6,
           6,
           6,
           10,
           10,
           10,
           6,
           6,
           10,
           6,
           10,
           6,
           10,
           6,
           10,
           10,
           10,
           6,
           6,
           6,
           10,
           6,
           6,
           10,
           6,
           10,
           6,
           10,
           6,
           10,
           10,
           6,
           10,
           6,
           6,
           10,
           10,
           6,
           10,
           6,
           10,
           10,
           6,
           6,
           6,
           10,
           6,
           10,
           10,
           10,
           6,
           6,
           10,
           10,
           6,
           10,
           10,
           6,
           6,
           10,
           6,
           10,
           10,
           6,
           10,
           6,
           6,
           10,
           10,
           6,
           6,
           10,
           10,
           6,
           6,
           10,
           10,
           6,
           6,
           10,
           10,
           10,
           6,
           6,
           10,
           6,
           10,
           10,
           6,
           6,
           10,
           6,
           10,
           6,
           10,
           10,
           10
          ]
         },
         "mode": "markers",
         "text": [
          "",
          "",
          "",
          "",
          "",
          "GCF_016506315.1",
          "GCF_030131125.1",
          "",
          "GCF_029846925.1",
          "GCF_032940395.1",
          "",
          "",
          "",
          "",
          "GCF_040445305.1",
          "",
          "GCF_044628175.1",
          "",
          "GCF_032822615.1",
          "GCF_028583465.1",
          "",
          "GCF_031581665.1",
          "",
          "",
          "GCF_023499085.1",
          "",
          "GCF_022342205.1",
          "GCF_023360975.1",
          "GCF_030131265.1",
          "",
          "",
          "GCF_029582015.1",
          "",
          "GCF_000297935.1",
          "",
          "GCF_040703085.1",
          "GCF_033469325.1",
          "",
          "GCF_037045925.1",
          "GCF_040446365.1",
          "",
          "",
          "",
          "GCF_034494405.1",
          "GCF_039769755.1",
          "",
          "GCF_029847055.1",
          "GCF_040444625.1",
          "",
          "GCF_040445215.1",
          "",
          "",
          "GCF_032944235.1",
          "GCF_004354145.1",
          "GCF_039769815.1",
          "",
          "",
          "",
          "",
          "GCF_001693205.1",
          "",
          "GCF_000746645.1",
          "GCF_032940335.1",
          "",
          "",
          "GCF_021484905.1",
          "",
          "GCF_018221365.1",
          "GCF_030585365.1",
          "",
          "GCF_036038495.1",
          "GCF_032940295.1",
          "",
          "GCF_000682415.1",
          "",
          "",
          "GCF_026062515.1",
          "GCF_000611465.1",
          "",
          "",
          "GCF_040445765.1",
          "GCF_024138435.1",
          "",
          "GCF_024749445.1",
          "GCF_000305275.1",
          "",
          "",
          "",
          "GCF_000731965.1",
          "GCF_001721705.1",
          "",
          "",
          "GCF_900477875.2",
          "GCF_003057525.1",
          "",
          "",
          "GCF_004354125.1",
          "GCF_042140495.1",
          "GCF_029847255.1",
          "",
          "",
          "",
          "GCF_900495605.1",
          "GCF_001895125.2",
          "",
          "",
          "GCF_900494865.1",
          "",
          "GCF_030364345.1",
          "GCF_000453165.1",
          "",
          "",
          "",
          "",
          "GCF_902705325.1",
          "GCF_008124045.1",
          "",
          "GCF_900493605.1",
          "",
          "GCF_016508455.1",
          "GCF_029847275.1",
          "",
          "",
          "GCF_000580315.1",
          "",
          "GCF_021460825.1",
          "GCF_003948385.1",
          "",
          "",
          "GCF_010587435.1",
          "",
          "",
          "",
          "GCF_030851575.1",
          "GCF_000584095.1",
          "GCF_005280675.1",
          "",
          "GCF_030130795.1",
          "GCF_025717695.1",
          "GCF_029847915.1",
          "",
          "GCF_963580385.1",
          "",
          "GCF_024589115.1",
          "GCF_029847835.1",
          "",
          "",
          "",
          "GCF_036441095.1",
          "GCF_029909475.1",
          "",
          "GCF_002573735.1",
          "",
          "GCF_002138175.1",
          "GCF_018863255.1",
          "",
          "GCF_029847595.1",
          "",
          "",
          "GCF_014858105.1",
          "",
          "GCF_900495975.1",
          "GCF_023499155.1",
          "",
          "GCF_029847775.1",
          "GCF_002148745.1",
          "",
          "",
          "",
          "",
          "",
          "GCF_039770115.1",
          "GCF_029847195.1",
          "GCF_040445275.1",
          "",
          "",
          "",
          "",
          "GCF_029847325.1",
          "GCF_029839505.1",
          "GCF_029846975.1",
          "",
          "GCF_040444845.1",
          "",
          "GCF_000584415.1",
          "GCF_024749585.1",
          "",
          "GCF_040698685.1",
          "",
          "",
          "",
          "GCF_963580605.1",
          "GCF_003431865.1",
          "",
          "GCF_041154855.1",
          "GCF_022459095.1",
          "",
          "GCF_000369225.1",
          "GCF_900496585.1",
          "",
          "",
          "GCF_033030945.1",
          "",
          "GCF_001863785.1",
          "",
          "GCF_003970215.1",
          "GCF_001674695.1",
          "",
          "",
          "",
          "",
          "",
          "GCF_030449105.1",
          "GCF_029847455.2",
          "",
          "",
          "GCF_029847575.1",
          "GCF_027257305.1",
          "",
          "GCF_024139015.1",
          "GCF_023516475.1",
          "",
          "",
          "GCF_929606855.1",
          "",
          "GCF_025456905.1",
          "GCF_023981045.1",
          "",
          "",
          "GCF_001648035.1",
          "",
          "",
          "",
          "GCF_025515635.1",
          "",
          "GCF_020271605.1",
          "GCF_020810655.1",
          "",
          "GCF_029847215.1",
          "GCF_900495045.1",
          "",
          "GCF_017753625.1",
          "",
          "",
          "GCF_035788155.1",
          "GCF_018863335.1",
          "",
          "GCF_022369275.1",
          "GCF_022937725.1",
          "",
          "",
          "GCF_001261895.2",
          "",
          "GCF_040444925.1",
          "GCF_000588035.1",
          "",
          "GCF_040445005.1",
          "",
          "GCF_004354165.1",
          "GCF_021729465.1",
          "",
          "",
          "GCF_029847675.1",
          "GCF_029847235.1",
          "",
          "GCF_026273705.1",
          "",
          "GCF_029459615.1",
          "GCF_001863705.1",
          "",
          "",
          "",
          "GCF_002136685.1",
          "GCF_032940805.1",
          "",
          "GCF_003948495.1",
          "GCF_032941605.1",
          "",
          "",
          "",
          "GCF_031157735.1",
          "GCF_016506845.1",
          "GCF_040445755.1",
          "",
          "",
          "",
          "",
          "GCF_019903155.1",
          "GCF_001077555.2",
          "GCF_040067455.1",
          "GCF_029847135.1",
          "GCF_043572315.1",
          "",
          "",
          "",
          "GCF_041154805.1",
          "",
          "",
          "GCF_040445185.1",
          "GCF_042478285.1",
          "",
          "GCF_024749605.1",
          "GCF_000584355.1",
          "",
          "",
          "",
          "GCF_001693105.1",
          "GCF_021726495.1",
          "",
          "",
          "GCF_000588135.1",
          "GCF_900406675.1",
          "",
          "GCF_019903175.1",
          "",
          "GCF_040304425.1",
          "",
          "GCF_031921725.1",
          "GCF_016654345.2",
          "",
          "",
          "",
          "GCF_013377175.1",
          "GCF_017349155.2",
          "GCF_029846935.1",
          "GCF_016117795.1",
          "",
          "",
          "GCF_003231185.1",
          "",
          "",
          "GCF_001077965.2",
          "",
          "GCF_019703285.1",
          "GCF_033192035.1",
          "",
          "",
          "GCF_000413915.1",
          "",
          "GCF_015571935.1",
          "",
          "GCF_013787185.1",
          "",
          "",
          "GCF_026189845.2",
          "GCF_019076685.1",
          "GCF_002902885.1",
          "GCF_037939845.1",
          "",
          "",
          "",
          "",
          "GCF_002143345.1",
          "",
          "GCF_016635075.1",
          "GCF_900444815.1",
          "GCF_007107525.1",
          "",
          "GCF_012931625.1",
          "GCF_013394285.1",
          "",
          "",
          "",
          "",
          "GCF_041079425.1",
          "GCF_018883565.1",
          "GCF_033190015.1",
          "",
          "",
          "GCF_012934905.1",
          "",
          "GCF_024589795.1",
          "",
          "GCF_014874575.1",
          "",
          "GCF_014322245.1",
          "GCF_014159355.1",
          "GCF_040786485.1",
          "",
          "",
          "",
          "GCF_900093475.1",
          "",
          "",
          "GCF_022605145.1",
          "",
          "GCF_003939565.1",
          "",
          "GCF_035666135.1",
          "",
          "GCF_030363935.1",
          "GCF_040304185.1",
          "",
          "GCF_000304675.1",
          "",
          "",
          "GCF_016508565.1",
          "GCF_041357595.1",
          "",
          "GCF_027257495.1",
          "",
          "GCF_038377665.1",
          "GCF_003994455.1",
          "",
          "",
          "",
          "GCF_029931545.1",
          "",
          "GCF_022466815.1",
          "GCF_000369165.1",
          "GCF_029847685.1",
          "",
          "",
          "GCF_032940715.1",
          "GCF_963580205.1",
          "",
          "GCF_000368545.1",
          "GCF_902705485.1",
          "",
          "",
          "GCF_000581895.1",
          "",
          "GCF_010499755.1",
          "GCF_018135585.1",
          "",
          "GCF_029847715.1",
          "",
          "",
          "GCF_030130845.1",
          "GCF_040444465.1",
          "",
          "",
          "GCF_004153295.1",
          "GCF_902705505.1",
          "",
          "",
          "GCF_033190095.1",
          "GCF_036528435.1",
          "",
          "",
          "GCF_038432215.1",
          "GCF_030130025.1",
          "GCF_022937705.1",
          "",
          "",
          "GCF_029847515.1",
          "",
          "GCF_000580815.1",
          "GCF_964206995.1",
          "",
          "",
          "GCF_029459775.1",
          "",
          "GCF_029847385.1",
          "",
          "GCF_030168265.1",
          "GCF_900476825.2",
          "GCF_012515875.1"
         ],
         "textfont": {
          "size": 7.5
         },
         "textposition": "middle right",
         "type": "scatter",
         "x": [
          0,
          1.249566549658775e-05,
          0.00011847828805446601,
          0.0003379393459762841,
          0.0008445524470272517,
          0.0108367295754327,
          0.009719875318621804,
          0.00044705124492531745,
          0.008887531022206066,
          0.00890287146764457,
          0.00023097655630452304,
          0.00030874548808756356,
          0.00040748723901665423,
          0.0005555536885461288,
          0.009193990635930526,
          0.0007136417411617306,
          0.008362596185957227,
          0.0016673372963662337,
          0.009479503039088835,
          0.009255771553643632,
          0.0007173129769871792,
          0.00923491590174492,
          0.0009422100522294395,
          0.003254303918428015,
          0.01016516422311552,
          0.004578343613740511,
          0.010181693557179412,
          0.011656893670301607,
          0.010364641186030865,
          0.0008260773699709732,
          0.0011039921748110595,
          0.009306431643297714,
          0.0011992027063244051,
          0.009155782068967909,
          0.002318623343680902,
          0.010369499718680905,
          0.009454946968680898,
          0.0011074625651308857,
          0.008711210403376624,
          0.008479614726885146,
          0.00048496543702148255,
          0.0008298777374006177,
          0.0013203498593314222,
          0.014197007793059872,
          0.011300791925602974,
          0.0013572056154698142,
          0.00968625884730742,
          0.009867252383632208,
          0.0007423062616423478,
          0.010057510592697032,
          0.0011191019305876594,
          0.0011612258168908515,
          0.009196650905486218,
          0.009400700728295484,
          0.010066278044284472,
          8.595683428049087e-05,
          0.0001546417526108028,
          0.0001880851000648737,
          0.00038873906870636566,
          0.009353852677511704,
          0.0042338254599010305,
          0.011208656709901028,
          0.010467694209901034,
          0.0005902592564233813,
          0.0025121551117293704,
          0.011031511640747227,
          0.002730148582711514,
          0.010997330663828544,
          0.011302066501594484,
          0.0015897384011173935,
          0.008889913778634177,
          0.009476763023600608,
          0.0004151527020317312,
          0.01055817900647509,
          0.0006362513975883741,
          0.0018805883152236639,
          0.011687627628124309,
          0.009432549002323019,
          0.0011033769799530832,
          0.0034454748447892455,
          0.010444515546008757,
          0.010596634143569735,
          0.00350660411511692,
          0.010764052476767412,
          0.009121155753466427,
          0.0002023137196916339,
          0.0002853756480211017,
          0.0005619192596020856,
          0.010252068300567631,
          0.009184970218636542,
          0.00041070078644011616,
          0.001086206959830472,
          0.009547125879667422,
          0.008678388039993521,
          0.0010006196130497625,
          0.001229405748107232,
          0.00969997314594377,
          0.010590038350270692,
          0.009137483477992292,
          0.0002320200637620687,
          0.00048720947998854235,
          0.0024899651473616552,
          0.00985830206800772,
          0.011452328226715592,
          0.0006281915567560548,
          0.00070528623656684,
          0.010327471605790579,
          0.0012678008673431011,
          0.010837275651569288,
          0.009950726083116913,
          0.0006739483417890202,
          0.0009790317792442392,
          0.0011830183393864433,
          0.002494201794527572,
          0.009830822856296573,
          0.009768380732758571,
          0.0016478348842453147,
          0.010036127928226795,
          0.0017716918402638346,
          0.009828039108699092,
          0.011250244571828577,
          0.0015520579144145347,
          0.0028690476750041346,
          0.010406093004396023,
          0.003562702345612247,
          0.010932896950711746,
          0.010855107740512748,
          0.0016906658100749353,
          0.001822473756134223,
          0.012920984970326939,
          0.002169106291941508,
          0.002270200629092131,
          0.003060490640595194,
          0.011043972022174145,
          0.009843509259016243,
          0.010680260617589067,
          0.005892874454790885,
          0.013310471371090433,
          0.011157177538491336,
          0.009843639114015647,
          0.002339068517615052,
          0.009948511842319194,
          0.0030658751929109095,
          0.01086142100476659,
          0.010298829381055228,
          0.0006154966479018062,
          0.0008328561111739008,
          0.0017801289647709057,
          0.00928821493575305,
          0.009353342993788764,
          0.0014752332575768937,
          0.010015569661921409,
          0.002335446853232379,
          0.010074715004429982,
          0.010050378702034775,
          0.001124320778379712,
          0.009679358202866448,
          0.0017655208538929741,
          0.0019735690989110873,
          0.010604503296827753,
          0.0020677849009944228,
          0.009323891967987882,
          0.009578177834000964,
          0.0020306476088748603,
          0.010648510890124863,
          0.010024484327624858,
          7.478120667636393e-05,
          0.00010985102839966652,
          0.00019214752660815917,
          0.0004106853631280381,
          0.0008157816659897874,
          0.010538868466119991,
          0.009163594865859584,
          0.009164689060266285,
          0.00033362219008828203,
          0.0004251202229894437,
          0.0006232510017108461,
          0.0009775934542778097,
          0.008635110124326509,
          0.00931807678422911,
          0.008603058549143882,
          0.0006964331942680435,
          0.008655775505831341,
          0.0010459408827047459,
          0.009107787752821938,
          0.009539294012587555,
          0.0005264038446871201,
          0.009131734097440483,
          0.000752573591933758,
          0.0010220130948081678,
          0.0014635095791831676,
          0.011719985751058162,
          0.010514933407308174,
          0.0016323166104331684,
          0.010415997481645279,
          0.010620235739221055,
          0.003965009089059348,
          0.010787426904479917,
          0.010891391273638779,
          0.0002663287420747181,
          0.0004745114704368034,
          0.01006861729013895,
          0.0010047556507346539,
          0.010293940587559496,
          0.0030250207139098104,
          0.011531506915832886,
          0.009547034511986737,
          0.0004364716881511112,
          0.0005725017988070018,
          0.0007654309451864148,
          0.0009007299978673844,
          0.002559130282431291,
          0.010423285999555575,
          0.01058317456530701,
          0.0009578547133034767,
          0.0014892588466782395,
          0.009273605468299863,
          0.009924212225056616,
          0.0019063005799287137,
          0.010931952240767864,
          0.011072348919089566,
          0.0008635409745366955,
          0.0024423980378959235,
          0.01076151385579716,
          0.004307332219994687,
          0.010324582664307486,
          0.011547381775681886,
          0.0010179081299274673,
          0.0012066935123665758,
          0.010722207536039391,
          0.0013632630824437614,
          0.0015391858548532995,
          0.0018586723818745116,
          0.010693800606733535,
          0.0039885941570154924,
          0.011293399569694927,
          0.011870988744336057,
          0.0017121118278320847,
          0.010414470295574022,
          0.010020853360090148,
          0.0015459168725342246,
          0.010979261648812634,
          0.0017488220962558142,
          0.002664335605630816,
          0.011241470589279073,
          0.01041790062198256,
          0.002964358586880813,
          0.01196387616714037,
          0.010239741006621256,
          0.001121442278738359,
          0.001263962398565215,
          0.010436839831290911,
          0.003094184965839522,
          0.009890988132175496,
          0.009313081799503548,
          0.0014506471589115022,
          0.01021349119001547,
          0.0024717031278075332,
          0.009050631442201477,
          0.010246474813413592,
          0.0009331256797713384,
          0.0015351892102810414,
          0.009387496534499799,
          0.009735981886062285,
          0.0029163371492616354,
          0.009962385204817188,
          0.004941189093706083,
          0.01122603471870609,
          0.012504843468706076,
          0.0005001153018604556,
          0.0017198497528492242,
          0.002160871398434542,
          0.011139307822947536,
          0.011617634973921548,
          0.001922678107263908,
          0.011845956870950036,
          0.012813899343577781,
          0.0009104933508716856,
          0.0022713693721932993,
          0.003814499616333929,
          0.011988908286677065,
          0.009689290945990792,
          0.010148439128052673,
          0.0010808048295500713,
          0.0011946984954571867,
          0.0015681705192667102,
          0.0043295952622765844,
          0.01149722070241743,
          0.011824569822135738,
          0.010499295776256839,
          0.009005826471647662,
          0.010009573663642957,
          0.00016429375980595723,
          0.0003237483995715773,
          0.0008898405830899871,
          0.010261507689835784,
          0.0011420609763441916,
          0.0024753266794691896,
          0.011189514436822123,
          0.011473338922116256,
          0.0024521702732191917,
          0.011184269294411724,
          0.01038837125202666,
          0.00040861539574066737,
          0.0007064764250604319,
          0.0011157036260771745,
          0.009828064734475613,
          0.008456442517678738,
          0.0013503242240436863,
          0.0018516944253004798,
          0.009412226492767364,
          0.008340362357833595,
          0.0017260852727868942,
          0.00902668745975543,
          0.002181358085818358,
          0.009135345485780245,
          0.0026132706858564723,
          0.01313705443067691,
          0.010402686941036039,
          0.0009955758507959054,
          0.002285102568774935,
          0.0034193963373761313,
          0.011154834905215332,
          0.00958245776953693,
          0.008836758800173738,
          0.010733349132816875,
          0.00039503092263738353,
          0.0008974406158491599,
          0.011199976018805034,
          0.0012739849003932837,
          0.005797105436873809,
          0.011772598467847267,
          0.0063744124059003536,
          0.012956904511163502,
          0.013640420300637203,
          0.00166584873891276,
          0.002982425760170028,
          0.011965898717222164,
          0.0033850340531178923,
          0.01151244386434885,
          0.004102861741886933,
          0.011499692783553596,
          0.005105505700220268,
          0.005570643425445499,
          0.011534661282588357,
          0.012194125568302641,
          0.012233917974995036,
          0.01087669046765549,
          0.0007762883604680879,
          0.001522256695312644,
          0.001693727464617911,
          0.0037017287527858524,
          0.009366643138561715,
          0.005475464367009988,
          0.01263141847812109,
          0.011239310255898886,
          0.01131802617644997,
          0.0031627734260073776,
          0.012595030204978723,
          0.011922216647036033,
          0.0008757769531137651,
          0.0016190140842382338,
          0.0022174328562509114,
          0.002797412044758976,
          0.011144993705024336,
          0.011174930384493617,
          0.01140690366774285,
          0.0032770953122255534,
          0.004267892175081769,
          0.013102528650612427,
          0.004404805699551111,
          0.011231008824551117,
          0.004888102574551105,
          0.014846539361080791,
          0.0054200157880214175,
          0.012047903400129033,
          0.011664128175913802,
          0.012645198449369338,
          0.0009783805019209376,
          0.001174553753177745,
          0.0012846389559083653,
          0.011911146659874562,
          0.0015828425800671684,
          0.001994597732460158,
          0.012831098116207954,
          0.00206225984871236,
          0.010784987566923561,
          0.004118407130501158,
          0.011122001616679048,
          0.004677962644323267,
          0.012340294038332481,
          0.010370331250314054,
          0.0023475397714241802,
          0.011118015775182094,
          0.0026178012676662667,
          0.0037453237168379497,
          0.010863945055221789,
          0.010177502378454112,
          0.003337453818494583,
          0.012717315680405572,
          0.004607441956583594,
          0.011212970776028041,
          0.012202813137139147,
          0.0013061714801346253,
          0.0016013763457136706,
          0.0017823941110131475,
          0.010540061568945838,
          0.003454726653080454,
          0.011551078024253918,
          0.011801075281906992,
          0.010384758580414195,
          0.0030331228645555804,
          0.004028810016389816,
          0.009765539152863241,
          0.01092678087991639,
          0.0038332857127213456,
          0.011375023058018376,
          0.010902348367424316,
          0.0012643267941211608,
          0.0014158284882129567,
          0.010430670932512726,
          0.0027957860439131866,
          0.010903708801681554,
          0.011698963286144821,
          0.0014740661156543663,
          0.011409761935448336,
          0.0017406077958603953,
          0.001958852623154934,
          0.01097230110498117,
          0.011197804141328697,
          0.0018418285935658566,
          0.002360177211802794,
          0.012611509447073494,
          0.012855844976532095,
          0.002105642475328919,
          0.00289272567053584,
          0.01241804381684265,
          0.011680607524229034,
          0.0024022217801219978,
          0.003150615544862562,
          0.011927114259580304,
          0.010760716830144821,
          0.01081102801538143,
          0.0002537356626331803,
          0.0005849264042282821,
          0.009674864165969741,
          0.0007674886424868207,
          0.009880127635599485,
          0.009072349649374156,
          0.0004944308585380808,
          0.0006841966539546612,
          0.008640707782625491,
          0.000965060525283829,
          0.009636259953637491,
          0.0012088110969301678,
          0.00832908423961885,
          0.009117037954241488,
          0.0091845775631215
         ],
         "y": [
          95.86112976074219,
          -33.19961547851564,
          -55.76132812500001,
          -65.75000000000001,
          -67.05000000000001,
          -67.69999999999999,
          -66.40000000000003,
          -64.45000000000002,
          -65.10000000000002,
          -63.80000000000001,
          -45.77265625000001,
          -52.851562500000014,
          -58.39687500000001,
          -61.362500000000004,
          -62.5,
          -60.22500000000001,
          -61.19999999999999,
          -59.25000000000003,
          -59.900000000000034,
          -58.60000000000002,
          -55.43125000000001,
          -57.30000000000001,
          -53.562500000000014,
          -55.025000000000006,
          -56,
          -54.05000000000001,
          -54.69999999999999,
          -53.400000000000034,
          -52.10000000000002,
          -47.30625000000001,
          -49.66250000000001,
          -50.80000000000001,
          -48.525000000000006,
          -49.5,
          -47.55000000000001,
          -48.19999999999999,
          -46.900000000000034,
          -44.95000000000002,
          -45.60000000000002,
          -44.30000000000001,
          -38.69375000000001,
          -41.05000000000001,
          -42.349999999999994,
          -43,
          -41.69999999999999,
          -39.75000000000003,
          -40.400000000000034,
          -39.10000000000002,
          -36.33750000000001,
          -37.80000000000001,
          -34.875000000000014,
          -35.849999999999994,
          -36.5,
          -35.19999999999999,
          -33.900000000000034,
          -10.637902832031259,
          -24.515625000000014,
          -28.78125000000001,
          -31.625000000000014,
          -32.60000000000002,
          -30.650000000000006,
          -31.30000000000001,
          -30,
          -25.937500000000007,
          -27.72500000000001,
          -28.69999999999999,
          -26.75000000000003,
          -27.400000000000034,
          -26.100000000000023,
          -24.150000000000006,
          -24.80000000000001,
          -23.5,
          -20.250000000000014,
          -22.200000000000017,
          -18.30000000000001,
          -20.250000000000014,
          -20.900000000000006,
          -19.600000000000023,
          -16.35000000000001,
          -17.650000000000006,
          -18.30000000000001,
          -17,
          -15.050000000000011,
          -15.700000000000017,
          -14.400000000000006,
          3.2398193359374954,
          -10.256250000000005,
          -12.450000000000003,
          -13.099999999999994,
          -11.800000000000011,
          -8.062500000000007,
          -9.850000000000009,
          -10.5,
          -9.200000000000017,
          -6.275000000000006,
          -7.25,
          -7.900000000000006,
          -6.599999999999994,
          -5.300000000000011,
          16.735888671874996,
          2.2499023437499934,
          -3.3500000000000085,
          -4,
          -2.700000000000017,
          7.849804687499995,
          -0.42500000000000426,
          -1.4000000000000057,
          0.5499999999999972,
          -0.09999999999999432,
          1.1999999999999886,
          16.124609374999995,
          9.274218749999994,
          4.612499999999994,
          3.1499999999999915,
          2.5,
          3.799999999999983,
          6.074999999999996,
          5.099999999999994,
          7.049999999999997,
          6.400000000000006,
          7.699999999999989,
          13.935937499999994,
          9.974999999999994,
          9,
          10.949999999999989,
          10.299999999999983,
          11.599999999999994,
          17.896874999999994,
          15.09375,
          12.900000000000006,
          17.287499999999994,
          15.824999999999989,
          14.849999999999994,
          14.199999999999989,
          15.5,
          16.799999999999983,
          18.75,
          18.099999999999994,
          19.400000000000006,
          20.69999999999999,
          22.974999999999994,
          22,
          23.94999999999999,
          23.299999999999983,
          24.599999999999994,
          31.221874999999997,
          28.012499999999996,
          26.549999999999997,
          25.900000000000006,
          27.19999999999999,
          29.474999999999994,
          28.5,
          30.44999999999999,
          29.799999999999983,
          31.099999999999994,
          34.43125,
          32.400000000000006,
          36.46249999999999,
          34.67499999999999,
          33.69999999999999,
          35.64999999999999,
          35,
          36.29999999999998,
          38.25,
          37.599999999999994,
          38.900000000000006,
          104.58015136718748,
          63.8599365234375,
          46.37499999999999,
          41.82499999999999,
          40.849999999999994,
          40.19999999999999,
          41.5,
          42.79999999999998,
          50.925,
          47.349999999999994,
          45.724999999999994,
          44.75,
          44.099999999999994,
          45.400000000000006,
          46.69999999999999,
          48.974999999999994,
          48,
          49.94999999999999,
          49.29999999999998,
          50.599999999999994,
          54.5,
          51.900000000000006,
          57.099999999999994,
          55.14999999999999,
          53.849999999999994,
          53.19999999999999,
          54.5,
          56.44999999999999,
          55.79999999999998,
          57.099999999999994,
          59.05,
          58.400000000000006,
          59.69999999999999,
          81.344873046875,
          62.137499999999996,
          61,
          63.27499999999999,
          62.29999999999998,
          64.25,
          63.599999999999994,
          64.9,
          100.55224609375,
          88.65292968749999,
          75.193359375,
          68.8,
          66.85,
          66.19999999999999,
          67.5,
          70.75,
          69.44999999999999,
          68.79999999999998,
          70.1,
          72.05,
          71.4,
          72.69999999999999,
          81.58671874999999,
          74.975,
          74,
          75.94999999999999,
          75.29999999999998,
          76.6,
          88.19843749999998,
          81.271875,
          77.9,
          84.64374999999998,
          81.96249999999999,
          80.17499999999998,
          79.19999999999999,
          81.14999999999999,
          80.5,
          81.79999999999998,
          83.75,
          83.1,
          84.4,
          87.32499999999999,
          85.69999999999999,
          88.94999999999999,
          87.64999999999999,
          87,
          88.29999999999998,
          90.25,
          89.6,
          90.9,
          95.12499999999999,
          93.17499999999998,
          92.19999999999999,
          94.14999999999999,
          93.5,
          94.79999999999998,
          97.07499999999999,
          96.1,
          98.05,
          97.4,
          98.69999999999999,
          102.11249999999998,
          100.64999999999999,
          100,
          101.29999999999998,
          103.57499999999999,
          102.6,
          104.54999999999998,
          103.89999999999999,
          105.19999999999999,
          112.4515625,
          108.45,
          107.15,
          106.5,
          107.8,
          109.75,
          109.1,
          110.39999999999999,
          116.453125,
          113.32499999999999,
          112.35,
          111.7,
          113,
          114.3,
          119.58125,
          118.3625,
          117.225,
          116.25,
          115.6,
          116.89999999999999,
          118.2,
          119.5,
          120.8,
          145.30036621093748,
          130.13359375,
          123.725,
          122.1,
          125.35,
          124.05,
          123.39999999999999,
          124.7,
          126.65,
          126,
          127.3,
          136.5421875,
          131.321875,
          129.25,
          128.6,
          129.89999999999998,
          133.39375,
          131.85,
          131.2,
          132.5,
          134.9375,
          133.8,
          136.075,
          135.1,
          137.04999999999998,
          136.39999999999998,
          137.7,
          141.7625,
          140.625,
          139.65,
          139,
          140.3,
          141.6,
          142.89999999999998,
          160.46713867187498,
          147.211328125,
          144.2,
          150.22265625,
          146.475,
          145.5,
          147.45,
          146.8,
          148.1,
          153.97031249999998,
          150.74062499999997,
          149.39999999999998,
          152.08124999999998,
          150.7,
          153.46249999999998,
          152,
          154.92499999999998,
          153.95,
          153.3,
          154.6,
          155.89999999999998,
          157.2,
          173.72294921875,
          162.64375,
          160.9375,
          159.475,
          158.5,
          160.45,
          159.8,
          161.1,
          162.39999999999998,
          164.35,
          163.7,
          165,
          184.8021484375,
          170.9921875,
          167.925,
          166.95,
          166.3,
          167.6,
          168.9,
          174.059375,
          171.41875,
          170.2,
          172.6375,
          171.5,
          173.775,
          172.8,
          174.75,
          174.1,
          175.4,
          176.7,
          198.612109375,
          189.70000000000002,
          181.00625000000002,
          178,
          184.01250000000002,
          180.51875,
          179.3,
          181.7375,
          180.6,
          182.875,
          181.9,
          183.85,
          183.2,
          184.5,
          187.50625000000002,
          185.8,
          189.2125,
          187.75,
          187.1,
          188.4,
          190.675,
          189.7,
          191.65,
          191,
          192.3,
          198.39375,
          196.0375,
          194.575,
          193.6,
          195.55,
          194.9,
          196.2,
          197.5,
          200.75,
          199.45,
          198.8,
          200.1,
          202.05,
          201.4,
          202.7,
          207.52421875,
          204.975,
          204,
          205.95,
          205.3,
          206.6,
          210.0734375,
          207.9,
          212.246875,
          209.85,
          209.2,
          210.5,
          214.64375,
          212.45,
          211.8,
          213.1,
          216.8375,
          215.05,
          214.4,
          215.7,
          218.625,
          217.65,
          217,
          218.3,
          219.6,
          224.921875,
          221.875,
          220.9,
          222.85,
          222.2,
          223.5,
          227.96875,
          225.9375,
          224.8,
          227.075,
          226.1,
          228.05,
          227.4,
          228.7,
          230
         ]
        }
       ],
       "layout": {
        "autosize": true,
        "dragmode": "lasso",
        "font": {
         "family": "Balto",
         "size": 14
        },
        "hovermode": "closest",
        "legend": {
         "x": 0,
         "y": 1
        },
        "margin": {
         "b": 0,
         "l": 0,
         "r": 0,
         "t": 0
        },
        "paper_bgcolor": "rgb(248,248,248)",
        "plot_bgcolor": "rgb(248,248,248)",
        "shapes": [
         {
          "layer": "below",
          "line": {
           "color": "rgb(25,25,25)",
           "width": 1
          },
          "type": "line",
          "x0": 0,
          "x1": 0,
          "y0": 95.86112976074219,
          "y1": 95.86112976074219
         },
         {
          "layer": "below",
          "line": {
           "color": "rgb(25,25,25)",
           "width": 1
          },
          "type": "line",
          "x0": 0,
          "x1": 0,
          "y0": 224.921875,
          "y1": -33.19961547851564
         },
         {
          "layer": "below",
          "line": {
           "color": "rgb(15,15,15)",
           "width": 1
          },
          "type": "line",
          "x0": 0,
          "x1": 1.249566549658775e-05,
          "y0": -33.19961547851564,
          "y1": -33.19961547851564
         },
         {
          "layer": "below",
          "line": {
           "color": "rgb(15,15,15)",
           "width": 1
          },
          "type": "line",
          "x0": 1.249566549658775e-05,
          "x1": 1.249566549658775e-05,
          "y0": -10.637902832031259,
          "y1": -55.76132812500001
         },
         {
          "layer": "below",
          "line": {
           "color": "rgb(15,15,15)",
           "width": 1
          },
          "type": "line",
          "x0": 1.249566549658775e-05,
          "x1": 0.00011847828805446601,
          "y0": -55.76132812500001,
          "y1": -55.76132812500001
         },
         {
          "layer": "below",
          "line": {
           "color": "rgb(15,15,15)",
           "width": 1
          },
          "type": "line",
          "x0": 0.00011847828805446601,
          "x1": 0.00011847828805446601,
          "y0": -45.77265625000001,
          "y1": -65.75000000000001
         },
         {
          "layer": "below",
          "line": {
           "color": "rgb(15,15,15)",
           "width": 1
          },
          "type": "line",
          "x0": 0.00011847828805446601,
          "x1": 0.0003379393459762841,
          "y0": -65.75000000000001,
          "y1": -65.75000000000001
         },
         {
          "layer": "below",
          "line": {
           "color": "rgb(15,15,15)",
           "width": 1
          },
          "type": "line",
          "x0": 0.0003379393459762841,
          "x1": 0.0003379393459762841,
          "y0": -64.45000000000002,
          "y1": -67.05000000000001
         },
         {
          "layer": "below",
          "line": {
           "color": "rgb(15,15,15)",
           "width": 1
          },
          "type": "line",
          "x0": 0.0003379393459762841,
          "x1": 0.0008445524470272517,
          "y0": -67.05000000000001,
          "y1": -67.05000000000001
         },
         {
          "layer": "below",
          "line": {
           "color": "rgb(15,15,15)",
           "width": 1
          },
          "type": "line",
          "x0": 0.0008445524470272517,
          "x1": 0.0008445524470272517,
          "y0": -66.40000000000003,
          "y1": -67.69999999999999
         },
         {
          "layer": "below",
          "line": {
           "color": "rgb(15,15,15)",
           "width": 1
          },
          "type": "line",
          "x0": 0.0008445524470272517,
          "x1": 0.0108367295754327,
          "y0": -67.69999999999999,
          "y1": -67.69999999999999
         },
         {
          "layer": "below",
          "line": {
           "color": "rgb(15,15,15)",
           "width": 1
          },
          "type": "line",
          "x0": 0.0008445524470272517,
          "x1": 0.009719875318621804,
          "y0": -66.40000000000003,
          "y1": -66.40000000000003
         },
         {
          "layer": "below",
          "line": {
           "color": "rgb(15,15,15)",
           "width": 1
          },
          "type": "line",
          "x0": 0.0003379393459762841,
          "x1": 0.00044705124492531745,
          "y0": -64.45000000000002,
          "y1": -64.45000000000002
         },
         {
          "layer": "below",
          "line": {
           "color": "rgb(15,15,15)",
           "width": 1
          },
          "type": "line",
          "x0": 0.00044705124492531745,
          "x1": 0.00044705124492531745,
          "y0": -63.80000000000001,
          "y1": -65.10000000000002
         },
         {
          "layer": "below",
          "line": {
           "color": "rgb(15,15,15)",
           "width": 1
          },
          "type": "line",
          "x0": 0.00044705124492531745,
          "x1": 0.008887531022206066,
          "y0": -65.10000000000002,
          "y1": -65.10000000000002
         },
         {
          "layer": "below",
          "line": {
           "color": "rgb(15,15,15)",
           "width": 1
          },
          "type": "line",
          "x0": 0.00044705124492531745,
          "x1": 0.00890287146764457,
          "y0": -63.80000000000001,
          "y1": -63.80000000000001
         },
         {
          "layer": "below",
          "line": {
           "color": "rgb(15,15,15)",
           "width": 1
          },
          "type": "line",
          "x0": 0.00011847828805446601,
          "x1": 0.00023097655630452304,
          "y0": -45.77265625000001,
          "y1": -45.77265625000001
         },
         {
          "layer": "below",
          "line": {
           "color": "rgb(15,15,15)",
           "width": 1
          },
          "type": "line",
          "x0": 0.00023097655630452304,
          "x1": 0.00023097655630452304,
          "y0": -38.69375000000001,
          "y1": -52.851562500000014
         },
         {
          "layer": "below",
          "line": {
           "color": "rgb(15,15,15)",
           "width": 1
          },
          "type": "line",
          "x0": 0.00023097655630452304,
          "x1": 0.00030874548808756356,
          "y0": -52.851562500000014,
          "y1": -52.851562500000014
         },
         {
          "layer": "below",
          "line": {
           "color": "rgb(15,15,15)",
           "width": 1
          },
          "type": "line",
          "x0": 0.00030874548808756356,
          "x1": 0.00030874548808756356,
          "y0": -47.30625000000001,
          "y1": -58.39687500000001
         },
         {
          "layer": "below",
          "line": {
           "color": "rgb(15,15,15)",
           "width": 1
          },
          "type": "line",
          "x0": 0.00030874548808756356,
          "x1": 0.00040748723901665423,
          "y0": -58.39687500000001,
          "y1": -58.39687500000001
         },
         {
          "layer": "below",
          "line": {
           "color": "rgb(15,15,15)",
           "width": 1
          },
          "type": "line",
          "x0": 0.00040748723901665423,
          "x1": 0.00040748723901665423,
          "y0": -55.43125000000001,
          "y1": -61.362500000000004
         },
         {
          "layer": "below",
          "line": {
           "color": "rgb(15,15,15)",
           "width": 1
          },
          "type": "line",
          "x0": 0.00040748723901665423,
          "x1": 0.0005555536885461288,
          "y0": -61.362500000000004,
          "y1": -61.362500000000004
         },
         {
          "layer": "below",
          "line": {
           "color": "rgb(15,15,15)",
           "width": 1
          },
          "type": "line",
          "x0": 0.0005555536885461288,
          "x1": 0.0005555536885461288,
          "y0": -60.22500000000001,
          "y1": -62.5
         },
         {
          "layer": "below",
          "line": {
           "color": "rgb(15,15,15)",
           "width": 1
          },
          "type": "line",
          "x0": 0.0005555536885461288,
          "x1": 0.009193990635930526,
          "y0": -62.5,
          "y1": -62.5
         },
         {
          "layer": "below",
          "line": {
           "color": "rgb(15,15,15)",
           "width": 1
          },
          "type": "line",
          "x0": 0.0005555536885461288,
          "x1": 0.0007136417411617306,
          "y0": -60.22500000000001,
          "y1": -60.22500000000001
         },
         {
          "layer": "below",
          "line": {
           "color": "rgb(15,15,15)",
           "width": 1
          },
          "type": "line",
          "x0": 0.0007136417411617306,
          "x1": 0.0007136417411617306,
          "y0": -59.25000000000003,
          "y1": -61.19999999999999
         },
         {
          "layer": "below",
          "line": {
           "color": "rgb(15,15,15)",
           "width": 1
          },
          "type": "line",
          "x0": 0.0007136417411617306,
          "x1": 0.008362596185957227,
          "y0": -61.19999999999999,
          "y1": -61.19999999999999
         },
         {
          "layer": "below",
          "line": {
           "color": "rgb(15,15,15)",
           "width": 1
          },
          "type": "line",
          "x0": 0.0007136417411617306,
          "x1": 0.0016673372963662337,
          "y0": -59.25000000000003,
          "y1": -59.25000000000003
         },
         {
          "layer": "below",
          "line": {
           "color": "rgb(15,15,15)",
           "width": 1
          },
          "type": "line",
          "x0": 0.0016673372963662337,
          "x1": 0.0016673372963662337,
          "y0": -58.60000000000002,
          "y1": -59.900000000000034
         },
         {
          "layer": "below",
          "line": {
           "color": "rgb(15,15,15)",
           "width": 1
          },
          "type": "line",
          "x0": 0.0016673372963662337,
          "x1": 0.009479503039088835,
          "y0": -59.900000000000034,
          "y1": -59.900000000000034
         },
         {
          "layer": "below",
          "line": {
           "color": "rgb(15,15,15)",
           "width": 1
          },
          "type": "line",
          "x0": 0.0016673372963662337,
          "x1": 0.009255771553643632,
          "y0": -58.60000000000002,
          "y1": -58.60000000000002
         },
         {
          "layer": "below",
          "line": {
           "color": "rgb(15,15,15)",
           "width": 1
          },
          "type": "line",
          "x0": 0.00040748723901665423,
          "x1": 0.0007173129769871792,
          "y0": -55.43125000000001,
          "y1": -55.43125000000001
         },
         {
          "layer": "below",
          "line": {
           "color": "rgb(15,15,15)",
           "width": 1
          },
          "type": "line",
          "x0": 0.0007173129769871792,
          "x1": 0.0007173129769871792,
          "y0": -53.562500000000014,
          "y1": -57.30000000000001
         },
         {
          "layer": "below",
          "line": {
           "color": "rgb(15,15,15)",
           "width": 1
          },
          "type": "line",
          "x0": 0.0007173129769871792,
          "x1": 0.00923491590174492,
          "y0": -57.30000000000001,
          "y1": -57.30000000000001
         },
         {
          "layer": "below",
          "line": {
           "color": "rgb(15,15,15)",
           "width": 1
          },
          "type": "line",
          "x0": 0.0007173129769871792,
          "x1": 0.0009422100522294395,
          "y0": -53.562500000000014,
          "y1": -53.562500000000014
         },
         {
          "layer": "below",
          "line": {
           "color": "rgb(15,15,15)",
           "width": 1
          },
          "type": "line",
          "x0": 0.0009422100522294395,
          "x1": 0.0009422100522294395,
          "y0": -52.10000000000002,
          "y1": -55.025000000000006
         },
         {
          "layer": "below",
          "line": {
           "color": "rgb(15,15,15)",
           "width": 1
          },
          "type": "line",
          "x0": 0.0009422100522294395,
          "x1": 0.003254303918428015,
          "y0": -55.025000000000006,
          "y1": -55.025000000000006
         },
         {
          "layer": "below",
          "line": {
           "color": "rgb(15,15,15)",
           "width": 1
          },
          "type": "line",
          "x0": 0.003254303918428015,
          "x1": 0.003254303918428015,
          "y0": -54.05000000000001,
          "y1": -56
         },
         {
          "layer": "below",
          "line": {
           "color": "rgb(15,15,15)",
           "width": 1
          },
          "type": "line",
          "x0": 0.003254303918428015,
          "x1": 0.01016516422311552,
          "y0": -56,
          "y1": -56
         },
         {
          "layer": "below",
          "line": {
           "color": "rgb(15,15,15)",
           "width": 1
          },
          "type": "line",
          "x0": 0.003254303918428015,
          "x1": 0.004578343613740511,
          "y0": -54.05000000000001,
          "y1": -54.05000000000001
         },
         {
          "layer": "below",
          "line": {
           "color": "rgb(15,15,15)",
           "width": 1
          },
          "type": "line",
          "x0": 0.004578343613740511,
          "x1": 0.004578343613740511,
          "y0": -53.400000000000034,
          "y1": -54.69999999999999
         },
         {
          "layer": "below",
          "line": {
           "color": "rgb(15,15,15)",
           "width": 1
          },
          "type": "line",
          "x0": 0.004578343613740511,
          "x1": 0.010181693557179412,
          "y0": -54.69999999999999,
          "y1": -54.69999999999999
         },
         {
          "layer": "below",
          "line": {
           "color": "rgb(15,15,15)",
           "width": 1
          },
          "type": "line",
          "x0": 0.004578343613740511,
          "x1": 0.011656893670301607,
          "y0": -53.400000000000034,
          "y1": -53.400000000000034
         },
         {
          "layer": "below",
          "line": {
           "color": "rgb(15,15,15)",
           "width": 1
          },
          "type": "line",
          "x0": 0.0009422100522294395,
          "x1": 0.010364641186030865,
          "y0": -52.10000000000002,
          "y1": -52.10000000000002
         },
         {
          "layer": "below",
          "line": {
           "color": "rgb(15,15,15)",
           "width": 1
          },
          "type": "line",
          "x0": 0.00030874548808756356,
          "x1": 0.0008260773699709732,
          "y0": -47.30625000000001,
          "y1": -47.30625000000001
         },
         {
          "layer": "below",
          "line": {
           "color": "rgb(15,15,15)",
           "width": 1
          },
          "type": "line",
          "x0": 0.0008260773699709732,
          "x1": 0.0008260773699709732,
          "y0": -44.95000000000002,
          "y1": -49.66250000000001
         },
         {
          "layer": "below",
          "line": {
           "color": "rgb(15,15,15)",
           "width": 1
          },
          "type": "line",
          "x0": 0.0008260773699709732,
          "x1": 0.0011039921748110595,
          "y0": -49.66250000000001,
          "y1": -49.66250000000001
         },
         {
          "layer": "below",
          "line": {
           "color": "rgb(15,15,15)",
           "width": 1
          },
          "type": "line",
          "x0": 0.0011039921748110595,
          "x1": 0.0011039921748110595,
          "y0": -48.525000000000006,
          "y1": -50.80000000000001
         },
         {
          "layer": "below",
          "line": {
           "color": "rgb(15,15,15)",
           "width": 1
          },
          "type": "line",
          "x0": 0.0011039921748110595,
          "x1": 0.009306431643297714,
          "y0": -50.80000000000001,
          "y1": -50.80000000000001
         },
         {
          "layer": "below",
          "line": {
           "color": "rgb(15,15,15)",
           "width": 1
          },
          "type": "line",
          "x0": 0.0011039921748110595,
          "x1": 0.0011992027063244051,
          "y0": -48.525000000000006,
          "y1": -48.525000000000006
         },
         {
          "layer": "below",
          "line": {
           "color": "rgb(15,15,15)",
           "width": 1
          },
          "type": "line",
          "x0": 0.0011992027063244051,
          "x1": 0.0011992027063244051,
          "y0": -47.55000000000001,
          "y1": -49.5
         },
         {
          "layer": "below",
          "line": {
           "color": "rgb(15,15,15)",
           "width": 1
          },
          "type": "line",
          "x0": 0.0011992027063244051,
          "x1": 0.009155782068967909,
          "y0": -49.5,
          "y1": -49.5
         },
         {
          "layer": "below",
          "line": {
           "color": "rgb(15,15,15)",
           "width": 1
          },
          "type": "line",
          "x0": 0.0011992027063244051,
          "x1": 0.002318623343680902,
          "y0": -47.55000000000001,
          "y1": -47.55000000000001
         },
         {
          "layer": "below",
          "line": {
           "color": "rgb(15,15,15)",
           "width": 1
          },
          "type": "line",
          "x0": 0.002318623343680902,
          "x1": 0.002318623343680902,
          "y0": -46.900000000000034,
          "y1": -48.19999999999999
         },
         {
          "layer": "below",
          "line": {
           "color": "rgb(15,15,15)",
           "width": 1
          },
          "type": "line",
          "x0": 0.002318623343680902,
          "x1": 0.010369499718680905,
          "y0": -48.19999999999999,
          "y1": -48.19999999999999
         },
         {
          "layer": "below",
          "line": {
           "color": "rgb(15,15,15)",
           "width": 1
          },
          "type": "line",
          "x0": 0.002318623343680902,
          "x1": 0.009454946968680898,
          "y0": -46.900000000000034,
          "y1": -46.900000000000034
         },
         {
          "layer": "below",
          "line": {
           "color": "rgb(15,15,15)",
           "width": 1
          },
          "type": "line",
          "x0": 0.0008260773699709732,
          "x1": 0.0011074625651308857,
          "y0": -44.95000000000002,
          "y1": -44.95000000000002
         },
         {
          "layer": "below",
          "line": {
           "color": "rgb(15,15,15)",
           "width": 1
          },
          "type": "line",
          "x0": 0.0011074625651308857,
          "x1": 0.0011074625651308857,
          "y0": -44.30000000000001,
          "y1": -45.60000000000002
         },
         {
          "layer": "below",
          "line": {
           "color": "rgb(15,15,15)",
           "width": 1
          },
          "type": "line",
          "x0": 0.0011074625651308857,
          "x1": 0.008711210403376624,
          "y0": -45.60000000000002,
          "y1": -45.60000000000002
         },
         {
          "layer": "below",
          "line": {
           "color": "rgb(15,15,15)",
           "width": 1
          },
          "type": "line",
          "x0": 0.0011074625651308857,
          "x1": 0.008479614726885146,
          "y0": -44.30000000000001,
          "y1": -44.30000000000001
         },
         {
          "layer": "below",
          "line": {
           "color": "rgb(15,15,15)",
           "width": 1
          },
          "type": "line",
          "x0": 0.00023097655630452304,
          "x1": 0.00048496543702148255,
          "y0": -38.69375000000001,
          "y1": -38.69375000000001
         },
         {
          "layer": "below",
          "line": {
           "color": "rgb(15,15,15)",
           "width": 1
          },
          "type": "line",
          "x0": 0.00048496543702148255,
          "x1": 0.00048496543702148255,
          "y0": -36.33750000000001,
          "y1": -41.05000000000001
         },
         {
          "layer": "below",
          "line": {
           "color": "rgb(15,15,15)",
           "width": 1
          },
          "type": "line",
          "x0": 0.00048496543702148255,
          "x1": 0.0008298777374006177,
          "y0": -41.05000000000001,
          "y1": -41.05000000000001
         },
         {
          "layer": "below",
          "line": {
           "color": "rgb(15,15,15)",
           "width": 1
          },
          "type": "line",
          "x0": 0.0008298777374006177,
          "x1": 0.0008298777374006177,
          "y0": -39.75000000000003,
          "y1": -42.349999999999994
         },
         {
          "layer": "below",
          "line": {
           "color": "rgb(15,15,15)",
           "width": 1
          },
          "type": "line",
          "x0": 0.0008298777374006177,
          "x1": 0.0013203498593314222,
          "y0": -42.349999999999994,
          "y1": -42.349999999999994
         },
         {
          "layer": "below",
          "line": {
           "color": "rgb(15,15,15)",
           "width": 1
          },
          "type": "line",
          "x0": 0.0013203498593314222,
          "x1": 0.0013203498593314222,
          "y0": -41.69999999999999,
          "y1": -43
         },
         {
          "layer": "below",
          "line": {
           "color": "rgb(15,15,15)",
           "width": 1
          },
          "type": "line",
          "x0": 0.0013203498593314222,
          "x1": 0.014197007793059872,
          "y0": -43,
          "y1": -43
         },
         {
          "layer": "below",
          "line": {
           "color": "rgb(15,15,15)",
           "width": 1
          },
          "type": "line",
          "x0": 0.0013203498593314222,
          "x1": 0.011300791925602974,
          "y0": -41.69999999999999,
          "y1": -41.69999999999999
         },
         {
          "layer": "below",
          "line": {
           "color": "rgb(15,15,15)",
           "width": 1
          },
          "type": "line",
          "x0": 0.0008298777374006177,
          "x1": 0.0013572056154698142,
          "y0": -39.75000000000003,
          "y1": -39.75000000000003
         },
         {
          "layer": "below",
          "line": {
           "color": "rgb(15,15,15)",
           "width": 1
          },
          "type": "line",
          "x0": 0.0013572056154698142,
          "x1": 0.0013572056154698142,
          "y0": -39.10000000000002,
          "y1": -40.400000000000034
         },
         {
          "layer": "below",
          "line": {
           "color": "rgb(15,15,15)",
           "width": 1
          },
          "type": "line",
          "x0": 0.0013572056154698142,
          "x1": 0.00968625884730742,
          "y0": -40.400000000000034,
          "y1": -40.400000000000034
         },
         {
          "layer": "below",
          "line": {
           "color": "rgb(15,15,15)",
           "width": 1
          },
          "type": "line",
          "x0": 0.0013572056154698142,
          "x1": 0.009867252383632208,
          "y0": -39.10000000000002,
          "y1": -39.10000000000002
         },
         {
          "layer": "below",
          "line": {
           "color": "rgb(15,15,15)",
           "width": 1
          },
          "type": "line",
          "x0": 0.00048496543702148255,
          "x1": 0.0007423062616423478,
          "y0": -36.33750000000001,
          "y1": -36.33750000000001
         },
         {
          "layer": "below",
          "line": {
           "color": "rgb(15,15,15)",
           "width": 1
          },
          "type": "line",
          "x0": 0.0007423062616423478,
          "x1": 0.0007423062616423478,
          "y0": -34.875000000000014,
          "y1": -37.80000000000001
         },
         {
          "layer": "below",
          "line": {
           "color": "rgb(15,15,15)",
           "width": 1
          },
          "type": "line",
          "x0": 0.0007423062616423478,
          "x1": 0.010057510592697032,
          "y0": -37.80000000000001,
          "y1": -37.80000000000001
         },
         {
          "layer": "below",
          "line": {
           "color": "rgb(15,15,15)",
           "width": 1
          },
          "type": "line",
          "x0": 0.0007423062616423478,
          "x1": 0.0011191019305876594,
          "y0": -34.875000000000014,
          "y1": -34.875000000000014
         },
         {
          "layer": "below",
          "line": {
           "color": "rgb(15,15,15)",
           "width": 1
          },
          "type": "line",
          "x0": 0.0011191019305876594,
          "x1": 0.0011191019305876594,
          "y0": -33.900000000000034,
          "y1": -35.849999999999994
         },
         {
          "layer": "below",
          "line": {
           "color": "rgb(15,15,15)",
           "width": 1
          },
          "type": "line",
          "x0": 0.0011191019305876594,
          "x1": 0.0011612258168908515,
          "y0": -35.849999999999994,
          "y1": -35.849999999999994
         },
         {
          "layer": "below",
          "line": {
           "color": "rgb(15,15,15)",
           "width": 1
          },
          "type": "line",
          "x0": 0.0011612258168908515,
          "x1": 0.0011612258168908515,
          "y0": -35.19999999999999,
          "y1": -36.5
         },
         {
          "layer": "below",
          "line": {
           "color": "rgb(15,15,15)",
           "width": 1
          },
          "type": "line",
          "x0": 0.0011612258168908515,
          "x1": 0.009196650905486218,
          "y0": -36.5,
          "y1": -36.5
         },
         {
          "layer": "below",
          "line": {
           "color": "rgb(15,15,15)",
           "width": 1
          },
          "type": "line",
          "x0": 0.0011612258168908515,
          "x1": 0.009400700728295484,
          "y0": -35.19999999999999,
          "y1": -35.19999999999999
         },
         {
          "layer": "below",
          "line": {
           "color": "rgb(15,15,15)",
           "width": 1
          },
          "type": "line",
          "x0": 0.0011191019305876594,
          "x1": 0.010066278044284472,
          "y0": -33.900000000000034,
          "y1": -33.900000000000034
         },
         {
          "layer": "below",
          "line": {
           "color": "rgb(15,15,15)",
           "width": 1
          },
          "type": "line",
          "x0": 1.249566549658775e-05,
          "x1": 8.595683428049087e-05,
          "y0": -10.637902832031259,
          "y1": -10.637902832031259
         },
         {
          "layer": "below",
          "line": {
           "color": "rgb(15,15,15)",
           "width": 1
          },
          "type": "line",
          "x0": 8.595683428049087e-05,
          "x1": 8.595683428049087e-05,
          "y0": 3.2398193359374954,
          "y1": -24.515625000000014
         },
         {
          "layer": "below",
          "line": {
           "color": "rgb(15,15,15)",
           "width": 1
          },
          "type": "line",
          "x0": 8.595683428049087e-05,
          "x1": 0.0001546417526108028,
          "y0": -24.515625000000014,
          "y1": -24.515625000000014
         },
         {
          "layer": "below",
          "line": {
           "color": "rgb(15,15,15)",
           "width": 1
          },
          "type": "line",
          "x0": 0.0001546417526108028,
          "x1": 0.0001546417526108028,
          "y0": -20.250000000000014,
          "y1": -28.78125000000001
         },
         {
          "layer": "below",
          "line": {
           "color": "rgb(15,15,15)",
           "width": 1
          },
          "type": "line",
          "x0": 0.0001546417526108028,
          "x1": 0.0001880851000648737,
          "y0": -28.78125000000001,
          "y1": -28.78125000000001
         },
         {
          "layer": "below",
          "line": {
           "color": "rgb(15,15,15)",
           "width": 1
          },
          "type": "line",
          "x0": 0.0001880851000648737,
          "x1": 0.0001880851000648737,
          "y0": -25.937500000000007,
          "y1": -31.625000000000014
         },
         {
          "layer": "below",
          "line": {
           "color": "rgb(15,15,15)",
           "width": 1
          },
          "type": "line",
          "x0": 0.0001880851000648737,
          "x1": 0.00038873906870636566,
          "y0": -31.625000000000014,
          "y1": -31.625000000000014
         },
         {
          "layer": "below",
          "line": {
           "color": "rgb(15,15,15)",
           "width": 1
          },
          "type": "line",
          "x0": 0.00038873906870636566,
          "x1": 0.00038873906870636566,
          "y0": -30.650000000000006,
          "y1": -32.60000000000002
         },
         {
          "layer": "below",
          "line": {
           "color": "rgb(15,15,15)",
           "width": 1
          },
          "type": "line",
          "x0": 0.00038873906870636566,
          "x1": 0.009353852677511704,
          "y0": -32.60000000000002,
          "y1": -32.60000000000002
         },
         {
          "layer": "below",
          "line": {
           "color": "rgb(15,15,15)",
           "width": 1
          },
          "type": "line",
          "x0": 0.00038873906870636566,
          "x1": 0.0042338254599010305,
          "y0": -30.650000000000006,
          "y1": -30.650000000000006
         },
         {
          "layer": "below",
          "line": {
           "color": "rgb(15,15,15)",
           "width": 1
          },
          "type": "line",
          "x0": 0.0042338254599010305,
          "x1": 0.0042338254599010305,
          "y0": -30,
          "y1": -31.30000000000001
         },
         {
          "layer": "below",
          "line": {
           "color": "rgb(15,15,15)",
           "width": 1
          },
          "type": "line",
          "x0": 0.0042338254599010305,
          "x1": 0.011208656709901028,
          "y0": -31.30000000000001,
          "y1": -31.30000000000001
         },
         {
          "layer": "below",
          "line": {
           "color": "rgb(15,15,15)",
           "width": 1
          },
          "type": "line",
          "x0": 0.0042338254599010305,
          "x1": 0.010467694209901034,
          "y0": -30,
          "y1": -30
         },
         {
          "layer": "below",
          "line": {
           "color": "rgb(15,15,15)",
           "width": 1
          },
          "type": "line",
          "x0": 0.0001880851000648737,
          "x1": 0.0005902592564233813,
          "y0": -25.937500000000007,
          "y1": -25.937500000000007
         },
         {
          "layer": "below",
          "line": {
           "color": "rgb(15,15,15)",
           "width": 1
          },
          "type": "line",
          "x0": 0.0005902592564233813,
          "x1": 0.0005902592564233813,
          "y0": -24.150000000000006,
          "y1": -27.72500000000001
         },
         {
          "layer": "below",
          "line": {
           "color": "rgb(15,15,15)",
           "width": 1
          },
          "type": "line",
          "x0": 0.0005902592564233813,
          "x1": 0.0025121551117293704,
          "y0": -27.72500000000001,
          "y1": -27.72500000000001
         },
         {
          "layer": "below",
          "line": {
           "color": "rgb(15,15,15)",
           "width": 1
          },
          "type": "line",
          "x0": 0.0025121551117293704,
          "x1": 0.0025121551117293704,
          "y0": -26.75000000000003,
          "y1": -28.69999999999999
         },
         {
          "layer": "below",
          "line": {
           "color": "rgb(15,15,15)",
           "width": 1
          },
          "type": "line",
          "x0": 0.0025121551117293704,
          "x1": 0.011031511640747227,
          "y0": -28.69999999999999,
          "y1": -28.69999999999999
         },
         {
          "layer": "below",
          "line": {
           "color": "rgb(15,15,15)",
           "width": 1
          },
          "type": "line",
          "x0": 0.0025121551117293704,
          "x1": 0.002730148582711514,
          "y0": -26.75000000000003,
          "y1": -26.75000000000003
         },
         {
          "layer": "below",
          "line": {
           "color": "rgb(15,15,15)",
           "width": 1
          },
          "type": "line",
          "x0": 0.002730148582711514,
          "x1": 0.002730148582711514,
          "y0": -26.100000000000023,
          "y1": -27.400000000000034
         },
         {
          "layer": "below",
          "line": {
           "color": "rgb(15,15,15)",
           "width": 1
          },
          "type": "line",
          "x0": 0.002730148582711514,
          "x1": 0.010997330663828544,
          "y0": -27.400000000000034,
          "y1": -27.400000000000034
         },
         {
          "layer": "below",
          "line": {
           "color": "rgb(15,15,15)",
           "width": 1
          },
          "type": "line",
          "x0": 0.002730148582711514,
          "x1": 0.011302066501594484,
          "y0": -26.100000000000023,
          "y1": -26.100000000000023
         },
         {
          "layer": "below",
          "line": {
           "color": "rgb(15,15,15)",
           "width": 1
          },
          "type": "line",
          "x0": 0.0005902592564233813,
          "x1": 0.0015897384011173935,
          "y0": -24.150000000000006,
          "y1": -24.150000000000006
         },
         {
          "layer": "below",
          "line": {
           "color": "rgb(15,15,15)",
           "width": 1
          },
          "type": "line",
          "x0": 0.0015897384011173935,
          "x1": 0.0015897384011173935,
          "y0": -23.5,
          "y1": -24.80000000000001
         },
         {
          "layer": "below",
          "line": {
           "color": "rgb(15,15,15)",
           "width": 1
          },
          "type": "line",
          "x0": 0.0015897384011173935,
          "x1": 0.008889913778634177,
          "y0": -24.80000000000001,
          "y1": -24.80000000000001
         },
         {
          "layer": "below",
          "line": {
           "color": "rgb(15,15,15)",
           "width": 1
          },
          "type": "line",
          "x0": 0.0015897384011173935,
          "x1": 0.009476763023600608,
          "y0": -23.5,
          "y1": -23.5
         },
         {
          "layer": "below",
          "line": {
           "color": "rgb(15,15,15)",
           "width": 1
          },
          "type": "line",
          "x0": 0.0001546417526108028,
          "x1": 0.0004151527020317312,
          "y0": -20.250000000000014,
          "y1": -20.250000000000014
         },
         {
          "layer": "below",
          "line": {
           "color": "rgb(15,15,15)",
           "width": 1
          },
          "type": "line",
          "x0": 0.0004151527020317312,
          "x1": 0.0004151527020317312,
          "y0": -18.30000000000001,
          "y1": -22.200000000000017
         },
         {
          "layer": "below",
          "line": {
           "color": "rgb(15,15,15)",
           "width": 1
          },
          "type": "line",
          "x0": 0.0004151527020317312,
          "x1": 0.01055817900647509,
          "y0": -22.200000000000017,
          "y1": -22.200000000000017
         },
         {
          "layer": "below",
          "line": {
           "color": "rgb(15,15,15)",
           "width": 1
          },
          "type": "line",
          "x0": 0.0004151527020317312,
          "x1": 0.0006362513975883741,
          "y0": -18.30000000000001,
          "y1": -18.30000000000001
         },
         {
          "layer": "below",
          "line": {
           "color": "rgb(15,15,15)",
           "width": 1
          },
          "type": "line",
          "x0": 0.0006362513975883741,
          "x1": 0.0006362513975883741,
          "y0": -16.35000000000001,
          "y1": -20.250000000000014
         },
         {
          "layer": "below",
          "line": {
           "color": "rgb(15,15,15)",
           "width": 1
          },
          "type": "line",
          "x0": 0.0006362513975883741,
          "x1": 0.0018805883152236639,
          "y0": -20.250000000000014,
          "y1": -20.250000000000014
         },
         {
          "layer": "below",
          "line": {
           "color": "rgb(15,15,15)",
           "width": 1
          },
          "type": "line",
          "x0": 0.0018805883152236639,
          "x1": 0.0018805883152236639,
          "y0": -19.600000000000023,
          "y1": -20.900000000000006
         },
         {
          "layer": "below",
          "line": {
           "color": "rgb(15,15,15)",
           "width": 1
          },
          "type": "line",
          "x0": 0.0018805883152236639,
          "x1": 0.011687627628124309,
          "y0": -20.900000000000006,
          "y1": -20.900000000000006
         },
         {
          "layer": "below",
          "line": {
           "color": "rgb(15,15,15)",
           "width": 1
          },
          "type": "line",
          "x0": 0.0018805883152236639,
          "x1": 0.009432549002323019,
          "y0": -19.600000000000023,
          "y1": -19.600000000000023
         },
         {
          "layer": "below",
          "line": {
           "color": "rgb(15,15,15)",
           "width": 1
          },
          "type": "line",
          "x0": 0.0006362513975883741,
          "x1": 0.0011033769799530832,
          "y0": -16.35000000000001,
          "y1": -16.35000000000001
         },
         {
          "layer": "below",
          "line": {
           "color": "rgb(15,15,15)",
           "width": 1
          },
          "type": "line",
          "x0": 0.0011033769799530832,
          "x1": 0.0011033769799530832,
          "y0": -15.050000000000011,
          "y1": -17.650000000000006
         },
         {
          "layer": "below",
          "line": {
           "color": "rgb(15,15,15)",
           "width": 1
          },
          "type": "line",
          "x0": 0.0011033769799530832,
          "x1": 0.0034454748447892455,
          "y0": -17.650000000000006,
          "y1": -17.650000000000006
         },
         {
          "layer": "below",
          "line": {
           "color": "rgb(15,15,15)",
           "width": 1
          },
          "type": "line",
          "x0": 0.0034454748447892455,
          "x1": 0.0034454748447892455,
          "y0": -17,
          "y1": -18.30000000000001
         },
         {
          "layer": "below",
          "line": {
           "color": "rgb(15,15,15)",
           "width": 1
          },
          "type": "line",
          "x0": 0.0034454748447892455,
          "x1": 0.010444515546008757,
          "y0": -18.30000000000001,
          "y1": -18.30000000000001
         },
         {
          "layer": "below",
          "line": {
           "color": "rgb(15,15,15)",
           "width": 1
          },
          "type": "line",
          "x0": 0.0034454748447892455,
          "x1": 0.010596634143569735,
          "y0": -17,
          "y1": -17
         },
         {
          "layer": "below",
          "line": {
           "color": "rgb(15,15,15)",
           "width": 1
          },
          "type": "line",
          "x0": 0.0011033769799530832,
          "x1": 0.00350660411511692,
          "y0": -15.050000000000011,
          "y1": -15.050000000000011
         },
         {
          "layer": "below",
          "line": {
           "color": "rgb(15,15,15)",
           "width": 1
          },
          "type": "line",
          "x0": 0.00350660411511692,
          "x1": 0.00350660411511692,
          "y0": -14.400000000000006,
          "y1": -15.700000000000017
         },
         {
          "layer": "below",
          "line": {
           "color": "rgb(15,15,15)",
           "width": 1
          },
          "type": "line",
          "x0": 0.00350660411511692,
          "x1": 0.010764052476767412,
          "y0": -15.700000000000017,
          "y1": -15.700000000000017
         },
         {
          "layer": "below",
          "line": {
           "color": "rgb(15,15,15)",
           "width": 1
          },
          "type": "line",
          "x0": 0.00350660411511692,
          "x1": 0.009121155753466427,
          "y0": -14.400000000000006,
          "y1": -14.400000000000006
         },
         {
          "layer": "below",
          "line": {
           "color": "rgb(15,15,15)",
           "width": 1
          },
          "type": "line",
          "x0": 8.595683428049087e-05,
          "x1": 0.0002023137196916339,
          "y0": 3.2398193359374954,
          "y1": 3.2398193359374954
         },
         {
          "layer": "below",
          "line": {
           "color": "rgb(15,15,15)",
           "width": 1
          },
          "type": "line",
          "x0": 0.0002023137196916339,
          "x1": 0.0002023137196916339,
          "y0": 16.735888671874996,
          "y1": -10.256250000000005
         },
         {
          "layer": "below",
          "line": {
           "color": "rgb(15,15,15)",
           "width": 1
          },
          "type": "line",
          "x0": 0.0002023137196916339,
          "x1": 0.0002853756480211017,
          "y0": -10.256250000000005,
          "y1": -10.256250000000005
         },
         {
          "layer": "below",
          "line": {
           "color": "rgb(15,15,15)",
           "width": 1
          },
          "type": "line",
          "x0": 0.0002853756480211017,
          "x1": 0.0002853756480211017,
          "y0": -8.062500000000007,
          "y1": -12.450000000000003
         },
         {
          "layer": "below",
          "line": {
           "color": "rgb(15,15,15)",
           "width": 1
          },
          "type": "line",
          "x0": 0.0002853756480211017,
          "x1": 0.0005619192596020856,
          "y0": -12.450000000000003,
          "y1": -12.450000000000003
         },
         {
          "layer": "below",
          "line": {
           "color": "rgb(15,15,15)",
           "width": 1
          },
          "type": "line",
          "x0": 0.0005619192596020856,
          "x1": 0.0005619192596020856,
          "y0": -11.800000000000011,
          "y1": -13.099999999999994
         },
         {
          "layer": "below",
          "line": {
           "color": "rgb(15,15,15)",
           "width": 1
          },
          "type": "line",
          "x0": 0.0005619192596020856,
          "x1": 0.010252068300567631,
          "y0": -13.099999999999994,
          "y1": -13.099999999999994
         },
         {
          "layer": "below",
          "line": {
           "color": "rgb(15,15,15)",
           "width": 1
          },
          "type": "line",
          "x0": 0.0005619192596020856,
          "x1": 0.009184970218636542,
          "y0": -11.800000000000011,
          "y1": -11.800000000000011
         },
         {
          "layer": "below",
          "line": {
           "color": "rgb(15,15,15)",
           "width": 1
          },
          "type": "line",
          "x0": 0.0002853756480211017,
          "x1": 0.00041070078644011616,
          "y0": -8.062500000000007,
          "y1": -8.062500000000007
         },
         {
          "layer": "below",
          "line": {
           "color": "rgb(15,15,15)",
           "width": 1
          },
          "type": "line",
          "x0": 0.00041070078644011616,
          "x1": 0.00041070078644011616,
          "y0": -6.275000000000006,
          "y1": -9.850000000000009
         },
         {
          "layer": "below",
          "line": {
           "color": "rgb(15,15,15)",
           "width": 1
          },
          "type": "line",
          "x0": 0.00041070078644011616,
          "x1": 0.001086206959830472,
          "y0": -9.850000000000009,
          "y1": -9.850000000000009
         },
         {
          "layer": "below",
          "line": {
           "color": "rgb(15,15,15)",
           "width": 1
          },
          "type": "line",
          "x0": 0.001086206959830472,
          "x1": 0.001086206959830472,
          "y0": -9.200000000000017,
          "y1": -10.5
         },
         {
          "layer": "below",
          "line": {
           "color": "rgb(15,15,15)",
           "width": 1
          },
          "type": "line",
          "x0": 0.001086206959830472,
          "x1": 0.009547125879667422,
          "y0": -10.5,
          "y1": -10.5
         },
         {
          "layer": "below",
          "line": {
           "color": "rgb(15,15,15)",
           "width": 1
          },
          "type": "line",
          "x0": 0.001086206959830472,
          "x1": 0.008678388039993521,
          "y0": -9.200000000000017,
          "y1": -9.200000000000017
         },
         {
          "layer": "below",
          "line": {
           "color": "rgb(15,15,15)",
           "width": 1
          },
          "type": "line",
          "x0": 0.00041070078644011616,
          "x1": 0.0010006196130497625,
          "y0": -6.275000000000006,
          "y1": -6.275000000000006
         },
         {
          "layer": "below",
          "line": {
           "color": "rgb(15,15,15)",
           "width": 1
          },
          "type": "line",
          "x0": 0.0010006196130497625,
          "x1": 0.0010006196130497625,
          "y0": -5.300000000000011,
          "y1": -7.25
         },
         {
          "layer": "below",
          "line": {
           "color": "rgb(15,15,15)",
           "width": 1
          },
          "type": "line",
          "x0": 0.0010006196130497625,
          "x1": 0.001229405748107232,
          "y0": -7.25,
          "y1": -7.25
         },
         {
          "layer": "below",
          "line": {
           "color": "rgb(15,15,15)",
           "width": 1
          },
          "type": "line",
          "x0": 0.001229405748107232,
          "x1": 0.001229405748107232,
          "y0": -6.599999999999994,
          "y1": -7.900000000000006
         },
         {
          "layer": "below",
          "line": {
           "color": "rgb(15,15,15)",
           "width": 1
          },
          "type": "line",
          "x0": 0.001229405748107232,
          "x1": 0.00969997314594377,
          "y0": -7.900000000000006,
          "y1": -7.900000000000006
         },
         {
          "layer": "below",
          "line": {
           "color": "rgb(15,15,15)",
           "width": 1
          },
          "type": "line",
          "x0": 0.001229405748107232,
          "x1": 0.010590038350270692,
          "y0": -6.599999999999994,
          "y1": -6.599999999999994
         },
         {
          "layer": "below",
          "line": {
           "color": "rgb(15,15,15)",
           "width": 1
          },
          "type": "line",
          "x0": 0.0010006196130497625,
          "x1": 0.009137483477992292,
          "y0": -5.300000000000011,
          "y1": -5.300000000000011
         },
         {
          "layer": "below",
          "line": {
           "color": "rgb(15,15,15)",
           "width": 1
          },
          "type": "line",
          "x0": 0.0002023137196916339,
          "x1": 0.0002320200637620687,
          "y0": 16.735888671874996,
          "y1": 16.735888671874996
         },
         {
          "layer": "below",
          "line": {
           "color": "rgb(15,15,15)",
           "width": 1
          },
          "type": "line",
          "x0": 0.0002320200637620687,
          "x1": 0.0002320200637620687,
          "y0": 31.221874999999997,
          "y1": 2.2499023437499934
         },
         {
          "layer": "below",
          "line": {
           "color": "rgb(15,15,15)",
           "width": 1
          },
          "type": "line",
          "x0": 0.0002320200637620687,
          "x1": 0.00048720947998854235,
          "y0": 2.2499023437499934,
          "y1": 2.2499023437499934
         },
         {
          "layer": "below",
          "line": {
           "color": "rgb(15,15,15)",
           "width": 1
          },
          "type": "line",
          "x0": 0.00048720947998854235,
          "x1": 0.00048720947998854235,
          "y0": 7.849804687499995,
          "y1": -3.3500000000000085
         },
         {
          "layer": "below",
          "line": {
           "color": "rgb(15,15,15)",
           "width": 1
          },
          "type": "line",
          "x0": 0.00048720947998854235,
          "x1": 0.0024899651473616552,
          "y0": -3.3500000000000085,
          "y1": -3.3500000000000085
         },
         {
          "layer": "below",
          "line": {
           "color": "rgb(15,15,15)",
           "width": 1
          },
          "type": "line",
          "x0": 0.0024899651473616552,
          "x1": 0.0024899651473616552,
          "y0": -2.700000000000017,
          "y1": -4
         },
         {
          "layer": "below",
          "line": {
           "color": "rgb(15,15,15)",
           "width": 1
          },
          "type": "line",
          "x0": 0.0024899651473616552,
          "x1": 0.00985830206800772,
          "y0": -4,
          "y1": -4
         },
         {
          "layer": "below",
          "line": {
           "color": "rgb(15,15,15)",
           "width": 1
          },
          "type": "line",
          "x0": 0.0024899651473616552,
          "x1": 0.011452328226715592,
          "y0": -2.700000000000017,
          "y1": -2.700000000000017
         },
         {
          "layer": "below",
          "line": {
           "color": "rgb(15,15,15)",
           "width": 1
          },
          "type": "line",
          "x0": 0.00048720947998854235,
          "x1": 0.0006281915567560548,
          "y0": 7.849804687499995,
          "y1": 7.849804687499995
         },
         {
          "layer": "below",
          "line": {
           "color": "rgb(15,15,15)",
           "width": 1
          },
          "type": "line",
          "x0": 0.0006281915567560548,
          "x1": 0.0006281915567560548,
          "y0": 16.124609374999995,
          "y1": -0.42500000000000426
         },
         {
          "layer": "below",
          "line": {
           "color": "rgb(15,15,15)",
           "width": 1
          },
          "type": "line",
          "x0": 0.0006281915567560548,
          "x1": 0.00070528623656684,
          "y0": -0.42500000000000426,
          "y1": -0.42500000000000426
         },
         {
          "layer": "below",
          "line": {
           "color": "rgb(15,15,15)",
           "width": 1
          },
          "type": "line",
          "x0": 0.00070528623656684,
          "x1": 0.00070528623656684,
          "y0": 0.5499999999999972,
          "y1": -1.4000000000000057
         },
         {
          "layer": "below",
          "line": {
           "color": "rgb(15,15,15)",
           "width": 1
          },
          "type": "line",
          "x0": 0.00070528623656684,
          "x1": 0.010327471605790579,
          "y0": -1.4000000000000057,
          "y1": -1.4000000000000057
         },
         {
          "layer": "below",
          "line": {
           "color": "rgb(15,15,15)",
           "width": 1
          },
          "type": "line",
          "x0": 0.00070528623656684,
          "x1": 0.0012678008673431011,
          "y0": 0.5499999999999972,
          "y1": 0.5499999999999972
         },
         {
          "layer": "below",
          "line": {
           "color": "rgb(15,15,15)",
           "width": 1
          },
          "type": "line",
          "x0": 0.0012678008673431011,
          "x1": 0.0012678008673431011,
          "y0": 1.1999999999999886,
          "y1": -0.09999999999999432
         },
         {
          "layer": "below",
          "line": {
           "color": "rgb(15,15,15)",
           "width": 1
          },
          "type": "line",
          "x0": 0.0012678008673431011,
          "x1": 0.010837275651569288,
          "y0": -0.09999999999999432,
          "y1": -0.09999999999999432
         },
         {
          "layer": "below",
          "line": {
           "color": "rgb(15,15,15)",
           "width": 1
          },
          "type": "line",
          "x0": 0.0012678008673431011,
          "x1": 0.009950726083116913,
          "y0": 1.1999999999999886,
          "y1": 1.1999999999999886
         },
         {
          "layer": "below",
          "line": {
           "color": "rgb(15,15,15)",
           "width": 1
          },
          "type": "line",
          "x0": 0.0006281915567560548,
          "x1": 0.0006739483417890202,
          "y0": 16.124609374999995,
          "y1": 16.124609374999995
         },
         {
          "layer": "below",
          "line": {
           "color": "rgb(15,15,15)",
           "width": 1
          },
          "type": "line",
          "x0": 0.0006739483417890202,
          "x1": 0.0006739483417890202,
          "y0": 22.974999999999994,
          "y1": 9.274218749999994
         },
         {
          "layer": "below",
          "line": {
           "color": "rgb(15,15,15)",
           "width": 1
          },
          "type": "line",
          "x0": 0.0006739483417890202,
          "x1": 0.0009790317792442392,
          "y0": 9.274218749999994,
          "y1": 9.274218749999994
         },
         {
          "layer": "below",
          "line": {
           "color": "rgb(15,15,15)",
           "width": 1
          },
          "type": "line",
          "x0": 0.0009790317792442392,
          "x1": 0.0009790317792442392,
          "y0": 13.935937499999994,
          "y1": 4.612499999999994
         },
         {
          "layer": "below",
          "line": {
           "color": "rgb(15,15,15)",
           "width": 1
          },
          "type": "line",
          "x0": 0.0009790317792442392,
          "x1": 0.0011830183393864433,
          "y0": 4.612499999999994,
          "y1": 4.612499999999994
         },
         {
          "layer": "below",
          "line": {
           "color": "rgb(15,15,15)",
           "width": 1
          },
          "type": "line",
          "x0": 0.0011830183393864433,
          "x1": 0.0011830183393864433,
          "y0": 6.074999999999996,
          "y1": 3.1499999999999915
         },
         {
          "layer": "below",
          "line": {
           "color": "rgb(15,15,15)",
           "width": 1
          },
          "type": "line",
          "x0": 0.0011830183393864433,
          "x1": 0.002494201794527572,
          "y0": 3.1499999999999915,
          "y1": 3.1499999999999915
         },
         {
          "layer": "below",
          "line": {
           "color": "rgb(15,15,15)",
           "width": 1
          },
          "type": "line",
          "x0": 0.002494201794527572,
          "x1": 0.002494201794527572,
          "y0": 3.799999999999983,
          "y1": 2.5
         },
         {
          "layer": "below",
          "line": {
           "color": "rgb(15,15,15)",
           "width": 1
          },
          "type": "line",
          "x0": 0.002494201794527572,
          "x1": 0.009830822856296573,
          "y0": 2.5,
          "y1": 2.5
         },
         {
          "layer": "below",
          "line": {
           "color": "rgb(15,15,15)",
           "width": 1
          },
          "type": "line",
          "x0": 0.002494201794527572,
          "x1": 0.009768380732758571,
          "y0": 3.799999999999983,
          "y1": 3.799999999999983
         },
         {
          "layer": "below",
          "line": {
           "color": "rgb(15,15,15)",
           "width": 1
          },
          "type": "line",
          "x0": 0.0011830183393864433,
          "x1": 0.0016478348842453147,
          "y0": 6.074999999999996,
          "y1": 6.074999999999996
         },
         {
          "layer": "below",
          "line": {
           "color": "rgb(15,15,15)",
           "width": 1
          },
          "type": "line",
          "x0": 0.0016478348842453147,
          "x1": 0.0016478348842453147,
          "y0": 7.049999999999997,
          "y1": 5.099999999999994
         },
         {
          "layer": "below",
          "line": {
           "color": "rgb(15,15,15)",
           "width": 1
          },
          "type": "line",
          "x0": 0.0016478348842453147,
          "x1": 0.010036127928226795,
          "y0": 5.099999999999994,
          "y1": 5.099999999999994
         },
         {
          "layer": "below",
          "line": {
           "color": "rgb(15,15,15)",
           "width": 1
          },
          "type": "line",
          "x0": 0.0016478348842453147,
          "x1": 0.0017716918402638346,
          "y0": 7.049999999999997,
          "y1": 7.049999999999997
         },
         {
          "layer": "below",
          "line": {
           "color": "rgb(15,15,15)",
           "width": 1
          },
          "type": "line",
          "x0": 0.0017716918402638346,
          "x1": 0.0017716918402638346,
          "y0": 7.699999999999989,
          "y1": 6.400000000000006
         },
         {
          "layer": "below",
          "line": {
           "color": "rgb(15,15,15)",
           "width": 1
          },
          "type": "line",
          "x0": 0.0017716918402638346,
          "x1": 0.009828039108699092,
          "y0": 6.400000000000006,
          "y1": 6.400000000000006
         },
         {
          "layer": "below",
          "line": {
           "color": "rgb(15,15,15)",
           "width": 1
          },
          "type": "line",
          "x0": 0.0017716918402638346,
          "x1": 0.011250244571828577,
          "y0": 7.699999999999989,
          "y1": 7.699999999999989
         },
         {
          "layer": "below",
          "line": {
           "color": "rgb(15,15,15)",
           "width": 1
          },
          "type": "line",
          "x0": 0.0009790317792442392,
          "x1": 0.0015520579144145347,
          "y0": 13.935937499999994,
          "y1": 13.935937499999994
         },
         {
          "layer": "below",
          "line": {
           "color": "rgb(15,15,15)",
           "width": 1
          },
          "type": "line",
          "x0": 0.0015520579144145347,
          "x1": 0.0015520579144145347,
          "y0": 17.896874999999994,
          "y1": 9.974999999999994
         },
         {
          "layer": "below",
          "line": {
           "color": "rgb(15,15,15)",
           "width": 1
          },
          "type": "line",
          "x0": 0.0015520579144145347,
          "x1": 0.0028690476750041346,
          "y0": 9.974999999999994,
          "y1": 9.974999999999994
         },
         {
          "layer": "below",
          "line": {
           "color": "rgb(15,15,15)",
           "width": 1
          },
          "type": "line",
          "x0": 0.0028690476750041346,
          "x1": 0.0028690476750041346,
          "y0": 10.949999999999989,
          "y1": 9
         },
         {
          "layer": "below",
          "line": {
           "color": "rgb(15,15,15)",
           "width": 1
          },
          "type": "line",
          "x0": 0.0028690476750041346,
          "x1": 0.010406093004396023,
          "y0": 9,
          "y1": 9
         },
         {
          "layer": "below",
          "line": {
           "color": "rgb(15,15,15)",
           "width": 1
          },
          "type": "line",
          "x0": 0.0028690476750041346,
          "x1": 0.003562702345612247,
          "y0": 10.949999999999989,
          "y1": 10.949999999999989
         },
         {
          "layer": "below",
          "line": {
           "color": "rgb(15,15,15)",
           "width": 1
          },
          "type": "line",
          "x0": 0.003562702345612247,
          "x1": 0.003562702345612247,
          "y0": 11.599999999999994,
          "y1": 10.299999999999983
         },
         {
          "layer": "below",
          "line": {
           "color": "rgb(15,15,15)",
           "width": 1
          },
          "type": "line",
          "x0": 0.003562702345612247,
          "x1": 0.010932896950711746,
          "y0": 10.299999999999983,
          "y1": 10.299999999999983
         },
         {
          "layer": "below",
          "line": {
           "color": "rgb(15,15,15)",
           "width": 1
          },
          "type": "line",
          "x0": 0.003562702345612247,
          "x1": 0.010855107740512748,
          "y0": 11.599999999999994,
          "y1": 11.599999999999994
         },
         {
          "layer": "below",
          "line": {
           "color": "rgb(15,15,15)",
           "width": 1
          },
          "type": "line",
          "x0": 0.0015520579144145347,
          "x1": 0.0016906658100749353,
          "y0": 17.896874999999994,
          "y1": 17.896874999999994
         },
         {
          "layer": "below",
          "line": {
           "color": "rgb(15,15,15)",
           "width": 1
          },
          "type": "line",
          "x0": 0.0016906658100749353,
          "x1": 0.0016906658100749353,
          "y0": 20.69999999999999,
          "y1": 15.09375
         },
         {
          "layer": "below",
          "line": {
           "color": "rgb(15,15,15)",
           "width": 1
          },
          "type": "line",
          "x0": 0.0016906658100749353,
          "x1": 0.001822473756134223,
          "y0": 15.09375,
          "y1": 15.09375
         },
         {
          "layer": "below",
          "line": {
           "color": "rgb(15,15,15)",
           "width": 1
          },
          "type": "line",
          "x0": 0.001822473756134223,
          "x1": 0.001822473756134223,
          "y0": 17.287499999999994,
          "y1": 12.900000000000006
         },
         {
          "layer": "below",
          "line": {
           "color": "rgb(15,15,15)",
           "width": 1
          },
          "type": "line",
          "x0": 0.001822473756134223,
          "x1": 0.012920984970326939,
          "y0": 12.900000000000006,
          "y1": 12.900000000000006
         },
         {
          "layer": "below",
          "line": {
           "color": "rgb(15,15,15)",
           "width": 1
          },
          "type": "line",
          "x0": 0.001822473756134223,
          "x1": 0.002169106291941508,
          "y0": 17.287499999999994,
          "y1": 17.287499999999994
         },
         {
          "layer": "below",
          "line": {
           "color": "rgb(15,15,15)",
           "width": 1
          },
          "type": "line",
          "x0": 0.002169106291941508,
          "x1": 0.002169106291941508,
          "y0": 18.75,
          "y1": 15.824999999999989
         },
         {
          "layer": "below",
          "line": {
           "color": "rgb(15,15,15)",
           "width": 1
          },
          "type": "line",
          "x0": 0.002169106291941508,
          "x1": 0.002270200629092131,
          "y0": 15.824999999999989,
          "y1": 15.824999999999989
         },
         {
          "layer": "below",
          "line": {
           "color": "rgb(15,15,15)",
           "width": 1
          },
          "type": "line",
          "x0": 0.002270200629092131,
          "x1": 0.002270200629092131,
          "y0": 16.799999999999983,
          "y1": 14.849999999999994
         },
         {
          "layer": "below",
          "line": {
           "color": "rgb(15,15,15)",
           "width": 1
          },
          "type": "line",
          "x0": 0.002270200629092131,
          "x1": 0.003060490640595194,
          "y0": 14.849999999999994,
          "y1": 14.849999999999994
         },
         {
          "layer": "below",
          "line": {
           "color": "rgb(15,15,15)",
           "width": 1
          },
          "type": "line",
          "x0": 0.003060490640595194,
          "x1": 0.003060490640595194,
          "y0": 15.5,
          "y1": 14.199999999999989
         },
         {
          "layer": "below",
          "line": {
           "color": "rgb(15,15,15)",
           "width": 1
          },
          "type": "line",
          "x0": 0.003060490640595194,
          "x1": 0.011043972022174145,
          "y0": 14.199999999999989,
          "y1": 14.199999999999989
         },
         {
          "layer": "below",
          "line": {
           "color": "rgb(15,15,15)",
           "width": 1
          },
          "type": "line",
          "x0": 0.003060490640595194,
          "x1": 0.009843509259016243,
          "y0": 15.5,
          "y1": 15.5
         },
         {
          "layer": "below",
          "line": {
           "color": "rgb(15,15,15)",
           "width": 1
          },
          "type": "line",
          "x0": 0.002270200629092131,
          "x1": 0.010680260617589067,
          "y0": 16.799999999999983,
          "y1": 16.799999999999983
         },
         {
          "layer": "below",
          "line": {
           "color": "rgb(15,15,15)",
           "width": 1
          },
          "type": "line",
          "x0": 0.002169106291941508,
          "x1": 0.005892874454790885,
          "y0": 18.75,
          "y1": 18.75
         },
         {
          "layer": "below",
          "line": {
           "color": "rgb(15,15,15)",
           "width": 1
          },
          "type": "line",
          "x0": 0.005892874454790885,
          "x1": 0.005892874454790885,
          "y0": 19.400000000000006,
          "y1": 18.099999999999994
         },
         {
          "layer": "below",
          "line": {
           "color": "rgb(15,15,15)",
           "width": 1
          },
          "type": "line",
          "x0": 0.005892874454790885,
          "x1": 0.013310471371090433,
          "y0": 18.099999999999994,
          "y1": 18.099999999999994
         },
         {
          "layer": "below",
          "line": {
           "color": "rgb(15,15,15)",
           "width": 1
          },
          "type": "line",
          "x0": 0.005892874454790885,
          "x1": 0.011157177538491336,
          "y0": 19.400000000000006,
          "y1": 19.400000000000006
         },
         {
          "layer": "below",
          "line": {
           "color": "rgb(15,15,15)",
           "width": 1
          },
          "type": "line",
          "x0": 0.0016906658100749353,
          "x1": 0.009843639114015647,
          "y0": 20.69999999999999,
          "y1": 20.69999999999999
         },
         {
          "layer": "below",
          "line": {
           "color": "rgb(15,15,15)",
           "width": 1
          },
          "type": "line",
          "x0": 0.0006739483417890202,
          "x1": 0.002339068517615052,
          "y0": 22.974999999999994,
          "y1": 22.974999999999994
         },
         {
          "layer": "below",
          "line": {
           "color": "rgb(15,15,15)",
           "width": 1
          },
          "type": "line",
          "x0": 0.002339068517615052,
          "x1": 0.002339068517615052,
          "y0": 23.94999999999999,
          "y1": 22
         },
         {
          "layer": "below",
          "line": {
           "color": "rgb(15,15,15)",
           "width": 1
          },
          "type": "line",
          "x0": 0.002339068517615052,
          "x1": 0.009948511842319194,
          "y0": 22,
          "y1": 22
         },
         {
          "layer": "below",
          "line": {
           "color": "rgb(15,15,15)",
           "width": 1
          },
          "type": "line",
          "x0": 0.002339068517615052,
          "x1": 0.0030658751929109095,
          "y0": 23.94999999999999,
          "y1": 23.94999999999999
         },
         {
          "layer": "below",
          "line": {
           "color": "rgb(15,15,15)",
           "width": 1
          },
          "type": "line",
          "x0": 0.0030658751929109095,
          "x1": 0.0030658751929109095,
          "y0": 24.599999999999994,
          "y1": 23.299999999999983
         },
         {
          "layer": "below",
          "line": {
           "color": "rgb(15,15,15)",
           "width": 1
          },
          "type": "line",
          "x0": 0.0030658751929109095,
          "x1": 0.01086142100476659,
          "y0": 23.299999999999983,
          "y1": 23.299999999999983
         },
         {
          "layer": "below",
          "line": {
           "color": "rgb(15,15,15)",
           "width": 1
          },
          "type": "line",
          "x0": 0.0030658751929109095,
          "x1": 0.010298829381055228,
          "y0": 24.599999999999994,
          "y1": 24.599999999999994
         },
         {
          "layer": "below",
          "line": {
           "color": "rgb(15,15,15)",
           "width": 1
          },
          "type": "line",
          "x0": 0.0002320200637620687,
          "x1": 0.0006154966479018062,
          "y0": 31.221874999999997,
          "y1": 31.221874999999997
         },
         {
          "layer": "below",
          "line": {
           "color": "rgb(15,15,15)",
           "width": 1
          },
          "type": "line",
          "x0": 0.0006154966479018062,
          "x1": 0.0006154966479018062,
          "y0": 34.43125,
          "y1": 28.012499999999996
         },
         {
          "layer": "below",
          "line": {
           "color": "rgb(15,15,15)",
           "width": 1
          },
          "type": "line",
          "x0": 0.0006154966479018062,
          "x1": 0.0008328561111739008,
          "y0": 28.012499999999996,
          "y1": 28.012499999999996
         },
         {
          "layer": "below",
          "line": {
           "color": "rgb(15,15,15)",
           "width": 1
          },
          "type": "line",
          "x0": 0.0008328561111739008,
          "x1": 0.0008328561111739008,
          "y0": 29.474999999999994,
          "y1": 26.549999999999997
         },
         {
          "layer": "below",
          "line": {
           "color": "rgb(15,15,15)",
           "width": 1
          },
          "type": "line",
          "x0": 0.0008328561111739008,
          "x1": 0.0017801289647709057,
          "y0": 26.549999999999997,
          "y1": 26.549999999999997
         },
         {
          "layer": "below",
          "line": {
           "color": "rgb(15,15,15)",
           "width": 1
          },
          "type": "line",
          "x0": 0.0017801289647709057,
          "x1": 0.0017801289647709057,
          "y0": 27.19999999999999,
          "y1": 25.900000000000006
         },
         {
          "layer": "below",
          "line": {
           "color": "rgb(15,15,15)",
           "width": 1
          },
          "type": "line",
          "x0": 0.0017801289647709057,
          "x1": 0.00928821493575305,
          "y0": 25.900000000000006,
          "y1": 25.900000000000006
         },
         {
          "layer": "below",
          "line": {
           "color": "rgb(15,15,15)",
           "width": 1
          },
          "type": "line",
          "x0": 0.0017801289647709057,
          "x1": 0.009353342993788764,
          "y0": 27.19999999999999,
          "y1": 27.19999999999999
         },
         {
          "layer": "below",
          "line": {
           "color": "rgb(15,15,15)",
           "width": 1
          },
          "type": "line",
          "x0": 0.0008328561111739008,
          "x1": 0.0014752332575768937,
          "y0": 29.474999999999994,
          "y1": 29.474999999999994
         },
         {
          "layer": "below",
          "line": {
           "color": "rgb(15,15,15)",
           "width": 1
          },
          "type": "line",
          "x0": 0.0014752332575768937,
          "x1": 0.0014752332575768937,
          "y0": 30.44999999999999,
          "y1": 28.5
         },
         {
          "layer": "below",
          "line": {
           "color": "rgb(15,15,15)",
           "width": 1
          },
          "type": "line",
          "x0": 0.0014752332575768937,
          "x1": 0.010015569661921409,
          "y0": 28.5,
          "y1": 28.5
         },
         {
          "layer": "below",
          "line": {
           "color": "rgb(15,15,15)",
           "width": 1
          },
          "type": "line",
          "x0": 0.0014752332575768937,
          "x1": 0.002335446853232379,
          "y0": 30.44999999999999,
          "y1": 30.44999999999999
         },
         {
          "layer": "below",
          "line": {
           "color": "rgb(15,15,15)",
           "width": 1
          },
          "type": "line",
          "x0": 0.002335446853232379,
          "x1": 0.002335446853232379,
          "y0": 31.099999999999994,
          "y1": 29.799999999999983
         },
         {
          "layer": "below",
          "line": {
           "color": "rgb(15,15,15)",
           "width": 1
          },
          "type": "line",
          "x0": 0.002335446853232379,
          "x1": 0.010074715004429982,
          "y0": 29.799999999999983,
          "y1": 29.799999999999983
         },
         {
          "layer": "below",
          "line": {
           "color": "rgb(15,15,15)",
           "width": 1
          },
          "type": "line",
          "x0": 0.002335446853232379,
          "x1": 0.010050378702034775,
          "y0": 31.099999999999994,
          "y1": 31.099999999999994
         },
         {
          "layer": "below",
          "line": {
           "color": "rgb(15,15,15)",
           "width": 1
          },
          "type": "line",
          "x0": 0.0006154966479018062,
          "x1": 0.001124320778379712,
          "y0": 34.43125,
          "y1": 34.43125
         },
         {
          "layer": "below",
          "line": {
           "color": "rgb(15,15,15)",
           "width": 1
          },
          "type": "line",
          "x0": 0.001124320778379712,
          "x1": 0.001124320778379712,
          "y0": 36.46249999999999,
          "y1": 32.400000000000006
         },
         {
          "layer": "below",
          "line": {
           "color": "rgb(15,15,15)",
           "width": 1
          },
          "type": "line",
          "x0": 0.001124320778379712,
          "x1": 0.009679358202866448,
          "y0": 32.400000000000006,
          "y1": 32.400000000000006
         },
         {
          "layer": "below",
          "line": {
           "color": "rgb(15,15,15)",
           "width": 1
          },
          "type": "line",
          "x0": 0.001124320778379712,
          "x1": 0.0017655208538929741,
          "y0": 36.46249999999999,
          "y1": 36.46249999999999
         },
         {
          "layer": "below",
          "line": {
           "color": "rgb(15,15,15)",
           "width": 1
          },
          "type": "line",
          "x0": 0.0017655208538929741,
          "x1": 0.0017655208538929741,
          "y0": 38.25,
          "y1": 34.67499999999999
         },
         {
          "layer": "below",
          "line": {
           "color": "rgb(15,15,15)",
           "width": 1
          },
          "type": "line",
          "x0": 0.0017655208538929741,
          "x1": 0.0019735690989110873,
          "y0": 34.67499999999999,
          "y1": 34.67499999999999
         },
         {
          "layer": "below",
          "line": {
           "color": "rgb(15,15,15)",
           "width": 1
          },
          "type": "line",
          "x0": 0.0019735690989110873,
          "x1": 0.0019735690989110873,
          "y0": 35.64999999999999,
          "y1": 33.69999999999999
         },
         {
          "layer": "below",
          "line": {
           "color": "rgb(15,15,15)",
           "width": 1
          },
          "type": "line",
          "x0": 0.0019735690989110873,
          "x1": 0.010604503296827753,
          "y0": 33.69999999999999,
          "y1": 33.69999999999999
         },
         {
          "layer": "below",
          "line": {
           "color": "rgb(15,15,15)",
           "width": 1
          },
          "type": "line",
          "x0": 0.0019735690989110873,
          "x1": 0.0020677849009944228,
          "y0": 35.64999999999999,
          "y1": 35.64999999999999
         },
         {
          "layer": "below",
          "line": {
           "color": "rgb(15,15,15)",
           "width": 1
          },
          "type": "line",
          "x0": 0.0020677849009944228,
          "x1": 0.0020677849009944228,
          "y0": 36.29999999999998,
          "y1": 35
         },
         {
          "layer": "below",
          "line": {
           "color": "rgb(15,15,15)",
           "width": 1
          },
          "type": "line",
          "x0": 0.0020677849009944228,
          "x1": 0.009323891967987882,
          "y0": 35,
          "y1": 35
         },
         {
          "layer": "below",
          "line": {
           "color": "rgb(15,15,15)",
           "width": 1
          },
          "type": "line",
          "x0": 0.0020677849009944228,
          "x1": 0.009578177834000964,
          "y0": 36.29999999999998,
          "y1": 36.29999999999998
         },
         {
          "layer": "below",
          "line": {
           "color": "rgb(15,15,15)",
           "width": 1
          },
          "type": "line",
          "x0": 0.0017655208538929741,
          "x1": 0.0020306476088748603,
          "y0": 38.25,
          "y1": 38.25
         },
         {
          "layer": "below",
          "line": {
           "color": "rgb(15,15,15)",
           "width": 1
          },
          "type": "line",
          "x0": 0.0020306476088748603,
          "x1": 0.0020306476088748603,
          "y0": 38.900000000000006,
          "y1": 37.599999999999994
         },
         {
          "layer": "below",
          "line": {
           "color": "rgb(15,15,15)",
           "width": 1
          },
          "type": "line",
          "x0": 0.0020306476088748603,
          "x1": 0.010648510890124863,
          "y0": 37.599999999999994,
          "y1": 37.599999999999994
         },
         {
          "layer": "below",
          "line": {
           "color": "rgb(15,15,15)",
           "width": 1
          },
          "type": "line",
          "x0": 0.0020306476088748603,
          "x1": 0.010024484327624858,
          "y0": 38.900000000000006,
          "y1": 38.900000000000006
         },
         {
          "layer": "below",
          "line": {
           "color": "rgb(15,15,15)",
           "width": 1
          },
          "type": "line",
          "x0": 0,
          "x1": 7.478120667636393e-05,
          "y0": 104.58015136718748,
          "y1": 104.58015136718748
         },
         {
          "layer": "below",
          "line": {
           "color": "rgb(15,15,15)",
           "width": 1
          },
          "type": "line",
          "x0": 7.478120667636393e-05,
          "x1": 7.478120667636393e-05,
          "y0": 145.30036621093748,
          "y1": 63.8599365234375
         },
         {
          "layer": "below",
          "line": {
           "color": "rgb(15,15,15)",
           "width": 1
          },
          "type": "line",
          "x0": 7.478120667636393e-05,
          "x1": 0.00010985102839966652,
          "y0": 63.8599365234375,
          "y1": 63.8599365234375
         },
         {
          "layer": "below",
          "line": {
           "color": "rgb(15,15,15)",
           "width": 1
          },
          "type": "line",
          "x0": 0.00010985102839966652,
          "x1": 0.00010985102839966652,
          "y0": 81.344873046875,
          "y1": 46.37499999999999
         },
         {
          "layer": "below",
          "line": {
           "color": "rgb(15,15,15)",
           "width": 1
          },
          "type": "line",
          "x0": 0.00010985102839966652,
          "x1": 0.00019214752660815917,
          "y0": 46.37499999999999,
          "y1": 46.37499999999999
         },
         {
          "layer": "below",
          "line": {
           "color": "rgb(15,15,15)",
           "width": 1
          },
          "type": "line",
          "x0": 0.00019214752660815917,
          "x1": 0.00019214752660815917,
          "y0": 50.925,
          "y1": 41.82499999999999
         },
         {
          "layer": "below",
          "line": {
           "color": "rgb(15,15,15)",
           "width": 1
          },
          "type": "line",
          "x0": 0.00019214752660815917,
          "x1": 0.0004106853631280381,
          "y0": 41.82499999999999,
          "y1": 41.82499999999999
         },
         {
          "layer": "below",
          "line": {
           "color": "rgb(15,15,15)",
           "width": 1
          },
          "type": "line",
          "x0": 0.0004106853631280381,
          "x1": 0.0004106853631280381,
          "y0": 42.79999999999998,
          "y1": 40.849999999999994
         },
         {
          "layer": "below",
          "line": {
           "color": "rgb(15,15,15)",
           "width": 1
          },
          "type": "line",
          "x0": 0.0004106853631280381,
          "x1": 0.0008157816659897874,
          "y0": 40.849999999999994,
          "y1": 40.849999999999994
         },
         {
          "layer": "below",
          "line": {
           "color": "rgb(15,15,15)",
           "width": 1
          },
          "type": "line",
          "x0": 0.0008157816659897874,
          "x1": 0.0008157816659897874,
          "y0": 41.5,
          "y1": 40.19999999999999
         },
         {
          "layer": "below",
          "line": {
           "color": "rgb(15,15,15)",
           "width": 1
          },
          "type": "line",
          "x0": 0.0008157816659897874,
          "x1": 0.010538868466119991,
          "y0": 40.19999999999999,
          "y1": 40.19999999999999
         },
         {
          "layer": "below",
          "line": {
           "color": "rgb(15,15,15)",
           "width": 1
          },
          "type": "line",
          "x0": 0.0008157816659897874,
          "x1": 0.009163594865859584,
          "y0": 41.5,
          "y1": 41.5
         },
         {
          "layer": "below",
          "line": {
           "color": "rgb(15,15,15)",
           "width": 1
          },
          "type": "line",
          "x0": 0.0004106853631280381,
          "x1": 0.009164689060266285,
          "y0": 42.79999999999998,
          "y1": 42.79999999999998
         },
         {
          "layer": "below",
          "line": {
           "color": "rgb(15,15,15)",
           "width": 1
          },
          "type": "line",
          "x0": 0.00019214752660815917,
          "x1": 0.00033362219008828203,
          "y0": 50.925,
          "y1": 50.925
         },
         {
          "layer": "below",
          "line": {
           "color": "rgb(15,15,15)",
           "width": 1
          },
          "type": "line",
          "x0": 0.00033362219008828203,
          "x1": 0.00033362219008828203,
          "y0": 54.5,
          "y1": 47.349999999999994
         },
         {
          "layer": "below",
          "line": {
           "color": "rgb(15,15,15)",
           "width": 1
          },
          "type": "line",
          "x0": 0.00033362219008828203,
          "x1": 0.0004251202229894437,
          "y0": 47.349999999999994,
          "y1": 47.349999999999994
         },
         {
          "layer": "below",
          "line": {
           "color": "rgb(15,15,15)",
           "width": 1
          },
          "type": "line",
          "x0": 0.0004251202229894437,
          "x1": 0.0004251202229894437,
          "y0": 48.974999999999994,
          "y1": 45.724999999999994
         },
         {
          "layer": "below",
          "line": {
           "color": "rgb(15,15,15)",
           "width": 1
          },
          "type": "line",
          "x0": 0.0004251202229894437,
          "x1": 0.0006232510017108461,
          "y0": 45.724999999999994,
          "y1": 45.724999999999994
         },
         {
          "layer": "below",
          "line": {
           "color": "rgb(15,15,15)",
           "width": 1
          },
          "type": "line",
          "x0": 0.0006232510017108461,
          "x1": 0.0006232510017108461,
          "y0": 46.69999999999999,
          "y1": 44.75
         },
         {
          "layer": "below",
          "line": {
           "color": "rgb(15,15,15)",
           "width": 1
          },
          "type": "line",
          "x0": 0.0006232510017108461,
          "x1": 0.0009775934542778097,
          "y0": 44.75,
          "y1": 44.75
         },
         {
          "layer": "below",
          "line": {
           "color": "rgb(15,15,15)",
           "width": 1
          },
          "type": "line",
          "x0": 0.0009775934542778097,
          "x1": 0.0009775934542778097,
          "y0": 45.400000000000006,
          "y1": 44.099999999999994
         },
         {
          "layer": "below",
          "line": {
           "color": "rgb(15,15,15)",
           "width": 1
          },
          "type": "line",
          "x0": 0.0009775934542778097,
          "x1": 0.008635110124326509,
          "y0": 44.099999999999994,
          "y1": 44.099999999999994
         },
         {
          "layer": "below",
          "line": {
           "color": "rgb(15,15,15)",
           "width": 1
          },
          "type": "line",
          "x0": 0.0009775934542778097,
          "x1": 0.00931807678422911,
          "y0": 45.400000000000006,
          "y1": 45.400000000000006
         },
         {
          "layer": "below",
          "line": {
           "color": "rgb(15,15,15)",
           "width": 1
          },
          "type": "line",
          "x0": 0.0006232510017108461,
          "x1": 0.008603058549143882,
          "y0": 46.69999999999999,
          "y1": 46.69999999999999
         },
         {
          "layer": "below",
          "line": {
           "color": "rgb(15,15,15)",
           "width": 1
          },
          "type": "line",
          "x0": 0.0004251202229894437,
          "x1": 0.0006964331942680435,
          "y0": 48.974999999999994,
          "y1": 48.974999999999994
         },
         {
          "layer": "below",
          "line": {
           "color": "rgb(15,15,15)",
           "width": 1
          },
          "type": "line",
          "x0": 0.0006964331942680435,
          "x1": 0.0006964331942680435,
          "y0": 49.94999999999999,
          "y1": 48
         },
         {
          "layer": "below",
          "line": {
           "color": "rgb(15,15,15)",
           "width": 1
          },
          "type": "line",
          "x0": 0.0006964331942680435,
          "x1": 0.008655775505831341,
          "y0": 48,
          "y1": 48
         },
         {
          "layer": "below",
          "line": {
           "color": "rgb(15,15,15)",
           "width": 1
          },
          "type": "line",
          "x0": 0.0006964331942680435,
          "x1": 0.0010459408827047459,
          "y0": 49.94999999999999,
          "y1": 49.94999999999999
         },
         {
          "layer": "below",
          "line": {
           "color": "rgb(15,15,15)",
           "width": 1
          },
          "type": "line",
          "x0": 0.0010459408827047459,
          "x1": 0.0010459408827047459,
          "y0": 50.599999999999994,
          "y1": 49.29999999999998
         },
         {
          "layer": "below",
          "line": {
           "color": "rgb(15,15,15)",
           "width": 1
          },
          "type": "line",
          "x0": 0.0010459408827047459,
          "x1": 0.009107787752821938,
          "y0": 49.29999999999998,
          "y1": 49.29999999999998
         },
         {
          "layer": "below",
          "line": {
           "color": "rgb(15,15,15)",
           "width": 1
          },
          "type": "line",
          "x0": 0.0010459408827047459,
          "x1": 0.009539294012587555,
          "y0": 50.599999999999994,
          "y1": 50.599999999999994
         },
         {
          "layer": "below",
          "line": {
           "color": "rgb(15,15,15)",
           "width": 1
          },
          "type": "line",
          "x0": 0.00033362219008828203,
          "x1": 0.0005264038446871201,
          "y0": 54.5,
          "y1": 54.5
         },
         {
          "layer": "below",
          "line": {
           "color": "rgb(15,15,15)",
           "width": 1
          },
          "type": "line",
          "x0": 0.0005264038446871201,
          "x1": 0.0005264038446871201,
          "y0": 57.099999999999994,
          "y1": 51.900000000000006
         },
         {
          "layer": "below",
          "line": {
           "color": "rgb(15,15,15)",
           "width": 1
          },
          "type": "line",
          "x0": 0.0005264038446871201,
          "x1": 0.009131734097440483,
          "y0": 51.900000000000006,
          "y1": 51.900000000000006
         },
         {
          "layer": "below",
          "line": {
           "color": "rgb(15,15,15)",
           "width": 1
          },
          "type": "line",
          "x0": 0.0005264038446871201,
          "x1": 0.000752573591933758,
          "y0": 57.099999999999994,
          "y1": 57.099999999999994
         },
         {
          "layer": "below",
          "line": {
           "color": "rgb(15,15,15)",
           "width": 1
          },
          "type": "line",
          "x0": 0.000752573591933758,
          "x1": 0.000752573591933758,
          "y0": 59.05,
          "y1": 55.14999999999999
         },
         {
          "layer": "below",
          "line": {
           "color": "rgb(15,15,15)",
           "width": 1
          },
          "type": "line",
          "x0": 0.000752573591933758,
          "x1": 0.0010220130948081678,
          "y0": 55.14999999999999,
          "y1": 55.14999999999999
         },
         {
          "layer": "below",
          "line": {
           "color": "rgb(15,15,15)",
           "width": 1
          },
          "type": "line",
          "x0": 0.0010220130948081678,
          "x1": 0.0010220130948081678,
          "y0": 56.44999999999999,
          "y1": 53.849999999999994
         },
         {
          "layer": "below",
          "line": {
           "color": "rgb(15,15,15)",
           "width": 1
          },
          "type": "line",
          "x0": 0.0010220130948081678,
          "x1": 0.0014635095791831676,
          "y0": 53.849999999999994,
          "y1": 53.849999999999994
         },
         {
          "layer": "below",
          "line": {
           "color": "rgb(15,15,15)",
           "width": 1
          },
          "type": "line",
          "x0": 0.0014635095791831676,
          "x1": 0.0014635095791831676,
          "y0": 54.5,
          "y1": 53.19999999999999
         },
         {
          "layer": "below",
          "line": {
           "color": "rgb(15,15,15)",
           "width": 1
          },
          "type": "line",
          "x0": 0.0014635095791831676,
          "x1": 0.011719985751058162,
          "y0": 53.19999999999999,
          "y1": 53.19999999999999
         },
         {
          "layer": "below",
          "line": {
           "color": "rgb(15,15,15)",
           "width": 1
          },
          "type": "line",
          "x0": 0.0014635095791831676,
          "x1": 0.010514933407308174,
          "y0": 54.5,
          "y1": 54.5
         },
         {
          "layer": "below",
          "line": {
           "color": "rgb(15,15,15)",
           "width": 1
          },
          "type": "line",
          "x0": 0.0010220130948081678,
          "x1": 0.0016323166104331684,
          "y0": 56.44999999999999,
          "y1": 56.44999999999999
         },
         {
          "layer": "below",
          "line": {
           "color": "rgb(15,15,15)",
           "width": 1
          },
          "type": "line",
          "x0": 0.0016323166104331684,
          "x1": 0.0016323166104331684,
          "y0": 57.099999999999994,
          "y1": 55.79999999999998
         },
         {
          "layer": "below",
          "line": {
           "color": "rgb(15,15,15)",
           "width": 1
          },
          "type": "line",
          "x0": 0.0016323166104331684,
          "x1": 0.010415997481645279,
          "y0": 55.79999999999998,
          "y1": 55.79999999999998
         },
         {
          "layer": "below",
          "line": {
           "color": "rgb(15,15,15)",
           "width": 1
          },
          "type": "line",
          "x0": 0.0016323166104331684,
          "x1": 0.010620235739221055,
          "y0": 57.099999999999994,
          "y1": 57.099999999999994
         },
         {
          "layer": "below",
          "line": {
           "color": "rgb(15,15,15)",
           "width": 1
          },
          "type": "line",
          "x0": 0.000752573591933758,
          "x1": 0.003965009089059348,
          "y0": 59.05,
          "y1": 59.05
         },
         {
          "layer": "below",
          "line": {
           "color": "rgb(15,15,15)",
           "width": 1
          },
          "type": "line",
          "x0": 0.003965009089059348,
          "x1": 0.003965009089059348,
          "y0": 59.69999999999999,
          "y1": 58.400000000000006
         },
         {
          "layer": "below",
          "line": {
           "color": "rgb(15,15,15)",
           "width": 1
          },
          "type": "line",
          "x0": 0.003965009089059348,
          "x1": 0.010787426904479917,
          "y0": 58.400000000000006,
          "y1": 58.400000000000006
         },
         {
          "layer": "below",
          "line": {
           "color": "rgb(15,15,15)",
           "width": 1
          },
          "type": "line",
          "x0": 0.003965009089059348,
          "x1": 0.010891391273638779,
          "y0": 59.69999999999999,
          "y1": 59.69999999999999
         },
         {
          "layer": "below",
          "line": {
           "color": "rgb(15,15,15)",
           "width": 1
          },
          "type": "line",
          "x0": 0.00010985102839966652,
          "x1": 0.0002663287420747181,
          "y0": 81.344873046875,
          "y1": 81.344873046875
         },
         {
          "layer": "below",
          "line": {
           "color": "rgb(15,15,15)",
           "width": 1
          },
          "type": "line",
          "x0": 0.0002663287420747181,
          "x1": 0.0002663287420747181,
          "y0": 100.55224609375,
          "y1": 62.137499999999996
         },
         {
          "layer": "below",
          "line": {
           "color": "rgb(15,15,15)",
           "width": 1
          },
          "type": "line",
          "x0": 0.0002663287420747181,
          "x1": 0.0004745114704368034,
          "y0": 62.137499999999996,
          "y1": 62.137499999999996
         },
         {
          "layer": "below",
          "line": {
           "color": "rgb(15,15,15)",
           "width": 1
          },
          "type": "line",
          "x0": 0.0004745114704368034,
          "x1": 0.0004745114704368034,
          "y0": 63.27499999999999,
          "y1": 61
         },
         {
          "layer": "below",
          "line": {
           "color": "rgb(15,15,15)",
           "width": 1
          },
          "type": "line",
          "x0": 0.0004745114704368034,
          "x1": 0.01006861729013895,
          "y0": 61,
          "y1": 61
         },
         {
          "layer": "below",
          "line": {
           "color": "rgb(15,15,15)",
           "width": 1
          },
          "type": "line",
          "x0": 0.0004745114704368034,
          "x1": 0.0010047556507346539,
          "y0": 63.27499999999999,
          "y1": 63.27499999999999
         },
         {
          "layer": "below",
          "line": {
           "color": "rgb(15,15,15)",
           "width": 1
          },
          "type": "line",
          "x0": 0.0010047556507346539,
          "x1": 0.0010047556507346539,
          "y0": 64.25,
          "y1": 62.29999999999998
         },
         {
          "layer": "below",
          "line": {
           "color": "rgb(15,15,15)",
           "width": 1
          },
          "type": "line",
          "x0": 0.0010047556507346539,
          "x1": 0.010293940587559496,
          "y0": 62.29999999999998,
          "y1": 62.29999999999998
         },
         {
          "layer": "below",
          "line": {
           "color": "rgb(15,15,15)",
           "width": 1
          },
          "type": "line",
          "x0": 0.0010047556507346539,
          "x1": 0.0030250207139098104,
          "y0": 64.25,
          "y1": 64.25
         },
         {
          "layer": "below",
          "line": {
           "color": "rgb(15,15,15)",
           "width": 1
          },
          "type": "line",
          "x0": 0.0030250207139098104,
          "x1": 0.0030250207139098104,
          "y0": 64.9,
          "y1": 63.599999999999994
         },
         {
          "layer": "below",
          "line": {
           "color": "rgb(15,15,15)",
           "width": 1
          },
          "type": "line",
          "x0": 0.0030250207139098104,
          "x1": 0.011531506915832886,
          "y0": 63.599999999999994,
          "y1": 63.599999999999994
         },
         {
          "layer": "below",
          "line": {
           "color": "rgb(15,15,15)",
           "width": 1
          },
          "type": "line",
          "x0": 0.0030250207139098104,
          "x1": 0.009547034511986737,
          "y0": 64.9,
          "y1": 64.9
         },
         {
          "layer": "below",
          "line": {
           "color": "rgb(15,15,15)",
           "width": 1
          },
          "type": "line",
          "x0": 0.0002663287420747181,
          "x1": 0.0004364716881511112,
          "y0": 100.55224609375,
          "y1": 100.55224609375
         },
         {
          "layer": "below",
          "line": {
           "color": "rgb(15,15,15)",
           "width": 1
          },
          "type": "line",
          "x0": 0.0004364716881511112,
          "x1": 0.0004364716881511112,
          "y0": 112.4515625,
          "y1": 88.65292968749999
         },
         {
          "layer": "below",
          "line": {
           "color": "rgb(15,15,15)",
           "width": 1
          },
          "type": "line",
          "x0": 0.0004364716881511112,
          "x1": 0.0005725017988070018,
          "y0": 88.65292968749999,
          "y1": 88.65292968749999
         },
         {
          "layer": "below",
          "line": {
           "color": "rgb(15,15,15)",
           "width": 1
          },
          "type": "line",
          "x0": 0.0005725017988070018,
          "x1": 0.0005725017988070018,
          "y0": 102.11249999999998,
          "y1": 75.193359375
         },
         {
          "layer": "below",
          "line": {
           "color": "rgb(15,15,15)",
           "width": 1
          },
          "type": "line",
          "x0": 0.0005725017988070018,
          "x1": 0.0007654309451864148,
          "y0": 75.193359375,
          "y1": 75.193359375
         },
         {
          "layer": "below",
          "line": {
           "color": "rgb(15,15,15)",
           "width": 1
          },
          "type": "line",
          "x0": 0.0007654309451864148,
          "x1": 0.0007654309451864148,
          "y0": 81.58671874999999,
          "y1": 68.8
         },
         {
          "layer": "below",
          "line": {
           "color": "rgb(15,15,15)",
           "width": 1
          },
          "type": "line",
          "x0": 0.0007654309451864148,
          "x1": 0.0009007299978673844,
          "y0": 68.8,
          "y1": 68.8
         },
         {
          "layer": "below",
          "line": {
           "color": "rgb(15,15,15)",
           "width": 1
          },
          "type": "line",
          "x0": 0.0009007299978673844,
          "x1": 0.0009007299978673844,
          "y0": 70.75,
          "y1": 66.85
         },
         {
          "layer": "below",
          "line": {
           "color": "rgb(15,15,15)",
           "width": 1
          },
          "type": "line",
          "x0": 0.0009007299978673844,
          "x1": 0.002559130282431291,
          "y0": 66.85,
          "y1": 66.85
         },
         {
          "layer": "below",
          "line": {
           "color": "rgb(15,15,15)",
           "width": 1
          },
          "type": "line",
          "x0": 0.002559130282431291,
          "x1": 0.002559130282431291,
          "y0": 67.5,
          "y1": 66.19999999999999
         },
         {
          "layer": "below",
          "line": {
           "color": "rgb(15,15,15)",
           "width": 1
          },
          "type": "line",
          "x0": 0.002559130282431291,
          "x1": 0.010423285999555575,
          "y0": 66.19999999999999,
          "y1": 66.19999999999999
         },
         {
          "layer": "below",
          "line": {
           "color": "rgb(15,15,15)",
           "width": 1
          },
          "type": "line",
          "x0": 0.002559130282431291,
          "x1": 0.01058317456530701,
          "y0": 67.5,
          "y1": 67.5
         },
         {
          "layer": "below",
          "line": {
           "color": "rgb(15,15,15)",
           "width": 1
          },
          "type": "line",
          "x0": 0.0009007299978673844,
          "x1": 0.0009578547133034767,
          "y0": 70.75,
          "y1": 70.75
         },
         {
          "layer": "below",
          "line": {
           "color": "rgb(15,15,15)",
           "width": 1
          },
          "type": "line",
          "x0": 0.0009578547133034767,
          "x1": 0.0009578547133034767,
          "y0": 72.05,
          "y1": 69.44999999999999
         },
         {
          "layer": "below",
          "line": {
           "color": "rgb(15,15,15)",
           "width": 1
          },
          "type": "line",
          "x0": 0.0009578547133034767,
          "x1": 0.0014892588466782395,
          "y0": 69.44999999999999,
          "y1": 69.44999999999999
         },
         {
          "layer": "below",
          "line": {
           "color": "rgb(15,15,15)",
           "width": 1
          },
          "type": "line",
          "x0": 0.0014892588466782395,
          "x1": 0.0014892588466782395,
          "y0": 70.1,
          "y1": 68.79999999999998
         },
         {
          "layer": "below",
          "line": {
           "color": "rgb(15,15,15)",
           "width": 1
          },
          "type": "line",
          "x0": 0.0014892588466782395,
          "x1": 0.009273605468299863,
          "y0": 68.79999999999998,
          "y1": 68.79999999999998
         },
         {
          "layer": "below",
          "line": {
           "color": "rgb(15,15,15)",
           "width": 1
          },
          "type": "line",
          "x0": 0.0014892588466782395,
          "x1": 0.009924212225056616,
          "y0": 70.1,
          "y1": 70.1
         },
         {
          "layer": "below",
          "line": {
           "color": "rgb(15,15,15)",
           "width": 1
          },
          "type": "line",
          "x0": 0.0009578547133034767,
          "x1": 0.0019063005799287137,
          "y0": 72.05,
          "y1": 72.05
         },
         {
          "layer": "below",
          "line": {
           "color": "rgb(15,15,15)",
           "width": 1
          },
          "type": "line",
          "x0": 0.0019063005799287137,
          "x1": 0.0019063005799287137,
          "y0": 72.69999999999999,
          "y1": 71.4
         },
         {
          "layer": "below",
          "line": {
           "color": "rgb(15,15,15)",
           "width": 1
          },
          "type": "line",
          "x0": 0.0019063005799287137,
          "x1": 0.010931952240767864,
          "y0": 71.4,
          "y1": 71.4
         },
         {
          "layer": "below",
          "line": {
           "color": "rgb(15,15,15)",
           "width": 1
          },
          "type": "line",
          "x0": 0.0019063005799287137,
          "x1": 0.011072348919089566,
          "y0": 72.69999999999999,
          "y1": 72.69999999999999
         },
         {
          "layer": "below",
          "line": {
           "color": "rgb(15,15,15)",
           "width": 1
          },
          "type": "line",
          "x0": 0.0007654309451864148,
          "x1": 0.0008635409745366955,
          "y0": 81.58671874999999,
          "y1": 81.58671874999999
         },
         {
          "layer": "below",
          "line": {
           "color": "rgb(15,15,15)",
           "width": 1
          },
          "type": "line",
          "x0": 0.0008635409745366955,
          "x1": 0.0008635409745366955,
          "y0": 88.19843749999998,
          "y1": 74.975
         },
         {
          "layer": "below",
          "line": {
           "color": "rgb(15,15,15)",
           "width": 1
          },
          "type": "line",
          "x0": 0.0008635409745366955,
          "x1": 0.0024423980378959235,
          "y0": 74.975,
          "y1": 74.975
         },
         {
          "layer": "below",
          "line": {
           "color": "rgb(15,15,15)",
           "width": 1
          },
          "type": "line",
          "x0": 0.0024423980378959235,
          "x1": 0.0024423980378959235,
          "y0": 75.94999999999999,
          "y1": 74
         },
         {
          "layer": "below",
          "line": {
           "color": "rgb(15,15,15)",
           "width": 1
          },
          "type": "line",
          "x0": 0.0024423980378959235,
          "x1": 0.01076151385579716,
          "y0": 74,
          "y1": 74
         },
         {
          "layer": "below",
          "line": {
           "color": "rgb(15,15,15)",
           "width": 1
          },
          "type": "line",
          "x0": 0.0024423980378959235,
          "x1": 0.004307332219994687,
          "y0": 75.94999999999999,
          "y1": 75.94999999999999
         },
         {
          "layer": "below",
          "line": {
           "color": "rgb(15,15,15)",
           "width": 1
          },
          "type": "line",
          "x0": 0.004307332219994687,
          "x1": 0.004307332219994687,
          "y0": 76.6,
          "y1": 75.29999999999998
         },
         {
          "layer": "below",
          "line": {
           "color": "rgb(15,15,15)",
           "width": 1
          },
          "type": "line",
          "x0": 0.004307332219994687,
          "x1": 0.010324582664307486,
          "y0": 75.29999999999998,
          "y1": 75.29999999999998
         },
         {
          "layer": "below",
          "line": {
           "color": "rgb(15,15,15)",
           "width": 1
          },
          "type": "line",
          "x0": 0.004307332219994687,
          "x1": 0.011547381775681886,
          "y0": 76.6,
          "y1": 76.6
         },
         {
          "layer": "below",
          "line": {
           "color": "rgb(15,15,15)",
           "width": 1
          },
          "type": "line",
          "x0": 0.0008635409745366955,
          "x1": 0.0010179081299274673,
          "y0": 88.19843749999998,
          "y1": 88.19843749999998
         },
         {
          "layer": "below",
          "line": {
           "color": "rgb(15,15,15)",
           "width": 1
          },
          "type": "line",
          "x0": 0.0010179081299274673,
          "x1": 0.0010179081299274673,
          "y0": 95.12499999999999,
          "y1": 81.271875
         },
         {
          "layer": "below",
          "line": {
           "color": "rgb(15,15,15)",
           "width": 1
          },
          "type": "line",
          "x0": 0.0010179081299274673,
          "x1": 0.0012066935123665758,
          "y0": 81.271875,
          "y1": 81.271875
         },
         {
          "layer": "below",
          "line": {
           "color": "rgb(15,15,15)",
           "width": 1
          },
          "type": "line",
          "x0": 0.0012066935123665758,
          "x1": 0.0012066935123665758,
          "y0": 84.64374999999998,
          "y1": 77.9
         },
         {
          "layer": "below",
          "line": {
           "color": "rgb(15,15,15)",
           "width": 1
          },
          "type": "line",
          "x0": 0.0012066935123665758,
          "x1": 0.010722207536039391,
          "y0": 77.9,
          "y1": 77.9
         },
         {
          "layer": "below",
          "line": {
           "color": "rgb(15,15,15)",
           "width": 1
          },
          "type": "line",
          "x0": 0.0012066935123665758,
          "x1": 0.0013632630824437614,
          "y0": 84.64374999999998,
          "y1": 84.64374999999998
         },
         {
          "layer": "below",
          "line": {
           "color": "rgb(15,15,15)",
           "width": 1
          },
          "type": "line",
          "x0": 0.0013632630824437614,
          "x1": 0.0013632630824437614,
          "y0": 87.32499999999999,
          "y1": 81.96249999999999
         },
         {
          "layer": "below",
          "line": {
           "color": "rgb(15,15,15)",
           "width": 1
          },
          "type": "line",
          "x0": 0.0013632630824437614,
          "x1": 0.0015391858548532995,
          "y0": 81.96249999999999,
          "y1": 81.96249999999999
         },
         {
          "layer": "below",
          "line": {
           "color": "rgb(15,15,15)",
           "width": 1
          },
          "type": "line",
          "x0": 0.0015391858548532995,
          "x1": 0.0015391858548532995,
          "y0": 83.75,
          "y1": 80.17499999999998
         },
         {
          "layer": "below",
          "line": {
           "color": "rgb(15,15,15)",
           "width": 1
          },
          "type": "line",
          "x0": 0.0015391858548532995,
          "x1": 0.0018586723818745116,
          "y0": 80.17499999999998,
          "y1": 80.17499999999998
         },
         {
          "layer": "below",
          "line": {
           "color": "rgb(15,15,15)",
           "width": 1
          },
          "type": "line",
          "x0": 0.0018586723818745116,
          "x1": 0.0018586723818745116,
          "y0": 81.14999999999999,
          "y1": 79.19999999999999
         },
         {
          "layer": "below",
          "line": {
           "color": "rgb(15,15,15)",
           "width": 1
          },
          "type": "line",
          "x0": 0.0018586723818745116,
          "x1": 0.010693800606733535,
          "y0": 79.19999999999999,
          "y1": 79.19999999999999
         },
         {
          "layer": "below",
          "line": {
           "color": "rgb(15,15,15)",
           "width": 1
          },
          "type": "line",
          "x0": 0.0018586723818745116,
          "x1": 0.0039885941570154924,
          "y0": 81.14999999999999,
          "y1": 81.14999999999999
         },
         {
          "layer": "below",
          "line": {
           "color": "rgb(15,15,15)",
           "width": 1
          },
          "type": "line",
          "x0": 0.0039885941570154924,
          "x1": 0.0039885941570154924,
          "y0": 81.79999999999998,
          "y1": 80.5
         },
         {
          "layer": "below",
          "line": {
           "color": "rgb(15,15,15)",
           "width": 1
          },
          "type": "line",
          "x0": 0.0039885941570154924,
          "x1": 0.011293399569694927,
          "y0": 80.5,
          "y1": 80.5
         },
         {
          "layer": "below",
          "line": {
           "color": "rgb(15,15,15)",
           "width": 1
          },
          "type": "line",
          "x0": 0.0039885941570154924,
          "x1": 0.011870988744336057,
          "y0": 81.79999999999998,
          "y1": 81.79999999999998
         },
         {
          "layer": "below",
          "line": {
           "color": "rgb(15,15,15)",
           "width": 1
          },
          "type": "line",
          "x0": 0.0015391858548532995,
          "x1": 0.0017121118278320847,
          "y0": 83.75,
          "y1": 83.75
         },
         {
          "layer": "below",
          "line": {
           "color": "rgb(15,15,15)",
           "width": 1
          },
          "type": "line",
          "x0": 0.0017121118278320847,
          "x1": 0.0017121118278320847,
          "y0": 84.4,
          "y1": 83.1
         },
         {
          "layer": "below",
          "line": {
           "color": "rgb(15,15,15)",
           "width": 1
          },
          "type": "line",
          "x0": 0.0017121118278320847,
          "x1": 0.010414470295574022,
          "y0": 83.1,
          "y1": 83.1
         },
         {
          "layer": "below",
          "line": {
           "color": "rgb(15,15,15)",
           "width": 1
          },
          "type": "line",
          "x0": 0.0017121118278320847,
          "x1": 0.010020853360090148,
          "y0": 84.4,
          "y1": 84.4
         },
         {
          "layer": "below",
          "line": {
           "color": "rgb(15,15,15)",
           "width": 1
          },
          "type": "line",
          "x0": 0.0013632630824437614,
          "x1": 0.0015459168725342246,
          "y0": 87.32499999999999,
          "y1": 87.32499999999999
         },
         {
          "layer": "below",
          "line": {
           "color": "rgb(15,15,15)",
           "width": 1
          },
          "type": "line",
          "x0": 0.0015459168725342246,
          "x1": 0.0015459168725342246,
          "y0": 88.94999999999999,
          "y1": 85.69999999999999
         },
         {
          "layer": "below",
          "line": {
           "color": "rgb(15,15,15)",
           "width": 1
          },
          "type": "line",
          "x0": 0.0015459168725342246,
          "x1": 0.010979261648812634,
          "y0": 85.69999999999999,
          "y1": 85.69999999999999
         },
         {
          "layer": "below",
          "line": {
           "color": "rgb(15,15,15)",
           "width": 1
          },
          "type": "line",
          "x0": 0.0015459168725342246,
          "x1": 0.0017488220962558142,
          "y0": 88.94999999999999,
          "y1": 88.94999999999999
         },
         {
          "layer": "below",
          "line": {
           "color": "rgb(15,15,15)",
           "width": 1
          },
          "type": "line",
          "x0": 0.0017488220962558142,
          "x1": 0.0017488220962558142,
          "y0": 90.25,
          "y1": 87.64999999999999
         },
         {
          "layer": "below",
          "line": {
           "color": "rgb(15,15,15)",
           "width": 1
          },
          "type": "line",
          "x0": 0.0017488220962558142,
          "x1": 0.002664335605630816,
          "y0": 87.64999999999999,
          "y1": 87.64999999999999
         },
         {
          "layer": "below",
          "line": {
           "color": "rgb(15,15,15)",
           "width": 1
          },
          "type": "line",
          "x0": 0.002664335605630816,
          "x1": 0.002664335605630816,
          "y0": 88.29999999999998,
          "y1": 87
         },
         {
          "layer": "below",
          "line": {
           "color": "rgb(15,15,15)",
           "width": 1
          },
          "type": "line",
          "x0": 0.002664335605630816,
          "x1": 0.011241470589279073,
          "y0": 87,
          "y1": 87
         },
         {
          "layer": "below",
          "line": {
           "color": "rgb(15,15,15)",
           "width": 1
          },
          "type": "line",
          "x0": 0.002664335605630816,
          "x1": 0.01041790062198256,
          "y0": 88.29999999999998,
          "y1": 88.29999999999998
         },
         {
          "layer": "below",
          "line": {
           "color": "rgb(15,15,15)",
           "width": 1
          },
          "type": "line",
          "x0": 0.0017488220962558142,
          "x1": 0.002964358586880813,
          "y0": 90.25,
          "y1": 90.25
         },
         {
          "layer": "below",
          "line": {
           "color": "rgb(15,15,15)",
           "width": 1
          },
          "type": "line",
          "x0": 0.002964358586880813,
          "x1": 0.002964358586880813,
          "y0": 90.9,
          "y1": 89.6
         },
         {
          "layer": "below",
          "line": {
           "color": "rgb(15,15,15)",
           "width": 1
          },
          "type": "line",
          "x0": 0.002964358586880813,
          "x1": 0.01196387616714037,
          "y0": 89.6,
          "y1": 89.6
         },
         {
          "layer": "below",
          "line": {
           "color": "rgb(15,15,15)",
           "width": 1
          },
          "type": "line",
          "x0": 0.002964358586880813,
          "x1": 0.010239741006621256,
          "y0": 90.9,
          "y1": 90.9
         },
         {
          "layer": "below",
          "line": {
           "color": "rgb(15,15,15)",
           "width": 1
          },
          "type": "line",
          "x0": 0.0010179081299274673,
          "x1": 0.001121442278738359,
          "y0": 95.12499999999999,
          "y1": 95.12499999999999
         },
         {
          "layer": "below",
          "line": {
           "color": "rgb(15,15,15)",
           "width": 1
          },
          "type": "line",
          "x0": 0.001121442278738359,
          "x1": 0.001121442278738359,
          "y0": 97.07499999999999,
          "y1": 93.17499999999998
         },
         {
          "layer": "below",
          "line": {
           "color": "rgb(15,15,15)",
           "width": 1
          },
          "type": "line",
          "x0": 0.001121442278738359,
          "x1": 0.001263962398565215,
          "y0": 93.17499999999998,
          "y1": 93.17499999999998
         },
         {
          "layer": "below",
          "line": {
           "color": "rgb(15,15,15)",
           "width": 1
          },
          "type": "line",
          "x0": 0.001263962398565215,
          "x1": 0.001263962398565215,
          "y0": 94.14999999999999,
          "y1": 92.19999999999999
         },
         {
          "layer": "below",
          "line": {
           "color": "rgb(15,15,15)",
           "width": 1
          },
          "type": "line",
          "x0": 0.001263962398565215,
          "x1": 0.010436839831290911,
          "y0": 92.19999999999999,
          "y1": 92.19999999999999
         },
         {
          "layer": "below",
          "line": {
           "color": "rgb(15,15,15)",
           "width": 1
          },
          "type": "line",
          "x0": 0.001263962398565215,
          "x1": 0.003094184965839522,
          "y0": 94.14999999999999,
          "y1": 94.14999999999999
         },
         {
          "layer": "below",
          "line": {
           "color": "rgb(15,15,15)",
           "width": 1
          },
          "type": "line",
          "x0": 0.003094184965839522,
          "x1": 0.003094184965839522,
          "y0": 94.79999999999998,
          "y1": 93.5
         },
         {
          "layer": "below",
          "line": {
           "color": "rgb(15,15,15)",
           "width": 1
          },
          "type": "line",
          "x0": 0.003094184965839522,
          "x1": 0.009890988132175496,
          "y0": 93.5,
          "y1": 93.5
         },
         {
          "layer": "below",
          "line": {
           "color": "rgb(15,15,15)",
           "width": 1
          },
          "type": "line",
          "x0": 0.003094184965839522,
          "x1": 0.009313081799503548,
          "y0": 94.79999999999998,
          "y1": 94.79999999999998
         },
         {
          "layer": "below",
          "line": {
           "color": "rgb(15,15,15)",
           "width": 1
          },
          "type": "line",
          "x0": 0.001121442278738359,
          "x1": 0.0014506471589115022,
          "y0": 97.07499999999999,
          "y1": 97.07499999999999
         },
         {
          "layer": "below",
          "line": {
           "color": "rgb(15,15,15)",
           "width": 1
          },
          "type": "line",
          "x0": 0.0014506471589115022,
          "x1": 0.0014506471589115022,
          "y0": 98.05,
          "y1": 96.1
         },
         {
          "layer": "below",
          "line": {
           "color": "rgb(15,15,15)",
           "width": 1
          },
          "type": "line",
          "x0": 0.0014506471589115022,
          "x1": 0.01021349119001547,
          "y0": 96.1,
          "y1": 96.1
         },
         {
          "layer": "below",
          "line": {
           "color": "rgb(15,15,15)",
           "width": 1
          },
          "type": "line",
          "x0": 0.0014506471589115022,
          "x1": 0.0024717031278075332,
          "y0": 98.05,
          "y1": 98.05
         },
         {
          "layer": "below",
          "line": {
           "color": "rgb(15,15,15)",
           "width": 1
          },
          "type": "line",
          "x0": 0.0024717031278075332,
          "x1": 0.0024717031278075332,
          "y0": 98.69999999999999,
          "y1": 97.4
         },
         {
          "layer": "below",
          "line": {
           "color": "rgb(15,15,15)",
           "width": 1
          },
          "type": "line",
          "x0": 0.0024717031278075332,
          "x1": 0.009050631442201477,
          "y0": 97.4,
          "y1": 97.4
         },
         {
          "layer": "below",
          "line": {
           "color": "rgb(15,15,15)",
           "width": 1
          },
          "type": "line",
          "x0": 0.0024717031278075332,
          "x1": 0.010246474813413592,
          "y0": 98.69999999999999,
          "y1": 98.69999999999999
         },
         {
          "layer": "below",
          "line": {
           "color": "rgb(15,15,15)",
           "width": 1
          },
          "type": "line",
          "x0": 0.0005725017988070018,
          "x1": 0.0009331256797713384,
          "y0": 102.11249999999998,
          "y1": 102.11249999999998
         },
         {
          "layer": "below",
          "line": {
           "color": "rgb(15,15,15)",
           "width": 1
          },
          "type": "line",
          "x0": 0.0009331256797713384,
          "x1": 0.0009331256797713384,
          "y0": 103.57499999999999,
          "y1": 100.64999999999999
         },
         {
          "layer": "below",
          "line": {
           "color": "rgb(15,15,15)",
           "width": 1
          },
          "type": "line",
          "x0": 0.0009331256797713384,
          "x1": 0.0015351892102810414,
          "y0": 100.64999999999999,
          "y1": 100.64999999999999
         },
         {
          "layer": "below",
          "line": {
           "color": "rgb(15,15,15)",
           "width": 1
          },
          "type": "line",
          "x0": 0.0015351892102810414,
          "x1": 0.0015351892102810414,
          "y0": 101.29999999999998,
          "y1": 100
         },
         {
          "layer": "below",
          "line": {
           "color": "rgb(15,15,15)",
           "width": 1
          },
          "type": "line",
          "x0": 0.0015351892102810414,
          "x1": 0.009387496534499799,
          "y0": 100,
          "y1": 100
         },
         {
          "layer": "below",
          "line": {
           "color": "rgb(15,15,15)",
           "width": 1
          },
          "type": "line",
          "x0": 0.0015351892102810414,
          "x1": 0.009735981886062285,
          "y0": 101.29999999999998,
          "y1": 101.29999999999998
         },
         {
          "layer": "below",
          "line": {
           "color": "rgb(15,15,15)",
           "width": 1
          },
          "type": "line",
          "x0": 0.0009331256797713384,
          "x1": 0.0029163371492616354,
          "y0": 103.57499999999999,
          "y1": 103.57499999999999
         },
         {
          "layer": "below",
          "line": {
           "color": "rgb(15,15,15)",
           "width": 1
          },
          "type": "line",
          "x0": 0.0029163371492616354,
          "x1": 0.0029163371492616354,
          "y0": 104.54999999999998,
          "y1": 102.6
         },
         {
          "layer": "below",
          "line": {
           "color": "rgb(15,15,15)",
           "width": 1
          },
          "type": "line",
          "x0": 0.0029163371492616354,
          "x1": 0.009962385204817188,
          "y0": 102.6,
          "y1": 102.6
         },
         {
          "layer": "below",
          "line": {
           "color": "rgb(15,15,15)",
           "width": 1
          },
          "type": "line",
          "x0": 0.0029163371492616354,
          "x1": 0.004941189093706083,
          "y0": 104.54999999999998,
          "y1": 104.54999999999998
         },
         {
          "layer": "below",
          "line": {
           "color": "rgb(15,15,15)",
           "width": 1
          },
          "type": "line",
          "x0": 0.004941189093706083,
          "x1": 0.004941189093706083,
          "y0": 105.19999999999999,
          "y1": 103.89999999999999
         },
         {
          "layer": "below",
          "line": {
           "color": "rgb(15,15,15)",
           "width": 1
          },
          "type": "line",
          "x0": 0.004941189093706083,
          "x1": 0.01122603471870609,
          "y0": 103.89999999999999,
          "y1": 103.89999999999999
         },
         {
          "layer": "below",
          "line": {
           "color": "rgb(15,15,15)",
           "width": 1
          },
          "type": "line",
          "x0": 0.004941189093706083,
          "x1": 0.012504843468706076,
          "y0": 105.19999999999999,
          "y1": 105.19999999999999
         },
         {
          "layer": "below",
          "line": {
           "color": "rgb(15,15,15)",
           "width": 1
          },
          "type": "line",
          "x0": 0.0004364716881511112,
          "x1": 0.0005001153018604556,
          "y0": 112.4515625,
          "y1": 112.4515625
         },
         {
          "layer": "below",
          "line": {
           "color": "rgb(15,15,15)",
           "width": 1
          },
          "type": "line",
          "x0": 0.0005001153018604556,
          "x1": 0.0005001153018604556,
          "y0": 116.453125,
          "y1": 108.45
         },
         {
          "layer": "below",
          "line": {
           "color": "rgb(15,15,15)",
           "width": 1
          },
          "type": "line",
          "x0": 0.0005001153018604556,
          "x1": 0.0017198497528492242,
          "y0": 108.45,
          "y1": 108.45
         },
         {
          "layer": "below",
          "line": {
           "color": "rgb(15,15,15)",
           "width": 1
          },
          "type": "line",
          "x0": 0.0017198497528492242,
          "x1": 0.0017198497528492242,
          "y0": 109.75,
          "y1": 107.15
         },
         {
          "layer": "below",
          "line": {
           "color": "rgb(15,15,15)",
           "width": 1
          },
          "type": "line",
          "x0": 0.0017198497528492242,
          "x1": 0.002160871398434542,
          "y0": 107.15,
          "y1": 107.15
         },
         {
          "layer": "below",
          "line": {
           "color": "rgb(15,15,15)",
           "width": 1
          },
          "type": "line",
          "x0": 0.002160871398434542,
          "x1": 0.002160871398434542,
          "y0": 107.8,
          "y1": 106.5
         },
         {
          "layer": "below",
          "line": {
           "color": "rgb(15,15,15)",
           "width": 1
          },
          "type": "line",
          "x0": 0.002160871398434542,
          "x1": 0.011139307822947536,
          "y0": 106.5,
          "y1": 106.5
         },
         {
          "layer": "below",
          "line": {
           "color": "rgb(15,15,15)",
           "width": 1
          },
          "type": "line",
          "x0": 0.002160871398434542,
          "x1": 0.011617634973921548,
          "y0": 107.8,
          "y1": 107.8
         },
         {
          "layer": "below",
          "line": {
           "color": "rgb(15,15,15)",
           "width": 1
          },
          "type": "line",
          "x0": 0.0017198497528492242,
          "x1": 0.001922678107263908,
          "y0": 109.75,
          "y1": 109.75
         },
         {
          "layer": "below",
          "line": {
           "color": "rgb(15,15,15)",
           "width": 1
          },
          "type": "line",
          "x0": 0.001922678107263908,
          "x1": 0.001922678107263908,
          "y0": 110.39999999999999,
          "y1": 109.1
         },
         {
          "layer": "below",
          "line": {
           "color": "rgb(15,15,15)",
           "width": 1
          },
          "type": "line",
          "x0": 0.001922678107263908,
          "x1": 0.011845956870950036,
          "y0": 109.1,
          "y1": 109.1
         },
         {
          "layer": "below",
          "line": {
           "color": "rgb(15,15,15)",
           "width": 1
          },
          "type": "line",
          "x0": 0.001922678107263908,
          "x1": 0.012813899343577781,
          "y0": 110.39999999999999,
          "y1": 110.39999999999999
         },
         {
          "layer": "below",
          "line": {
           "color": "rgb(15,15,15)",
           "width": 1
          },
          "type": "line",
          "x0": 0.0005001153018604556,
          "x1": 0.0009104933508716856,
          "y0": 116.453125,
          "y1": 116.453125
         },
         {
          "layer": "below",
          "line": {
           "color": "rgb(15,15,15)",
           "width": 1
          },
          "type": "line",
          "x0": 0.0009104933508716856,
          "x1": 0.0009104933508716856,
          "y0": 119.58125,
          "y1": 113.32499999999999
         },
         {
          "layer": "below",
          "line": {
           "color": "rgb(15,15,15)",
           "width": 1
          },
          "type": "line",
          "x0": 0.0009104933508716856,
          "x1": 0.0022713693721932993,
          "y0": 113.32499999999999,
          "y1": 113.32499999999999
         },
         {
          "layer": "below",
          "line": {
           "color": "rgb(15,15,15)",
           "width": 1
          },
          "type": "line",
          "x0": 0.0022713693721932993,
          "x1": 0.0022713693721932993,
          "y0": 114.3,
          "y1": 112.35
         },
         {
          "layer": "below",
          "line": {
           "color": "rgb(15,15,15)",
           "width": 1
          },
          "type": "line",
          "x0": 0.0022713693721932993,
          "x1": 0.003814499616333929,
          "y0": 112.35,
          "y1": 112.35
         },
         {
          "layer": "below",
          "line": {
           "color": "rgb(15,15,15)",
           "width": 1
          },
          "type": "line",
          "x0": 0.003814499616333929,
          "x1": 0.003814499616333929,
          "y0": 113,
          "y1": 111.7
         },
         {
          "layer": "below",
          "line": {
           "color": "rgb(15,15,15)",
           "width": 1
          },
          "type": "line",
          "x0": 0.003814499616333929,
          "x1": 0.011988908286677065,
          "y0": 111.7,
          "y1": 111.7
         },
         {
          "layer": "below",
          "line": {
           "color": "rgb(15,15,15)",
           "width": 1
          },
          "type": "line",
          "x0": 0.003814499616333929,
          "x1": 0.009689290945990792,
          "y0": 113,
          "y1": 113
         },
         {
          "layer": "below",
          "line": {
           "color": "rgb(15,15,15)",
           "width": 1
          },
          "type": "line",
          "x0": 0.0022713693721932993,
          "x1": 0.010148439128052673,
          "y0": 114.3,
          "y1": 114.3
         },
         {
          "layer": "below",
          "line": {
           "color": "rgb(15,15,15)",
           "width": 1
          },
          "type": "line",
          "x0": 0.0009104933508716856,
          "x1": 0.0010808048295500713,
          "y0": 119.58125,
          "y1": 119.58125
         },
         {
          "layer": "below",
          "line": {
           "color": "rgb(15,15,15)",
           "width": 1
          },
          "type": "line",
          "x0": 0.0010808048295500713,
          "x1": 0.0010808048295500713,
          "y0": 120.8,
          "y1": 118.3625
         },
         {
          "layer": "below",
          "line": {
           "color": "rgb(15,15,15)",
           "width": 1
          },
          "type": "line",
          "x0": 0.0010808048295500713,
          "x1": 0.0011946984954571867,
          "y0": 118.3625,
          "y1": 118.3625
         },
         {
          "layer": "below",
          "line": {
           "color": "rgb(15,15,15)",
           "width": 1
          },
          "type": "line",
          "x0": 0.0011946984954571867,
          "x1": 0.0011946984954571867,
          "y0": 119.5,
          "y1": 117.225
         },
         {
          "layer": "below",
          "line": {
           "color": "rgb(15,15,15)",
           "width": 1
          },
          "type": "line",
          "x0": 0.0011946984954571867,
          "x1": 0.0015681705192667102,
          "y0": 117.225,
          "y1": 117.225
         },
         {
          "layer": "below",
          "line": {
           "color": "rgb(15,15,15)",
           "width": 1
          },
          "type": "line",
          "x0": 0.0015681705192667102,
          "x1": 0.0015681705192667102,
          "y0": 118.2,
          "y1": 116.25
         },
         {
          "layer": "below",
          "line": {
           "color": "rgb(15,15,15)",
           "width": 1
          },
          "type": "line",
          "x0": 0.0015681705192667102,
          "x1": 0.0043295952622765844,
          "y0": 116.25,
          "y1": 116.25
         },
         {
          "layer": "below",
          "line": {
           "color": "rgb(15,15,15)",
           "width": 1
          },
          "type": "line",
          "x0": 0.0043295952622765844,
          "x1": 0.0043295952622765844,
          "y0": 116.89999999999999,
          "y1": 115.6
         },
         {
          "layer": "below",
          "line": {
           "color": "rgb(15,15,15)",
           "width": 1
          },
          "type": "line",
          "x0": 0.0043295952622765844,
          "x1": 0.01149722070241743,
          "y0": 115.6,
          "y1": 115.6
         },
         {
          "layer": "below",
          "line": {
           "color": "rgb(15,15,15)",
           "width": 1
          },
          "type": "line",
          "x0": 0.0043295952622765844,
          "x1": 0.011824569822135738,
          "y0": 116.89999999999999,
          "y1": 116.89999999999999
         },
         {
          "layer": "below",
          "line": {
           "color": "rgb(15,15,15)",
           "width": 1
          },
          "type": "line",
          "x0": 0.0015681705192667102,
          "x1": 0.010499295776256839,
          "y0": 118.2,
          "y1": 118.2
         },
         {
          "layer": "below",
          "line": {
           "color": "rgb(15,15,15)",
           "width": 1
          },
          "type": "line",
          "x0": 0.0011946984954571867,
          "x1": 0.009005826471647662,
          "y0": 119.5,
          "y1": 119.5
         },
         {
          "layer": "below",
          "line": {
           "color": "rgb(15,15,15)",
           "width": 1
          },
          "type": "line",
          "x0": 0.0010808048295500713,
          "x1": 0.010009573663642957,
          "y0": 120.8,
          "y1": 120.8
         },
         {
          "layer": "below",
          "line": {
           "color": "rgb(15,15,15)",
           "width": 1
          },
          "type": "line",
          "x0": 7.478120667636393e-05,
          "x1": 0.00016429375980595723,
          "y0": 145.30036621093748,
          "y1": 145.30036621093748
         },
         {
          "layer": "below",
          "line": {
           "color": "rgb(15,15,15)",
           "width": 1
          },
          "type": "line",
          "x0": 0.00016429375980595723,
          "x1": 0.00016429375980595723,
          "y0": 160.46713867187498,
          "y1": 130.13359375
         },
         {
          "layer": "below",
          "line": {
           "color": "rgb(15,15,15)",
           "width": 1
          },
          "type": "line",
          "x0": 0.00016429375980595723,
          "x1": 0.0003237483995715773,
          "y0": 130.13359375,
          "y1": 130.13359375
         },
         {
          "layer": "below",
          "line": {
           "color": "rgb(15,15,15)",
           "width": 1
          },
          "type": "line",
          "x0": 0.0003237483995715773,
          "x1": 0.0003237483995715773,
          "y0": 136.5421875,
          "y1": 123.725
         },
         {
          "layer": "below",
          "line": {
           "color": "rgb(15,15,15)",
           "width": 1
          },
          "type": "line",
          "x0": 0.0003237483995715773,
          "x1": 0.0008898405830899871,
          "y0": 123.725,
          "y1": 123.725
         },
         {
          "layer": "below",
          "line": {
           "color": "rgb(15,15,15)",
           "width": 1
          },
          "type": "line",
          "x0": 0.0008898405830899871,
          "x1": 0.0008898405830899871,
          "y0": 125.35,
          "y1": 122.1
         },
         {
          "layer": "below",
          "line": {
           "color": "rgb(15,15,15)",
           "width": 1
          },
          "type": "line",
          "x0": 0.0008898405830899871,
          "x1": 0.010261507689835784,
          "y0": 122.1,
          "y1": 122.1
         },
         {
          "layer": "below",
          "line": {
           "color": "rgb(15,15,15)",
           "width": 1
          },
          "type": "line",
          "x0": 0.0008898405830899871,
          "x1": 0.0011420609763441916,
          "y0": 125.35,
          "y1": 125.35
         },
         {
          "layer": "below",
          "line": {
           "color": "rgb(15,15,15)",
           "width": 1
          },
          "type": "line",
          "x0": 0.0011420609763441916,
          "x1": 0.0011420609763441916,
          "y0": 126.65,
          "y1": 124.05
         },
         {
          "layer": "below",
          "line": {
           "color": "rgb(15,15,15)",
           "width": 1
          },
          "type": "line",
          "x0": 0.0011420609763441916,
          "x1": 0.0024753266794691896,
          "y0": 124.05,
          "y1": 124.05
         },
         {
          "layer": "below",
          "line": {
           "color": "rgb(15,15,15)",
           "width": 1
          },
          "type": "line",
          "x0": 0.0024753266794691896,
          "x1": 0.0024753266794691896,
          "y0": 124.7,
          "y1": 123.39999999999999
         },
         {
          "layer": "below",
          "line": {
           "color": "rgb(15,15,15)",
           "width": 1
          },
          "type": "line",
          "x0": 0.0024753266794691896,
          "x1": 0.011189514436822123,
          "y0": 123.39999999999999,
          "y1": 123.39999999999999
         },
         {
          "layer": "below",
          "line": {
           "color": "rgb(15,15,15)",
           "width": 1
          },
          "type": "line",
          "x0": 0.0024753266794691896,
          "x1": 0.011473338922116256,
          "y0": 124.7,
          "y1": 124.7
         },
         {
          "layer": "below",
          "line": {
           "color": "rgb(15,15,15)",
           "width": 1
          },
          "type": "line",
          "x0": 0.0011420609763441916,
          "x1": 0.0024521702732191917,
          "y0": 126.65,
          "y1": 126.65
         },
         {
          "layer": "below",
          "line": {
           "color": "rgb(15,15,15)",
           "width": 1
          },
          "type": "line",
          "x0": 0.0024521702732191917,
          "x1": 0.0024521702732191917,
          "y0": 127.3,
          "y1": 126
         },
         {
          "layer": "below",
          "line": {
           "color": "rgb(15,15,15)",
           "width": 1
          },
          "type": "line",
          "x0": 0.0024521702732191917,
          "x1": 0.011184269294411724,
          "y0": 126,
          "y1": 126
         },
         {
          "layer": "below",
          "line": {
           "color": "rgb(15,15,15)",
           "width": 1
          },
          "type": "line",
          "x0": 0.0024521702732191917,
          "x1": 0.01038837125202666,
          "y0": 127.3,
          "y1": 127.3
         },
         {
          "layer": "below",
          "line": {
           "color": "rgb(15,15,15)",
           "width": 1
          },
          "type": "line",
          "x0": 0.0003237483995715773,
          "x1": 0.00040861539574066737,
          "y0": 136.5421875,
          "y1": 136.5421875
         },
         {
          "layer": "below",
          "line": {
           "color": "rgb(15,15,15)",
           "width": 1
          },
          "type": "line",
          "x0": 0.00040861539574066737,
          "x1": 0.00040861539574066737,
          "y0": 141.7625,
          "y1": 131.321875
         },
         {
          "layer": "below",
          "line": {
           "color": "rgb(15,15,15)",
           "width": 1
          },
          "type": "line",
          "x0": 0.00040861539574066737,
          "x1": 0.0007064764250604319,
          "y0": 131.321875,
          "y1": 131.321875
         },
         {
          "layer": "below",
          "line": {
           "color": "rgb(15,15,15)",
           "width": 1
          },
          "type": "line",
          "x0": 0.0007064764250604319,
          "x1": 0.0007064764250604319,
          "y0": 133.39375,
          "y1": 129.25
         },
         {
          "layer": "below",
          "line": {
           "color": "rgb(15,15,15)",
           "width": 1
          },
          "type": "line",
          "x0": 0.0007064764250604319,
          "x1": 0.0011157036260771745,
          "y0": 129.25,
          "y1": 129.25
         },
         {
          "layer": "below",
          "line": {
           "color": "rgb(15,15,15)",
           "width": 1
          },
          "type": "line",
          "x0": 0.0011157036260771745,
          "x1": 0.0011157036260771745,
          "y0": 129.89999999999998,
          "y1": 128.6
         },
         {
          "layer": "below",
          "line": {
           "color": "rgb(15,15,15)",
           "width": 1
          },
          "type": "line",
          "x0": 0.0011157036260771745,
          "x1": 0.009828064734475613,
          "y0": 128.6,
          "y1": 128.6
         },
         {
          "layer": "below",
          "line": {
           "color": "rgb(15,15,15)",
           "width": 1
          },
          "type": "line",
          "x0": 0.0011157036260771745,
          "x1": 0.008456442517678738,
          "y0": 129.89999999999998,
          "y1": 129.89999999999998
         },
         {
          "layer": "below",
          "line": {
           "color": "rgb(15,15,15)",
           "width": 1
          },
          "type": "line",
          "x0": 0.0007064764250604319,
          "x1": 0.0013503242240436863,
          "y0": 133.39375,
          "y1": 133.39375
         },
         {
          "layer": "below",
          "line": {
           "color": "rgb(15,15,15)",
           "width": 1
          },
          "type": "line",
          "x0": 0.0013503242240436863,
          "x1": 0.0013503242240436863,
          "y0": 134.9375,
          "y1": 131.85
         },
         {
          "layer": "below",
          "line": {
           "color": "rgb(15,15,15)",
           "width": 1
          },
          "type": "line",
          "x0": 0.0013503242240436863,
          "x1": 0.0018516944253004798,
          "y0": 131.85,
          "y1": 131.85
         },
         {
          "layer": "below",
          "line": {
           "color": "rgb(15,15,15)",
           "width": 1
          },
          "type": "line",
          "x0": 0.0018516944253004798,
          "x1": 0.0018516944253004798,
          "y0": 132.5,
          "y1": 131.2
         },
         {
          "layer": "below",
          "line": {
           "color": "rgb(15,15,15)",
           "width": 1
          },
          "type": "line",
          "x0": 0.0018516944253004798,
          "x1": 0.009412226492767364,
          "y0": 131.2,
          "y1": 131.2
         },
         {
          "layer": "below",
          "line": {
           "color": "rgb(15,15,15)",
           "width": 1
          },
          "type": "line",
          "x0": 0.0018516944253004798,
          "x1": 0.008340362357833595,
          "y0": 132.5,
          "y1": 132.5
         },
         {
          "layer": "below",
          "line": {
           "color": "rgb(15,15,15)",
           "width": 1
          },
          "type": "line",
          "x0": 0.0013503242240436863,
          "x1": 0.0017260852727868942,
          "y0": 134.9375,
          "y1": 134.9375
         },
         {
          "layer": "below",
          "line": {
           "color": "rgb(15,15,15)",
           "width": 1
          },
          "type": "line",
          "x0": 0.0017260852727868942,
          "x1": 0.0017260852727868942,
          "y0": 136.075,
          "y1": 133.8
         },
         {
          "layer": "below",
          "line": {
           "color": "rgb(15,15,15)",
           "width": 1
          },
          "type": "line",
          "x0": 0.0017260852727868942,
          "x1": 0.00902668745975543,
          "y0": 133.8,
          "y1": 133.8
         },
         {
          "layer": "below",
          "line": {
           "color": "rgb(15,15,15)",
           "width": 1
          },
          "type": "line",
          "x0": 0.0017260852727868942,
          "x1": 0.002181358085818358,
          "y0": 136.075,
          "y1": 136.075
         },
         {
          "layer": "below",
          "line": {
           "color": "rgb(15,15,15)",
           "width": 1
          },
          "type": "line",
          "x0": 0.002181358085818358,
          "x1": 0.002181358085818358,
          "y0": 137.04999999999998,
          "y1": 135.1
         },
         {
          "layer": "below",
          "line": {
           "color": "rgb(15,15,15)",
           "width": 1
          },
          "type": "line",
          "x0": 0.002181358085818358,
          "x1": 0.009135345485780245,
          "y0": 135.1,
          "y1": 135.1
         },
         {
          "layer": "below",
          "line": {
           "color": "rgb(15,15,15)",
           "width": 1
          },
          "type": "line",
          "x0": 0.002181358085818358,
          "x1": 0.0026132706858564723,
          "y0": 137.04999999999998,
          "y1": 137.04999999999998
         },
         {
          "layer": "below",
          "line": {
           "color": "rgb(15,15,15)",
           "width": 1
          },
          "type": "line",
          "x0": 0.0026132706858564723,
          "x1": 0.0026132706858564723,
          "y0": 137.7,
          "y1": 136.39999999999998
         },
         {
          "layer": "below",
          "line": {
           "color": "rgb(15,15,15)",
           "width": 1
          },
          "type": "line",
          "x0": 0.0026132706858564723,
          "x1": 0.01313705443067691,
          "y0": 136.39999999999998,
          "y1": 136.39999999999998
         },
         {
          "layer": "below",
          "line": {
           "color": "rgb(15,15,15)",
           "width": 1
          },
          "type": "line",
          "x0": 0.0026132706858564723,
          "x1": 0.010402686941036039,
          "y0": 137.7,
          "y1": 137.7
         },
         {
          "layer": "below",
          "line": {
           "color": "rgb(15,15,15)",
           "width": 1
          },
          "type": "line",
          "x0": 0.00040861539574066737,
          "x1": 0.0009955758507959054,
          "y0": 141.7625,
          "y1": 141.7625
         },
         {
          "layer": "below",
          "line": {
           "color": "rgb(15,15,15)",
           "width": 1
          },
          "type": "line",
          "x0": 0.0009955758507959054,
          "x1": 0.0009955758507959054,
          "y0": 142.89999999999998,
          "y1": 140.625
         },
         {
          "layer": "below",
          "line": {
           "color": "rgb(15,15,15)",
           "width": 1
          },
          "type": "line",
          "x0": 0.0009955758507959054,
          "x1": 0.002285102568774935,
          "y0": 140.625,
          "y1": 140.625
         },
         {
          "layer": "below",
          "line": {
           "color": "rgb(15,15,15)",
           "width": 1
          },
          "type": "line",
          "x0": 0.002285102568774935,
          "x1": 0.002285102568774935,
          "y0": 141.6,
          "y1": 139.65
         },
         {
          "layer": "below",
          "line": {
           "color": "rgb(15,15,15)",
           "width": 1
          },
          "type": "line",
          "x0": 0.002285102568774935,
          "x1": 0.0034193963373761313,
          "y0": 139.65,
          "y1": 139.65
         },
         {
          "layer": "below",
          "line": {
           "color": "rgb(15,15,15)",
           "width": 1
          },
          "type": "line",
          "x0": 0.0034193963373761313,
          "x1": 0.0034193963373761313,
          "y0": 140.3,
          "y1": 139
         },
         {
          "layer": "below",
          "line": {
           "color": "rgb(15,15,15)",
           "width": 1
          },
          "type": "line",
          "x0": 0.0034193963373761313,
          "x1": 0.011154834905215332,
          "y0": 139,
          "y1": 139
         },
         {
          "layer": "below",
          "line": {
           "color": "rgb(15,15,15)",
           "width": 1
          },
          "type": "line",
          "x0": 0.0034193963373761313,
          "x1": 0.00958245776953693,
          "y0": 140.3,
          "y1": 140.3
         },
         {
          "layer": "below",
          "line": {
           "color": "rgb(15,15,15)",
           "width": 1
          },
          "type": "line",
          "x0": 0.002285102568774935,
          "x1": 0.008836758800173738,
          "y0": 141.6,
          "y1": 141.6
         },
         {
          "layer": "below",
          "line": {
           "color": "rgb(15,15,15)",
           "width": 1
          },
          "type": "line",
          "x0": 0.0009955758507959054,
          "x1": 0.010733349132816875,
          "y0": 142.89999999999998,
          "y1": 142.89999999999998
         },
         {
          "layer": "below",
          "line": {
           "color": "rgb(15,15,15)",
           "width": 1
          },
          "type": "line",
          "x0": 0.00016429375980595723,
          "x1": 0.00039503092263738353,
          "y0": 160.46713867187498,
          "y1": 160.46713867187498
         },
         {
          "layer": "below",
          "line": {
           "color": "rgb(15,15,15)",
           "width": 1
          },
          "type": "line",
          "x0": 0.00039503092263738353,
          "x1": 0.00039503092263738353,
          "y0": 173.72294921875,
          "y1": 147.211328125
         },
         {
          "layer": "below",
          "line": {
           "color": "rgb(15,15,15)",
           "width": 1
          },
          "type": "line",
          "x0": 0.00039503092263738353,
          "x1": 0.0008974406158491599,
          "y0": 147.211328125,
          "y1": 147.211328125
         },
         {
          "layer": "below",
          "line": {
           "color": "rgb(15,15,15)",
           "width": 1
          },
          "type": "line",
          "x0": 0.0008974406158491599,
          "x1": 0.0008974406158491599,
          "y0": 150.22265625,
          "y1": 144.2
         },
         {
          "layer": "below",
          "line": {
           "color": "rgb(15,15,15)",
           "width": 1
          },
          "type": "line",
          "x0": 0.0008974406158491599,
          "x1": 0.011199976018805034,
          "y0": 144.2,
          "y1": 144.2
         },
         {
          "layer": "below",
          "line": {
           "color": "rgb(15,15,15)",
           "width": 1
          },
          "type": "line",
          "x0": 0.0008974406158491599,
          "x1": 0.0012739849003932837,
          "y0": 150.22265625,
          "y1": 150.22265625
         },
         {
          "layer": "below",
          "line": {
           "color": "rgb(15,15,15)",
           "width": 1
          },
          "type": "line",
          "x0": 0.0012739849003932837,
          "x1": 0.0012739849003932837,
          "y0": 153.97031249999998,
          "y1": 146.475
         },
         {
          "layer": "below",
          "line": {
           "color": "rgb(15,15,15)",
           "width": 1
          },
          "type": "line",
          "x0": 0.0012739849003932837,
          "x1": 0.005797105436873809,
          "y0": 146.475,
          "y1": 146.475
         },
         {
          "layer": "below",
          "line": {
           "color": "rgb(15,15,15)",
           "width": 1
          },
          "type": "line",
          "x0": 0.005797105436873809,
          "x1": 0.005797105436873809,
          "y0": 147.45,
          "y1": 145.5
         },
         {
          "layer": "below",
          "line": {
           "color": "rgb(15,15,15)",
           "width": 1
          },
          "type": "line",
          "x0": 0.005797105436873809,
          "x1": 0.011772598467847267,
          "y0": 145.5,
          "y1": 145.5
         },
         {
          "layer": "below",
          "line": {
           "color": "rgb(15,15,15)",
           "width": 1
          },
          "type": "line",
          "x0": 0.005797105436873809,
          "x1": 0.0063744124059003536,
          "y0": 147.45,
          "y1": 147.45
         },
         {
          "layer": "below",
          "line": {
           "color": "rgb(15,15,15)",
           "width": 1
          },
          "type": "line",
          "x0": 0.0063744124059003536,
          "x1": 0.0063744124059003536,
          "y0": 148.1,
          "y1": 146.8
         },
         {
          "layer": "below",
          "line": {
           "color": "rgb(15,15,15)",
           "width": 1
          },
          "type": "line",
          "x0": 0.0063744124059003536,
          "x1": 0.012956904511163502,
          "y0": 146.8,
          "y1": 146.8
         },
         {
          "layer": "below",
          "line": {
           "color": "rgb(15,15,15)",
           "width": 1
          },
          "type": "line",
          "x0": 0.0063744124059003536,
          "x1": 0.013640420300637203,
          "y0": 148.1,
          "y1": 148.1
         },
         {
          "layer": "below",
          "line": {
           "color": "rgb(15,15,15)",
           "width": 1
          },
          "type": "line",
          "x0": 0.0012739849003932837,
          "x1": 0.00166584873891276,
          "y0": 153.97031249999998,
          "y1": 153.97031249999998
         },
         {
          "layer": "below",
          "line": {
           "color": "rgb(15,15,15)",
           "width": 1
          },
          "type": "line",
          "x0": 0.00166584873891276,
          "x1": 0.00166584873891276,
          "y0": 157.2,
          "y1": 150.74062499999997
         },
         {
          "layer": "below",
          "line": {
           "color": "rgb(15,15,15)",
           "width": 1
          },
          "type": "line",
          "x0": 0.00166584873891276,
          "x1": 0.002982425760170028,
          "y0": 150.74062499999997,
          "y1": 150.74062499999997
         },
         {
          "layer": "below",
          "line": {
           "color": "rgb(15,15,15)",
           "width": 1
          },
          "type": "line",
          "x0": 0.002982425760170028,
          "x1": 0.002982425760170028,
          "y0": 152.08124999999998,
          "y1": 149.39999999999998
         },
         {
          "layer": "below",
          "line": {
           "color": "rgb(15,15,15)",
           "width": 1
          },
          "type": "line",
          "x0": 0.002982425760170028,
          "x1": 0.011965898717222164,
          "y0": 149.39999999999998,
          "y1": 149.39999999999998
         },
         {
          "layer": "below",
          "line": {
           "color": "rgb(15,15,15)",
           "width": 1
          },
          "type": "line",
          "x0": 0.002982425760170028,
          "x1": 0.0033850340531178923,
          "y0": 152.08124999999998,
          "y1": 152.08124999999998
         },
         {
          "layer": "below",
          "line": {
           "color": "rgb(15,15,15)",
           "width": 1
          },
          "type": "line",
          "x0": 0.0033850340531178923,
          "x1": 0.0033850340531178923,
          "y0": 153.46249999999998,
          "y1": 150.7
         },
         {
          "layer": "below",
          "line": {
           "color": "rgb(15,15,15)",
           "width": 1
          },
          "type": "line",
          "x0": 0.0033850340531178923,
          "x1": 0.01151244386434885,
          "y0": 150.7,
          "y1": 150.7
         },
         {
          "layer": "below",
          "line": {
           "color": "rgb(15,15,15)",
           "width": 1
          },
          "type": "line",
          "x0": 0.0033850340531178923,
          "x1": 0.004102861741886933,
          "y0": 153.46249999999998,
          "y1": 153.46249999999998
         },
         {
          "layer": "below",
          "line": {
           "color": "rgb(15,15,15)",
           "width": 1
          },
          "type": "line",
          "x0": 0.004102861741886933,
          "x1": 0.004102861741886933,
          "y0": 154.92499999999998,
          "y1": 152
         },
         {
          "layer": "below",
          "line": {
           "color": "rgb(15,15,15)",
           "width": 1
          },
          "type": "line",
          "x0": 0.004102861741886933,
          "x1": 0.011499692783553596,
          "y0": 152,
          "y1": 152
         },
         {
          "layer": "below",
          "line": {
           "color": "rgb(15,15,15)",
           "width": 1
          },
          "type": "line",
          "x0": 0.004102861741886933,
          "x1": 0.005105505700220268,
          "y0": 154.92499999999998,
          "y1": 154.92499999999998
         },
         {
          "layer": "below",
          "line": {
           "color": "rgb(15,15,15)",
           "width": 1
          },
          "type": "line",
          "x0": 0.005105505700220268,
          "x1": 0.005105505700220268,
          "y0": 155.89999999999998,
          "y1": 153.95
         },
         {
          "layer": "below",
          "line": {
           "color": "rgb(15,15,15)",
           "width": 1
          },
          "type": "line",
          "x0": 0.005105505700220268,
          "x1": 0.005570643425445499,
          "y0": 153.95,
          "y1": 153.95
         },
         {
          "layer": "below",
          "line": {
           "color": "rgb(15,15,15)",
           "width": 1
          },
          "type": "line",
          "x0": 0.005570643425445499,
          "x1": 0.005570643425445499,
          "y0": 154.6,
          "y1": 153.3
         },
         {
          "layer": "below",
          "line": {
           "color": "rgb(15,15,15)",
           "width": 1
          },
          "type": "line",
          "x0": 0.005570643425445499,
          "x1": 0.011534661282588357,
          "y0": 153.3,
          "y1": 153.3
         },
         {
          "layer": "below",
          "line": {
           "color": "rgb(15,15,15)",
           "width": 1
          },
          "type": "line",
          "x0": 0.005570643425445499,
          "x1": 0.012194125568302641,
          "y0": 154.6,
          "y1": 154.6
         },
         {
          "layer": "below",
          "line": {
           "color": "rgb(15,15,15)",
           "width": 1
          },
          "type": "line",
          "x0": 0.005105505700220268,
          "x1": 0.012233917974995036,
          "y0": 155.89999999999998,
          "y1": 155.89999999999998
         },
         {
          "layer": "below",
          "line": {
           "color": "rgb(15,15,15)",
           "width": 1
          },
          "type": "line",
          "x0": 0.00166584873891276,
          "x1": 0.01087669046765549,
          "y0": 157.2,
          "y1": 157.2
         },
         {
          "layer": "below",
          "line": {
           "color": "rgb(15,15,15)",
           "width": 1
          },
          "type": "line",
          "x0": 0.00039503092263738353,
          "x1": 0.0007762883604680879,
          "y0": 173.72294921875,
          "y1": 173.72294921875
         },
         {
          "layer": "below",
          "line": {
           "color": "rgb(15,15,15)",
           "width": 1
          },
          "type": "line",
          "x0": 0.0007762883604680879,
          "x1": 0.0007762883604680879,
          "y0": 184.8021484375,
          "y1": 162.64375
         },
         {
          "layer": "below",
          "line": {
           "color": "rgb(15,15,15)",
           "width": 1
          },
          "type": "line",
          "x0": 0.0007762883604680879,
          "x1": 0.001522256695312644,
          "y0": 162.64375,
          "y1": 162.64375
         },
         {
          "layer": "below",
          "line": {
           "color": "rgb(15,15,15)",
           "width": 1
          },
          "type": "line",
          "x0": 0.001522256695312644,
          "x1": 0.001522256695312644,
          "y0": 164.35,
          "y1": 160.9375
         },
         {
          "layer": "below",
          "line": {
           "color": "rgb(15,15,15)",
           "width": 1
          },
          "type": "line",
          "x0": 0.001522256695312644,
          "x1": 0.001693727464617911,
          "y0": 160.9375,
          "y1": 160.9375
         },
         {
          "layer": "below",
          "line": {
           "color": "rgb(15,15,15)",
           "width": 1
          },
          "type": "line",
          "x0": 0.001693727464617911,
          "x1": 0.001693727464617911,
          "y0": 162.39999999999998,
          "y1": 159.475
         },
         {
          "layer": "below",
          "line": {
           "color": "rgb(15,15,15)",
           "width": 1
          },
          "type": "line",
          "x0": 0.001693727464617911,
          "x1": 0.0037017287527858524,
          "y0": 159.475,
          "y1": 159.475
         },
         {
          "layer": "below",
          "line": {
           "color": "rgb(15,15,15)",
           "width": 1
          },
          "type": "line",
          "x0": 0.0037017287527858524,
          "x1": 0.0037017287527858524,
          "y0": 160.45,
          "y1": 158.5
         },
         {
          "layer": "below",
          "line": {
           "color": "rgb(15,15,15)",
           "width": 1
          },
          "type": "line",
          "x0": 0.0037017287527858524,
          "x1": 0.009366643138561715,
          "y0": 158.5,
          "y1": 158.5
         },
         {
          "layer": "below",
          "line": {
           "color": "rgb(15,15,15)",
           "width": 1
          },
          "type": "line",
          "x0": 0.0037017287527858524,
          "x1": 0.005475464367009988,
          "y0": 160.45,
          "y1": 160.45
         },
         {
          "layer": "below",
          "line": {
           "color": "rgb(15,15,15)",
           "width": 1
          },
          "type": "line",
          "x0": 0.005475464367009988,
          "x1": 0.005475464367009988,
          "y0": 161.1,
          "y1": 159.8
         },
         {
          "layer": "below",
          "line": {
           "color": "rgb(15,15,15)",
           "width": 1
          },
          "type": "line",
          "x0": 0.005475464367009988,
          "x1": 0.01263141847812109,
          "y0": 159.8,
          "y1": 159.8
         },
         {
          "layer": "below",
          "line": {
           "color": "rgb(15,15,15)",
           "width": 1
          },
          "type": "line",
          "x0": 0.005475464367009988,
          "x1": 0.011239310255898886,
          "y0": 161.1,
          "y1": 161.1
         },
         {
          "layer": "below",
          "line": {
           "color": "rgb(15,15,15)",
           "width": 1
          },
          "type": "line",
          "x0": 0.001693727464617911,
          "x1": 0.01131802617644997,
          "y0": 162.39999999999998,
          "y1": 162.39999999999998
         },
         {
          "layer": "below",
          "line": {
           "color": "rgb(15,15,15)",
           "width": 1
          },
          "type": "line",
          "x0": 0.001522256695312644,
          "x1": 0.0031627734260073776,
          "y0": 164.35,
          "y1": 164.35
         },
         {
          "layer": "below",
          "line": {
           "color": "rgb(15,15,15)",
           "width": 1
          },
          "type": "line",
          "x0": 0.0031627734260073776,
          "x1": 0.0031627734260073776,
          "y0": 165,
          "y1": 163.7
         },
         {
          "layer": "below",
          "line": {
           "color": "rgb(15,15,15)",
           "width": 1
          },
          "type": "line",
          "x0": 0.0031627734260073776,
          "x1": 0.012595030204978723,
          "y0": 163.7,
          "y1": 163.7
         },
         {
          "layer": "below",
          "line": {
           "color": "rgb(15,15,15)",
           "width": 1
          },
          "type": "line",
          "x0": 0.0031627734260073776,
          "x1": 0.011922216647036033,
          "y0": 165,
          "y1": 165
         },
         {
          "layer": "below",
          "line": {
           "color": "rgb(15,15,15)",
           "width": 1
          },
          "type": "line",
          "x0": 0.0007762883604680879,
          "x1": 0.0008757769531137651,
          "y0": 184.8021484375,
          "y1": 184.8021484375
         },
         {
          "layer": "below",
          "line": {
           "color": "rgb(15,15,15)",
           "width": 1
          },
          "type": "line",
          "x0": 0.0008757769531137651,
          "x1": 0.0008757769531137651,
          "y0": 198.612109375,
          "y1": 170.9921875
         },
         {
          "layer": "below",
          "line": {
           "color": "rgb(15,15,15)",
           "width": 1
          },
          "type": "line",
          "x0": 0.0008757769531137651,
          "x1": 0.0016190140842382338,
          "y0": 170.9921875,
          "y1": 170.9921875
         },
         {
          "layer": "below",
          "line": {
           "color": "rgb(15,15,15)",
           "width": 1
          },
          "type": "line",
          "x0": 0.0016190140842382338,
          "x1": 0.0016190140842382338,
          "y0": 174.059375,
          "y1": 167.925
         },
         {
          "layer": "below",
          "line": {
           "color": "rgb(15,15,15)",
           "width": 1
          },
          "type": "line",
          "x0": 0.0016190140842382338,
          "x1": 0.0022174328562509114,
          "y0": 167.925,
          "y1": 167.925
         },
         {
          "layer": "below",
          "line": {
           "color": "rgb(15,15,15)",
           "width": 1
          },
          "type": "line",
          "x0": 0.0022174328562509114,
          "x1": 0.0022174328562509114,
          "y0": 168.9,
          "y1": 166.95
         },
         {
          "layer": "below",
          "line": {
           "color": "rgb(15,15,15)",
           "width": 1
          },
          "type": "line",
          "x0": 0.0022174328562509114,
          "x1": 0.002797412044758976,
          "y0": 166.95,
          "y1": 166.95
         },
         {
          "layer": "below",
          "line": {
           "color": "rgb(15,15,15)",
           "width": 1
          },
          "type": "line",
          "x0": 0.002797412044758976,
          "x1": 0.002797412044758976,
          "y0": 167.6,
          "y1": 166.3
         },
         {
          "layer": "below",
          "line": {
           "color": "rgb(15,15,15)",
           "width": 1
          },
          "type": "line",
          "x0": 0.002797412044758976,
          "x1": 0.011144993705024336,
          "y0": 166.3,
          "y1": 166.3
         },
         {
          "layer": "below",
          "line": {
           "color": "rgb(15,15,15)",
           "width": 1
          },
          "type": "line",
          "x0": 0.002797412044758976,
          "x1": 0.011174930384493617,
          "y0": 167.6,
          "y1": 167.6
         },
         {
          "layer": "below",
          "line": {
           "color": "rgb(15,15,15)",
           "width": 1
          },
          "type": "line",
          "x0": 0.0022174328562509114,
          "x1": 0.01140690366774285,
          "y0": 168.9,
          "y1": 168.9
         },
         {
          "layer": "below",
          "line": {
           "color": "rgb(15,15,15)",
           "width": 1
          },
          "type": "line",
          "x0": 0.0016190140842382338,
          "x1": 0.0032770953122255534,
          "y0": 174.059375,
          "y1": 174.059375
         },
         {
          "layer": "below",
          "line": {
           "color": "rgb(15,15,15)",
           "width": 1
          },
          "type": "line",
          "x0": 0.0032770953122255534,
          "x1": 0.0032770953122255534,
          "y0": 176.7,
          "y1": 171.41875
         },
         {
          "layer": "below",
          "line": {
           "color": "rgb(15,15,15)",
           "width": 1
          },
          "type": "line",
          "x0": 0.0032770953122255534,
          "x1": 0.004267892175081769,
          "y0": 171.41875,
          "y1": 171.41875
         },
         {
          "layer": "below",
          "line": {
           "color": "rgb(15,15,15)",
           "width": 1
          },
          "type": "line",
          "x0": 0.004267892175081769,
          "x1": 0.004267892175081769,
          "y0": 172.6375,
          "y1": 170.2
         },
         {
          "layer": "below",
          "line": {
           "color": "rgb(15,15,15)",
           "width": 1
          },
          "type": "line",
          "x0": 0.004267892175081769,
          "x1": 0.013102528650612427,
          "y0": 170.2,
          "y1": 170.2
         },
         {
          "layer": "below",
          "line": {
           "color": "rgb(15,15,15)",
           "width": 1
          },
          "type": "line",
          "x0": 0.004267892175081769,
          "x1": 0.004404805699551111,
          "y0": 172.6375,
          "y1": 172.6375
         },
         {
          "layer": "below",
          "line": {
           "color": "rgb(15,15,15)",
           "width": 1
          },
          "type": "line",
          "x0": 0.004404805699551111,
          "x1": 0.004404805699551111,
          "y0": 173.775,
          "y1": 171.5
         },
         {
          "layer": "below",
          "line": {
           "color": "rgb(15,15,15)",
           "width": 1
          },
          "type": "line",
          "x0": 0.004404805699551111,
          "x1": 0.011231008824551117,
          "y0": 171.5,
          "y1": 171.5
         },
         {
          "layer": "below",
          "line": {
           "color": "rgb(15,15,15)",
           "width": 1
          },
          "type": "line",
          "x0": 0.004404805699551111,
          "x1": 0.004888102574551105,
          "y0": 173.775,
          "y1": 173.775
         },
         {
          "layer": "below",
          "line": {
           "color": "rgb(15,15,15)",
           "width": 1
          },
          "type": "line",
          "x0": 0.004888102574551105,
          "x1": 0.004888102574551105,
          "y0": 174.75,
          "y1": 172.8
         },
         {
          "layer": "below",
          "line": {
           "color": "rgb(15,15,15)",
           "width": 1
          },
          "type": "line",
          "x0": 0.004888102574551105,
          "x1": 0.014846539361080791,
          "y0": 172.8,
          "y1": 172.8
         },
         {
          "layer": "below",
          "line": {
           "color": "rgb(15,15,15)",
           "width": 1
          },
          "type": "line",
          "x0": 0.004888102574551105,
          "x1": 0.0054200157880214175,
          "y0": 174.75,
          "y1": 174.75
         },
         {
          "layer": "below",
          "line": {
           "color": "rgb(15,15,15)",
           "width": 1
          },
          "type": "line",
          "x0": 0.0054200157880214175,
          "x1": 0.0054200157880214175,
          "y0": 175.4,
          "y1": 174.1
         },
         {
          "layer": "below",
          "line": {
           "color": "rgb(15,15,15)",
           "width": 1
          },
          "type": "line",
          "x0": 0.0054200157880214175,
          "x1": 0.012047903400129033,
          "y0": 174.1,
          "y1": 174.1
         },
         {
          "layer": "below",
          "line": {
           "color": "rgb(15,15,15)",
           "width": 1
          },
          "type": "line",
          "x0": 0.0054200157880214175,
          "x1": 0.011664128175913802,
          "y0": 175.4,
          "y1": 175.4
         },
         {
          "layer": "below",
          "line": {
           "color": "rgb(15,15,15)",
           "width": 1
          },
          "type": "line",
          "x0": 0.0032770953122255534,
          "x1": 0.012645198449369338,
          "y0": 176.7,
          "y1": 176.7
         },
         {
          "layer": "below",
          "line": {
           "color": "rgb(15,15,15)",
           "width": 1
          },
          "type": "line",
          "x0": 0.0008757769531137651,
          "x1": 0.0009783805019209376,
          "y0": 198.612109375,
          "y1": 198.612109375
         },
         {
          "layer": "below",
          "line": {
           "color": "rgb(15,15,15)",
           "width": 1
          },
          "type": "line",
          "x0": 0.0009783805019209376,
          "x1": 0.0009783805019209376,
          "y0": 207.52421875,
          "y1": 189.70000000000002
         },
         {
          "layer": "below",
          "line": {
           "color": "rgb(15,15,15)",
           "width": 1
          },
          "type": "line",
          "x0": 0.0009783805019209376,
          "x1": 0.001174553753177745,
          "y0": 189.70000000000002,
          "y1": 189.70000000000002
         },
         {
          "layer": "below",
          "line": {
           "color": "rgb(15,15,15)",
           "width": 1
          },
          "type": "line",
          "x0": 0.001174553753177745,
          "x1": 0.001174553753177745,
          "y0": 198.39375,
          "y1": 181.00625000000002
         },
         {
          "layer": "below",
          "line": {
           "color": "rgb(15,15,15)",
           "width": 1
          },
          "type": "line",
          "x0": 0.001174553753177745,
          "x1": 0.0012846389559083653,
          "y0": 181.00625000000002,
          "y1": 181.00625000000002
         },
         {
          "layer": "below",
          "line": {
           "color": "rgb(15,15,15)",
           "width": 1
          },
          "type": "line",
          "x0": 0.0012846389559083653,
          "x1": 0.0012846389559083653,
          "y0": 184.01250000000002,
          "y1": 178
         },
         {
          "layer": "below",
          "line": {
           "color": "rgb(15,15,15)",
           "width": 1
          },
          "type": "line",
          "x0": 0.0012846389559083653,
          "x1": 0.011911146659874562,
          "y0": 178,
          "y1": 178
         },
         {
          "layer": "below",
          "line": {
           "color": "rgb(15,15,15)",
           "width": 1
          },
          "type": "line",
          "x0": 0.0012846389559083653,
          "x1": 0.0015828425800671684,
          "y0": 184.01250000000002,
          "y1": 184.01250000000002
         },
         {
          "layer": "below",
          "line": {
           "color": "rgb(15,15,15)",
           "width": 1
          },
          "type": "line",
          "x0": 0.0015828425800671684,
          "x1": 0.0015828425800671684,
          "y0": 187.50625000000002,
          "y1": 180.51875
         },
         {
          "layer": "below",
          "line": {
           "color": "rgb(15,15,15)",
           "width": 1
          },
          "type": "line",
          "x0": 0.0015828425800671684,
          "x1": 0.001994597732460158,
          "y0": 180.51875,
          "y1": 180.51875
         },
         {
          "layer": "below",
          "line": {
           "color": "rgb(15,15,15)",
           "width": 1
          },
          "type": "line",
          "x0": 0.001994597732460158,
          "x1": 0.001994597732460158,
          "y0": 181.7375,
          "y1": 179.3
         },
         {
          "layer": "below",
          "line": {
           "color": "rgb(15,15,15)",
           "width": 1
          },
          "type": "line",
          "x0": 0.001994597732460158,
          "x1": 0.012831098116207954,
          "y0": 179.3,
          "y1": 179.3
         },
         {
          "layer": "below",
          "line": {
           "color": "rgb(15,15,15)",
           "width": 1
          },
          "type": "line",
          "x0": 0.001994597732460158,
          "x1": 0.00206225984871236,
          "y0": 181.7375,
          "y1": 181.7375
         },
         {
          "layer": "below",
          "line": {
           "color": "rgb(15,15,15)",
           "width": 1
          },
          "type": "line",
          "x0": 0.00206225984871236,
          "x1": 0.00206225984871236,
          "y0": 182.875,
          "y1": 180.6
         },
         {
          "layer": "below",
          "line": {
           "color": "rgb(15,15,15)",
           "width": 1
          },
          "type": "line",
          "x0": 0.00206225984871236,
          "x1": 0.010784987566923561,
          "y0": 180.6,
          "y1": 180.6
         },
         {
          "layer": "below",
          "line": {
           "color": "rgb(15,15,15)",
           "width": 1
          },
          "type": "line",
          "x0": 0.00206225984871236,
          "x1": 0.004118407130501158,
          "y0": 182.875,
          "y1": 182.875
         },
         {
          "layer": "below",
          "line": {
           "color": "rgb(15,15,15)",
           "width": 1
          },
          "type": "line",
          "x0": 0.004118407130501158,
          "x1": 0.004118407130501158,
          "y0": 183.85,
          "y1": 181.9
         },
         {
          "layer": "below",
          "line": {
           "color": "rgb(15,15,15)",
           "width": 1
          },
          "type": "line",
          "x0": 0.004118407130501158,
          "x1": 0.011122001616679048,
          "y0": 181.9,
          "y1": 181.9
         },
         {
          "layer": "below",
          "line": {
           "color": "rgb(15,15,15)",
           "width": 1
          },
          "type": "line",
          "x0": 0.004118407130501158,
          "x1": 0.004677962644323267,
          "y0": 183.85,
          "y1": 183.85
         },
         {
          "layer": "below",
          "line": {
           "color": "rgb(15,15,15)",
           "width": 1
          },
          "type": "line",
          "x0": 0.004677962644323267,
          "x1": 0.004677962644323267,
          "y0": 184.5,
          "y1": 183.2
         },
         {
          "layer": "below",
          "line": {
           "color": "rgb(15,15,15)",
           "width": 1
          },
          "type": "line",
          "x0": 0.004677962644323267,
          "x1": 0.012340294038332481,
          "y0": 183.2,
          "y1": 183.2
         },
         {
          "layer": "below",
          "line": {
           "color": "rgb(15,15,15)",
           "width": 1
          },
          "type": "line",
          "x0": 0.004677962644323267,
          "x1": 0.010370331250314054,
          "y0": 184.5,
          "y1": 184.5
         },
         {
          "layer": "below",
          "line": {
           "color": "rgb(15,15,15)",
           "width": 1
          },
          "type": "line",
          "x0": 0.0015828425800671684,
          "x1": 0.0023475397714241802,
          "y0": 187.50625000000002,
          "y1": 187.50625000000002
         },
         {
          "layer": "below",
          "line": {
           "color": "rgb(15,15,15)",
           "width": 1
          },
          "type": "line",
          "x0": 0.0023475397714241802,
          "x1": 0.0023475397714241802,
          "y0": 189.2125,
          "y1": 185.8
         },
         {
          "layer": "below",
          "line": {
           "color": "rgb(15,15,15)",
           "width": 1
          },
          "type": "line",
          "x0": 0.0023475397714241802,
          "x1": 0.011118015775182094,
          "y0": 185.8,
          "y1": 185.8
         },
         {
          "layer": "below",
          "line": {
           "color": "rgb(15,15,15)",
           "width": 1
          },
          "type": "line",
          "x0": 0.0023475397714241802,
          "x1": 0.0026178012676662667,
          "y0": 189.2125,
          "y1": 189.2125
         },
         {
          "layer": "below",
          "line": {
           "color": "rgb(15,15,15)",
           "width": 1
          },
          "type": "line",
          "x0": 0.0026178012676662667,
          "x1": 0.0026178012676662667,
          "y0": 190.675,
          "y1": 187.75
         },
         {
          "layer": "below",
          "line": {
           "color": "rgb(15,15,15)",
           "width": 1
          },
          "type": "line",
          "x0": 0.0026178012676662667,
          "x1": 0.0037453237168379497,
          "y0": 187.75,
          "y1": 187.75
         },
         {
          "layer": "below",
          "line": {
           "color": "rgb(15,15,15)",
           "width": 1
          },
          "type": "line",
          "x0": 0.0037453237168379497,
          "x1": 0.0037453237168379497,
          "y0": 188.4,
          "y1": 187.1
         },
         {
          "layer": "below",
          "line": {
           "color": "rgb(15,15,15)",
           "width": 1
          },
          "type": "line",
          "x0": 0.0037453237168379497,
          "x1": 0.010863945055221789,
          "y0": 187.1,
          "y1": 187.1
         },
         {
          "layer": "below",
          "line": {
           "color": "rgb(15,15,15)",
           "width": 1
          },
          "type": "line",
          "x0": 0.0037453237168379497,
          "x1": 0.010177502378454112,
          "y0": 188.4,
          "y1": 188.4
         },
         {
          "layer": "below",
          "line": {
           "color": "rgb(15,15,15)",
           "width": 1
          },
          "type": "line",
          "x0": 0.0026178012676662667,
          "x1": 0.003337453818494583,
          "y0": 190.675,
          "y1": 190.675
         },
         {
          "layer": "below",
          "line": {
           "color": "rgb(15,15,15)",
           "width": 1
          },
          "type": "line",
          "x0": 0.003337453818494583,
          "x1": 0.003337453818494583,
          "y0": 191.65,
          "y1": 189.7
         },
         {
          "layer": "below",
          "line": {
           "color": "rgb(15,15,15)",
           "width": 1
          },
          "type": "line",
          "x0": 0.003337453818494583,
          "x1": 0.012717315680405572,
          "y0": 189.7,
          "y1": 189.7
         },
         {
          "layer": "below",
          "line": {
           "color": "rgb(15,15,15)",
           "width": 1
          },
          "type": "line",
          "x0": 0.003337453818494583,
          "x1": 0.004607441956583594,
          "y0": 191.65,
          "y1": 191.65
         },
         {
          "layer": "below",
          "line": {
           "color": "rgb(15,15,15)",
           "width": 1
          },
          "type": "line",
          "x0": 0.004607441956583594,
          "x1": 0.004607441956583594,
          "y0": 192.3,
          "y1": 191
         },
         {
          "layer": "below",
          "line": {
           "color": "rgb(15,15,15)",
           "width": 1
          },
          "type": "line",
          "x0": 0.004607441956583594,
          "x1": 0.011212970776028041,
          "y0": 191,
          "y1": 191
         },
         {
          "layer": "below",
          "line": {
           "color": "rgb(15,15,15)",
           "width": 1
          },
          "type": "line",
          "x0": 0.004607441956583594,
          "x1": 0.012202813137139147,
          "y0": 192.3,
          "y1": 192.3
         },
         {
          "layer": "below",
          "line": {
           "color": "rgb(15,15,15)",
           "width": 1
          },
          "type": "line",
          "x0": 0.001174553753177745,
          "x1": 0.0013061714801346253,
          "y0": 198.39375,
          "y1": 198.39375
         },
         {
          "layer": "below",
          "line": {
           "color": "rgb(15,15,15)",
           "width": 1
          },
          "type": "line",
          "x0": 0.0013061714801346253,
          "x1": 0.0013061714801346253,
          "y0": 200.75,
          "y1": 196.0375
         },
         {
          "layer": "below",
          "line": {
           "color": "rgb(15,15,15)",
           "width": 1
          },
          "type": "line",
          "x0": 0.0013061714801346253,
          "x1": 0.0016013763457136706,
          "y0": 196.0375,
          "y1": 196.0375
         },
         {
          "layer": "below",
          "line": {
           "color": "rgb(15,15,15)",
           "width": 1
          },
          "type": "line",
          "x0": 0.0016013763457136706,
          "x1": 0.0016013763457136706,
          "y0": 197.5,
          "y1": 194.575
         },
         {
          "layer": "below",
          "line": {
           "color": "rgb(15,15,15)",
           "width": 1
          },
          "type": "line",
          "x0": 0.0016013763457136706,
          "x1": 0.0017823941110131475,
          "y0": 194.575,
          "y1": 194.575
         },
         {
          "layer": "below",
          "line": {
           "color": "rgb(15,15,15)",
           "width": 1
          },
          "type": "line",
          "x0": 0.0017823941110131475,
          "x1": 0.0017823941110131475,
          "y0": 195.55,
          "y1": 193.6
         },
         {
          "layer": "below",
          "line": {
           "color": "rgb(15,15,15)",
           "width": 1
          },
          "type": "line",
          "x0": 0.0017823941110131475,
          "x1": 0.010540061568945838,
          "y0": 193.6,
          "y1": 193.6
         },
         {
          "layer": "below",
          "line": {
           "color": "rgb(15,15,15)",
           "width": 1
          },
          "type": "line",
          "x0": 0.0017823941110131475,
          "x1": 0.003454726653080454,
          "y0": 195.55,
          "y1": 195.55
         },
         {
          "layer": "below",
          "line": {
           "color": "rgb(15,15,15)",
           "width": 1
          },
          "type": "line",
          "x0": 0.003454726653080454,
          "x1": 0.003454726653080454,
          "y0": 196.2,
          "y1": 194.9
         },
         {
          "layer": "below",
          "line": {
           "color": "rgb(15,15,15)",
           "width": 1
          },
          "type": "line",
          "x0": 0.003454726653080454,
          "x1": 0.011551078024253918,
          "y0": 194.9,
          "y1": 194.9
         },
         {
          "layer": "below",
          "line": {
           "color": "rgb(15,15,15)",
           "width": 1
          },
          "type": "line",
          "x0": 0.003454726653080454,
          "x1": 0.011801075281906992,
          "y0": 196.2,
          "y1": 196.2
         },
         {
          "layer": "below",
          "line": {
           "color": "rgb(15,15,15)",
           "width": 1
          },
          "type": "line",
          "x0": 0.0016013763457136706,
          "x1": 0.010384758580414195,
          "y0": 197.5,
          "y1": 197.5
         },
         {
          "layer": "below",
          "line": {
           "color": "rgb(15,15,15)",
           "width": 1
          },
          "type": "line",
          "x0": 0.0013061714801346253,
          "x1": 0.0030331228645555804,
          "y0": 200.75,
          "y1": 200.75
         },
         {
          "layer": "below",
          "line": {
           "color": "rgb(15,15,15)",
           "width": 1
          },
          "type": "line",
          "x0": 0.0030331228645555804,
          "x1": 0.0030331228645555804,
          "y0": 202.05,
          "y1": 199.45
         },
         {
          "layer": "below",
          "line": {
           "color": "rgb(15,15,15)",
           "width": 1
          },
          "type": "line",
          "x0": 0.0030331228645555804,
          "x1": 0.004028810016389816,
          "y0": 199.45,
          "y1": 199.45
         },
         {
          "layer": "below",
          "line": {
           "color": "rgb(15,15,15)",
           "width": 1
          },
          "type": "line",
          "x0": 0.004028810016389816,
          "x1": 0.004028810016389816,
          "y0": 200.1,
          "y1": 198.8
         },
         {
          "layer": "below",
          "line": {
           "color": "rgb(15,15,15)",
           "width": 1
          },
          "type": "line",
          "x0": 0.004028810016389816,
          "x1": 0.009765539152863241,
          "y0": 198.8,
          "y1": 198.8
         },
         {
          "layer": "below",
          "line": {
           "color": "rgb(15,15,15)",
           "width": 1
          },
          "type": "line",
          "x0": 0.004028810016389816,
          "x1": 0.01092678087991639,
          "y0": 200.1,
          "y1": 200.1
         },
         {
          "layer": "below",
          "line": {
           "color": "rgb(15,15,15)",
           "width": 1
          },
          "type": "line",
          "x0": 0.0030331228645555804,
          "x1": 0.0038332857127213456,
          "y0": 202.05,
          "y1": 202.05
         },
         {
          "layer": "below",
          "line": {
           "color": "rgb(15,15,15)",
           "width": 1
          },
          "type": "line",
          "x0": 0.0038332857127213456,
          "x1": 0.0038332857127213456,
          "y0": 202.7,
          "y1": 201.4
         },
         {
          "layer": "below",
          "line": {
           "color": "rgb(15,15,15)",
           "width": 1
          },
          "type": "line",
          "x0": 0.0038332857127213456,
          "x1": 0.011375023058018376,
          "y0": 201.4,
          "y1": 201.4
         },
         {
          "layer": "below",
          "line": {
           "color": "rgb(15,15,15)",
           "width": 1
          },
          "type": "line",
          "x0": 0.0038332857127213456,
          "x1": 0.010902348367424316,
          "y0": 202.7,
          "y1": 202.7
         },
         {
          "layer": "below",
          "line": {
           "color": "rgb(15,15,15)",
           "width": 1
          },
          "type": "line",
          "x0": 0.0009783805019209376,
          "x1": 0.0012643267941211608,
          "y0": 207.52421875,
          "y1": 207.52421875
         },
         {
          "layer": "below",
          "line": {
           "color": "rgb(15,15,15)",
           "width": 1
          },
          "type": "line",
          "x0": 0.0012643267941211608,
          "x1": 0.0012643267941211608,
          "y0": 210.0734375,
          "y1": 204.975
         },
         {
          "layer": "below",
          "line": {
           "color": "rgb(15,15,15)",
           "width": 1
          },
          "type": "line",
          "x0": 0.0012643267941211608,
          "x1": 0.0014158284882129567,
          "y0": 204.975,
          "y1": 204.975
         },
         {
          "layer": "below",
          "line": {
           "color": "rgb(15,15,15)",
           "width": 1
          },
          "type": "line",
          "x0": 0.0014158284882129567,
          "x1": 0.0014158284882129567,
          "y0": 205.95,
          "y1": 204
         },
         {
          "layer": "below",
          "line": {
           "color": "rgb(15,15,15)",
           "width": 1
          },
          "type": "line",
          "x0": 0.0014158284882129567,
          "x1": 0.010430670932512726,
          "y0": 204,
          "y1": 204
         },
         {
          "layer": "below",
          "line": {
           "color": "rgb(15,15,15)",
           "width": 1
          },
          "type": "line",
          "x0": 0.0014158284882129567,
          "x1": 0.0027957860439131866,
          "y0": 205.95,
          "y1": 205.95
         },
         {
          "layer": "below",
          "line": {
           "color": "rgb(15,15,15)",
           "width": 1
          },
          "type": "line",
          "x0": 0.0027957860439131866,
          "x1": 0.0027957860439131866,
          "y0": 206.6,
          "y1": 205.3
         },
         {
          "layer": "below",
          "line": {
           "color": "rgb(15,15,15)",
           "width": 1
          },
          "type": "line",
          "x0": 0.0027957860439131866,
          "x1": 0.010903708801681554,
          "y0": 205.3,
          "y1": 205.3
         },
         {
          "layer": "below",
          "line": {
           "color": "rgb(15,15,15)",
           "width": 1
          },
          "type": "line",
          "x0": 0.0027957860439131866,
          "x1": 0.011698963286144821,
          "y0": 206.6,
          "y1": 206.6
         },
         {
          "layer": "below",
          "line": {
           "color": "rgb(15,15,15)",
           "width": 1
          },
          "type": "line",
          "x0": 0.0012643267941211608,
          "x1": 0.0014740661156543663,
          "y0": 210.0734375,
          "y1": 210.0734375
         },
         {
          "layer": "below",
          "line": {
           "color": "rgb(15,15,15)",
           "width": 1
          },
          "type": "line",
          "x0": 0.0014740661156543663,
          "x1": 0.0014740661156543663,
          "y0": 212.246875,
          "y1": 207.9
         },
         {
          "layer": "below",
          "line": {
           "color": "rgb(15,15,15)",
           "width": 1
          },
          "type": "line",
          "x0": 0.0014740661156543663,
          "x1": 0.011409761935448336,
          "y0": 207.9,
          "y1": 207.9
         },
         {
          "layer": "below",
          "line": {
           "color": "rgb(15,15,15)",
           "width": 1
          },
          "type": "line",
          "x0": 0.0014740661156543663,
          "x1": 0.0017406077958603953,
          "y0": 212.246875,
          "y1": 212.246875
         },
         {
          "layer": "below",
          "line": {
           "color": "rgb(15,15,15)",
           "width": 1
          },
          "type": "line",
          "x0": 0.0017406077958603953,
          "x1": 0.0017406077958603953,
          "y0": 214.64375,
          "y1": 209.85
         },
         {
          "layer": "below",
          "line": {
           "color": "rgb(15,15,15)",
           "width": 1
          },
          "type": "line",
          "x0": 0.0017406077958603953,
          "x1": 0.001958852623154934,
          "y0": 209.85,
          "y1": 209.85
         },
         {
          "layer": "below",
          "line": {
           "color": "rgb(15,15,15)",
           "width": 1
          },
          "type": "line",
          "x0": 0.001958852623154934,
          "x1": 0.001958852623154934,
          "y0": 210.5,
          "y1": 209.2
         },
         {
          "layer": "below",
          "line": {
           "color": "rgb(15,15,15)",
           "width": 1
          },
          "type": "line",
          "x0": 0.001958852623154934,
          "x1": 0.01097230110498117,
          "y0": 209.2,
          "y1": 209.2
         },
         {
          "layer": "below",
          "line": {
           "color": "rgb(15,15,15)",
           "width": 1
          },
          "type": "line",
          "x0": 0.001958852623154934,
          "x1": 0.011197804141328697,
          "y0": 210.5,
          "y1": 210.5
         },
         {
          "layer": "below",
          "line": {
           "color": "rgb(15,15,15)",
           "width": 1
          },
          "type": "line",
          "x0": 0.0017406077958603953,
          "x1": 0.0018418285935658566,
          "y0": 214.64375,
          "y1": 214.64375
         },
         {
          "layer": "below",
          "line": {
           "color": "rgb(15,15,15)",
           "width": 1
          },
          "type": "line",
          "x0": 0.0018418285935658566,
          "x1": 0.0018418285935658566,
          "y0": 216.8375,
          "y1": 212.45
         },
         {
          "layer": "below",
          "line": {
           "color": "rgb(15,15,15)",
           "width": 1
          },
          "type": "line",
          "x0": 0.0018418285935658566,
          "x1": 0.002360177211802794,
          "y0": 212.45,
          "y1": 212.45
         },
         {
          "layer": "below",
          "line": {
           "color": "rgb(15,15,15)",
           "width": 1
          },
          "type": "line",
          "x0": 0.002360177211802794,
          "x1": 0.002360177211802794,
          "y0": 213.1,
          "y1": 211.8
         },
         {
          "layer": "below",
          "line": {
           "color": "rgb(15,15,15)",
           "width": 1
          },
          "type": "line",
          "x0": 0.002360177211802794,
          "x1": 0.012611509447073494,
          "y0": 211.8,
          "y1": 211.8
         },
         {
          "layer": "below",
          "line": {
           "color": "rgb(15,15,15)",
           "width": 1
          },
          "type": "line",
          "x0": 0.002360177211802794,
          "x1": 0.012855844976532095,
          "y0": 213.1,
          "y1": 213.1
         },
         {
          "layer": "below",
          "line": {
           "color": "rgb(15,15,15)",
           "width": 1
          },
          "type": "line",
          "x0": 0.0018418285935658566,
          "x1": 0.002105642475328919,
          "y0": 216.8375,
          "y1": 216.8375
         },
         {
          "layer": "below",
          "line": {
           "color": "rgb(15,15,15)",
           "width": 1
          },
          "type": "line",
          "x0": 0.002105642475328919,
          "x1": 0.002105642475328919,
          "y0": 218.625,
          "y1": 215.05
         },
         {
          "layer": "below",
          "line": {
           "color": "rgb(15,15,15)",
           "width": 1
          },
          "type": "line",
          "x0": 0.002105642475328919,
          "x1": 0.00289272567053584,
          "y0": 215.05,
          "y1": 215.05
         },
         {
          "layer": "below",
          "line": {
           "color": "rgb(15,15,15)",
           "width": 1
          },
          "type": "line",
          "x0": 0.00289272567053584,
          "x1": 0.00289272567053584,
          "y0": 215.7,
          "y1": 214.4
         },
         {
          "layer": "below",
          "line": {
           "color": "rgb(15,15,15)",
           "width": 1
          },
          "type": "line",
          "x0": 0.00289272567053584,
          "x1": 0.01241804381684265,
          "y0": 214.4,
          "y1": 214.4
         },
         {
          "layer": "below",
          "line": {
           "color": "rgb(15,15,15)",
           "width": 1
          },
          "type": "line",
          "x0": 0.00289272567053584,
          "x1": 0.011680607524229034,
          "y0": 215.7,
          "y1": 215.7
         },
         {
          "layer": "below",
          "line": {
           "color": "rgb(15,15,15)",
           "width": 1
          },
          "type": "line",
          "x0": 0.002105642475328919,
          "x1": 0.0024022217801219978,
          "y0": 218.625,
          "y1": 218.625
         },
         {
          "layer": "below",
          "line": {
           "color": "rgb(15,15,15)",
           "width": 1
          },
          "type": "line",
          "x0": 0.0024022217801219978,
          "x1": 0.0024022217801219978,
          "y0": 219.6,
          "y1": 217.65
         },
         {
          "layer": "below",
          "line": {
           "color": "rgb(15,15,15)",
           "width": 1
          },
          "type": "line",
          "x0": 0.0024022217801219978,
          "x1": 0.003150615544862562,
          "y0": 217.65,
          "y1": 217.65
         },
         {
          "layer": "below",
          "line": {
           "color": "rgb(15,15,15)",
           "width": 1
          },
          "type": "line",
          "x0": 0.003150615544862562,
          "x1": 0.003150615544862562,
          "y0": 218.3,
          "y1": 217
         },
         {
          "layer": "below",
          "line": {
           "color": "rgb(15,15,15)",
           "width": 1
          },
          "type": "line",
          "x0": 0.003150615544862562,
          "x1": 0.011927114259580304,
          "y0": 217,
          "y1": 217
         },
         {
          "layer": "below",
          "line": {
           "color": "rgb(15,15,15)",
           "width": 1
          },
          "type": "line",
          "x0": 0.003150615544862562,
          "x1": 0.010760716830144821,
          "y0": 218.3,
          "y1": 218.3
         },
         {
          "layer": "below",
          "line": {
           "color": "rgb(15,15,15)",
           "width": 1
          },
          "type": "line",
          "x0": 0.0024022217801219978,
          "x1": 0.01081102801538143,
          "y0": 219.6,
          "y1": 219.6
         },
         {
          "layer": "below",
          "line": {
           "color": "rgb(15,15,15)",
           "width": 1
          },
          "type": "line",
          "x0": 0,
          "x1": 0.0002537356626331803,
          "y0": 224.921875,
          "y1": 224.921875
         },
         {
          "layer": "below",
          "line": {
           "color": "rgb(15,15,15)",
           "width": 1
          },
          "type": "line",
          "x0": 0.0002537356626331803,
          "x1": 0.0002537356626331803,
          "y0": 227.96875,
          "y1": 221.875
         },
         {
          "layer": "below",
          "line": {
           "color": "rgb(15,15,15)",
           "width": 1
          },
          "type": "line",
          "x0": 0.0002537356626331803,
          "x1": 0.0005849264042282821,
          "y0": 221.875,
          "y1": 221.875
         },
         {
          "layer": "below",
          "line": {
           "color": "rgb(15,15,15)",
           "width": 1
          },
          "type": "line",
          "x0": 0.0005849264042282821,
          "x1": 0.0005849264042282821,
          "y0": 222.85,
          "y1": 220.9
         },
         {
          "layer": "below",
          "line": {
           "color": "rgb(15,15,15)",
           "width": 1
          },
          "type": "line",
          "x0": 0.0005849264042282821,
          "x1": 0.009674864165969741,
          "y0": 220.9,
          "y1": 220.9
         },
         {
          "layer": "below",
          "line": {
           "color": "rgb(15,15,15)",
           "width": 1
          },
          "type": "line",
          "x0": 0.0005849264042282821,
          "x1": 0.0007674886424868207,
          "y0": 222.85,
          "y1": 222.85
         },
         {
          "layer": "below",
          "line": {
           "color": "rgb(15,15,15)",
           "width": 1
          },
          "type": "line",
          "x0": 0.0007674886424868207,
          "x1": 0.0007674886424868207,
          "y0": 223.5,
          "y1": 222.2
         },
         {
          "layer": "below",
          "line": {
           "color": "rgb(15,15,15)",
           "width": 1
          },
          "type": "line",
          "x0": 0.0007674886424868207,
          "x1": 0.009880127635599485,
          "y0": 222.2,
          "y1": 222.2
         },
         {
          "layer": "below",
          "line": {
           "color": "rgb(15,15,15)",
           "width": 1
          },
          "type": "line",
          "x0": 0.0007674886424868207,
          "x1": 0.009072349649374156,
          "y0": 223.5,
          "y1": 223.5
         },
         {
          "layer": "below",
          "line": {
           "color": "rgb(15,15,15)",
           "width": 1
          },
          "type": "line",
          "x0": 0.0002537356626331803,
          "x1": 0.0004944308585380808,
          "y0": 227.96875,
          "y1": 227.96875
         },
         {
          "layer": "below",
          "line": {
           "color": "rgb(15,15,15)",
           "width": 1
          },
          "type": "line",
          "x0": 0.0004944308585380808,
          "x1": 0.0004944308585380808,
          "y0": 230,
          "y1": 225.9375
         },
         {
          "layer": "below",
          "line": {
           "color": "rgb(15,15,15)",
           "width": 1
          },
          "type": "line",
          "x0": 0.0004944308585380808,
          "x1": 0.0006841966539546612,
          "y0": 225.9375,
          "y1": 225.9375
         },
         {
          "layer": "below",
          "line": {
           "color": "rgb(15,15,15)",
           "width": 1
          },
          "type": "line",
          "x0": 0.0006841966539546612,
          "x1": 0.0006841966539546612,
          "y0": 227.075,
          "y1": 224.8
         },
         {
          "layer": "below",
          "line": {
           "color": "rgb(15,15,15)",
           "width": 1
          },
          "type": "line",
          "x0": 0.0006841966539546612,
          "x1": 0.008640707782625491,
          "y0": 224.8,
          "y1": 224.8
         },
         {
          "layer": "below",
          "line": {
           "color": "rgb(15,15,15)",
           "width": 1
          },
          "type": "line",
          "x0": 0.0006841966539546612,
          "x1": 0.000965060525283829,
          "y0": 227.075,
          "y1": 227.075
         },
         {
          "layer": "below",
          "line": {
           "color": "rgb(15,15,15)",
           "width": 1
          },
          "type": "line",
          "x0": 0.000965060525283829,
          "x1": 0.000965060525283829,
          "y0": 228.05,
          "y1": 226.1
         },
         {
          "layer": "below",
          "line": {
           "color": "rgb(15,15,15)",
           "width": 1
          },
          "type": "line",
          "x0": 0.000965060525283829,
          "x1": 0.009636259953637491,
          "y0": 226.1,
          "y1": 226.1
         },
         {
          "layer": "below",
          "line": {
           "color": "rgb(15,15,15)",
           "width": 1
          },
          "type": "line",
          "x0": 0.000965060525283829,
          "x1": 0.0012088110969301678,
          "y0": 228.05,
          "y1": 228.05
         },
         {
          "layer": "below",
          "line": {
           "color": "rgb(15,15,15)",
           "width": 1
          },
          "type": "line",
          "x0": 0.0012088110969301678,
          "x1": 0.0012088110969301678,
          "y0": 228.7,
          "y1": 227.4
         },
         {
          "layer": "below",
          "line": {
           "color": "rgb(15,15,15)",
           "width": 1
          },
          "type": "line",
          "x0": 0.0012088110969301678,
          "x1": 0.00832908423961885,
          "y0": 227.4,
          "y1": 227.4
         },
         {
          "layer": "below",
          "line": {
           "color": "rgb(15,15,15)",
           "width": 1
          },
          "type": "line",
          "x0": 0.0012088110969301678,
          "x1": 0.009117037954241488,
          "y0": 228.7,
          "y1": 228.7
         },
         {
          "layer": "below",
          "line": {
           "color": "rgb(15,15,15)",
           "width": 1
          },
          "type": "line",
          "x0": 0.0004944308585380808,
          "x1": 0.0091845775631215,
          "y0": 230,
          "y1": 230
         }
        ],
        "showlegend": false,
        "template": {
         "data": {
          "bar": [
           {
            "error_x": {
             "color": "#2a3f5f"
            },
            "error_y": {
             "color": "#2a3f5f"
            },
            "marker": {
             "line": {
              "color": "#E5ECF6",
              "width": 0.5
             },
             "pattern": {
              "fillmode": "overlay",
              "size": 10,
              "solidity": 0.2
             }
            },
            "type": "bar"
           }
          ],
          "barpolar": [
           {
            "marker": {
             "line": {
              "color": "#E5ECF6",
              "width": 0.5
             },
             "pattern": {
              "fillmode": "overlay",
              "size": 10,
              "solidity": 0.2
             }
            },
            "type": "barpolar"
           }
          ],
          "carpet": [
           {
            "aaxis": {
             "endlinecolor": "#2a3f5f",
             "gridcolor": "white",
             "linecolor": "white",
             "minorgridcolor": "white",
             "startlinecolor": "#2a3f5f"
            },
            "baxis": {
             "endlinecolor": "#2a3f5f",
             "gridcolor": "white",
             "linecolor": "white",
             "minorgridcolor": "white",
             "startlinecolor": "#2a3f5f"
            },
            "type": "carpet"
           }
          ],
          "choropleth": [
           {
            "colorbar": {
             "outlinewidth": 0,
             "ticks": ""
            },
            "type": "choropleth"
           }
          ],
          "contour": [
           {
            "colorbar": {
             "outlinewidth": 0,
             "ticks": ""
            },
            "colorscale": [
             [
              0,
              "#0d0887"
             ],
             [
              0.1111111111111111,
              "#46039f"
             ],
             [
              0.2222222222222222,
              "#7201a8"
             ],
             [
              0.3333333333333333,
              "#9c179e"
             ],
             [
              0.4444444444444444,
              "#bd3786"
             ],
             [
              0.5555555555555556,
              "#d8576b"
             ],
             [
              0.6666666666666666,
              "#ed7953"
             ],
             [
              0.7777777777777778,
              "#fb9f3a"
             ],
             [
              0.8888888888888888,
              "#fdca26"
             ],
             [
              1,
              "#f0f921"
             ]
            ],
            "type": "contour"
           }
          ],
          "contourcarpet": [
           {
            "colorbar": {
             "outlinewidth": 0,
             "ticks": ""
            },
            "type": "contourcarpet"
           }
          ],
          "heatmap": [
           {
            "colorbar": {
             "outlinewidth": 0,
             "ticks": ""
            },
            "colorscale": [
             [
              0,
              "#0d0887"
             ],
             [
              0.1111111111111111,
              "#46039f"
             ],
             [
              0.2222222222222222,
              "#7201a8"
             ],
             [
              0.3333333333333333,
              "#9c179e"
             ],
             [
              0.4444444444444444,
              "#bd3786"
             ],
             [
              0.5555555555555556,
              "#d8576b"
             ],
             [
              0.6666666666666666,
              "#ed7953"
             ],
             [
              0.7777777777777778,
              "#fb9f3a"
             ],
             [
              0.8888888888888888,
              "#fdca26"
             ],
             [
              1,
              "#f0f921"
             ]
            ],
            "type": "heatmap"
           }
          ],
          "heatmapgl": [
           {
            "colorbar": {
             "outlinewidth": 0,
             "ticks": ""
            },
            "colorscale": [
             [
              0,
              "#0d0887"
             ],
             [
              0.1111111111111111,
              "#46039f"
             ],
             [
              0.2222222222222222,
              "#7201a8"
             ],
             [
              0.3333333333333333,
              "#9c179e"
             ],
             [
              0.4444444444444444,
              "#bd3786"
             ],
             [
              0.5555555555555556,
              "#d8576b"
             ],
             [
              0.6666666666666666,
              "#ed7953"
             ],
             [
              0.7777777777777778,
              "#fb9f3a"
             ],
             [
              0.8888888888888888,
              "#fdca26"
             ],
             [
              1,
              "#f0f921"
             ]
            ],
            "type": "heatmapgl"
           }
          ],
          "histogram": [
           {
            "marker": {
             "pattern": {
              "fillmode": "overlay",
              "size": 10,
              "solidity": 0.2
             }
            },
            "type": "histogram"
           }
          ],
          "histogram2d": [
           {
            "colorbar": {
             "outlinewidth": 0,
             "ticks": ""
            },
            "colorscale": [
             [
              0,
              "#0d0887"
             ],
             [
              0.1111111111111111,
              "#46039f"
             ],
             [
              0.2222222222222222,
              "#7201a8"
             ],
             [
              0.3333333333333333,
              "#9c179e"
             ],
             [
              0.4444444444444444,
              "#bd3786"
             ],
             [
              0.5555555555555556,
              "#d8576b"
             ],
             [
              0.6666666666666666,
              "#ed7953"
             ],
             [
              0.7777777777777778,
              "#fb9f3a"
             ],
             [
              0.8888888888888888,
              "#fdca26"
             ],
             [
              1,
              "#f0f921"
             ]
            ],
            "type": "histogram2d"
           }
          ],
          "histogram2dcontour": [
           {
            "colorbar": {
             "outlinewidth": 0,
             "ticks": ""
            },
            "colorscale": [
             [
              0,
              "#0d0887"
             ],
             [
              0.1111111111111111,
              "#46039f"
             ],
             [
              0.2222222222222222,
              "#7201a8"
             ],
             [
              0.3333333333333333,
              "#9c179e"
             ],
             [
              0.4444444444444444,
              "#bd3786"
             ],
             [
              0.5555555555555556,
              "#d8576b"
             ],
             [
              0.6666666666666666,
              "#ed7953"
             ],
             [
              0.7777777777777778,
              "#fb9f3a"
             ],
             [
              0.8888888888888888,
              "#fdca26"
             ],
             [
              1,
              "#f0f921"
             ]
            ],
            "type": "histogram2dcontour"
           }
          ],
          "mesh3d": [
           {
            "colorbar": {
             "outlinewidth": 0,
             "ticks": ""
            },
            "type": "mesh3d"
           }
          ],
          "parcoords": [
           {
            "line": {
             "colorbar": {
              "outlinewidth": 0,
              "ticks": ""
             }
            },
            "type": "parcoords"
           }
          ],
          "pie": [
           {
            "automargin": true,
            "type": "pie"
           }
          ],
          "scatter": [
           {
            "fillpattern": {
             "fillmode": "overlay",
             "size": 10,
             "solidity": 0.2
            },
            "type": "scatter"
           }
          ],
          "scatter3d": [
           {
            "line": {
             "colorbar": {
              "outlinewidth": 0,
              "ticks": ""
             }
            },
            "marker": {
             "colorbar": {
              "outlinewidth": 0,
              "ticks": ""
             }
            },
            "type": "scatter3d"
           }
          ],
          "scattercarpet": [
           {
            "marker": {
             "colorbar": {
              "outlinewidth": 0,
              "ticks": ""
             }
            },
            "type": "scattercarpet"
           }
          ],
          "scattergeo": [
           {
            "marker": {
             "colorbar": {
              "outlinewidth": 0,
              "ticks": ""
             }
            },
            "type": "scattergeo"
           }
          ],
          "scattergl": [
           {
            "marker": {
             "colorbar": {
              "outlinewidth": 0,
              "ticks": ""
             }
            },
            "type": "scattergl"
           }
          ],
          "scattermapbox": [
           {
            "marker": {
             "colorbar": {
              "outlinewidth": 0,
              "ticks": ""
             }
            },
            "type": "scattermapbox"
           }
          ],
          "scatterpolar": [
           {
            "marker": {
             "colorbar": {
              "outlinewidth": 0,
              "ticks": ""
             }
            },
            "type": "scatterpolar"
           }
          ],
          "scatterpolargl": [
           {
            "marker": {
             "colorbar": {
              "outlinewidth": 0,
              "ticks": ""
             }
            },
            "type": "scatterpolargl"
           }
          ],
          "scatterternary": [
           {
            "marker": {
             "colorbar": {
              "outlinewidth": 0,
              "ticks": ""
             }
            },
            "type": "scatterternary"
           }
          ],
          "surface": [
           {
            "colorbar": {
             "outlinewidth": 0,
             "ticks": ""
            },
            "colorscale": [
             [
              0,
              "#0d0887"
             ],
             [
              0.1111111111111111,
              "#46039f"
             ],
             [
              0.2222222222222222,
              "#7201a8"
             ],
             [
              0.3333333333333333,
              "#9c179e"
             ],
             [
              0.4444444444444444,
              "#bd3786"
             ],
             [
              0.5555555555555556,
              "#d8576b"
             ],
             [
              0.6666666666666666,
              "#ed7953"
             ],
             [
              0.7777777777777778,
              "#fb9f3a"
             ],
             [
              0.8888888888888888,
              "#fdca26"
             ],
             [
              1,
              "#f0f921"
             ]
            ],
            "type": "surface"
           }
          ],
          "table": [
           {
            "cells": {
             "fill": {
              "color": "#EBF0F8"
             },
             "line": {
              "color": "white"
             }
            },
            "header": {
             "fill": {
              "color": "#C8D4E3"
             },
             "line": {
              "color": "white"
             }
            },
            "type": "table"
           }
          ]
         },
         "layout": {
          "annotationdefaults": {
           "arrowcolor": "#2a3f5f",
           "arrowhead": 0,
           "arrowwidth": 1
          },
          "autotypenumbers": "strict",
          "coloraxis": {
           "colorbar": {
            "outlinewidth": 0,
            "ticks": ""
           }
          },
          "colorscale": {
           "diverging": [
            [
             0,
             "#8e0152"
            ],
            [
             0.1,
             "#c51b7d"
            ],
            [
             0.2,
             "#de77ae"
            ],
            [
             0.3,
             "#f1b6da"
            ],
            [
             0.4,
             "#fde0ef"
            ],
            [
             0.5,
             "#f7f7f7"
            ],
            [
             0.6,
             "#e6f5d0"
            ],
            [
             0.7,
             "#b8e186"
            ],
            [
             0.8,
             "#7fbc41"
            ],
            [
             0.9,
             "#4d9221"
            ],
            [
             1,
             "#276419"
            ]
           ],
           "sequential": [
            [
             0,
             "#0d0887"
            ],
            [
             0.1111111111111111,
             "#46039f"
            ],
            [
             0.2222222222222222,
             "#7201a8"
            ],
            [
             0.3333333333333333,
             "#9c179e"
            ],
            [
             0.4444444444444444,
             "#bd3786"
            ],
            [
             0.5555555555555556,
             "#d8576b"
            ],
            [
             0.6666666666666666,
             "#ed7953"
            ],
            [
             0.7777777777777778,
             "#fb9f3a"
            ],
            [
             0.8888888888888888,
             "#fdca26"
            ],
            [
             1,
             "#f0f921"
            ]
           ],
           "sequentialminus": [
            [
             0,
             "#0d0887"
            ],
            [
             0.1111111111111111,
             "#46039f"
            ],
            [
             0.2222222222222222,
             "#7201a8"
            ],
            [
             0.3333333333333333,
             "#9c179e"
            ],
            [
             0.4444444444444444,
             "#bd3786"
            ],
            [
             0.5555555555555556,
             "#d8576b"
            ],
            [
             0.6666666666666666,
             "#ed7953"
            ],
            [
             0.7777777777777778,
             "#fb9f3a"
            ],
            [
             0.8888888888888888,
             "#fdca26"
            ],
            [
             1,
             "#f0f921"
            ]
           ]
          },
          "colorway": [
           "#636efa",
           "#EF553B",
           "#00cc96",
           "#ab63fa",
           "#FFA15A",
           "#19d3f3",
           "#FF6692",
           "#B6E880",
           "#FF97FF",
           "#FECB52"
          ],
          "font": {
           "color": "#2a3f5f"
          },
          "geo": {
           "bgcolor": "white",
           "lakecolor": "white",
           "landcolor": "#E5ECF6",
           "showlakes": true,
           "showland": true,
           "subunitcolor": "white"
          },
          "hoverlabel": {
           "align": "left"
          },
          "hovermode": "closest",
          "mapbox": {
           "style": "light"
          },
          "paper_bgcolor": "white",
          "plot_bgcolor": "#E5ECF6",
          "polar": {
           "angularaxis": {
            "gridcolor": "white",
            "linecolor": "white",
            "ticks": ""
           },
           "bgcolor": "#E5ECF6",
           "radialaxis": {
            "gridcolor": "white",
            "linecolor": "white",
            "ticks": ""
           }
          },
          "scene": {
           "xaxis": {
            "backgroundcolor": "#E5ECF6",
            "gridcolor": "white",
            "gridwidth": 2,
            "linecolor": "white",
            "showbackground": true,
            "ticks": "",
            "zerolinecolor": "white"
           },
           "yaxis": {
            "backgroundcolor": "#E5ECF6",
            "gridcolor": "white",
            "gridwidth": 2,
            "linecolor": "white",
            "showbackground": true,
            "ticks": "",
            "zerolinecolor": "white"
           },
           "zaxis": {
            "backgroundcolor": "#E5ECF6",
            "gridcolor": "white",
            "gridwidth": 2,
            "linecolor": "white",
            "showbackground": true,
            "ticks": "",
            "zerolinecolor": "white"
           }
          },
          "shapedefaults": {
           "line": {
            "color": "#2a3f5f"
           }
          },
          "ternary": {
           "aaxis": {
            "gridcolor": "white",
            "linecolor": "white",
            "ticks": ""
           },
           "baxis": {
            "gridcolor": "white",
            "linecolor": "white",
            "ticks": ""
           },
           "bgcolor": "#E5ECF6",
           "caxis": {
            "gridcolor": "white",
            "linecolor": "white",
            "ticks": ""
           }
          },
          "title": {
           "x": 0.05
          },
          "xaxis": {
           "automargin": true,
           "gridcolor": "white",
           "linecolor": "white",
           "ticks": "",
           "title": {
            "standoff": 15
           },
           "zerolinecolor": "white",
           "zerolinewidth": 2
          },
          "yaxis": {
           "automargin": true,
           "gridcolor": "white",
           "linecolor": "white",
           "ticks": "",
           "title": {
            "standoff": 15
           },
           "zerolinecolor": "white",
           "zerolinewidth": 2
          }
         }
        },
        "xaxis": {
         "autorange": true,
         "range": [
          -0.0008924578640167096,
          0.015778277940943306
         ],
         "showgrid": false,
         "showline": false,
         "showticklabels": false,
         "ticklen": 4,
         "title": {
          "text": ""
         },
         "type": "linear",
         "zeroline": false
        },
        "yaxis": {
         "autorange": true,
         "range": [
          -87.07789068937105,
          249.37789068937104
         ],
         "showgrid": false,
         "showline": false,
         "showticklabels": false,
         "title": {
          "text": ""
         },
         "type": "linear",
         "zeroline": false
        }
       }
      },
      "image/png": "[encoded data removed]",
      "text/html": [
       "<div>                            <div id=\"80b844b4-7d25-456c-9173-2c8e7acf1375\" class=\"plotly-graph-div\" style=\"height:850px; width:100%;\"></div>            <script type=\"text/javascript\">                require([\"plotly\"], function(Plotly) {                    window.PLOTLYENV=window.PLOTLYENV || {};                                    if (document.getElementById(\"80b844b4-7d25-456c-9173-2c8e7acf1375\")) {                    Plotly.newPlot(                        \"80b844b4-7d25-456c-9173-2c8e7acf1375\",                        [{\"hoverinfo\":\"text\",\"marker\":{\"color\":[],\"size\":[6,6,6,6,6,10,10,6,10,10,6,6,6,6,10,6,10,6,10,10,6,10,6,6,10,6,10,10,10,6,6,10,6,10,6,10,10,6,10,10,6,6,6,10,10,6,10,10,6,10,6,6,10,10,10,6,6,6,6,10,6,10,10,6,6,10,6,10,10,6,10,10,6,10,6,6,10,10,6,6,10,10,6,10,10,6,6,6,10,10,6,6,10,10,6,6,10,10,10,6,6,6,10,10,6,6,10,6,10,10,6,6,6,6,10,10,6,10,6,10,10,6,6,10,6,10,10,6,6,10,6,6,6,10,10,10,6,10,10,10,6,10,6,10,10,6,6,6,10,10,6,10,6,10,10,6,10,6,6,10,6,10,10,6,10,10,6,6,6,6,6,10,10,10,6,6,6,6,10,10,10,6,10,6,10,10,6,10,6,6,6,10,10,6,10,10,6,10,10,6,6,10,6,10,6,10,10,6,6,6,6,6,10,10,6,6,10,10,6,10,10,6,6,10,6,10,10,6,6,10,6,6,6,10,6,10,10,6,10,10,6,10,6,6,10,10,6,10,10,6,6,10,6,10,10,6,10,6,10,10,6,6,10,10,6,10,6,10,10,6,6,6,10,10,6,10,10,6,6,6,10,10,10,6,6,6,6,10,10,10,10,10,6,6,6,10,6,6,10,10,6,10,10,6,6,6,10,10,6,6,10,10,6,10,6,10,6,10,10,6,6,6,10,10,10,10,6,6,10,6,6,10,6,10,10,6,6,10,6,10,6,10,6,6,10,10,10,10,6,6,6,6,10,6,10,10,10,6,10,10,6,6,6,6,10,10,10,6,6,10,6,10,6,10,6,10,10,10,6,6,6,10,6,6,10,6,10,6,10,6,10,10,6,10,6,6,10,10,6,10,6,10,10,6,6,6,10,6,10,10,10,6,6,10,10,6,10,10,6,6,10,6,10,10,6,10,6,6,10,10,6,6,10,10,6,6,10,10,6,6,10,10,10,6,6,10,6,10,10,6,6,10,6,10,6,10,10,10]},\"mode\":\"markers\",\"text\":[\"\",\"\",\"\",\"\",\"\",\"GCF_016506315.1\",\"GCF_030131125.1\",\"\",\"GCF_029846925.1\",\"GCF_032940395.1\",\"\",\"\",\"\",\"\",\"GCF_040445305.1\",\"\",\"GCF_044628175.1\",\"\",\"GCF_032822615.1\",\"GCF_028583465.1\",\"\",\"GCF_031581665.1\",\"\",\"\",\"GCF_023499085.1\",\"\",\"GCF_022342205.1\",\"GCF_023360975.1\",\"GCF_030131265.1\",\"\",\"\",\"GCF_029582015.1\",\"\",\"GCF_000297935.1\",\"\",\"GCF_040703085.1\",\"GCF_033469325.1\",\"\",\"GCF_037045925.1\",\"GCF_040446365.1\",\"\",\"\",\"\",\"GCF_034494405.1\",\"GCF_039769755.1\",\"\",\"GCF_029847055.1\",\"GCF_040444625.1\",\"\",\"GCF_040445215.1\",\"\",\"\",\"GCF_032944235.1\",\"GCF_004354145.1\",\"GCF_039769815.1\",\"\",\"\",\"\",\"\",\"GCF_001693205.1\",\"\",\"GCF_000746645.1\",\"GCF_032940335.1\",\"\",\"\",\"GCF_021484905.1\",\"\",\"GCF_018221365.1\",\"GCF_030585365.1\",\"\",\"GCF_036038495.1\",\"GCF_032940295.1\",\"\",\"GCF_000682415.1\",\"\",\"\",\"GCF_026062515.1\",\"GCF_000611465.1\",\"\",\"\",\"GCF_040445765.1\",\"GCF_024138435.1\",\"\",\"GCF_024749445.1\",\"GCF_000305275.1\",\"\",\"\",\"\",\"GCF_000731965.1\",\"GCF_001721705.1\",\"\",\"\",\"GCF_900477875.2\",\"GCF_003057525.1\",\"\",\"\",\"GCF_004354125.1\",\"GCF_042140495.1\",\"GCF_029847255.1\",\"\",\"\",\"\",\"GCF_900495605.1\",\"GCF_001895125.2\",\"\",\"\",\"GCF_900494865.1\",\"\",\"GCF_030364345.1\",\"GCF_000453165.1\",\"\",\"\",\"\",\"\",\"GCF_902705325.1\",\"GCF_008124045.1\",\"\",\"GCF_900493605.1\",\"\",\"GCF_016508455.1\",\"GCF_029847275.1\",\"\",\"\",\"GCF_000580315.1\",\"\",\"GCF_021460825.1\",\"GCF_003948385.1\",\"\",\"\",\"GCF_010587435.1\",\"\",\"\",\"\",\"GCF_030851575.1\",\"GCF_000584095.1\",\"GCF_005280675.1\",\"\",\"GCF_030130795.1\",\"GCF_025717695.1\",\"GCF_029847915.1\",\"\",\"GCF_963580385.1\",\"\",\"GCF_024589115.1\",\"GCF_029847835.1\",\"\",\"\",\"\",\"GCF_036441095.1\",\"GCF_029909475.1\",\"\",\"GCF_002573735.1\",\"\",\"GCF_002138175.1\",\"GCF_018863255.1\",\"\",\"GCF_029847595.1\",\"\",\"\",\"GCF_014858105.1\",\"\",\"GCF_900495975.1\",\"GCF_023499155.1\",\"\",\"GCF_029847775.1\",\"GCF_002148745.1\",\"\",\"\",\"\",\"\",\"\",\"GCF_039770115.1\",\"GCF_029847195.1\",\"GCF_040445275.1\",\"\",\"\",\"\",\"\",\"GCF_029847325.1\",\"GCF_029839505.1\",\"GCF_029846975.1\",\"\",\"GCF_040444845.1\",\"\",\"GCF_000584415.1\",\"GCF_024749585.1\",\"\",\"GCF_040698685.1\",\"\",\"\",\"\",\"GCF_963580605.1\",\"GCF_003431865.1\",\"\",\"GCF_041154855.1\",\"GCF_022459095.1\",\"\",\"GCF_000369225.1\",\"GCF_900496585.1\",\"\",\"\",\"GCF_033030945.1\",\"\",\"GCF_001863785.1\",\"\",\"GCF_003970215.1\",\"GCF_001674695.1\",\"\",\"\",\"\",\"\",\"\",\"GCF_030449105.1\",\"GCF_029847455.2\",\"\",\"\",\"GCF_029847575.1\",\"GCF_027257305.1\",\"\",\"GCF_024139015.1\",\"GCF_023516475.1\",\"\",\"\",\"GCF_929606855.1\",\"\",\"GCF_025456905.1\",\"GCF_023981045.1\",\"\",\"\",\"GCF_001648035.1\",\"\",\"\",\"\",\"GCF_025515635.1\",\"\",\"GCF_020271605.1\",\"GCF_020810655.1\",\"\",\"GCF_029847215.1\",\"GCF_900495045.1\",\"\",\"GCF_017753625.1\",\"\",\"\",\"GCF_035788155.1\",\"GCF_018863335.1\",\"\",\"GCF_022369275.1\",\"GCF_022937725.1\",\"\",\"\",\"GCF_001261895.2\",\"\",\"GCF_040444925.1\",\"GCF_000588035.1\",\"\",\"GCF_040445005.1\",\"\",\"GCF_004354165.1\",\"GCF_021729465.1\",\"\",\"\",\"GCF_029847675.1\",\"GCF_029847235.1\",\"\",\"GCF_026273705.1\",\"\",\"GCF_029459615.1\",\"GCF_001863705.1\",\"\",\"\",\"\",\"GCF_002136685.1\",\"GCF_032940805.1\",\"\",\"GCF_003948495.1\",\"GCF_032941605.1\",\"\",\"\",\"\",\"GCF_031157735.1\",\"GCF_016506845.1\",\"GCF_040445755.1\",\"\",\"\",\"\",\"\",\"GCF_019903155.1\",\"GCF_001077555.2\",\"GCF_040067455.1\",\"GCF_029847135.1\",\"GCF_043572315.1\",\"\",\"\",\"\",\"GCF_041154805.1\",\"\",\"\",\"GCF_040445185.1\",\"GCF_042478285.1\",\"\",\"GCF_024749605.1\",\"GCF_000584355.1\",\"\",\"\",\"\",\"GCF_001693105.1\",\"GCF_021726495.1\",\"\",\"\",\"GCF_000588135.1\",\"GCF_900406675.1\",\"\",\"GCF_019903175.1\",\"\",\"GCF_040304425.1\",\"\",\"GCF_031921725.1\",\"GCF_016654345.2\",\"\",\"\",\"\",\"GCF_013377175.1\",\"GCF_017349155.2\",\"GCF_029846935.1\",\"GCF_016117795.1\",\"\",\"\",\"GCF_003231185.1\",\"\",\"\",\"GCF_001077965.2\",\"\",\"GCF_019703285.1\",\"GCF_033192035.1\",\"\",\"\",\"GCF_000413915.1\",\"\",\"GCF_015571935.1\",\"\",\"GCF_013787185.1\",\"\",\"\",\"GCF_026189845.2\",\"GCF_019076685.1\",\"GCF_002902885.1\",\"GCF_037939845.1\",\"\",\"\",\"\",\"\",\"GCF_002143345.1\",\"\",\"GCF_016635075.1\",\"GCF_900444815.1\",\"GCF_007107525.1\",\"\",\"GCF_012931625.1\",\"GCF_013394285.1\",\"\",\"\",\"\",\"\",\"GCF_041079425.1\",\"GCF_018883565.1\",\"GCF_033190015.1\",\"\",\"\",\"GCF_012934905.1\",\"\",\"GCF_024589795.1\",\"\",\"GCF_014874575.1\",\"\",\"GCF_014322245.1\",\"GCF_014159355.1\",\"GCF_040786485.1\",\"\",\"\",\"\",\"GCF_900093475.1\",\"\",\"\",\"GCF_022605145.1\",\"\",\"GCF_003939565.1\",\"\",\"GCF_035666135.1\",\"\",\"GCF_030363935.1\",\"GCF_040304185.1\",\"\",\"GCF_000304675.1\",\"\",\"\",\"GCF_016508565.1\",\"GCF_041357595.1\",\"\",\"GCF_027257495.1\",\"\",\"GCF_038377665.1\",\"GCF_003994455.1\",\"\",\"\",\"\",\"GCF_029931545.1\",\"\",\"GCF_022466815.1\",\"GCF_000369165.1\",\"GCF_029847685.1\",\"\",\"\",\"GCF_032940715.1\",\"GCF_963580205.1\",\"\",\"GCF_000368545.1\",\"GCF_902705485.1\",\"\",\"\",\"GCF_000581895.1\",\"\",\"GCF_010499755.1\",\"GCF_018135585.1\",\"\",\"GCF_029847715.1\",\"\",\"\",\"GCF_030130845.1\",\"GCF_040444465.1\",\"\",\"\",\"GCF_004153295.1\",\"GCF_902705505.1\",\"\",\"\",\"GCF_033190095.1\",\"GCF_036528435.1\",\"\",\"\",\"GCF_038432215.1\",\"GCF_030130025.1\",\"GCF_022937705.1\",\"\",\"\",\"GCF_029847515.1\",\"\",\"GCF_000580815.1\",\"GCF_964206995.1\",\"\",\"\",\"GCF_029459775.1\",\"\",\"GCF_029847385.1\",\"\",\"GCF_030168265.1\",\"GCF_900476825.2\",\"GCF_012515875.1\"],\"textfont\":{\"size\":7.5},\"textposition\":\"middle right\",\"x\":[0,1.249566549658775e-05,0.00011847828805446601,0.0003379393459762841,0.0008445524470272517,0.0108367295754327,0.009719875318621804,0.00044705124492531745,0.008887531022206066,0.00890287146764457,0.00023097655630452304,0.00030874548808756356,0.00040748723901665423,0.0005555536885461288,0.009193990635930526,0.0007136417411617306,0.008362596185957227,0.0016673372963662337,0.009479503039088835,0.009255771553643632,0.0007173129769871792,0.00923491590174492,0.0009422100522294395,0.003254303918428015,0.01016516422311552,0.004578343613740511,0.010181693557179412,0.011656893670301607,0.010364641186030865,0.0008260773699709732,0.0011039921748110595,0.009306431643297714,0.0011992027063244051,0.009155782068967909,0.002318623343680902,0.010369499718680905,0.009454946968680898,0.0011074625651308857,0.008711210403376624,0.008479614726885146,0.00048496543702148255,0.0008298777374006177,0.0013203498593314222,0.014197007793059872,0.011300791925602974,0.0013572056154698142,0.00968625884730742,0.009867252383632208,0.0007423062616423478,0.010057510592697032,0.0011191019305876594,0.0011612258168908515,0.009196650905486218,0.009400700728295484,0.010066278044284472,8.595683428049087e-05,0.0001546417526108028,0.0001880851000648737,0.00038873906870636566,0.009353852677511704,0.0042338254599010305,0.011208656709901028,0.010467694209901034,0.0005902592564233813,0.0025121551117293704,0.011031511640747227,0.002730148582711514,0.010997330663828544,0.011302066501594484,0.0015897384011173935,0.008889913778634177,0.009476763023600608,0.0004151527020317312,0.01055817900647509,0.0006362513975883741,0.0018805883152236639,0.011687627628124309,0.009432549002323019,0.0011033769799530832,0.0034454748447892455,0.010444515546008757,0.010596634143569735,0.00350660411511692,0.010764052476767412,0.009121155753466427,0.0002023137196916339,0.0002853756480211017,0.0005619192596020856,0.010252068300567631,0.009184970218636542,0.00041070078644011616,0.001086206959830472,0.009547125879667422,0.008678388039993521,0.0010006196130497625,0.001229405748107232,0.00969997314594377,0.010590038350270692,0.009137483477992292,0.0002320200637620687,0.00048720947998854235,0.0024899651473616552,0.00985830206800772,0.011452328226715592,0.0006281915567560548,0.00070528623656684,0.010327471605790579,0.0012678008673431011,0.010837275651569288,0.009950726083116913,0.0006739483417890202,0.0009790317792442392,0.0011830183393864433,0.002494201794527572,0.009830822856296573,0.009768380732758571,0.0016478348842453147,0.010036127928226795,0.0017716918402638346,0.009828039108699092,0.011250244571828577,0.0015520579144145347,0.0028690476750041346,0.010406093004396023,0.003562702345612247,0.010932896950711746,0.010855107740512748,0.0016906658100749353,0.001822473756134223,0.012920984970326939,0.002169106291941508,0.002270200629092131,0.003060490640595194,0.011043972022174145,0.009843509259016243,0.010680260617589067,0.005892874454790885,0.013310471371090433,0.011157177538491336,0.009843639114015647,0.002339068517615052,0.009948511842319194,0.0030658751929109095,0.01086142100476659,0.010298829381055228,0.0006154966479018062,0.0008328561111739008,0.0017801289647709057,0.00928821493575305,0.009353342993788764,0.0014752332575768937,0.010015569661921409,0.002335446853232379,0.010074715004429982,0.010050378702034775,0.001124320778379712,0.009679358202866448,0.0017655208538929741,0.0019735690989110873,0.010604503296827753,0.0020677849009944228,0.009323891967987882,0.009578177834000964,0.0020306476088748603,0.010648510890124863,0.010024484327624858,7.478120667636393e-05,0.00010985102839966652,0.00019214752660815917,0.0004106853631280381,0.0008157816659897874,0.010538868466119991,0.009163594865859584,0.009164689060266285,0.00033362219008828203,0.0004251202229894437,0.0006232510017108461,0.0009775934542778097,0.008635110124326509,0.00931807678422911,0.008603058549143882,0.0006964331942680435,0.008655775505831341,0.0010459408827047459,0.009107787752821938,0.009539294012587555,0.0005264038446871201,0.009131734097440483,0.000752573591933758,0.0010220130948081678,0.0014635095791831676,0.011719985751058162,0.010514933407308174,0.0016323166104331684,0.010415997481645279,0.010620235739221055,0.003965009089059348,0.010787426904479917,0.010891391273638779,0.0002663287420747181,0.0004745114704368034,0.01006861729013895,0.0010047556507346539,0.010293940587559496,0.0030250207139098104,0.011531506915832886,0.009547034511986737,0.0004364716881511112,0.0005725017988070018,0.0007654309451864148,0.0009007299978673844,0.002559130282431291,0.010423285999555575,0.01058317456530701,0.0009578547133034767,0.0014892588466782395,0.009273605468299863,0.009924212225056616,0.0019063005799287137,0.010931952240767864,0.011072348919089566,0.0008635409745366955,0.0024423980378959235,0.01076151385579716,0.004307332219994687,0.010324582664307486,0.011547381775681886,0.0010179081299274673,0.0012066935123665758,0.010722207536039391,0.0013632630824437614,0.0015391858548532995,0.0018586723818745116,0.010693800606733535,0.0039885941570154924,0.011293399569694927,0.011870988744336057,0.0017121118278320847,0.010414470295574022,0.010020853360090148,0.0015459168725342246,0.010979261648812634,0.0017488220962558142,0.002664335605630816,0.011241470589279073,0.01041790062198256,0.002964358586880813,0.01196387616714037,0.010239741006621256,0.001121442278738359,0.001263962398565215,0.010436839831290911,0.003094184965839522,0.009890988132175496,0.009313081799503548,0.0014506471589115022,0.01021349119001547,0.0024717031278075332,0.009050631442201477,0.010246474813413592,0.0009331256797713384,0.0015351892102810414,0.009387496534499799,0.009735981886062285,0.0029163371492616354,0.009962385204817188,0.004941189093706083,0.01122603471870609,0.012504843468706076,0.0005001153018604556,0.0017198497528492242,0.002160871398434542,0.011139307822947536,0.011617634973921548,0.001922678107263908,0.011845956870950036,0.012813899343577781,0.0009104933508716856,0.0022713693721932993,0.003814499616333929,0.011988908286677065,0.009689290945990792,0.010148439128052673,0.0010808048295500713,0.0011946984954571867,0.0015681705192667102,0.0043295952622765844,0.01149722070241743,0.011824569822135738,0.010499295776256839,0.009005826471647662,0.010009573663642957,0.00016429375980595723,0.0003237483995715773,0.0008898405830899871,0.010261507689835784,0.0011420609763441916,0.0024753266794691896,0.011189514436822123,0.011473338922116256,0.0024521702732191917,0.011184269294411724,0.01038837125202666,0.00040861539574066737,0.0007064764250604319,0.0011157036260771745,0.009828064734475613,0.008456442517678738,0.0013503242240436863,0.0018516944253004798,0.009412226492767364,0.008340362357833595,0.0017260852727868942,0.00902668745975543,0.002181358085818358,0.009135345485780245,0.0026132706858564723,0.01313705443067691,0.010402686941036039,0.0009955758507959054,0.002285102568774935,0.0034193963373761313,0.011154834905215332,0.00958245776953693,0.008836758800173738,0.010733349132816875,0.00039503092263738353,0.0008974406158491599,0.011199976018805034,0.0012739849003932837,0.005797105436873809,0.011772598467847267,0.0063744124059003536,0.012956904511163502,0.013640420300637203,0.00166584873891276,0.002982425760170028,0.011965898717222164,0.0033850340531178923,0.01151244386434885,0.004102861741886933,0.011499692783553596,0.005105505700220268,0.005570643425445499,0.011534661282588357,0.012194125568302641,0.012233917974995036,0.01087669046765549,0.0007762883604680879,0.001522256695312644,0.001693727464617911,0.0037017287527858524,0.009366643138561715,0.005475464367009988,0.01263141847812109,0.011239310255898886,0.01131802617644997,0.0031627734260073776,0.012595030204978723,0.011922216647036033,0.0008757769531137651,0.0016190140842382338,0.0022174328562509114,0.002797412044758976,0.011144993705024336,0.011174930384493617,0.01140690366774285,0.0032770953122255534,0.004267892175081769,0.013102528650612427,0.004404805699551111,0.011231008824551117,0.004888102574551105,0.014846539361080791,0.0054200157880214175,0.012047903400129033,0.011664128175913802,0.012645198449369338,0.0009783805019209376,0.001174553753177745,0.0012846389559083653,0.011911146659874562,0.0015828425800671684,0.001994597732460158,0.012831098116207954,0.00206225984871236,0.010784987566923561,0.004118407130501158,0.011122001616679048,0.004677962644323267,0.012340294038332481,0.010370331250314054,0.0023475397714241802,0.011118015775182094,0.0026178012676662667,0.0037453237168379497,0.010863945055221789,0.010177502378454112,0.003337453818494583,0.012717315680405572,0.004607441956583594,0.011212970776028041,0.012202813137139147,0.0013061714801346253,0.0016013763457136706,0.0017823941110131475,0.010540061568945838,0.003454726653080454,0.011551078024253918,0.011801075281906992,0.010384758580414195,0.0030331228645555804,0.004028810016389816,0.009765539152863241,0.01092678087991639,0.0038332857127213456,0.011375023058018376,0.010902348367424316,0.0012643267941211608,0.0014158284882129567,0.010430670932512726,0.0027957860439131866,0.010903708801681554,0.011698963286144821,0.0014740661156543663,0.011409761935448336,0.0017406077958603953,0.001958852623154934,0.01097230110498117,0.011197804141328697,0.0018418285935658566,0.002360177211802794,0.012611509447073494,0.012855844976532095,0.002105642475328919,0.00289272567053584,0.01241804381684265,0.011680607524229034,0.0024022217801219978,0.003150615544862562,0.011927114259580304,0.010760716830144821,0.01081102801538143,0.0002537356626331803,0.0005849264042282821,0.009674864165969741,0.0007674886424868207,0.009880127635599485,0.009072349649374156,0.0004944308585380808,0.0006841966539546612,0.008640707782625491,0.000965060525283829,0.009636259953637491,0.0012088110969301678,0.00832908423961885,0.009117037954241488,0.0091845775631215],\"y\":[95.86112976074219,-33.19961547851564,-55.76132812500001,-65.75000000000001,-67.05000000000001,-67.69999999999999,-66.40000000000003,-64.45000000000002,-65.10000000000002,-63.80000000000001,-45.77265625000001,-52.851562500000014,-58.39687500000001,-61.362500000000004,-62.5,-60.22500000000001,-61.19999999999999,-59.25000000000003,-59.900000000000034,-58.60000000000002,-55.43125000000001,-57.30000000000001,-53.562500000000014,-55.025000000000006,-56.0,-54.05000000000001,-54.69999999999999,-53.400000000000034,-52.10000000000002,-47.30625000000001,-49.66250000000001,-50.80000000000001,-48.525000000000006,-49.5,-47.55000000000001,-48.19999999999999,-46.900000000000034,-44.95000000000002,-45.60000000000002,-44.30000000000001,-38.69375000000001,-41.05000000000001,-42.349999999999994,-43.0,-41.69999999999999,-39.75000000000003,-40.400000000000034,-39.10000000000002,-36.33750000000001,-37.80000000000001,-34.875000000000014,-35.849999999999994,-36.5,-35.19999999999999,-33.900000000000034,-10.637902832031259,-24.515625000000014,-28.78125000000001,-31.625000000000014,-32.60000000000002,-30.650000000000006,-31.30000000000001,-30.0,-25.937500000000007,-27.72500000000001,-28.69999999999999,-26.75000000000003,-27.400000000000034,-26.100000000000023,-24.150000000000006,-24.80000000000001,-23.5,-20.250000000000014,-22.200000000000017,-18.30000000000001,-20.250000000000014,-20.900000000000006,-19.600000000000023,-16.35000000000001,-17.650000000000006,-18.30000000000001,-17.0,-15.050000000000011,-15.700000000000017,-14.400000000000006,3.2398193359374954,-10.256250000000005,-12.450000000000003,-13.099999999999994,-11.800000000000011,-8.062500000000007,-9.850000000000009,-10.5,-9.200000000000017,-6.275000000000006,-7.25,-7.900000000000006,-6.599999999999994,-5.300000000000011,16.735888671874996,2.2499023437499934,-3.3500000000000085,-4.0,-2.700000000000017,7.849804687499995,-0.42500000000000426,-1.4000000000000057,0.5499999999999972,-0.09999999999999432,1.1999999999999886,16.124609374999995,9.274218749999994,4.612499999999994,3.1499999999999915,2.5,3.799999999999983,6.074999999999996,5.099999999999994,7.049999999999997,6.400000000000006,7.699999999999989,13.935937499999994,9.974999999999994,9.0,10.949999999999989,10.299999999999983,11.599999999999994,17.896874999999994,15.09375,12.900000000000006,17.287499999999994,15.824999999999989,14.849999999999994,14.199999999999989,15.5,16.799999999999983,18.75,18.099999999999994,19.400000000000006,20.69999999999999,22.974999999999994,22.0,23.94999999999999,23.299999999999983,24.599999999999994,31.221874999999997,28.012499999999996,26.549999999999997,25.900000000000006,27.19999999999999,29.474999999999994,28.5,30.44999999999999,29.799999999999983,31.099999999999994,34.43125,32.400000000000006,36.46249999999999,34.67499999999999,33.69999999999999,35.64999999999999,35.0,36.29999999999998,38.25,37.599999999999994,38.900000000000006,104.58015136718748,63.8599365234375,46.37499999999999,41.82499999999999,40.849999999999994,40.19999999999999,41.5,42.79999999999998,50.925,47.349999999999994,45.724999999999994,44.75,44.099999999999994,45.400000000000006,46.69999999999999,48.974999999999994,48.0,49.94999999999999,49.29999999999998,50.599999999999994,54.5,51.900000000000006,57.099999999999994,55.14999999999999,53.849999999999994,53.19999999999999,54.5,56.44999999999999,55.79999999999998,57.099999999999994,59.05,58.400000000000006,59.69999999999999,81.344873046875,62.137499999999996,61.0,63.27499999999999,62.29999999999998,64.25,63.599999999999994,64.9,100.55224609375,88.65292968749999,75.193359375,68.8,66.85,66.19999999999999,67.5,70.75,69.44999999999999,68.79999999999998,70.1,72.05,71.4,72.69999999999999,81.58671874999999,74.975,74.0,75.94999999999999,75.29999999999998,76.6,88.19843749999998,81.271875,77.9,84.64374999999998,81.96249999999999,80.17499999999998,79.19999999999999,81.14999999999999,80.5,81.79999999999998,83.75,83.1,84.4,87.32499999999999,85.69999999999999,88.94999999999999,87.64999999999999,87.0,88.29999999999998,90.25,89.6,90.9,95.12499999999999,93.17499999999998,92.19999999999999,94.14999999999999,93.5,94.79999999999998,97.07499999999999,96.1,98.05,97.4,98.69999999999999,102.11249999999998,100.64999999999999,100.0,101.29999999999998,103.57499999999999,102.6,104.54999999999998,103.89999999999999,105.19999999999999,112.4515625,108.45,107.15,106.5,107.8,109.75,109.1,110.39999999999999,116.453125,113.32499999999999,112.35,111.7,113.0,114.3,119.58125,118.3625,117.225,116.25,115.6,116.89999999999999,118.2,119.5,120.8,145.30036621093748,130.13359375,123.725,122.1,125.35,124.05,123.39999999999999,124.7,126.65,126.0,127.3,136.5421875,131.321875,129.25,128.6,129.89999999999998,133.39375,131.85,131.2,132.5,134.9375,133.8,136.075,135.1,137.04999999999998,136.39999999999998,137.7,141.7625,140.625,139.65,139.0,140.3,141.6,142.89999999999998,160.46713867187498,147.211328125,144.2,150.22265625,146.475,145.5,147.45,146.8,148.1,153.97031249999998,150.74062499999997,149.39999999999998,152.08124999999998,150.7,153.46249999999998,152.0,154.92499999999998,153.95,153.3,154.6,155.89999999999998,157.2,173.72294921875,162.64375,160.9375,159.475,158.5,160.45,159.8,161.1,162.39999999999998,164.35,163.7,165.0,184.8021484375,170.9921875,167.925,166.95,166.3,167.6,168.9,174.059375,171.41875,170.2,172.6375,171.5,173.775,172.8,174.75,174.1,175.4,176.7,198.612109375,189.70000000000002,181.00625000000002,178.0,184.01250000000002,180.51875,179.3,181.7375,180.6,182.875,181.9,183.85,183.2,184.5,187.50625000000002,185.8,189.2125,187.75,187.1,188.4,190.675,189.7,191.65,191.0,192.3,198.39375,196.0375,194.575,193.6,195.55,194.9,196.2,197.5,200.75,199.45,198.8,200.1,202.05,201.4,202.7,207.52421875,204.975,204.0,205.95,205.3,206.6,210.0734375,207.9,212.246875,209.85,209.2,210.5,214.64375,212.45,211.8,213.1,216.8375,215.05,214.4,215.7,218.625,217.65,217.0,218.3,219.6,224.921875,221.875,220.9,222.85,222.2,223.5,227.96875,225.9375,224.8,227.075,226.1,228.05,227.4,228.7,230.0],\"type\":\"scatter\"}],                        {\"autosize\":true,\"dragmode\":\"lasso\",\"font\":{\"family\":\"Balto\",\"size\":14},\"height\":850,\"hovermode\":\"closest\",\"legend\":{\"x\":0,\"y\":1},\"margin\":{\"b\":0,\"l\":0,\"r\":0,\"t\":0},\"paper_bgcolor\":\"rgb(248,248,248)\",\"plot_bgcolor\":\"rgb(248,248,248)\",\"shapes\":[{\"layer\":\"below\",\"line\":{\"color\":\"rgb(25,25,25)\",\"width\":1},\"type\":\"line\",\"x0\":0,\"x1\":0,\"y0\":95.86112976074219,\"y1\":95.86112976074219},{\"layer\":\"below\",\"line\":{\"color\":\"rgb(25,25,25)\",\"width\":1},\"type\":\"line\",\"x0\":0,\"x1\":0,\"y0\":224.921875,\"y1\":-33.19961547851564},{\"layer\":\"below\",\"line\":{\"color\":\"rgb(15,15,15)\",\"width\":1},\"type\":\"line\",\"x0\":0,\"x1\":1.249566549658775e-05,\"y0\":-33.19961547851564,\"y1\":-33.19961547851564},{\"layer\":\"below\",\"line\":{\"color\":\"rgb(15,15,15)\",\"width\":1},\"type\":\"line\",\"x0\":1.249566549658775e-05,\"x1\":1.249566549658775e-05,\"y0\":-10.637902832031259,\"y1\":-55.76132812500001},{\"layer\":\"below\",\"line\":{\"color\":\"rgb(15,15,15)\",\"width\":1},\"type\":\"line\",\"x0\":1.249566549658775e-05,\"x1\":0.00011847828805446601,\"y0\":-55.76132812500001,\"y1\":-55.76132812500001},{\"layer\":\"below\",\"line\":{\"color\":\"rgb(15,15,15)\",\"width\":1},\"type\":\"line\",\"x0\":0.00011847828805446601,\"x1\":0.00011847828805446601,\"y0\":-45.77265625000001,\"y1\":-65.75000000000001},{\"layer\":\"below\",\"line\":{\"color\":\"rgb(15,15,15)\",\"width\":1},\"type\":\"line\",\"x0\":0.00011847828805446601,\"x1\":0.0003379393459762841,\"y0\":-65.75000000000001,\"y1\":-65.75000000000001},{\"layer\":\"below\",\"line\":{\"color\":\"rgb(15,15,15)\",\"width\":1},\"type\":\"line\",\"x0\":0.0003379393459762841,\"x1\":0.0003379393459762841,\"y0\":-64.45000000000002,\"y1\":-67.05000000000001},{\"layer\":\"below\",\"line\":{\"color\":\"rgb(15,15,15)\",\"width\":1},\"type\":\"line\",\"x0\":0.0003379393459762841,\"x1\":0.0008445524470272517,\"y0\":-67.05000000000001,\"y1\":-67.05000000000001},{\"layer\":\"below\",\"line\":{\"color\":\"rgb(15,15,15)\",\"width\":1},\"type\":\"line\",\"x0\":0.0008445524470272517,\"x1\":0.0008445524470272517,\"y0\":-66.40000000000003,\"y1\":-67.69999999999999},{\"layer\":\"below\",\"line\":{\"color\":\"rgb(15,15,15)\",\"width\":1},\"type\":\"line\",\"x0\":0.0008445524470272517,\"x1\":0.0108367295754327,\"y0\":-67.69999999999999,\"y1\":-67.69999999999999},{\"layer\":\"below\",\"line\":{\"color\":\"rgb(15,15,15)\",\"width\":1},\"type\":\"line\",\"x0\":0.0008445524470272517,\"x1\":0.009719875318621804,\"y0\":-66.40000000000003,\"y1\":-66.40000000000003},{\"layer\":\"below\",\"line\":{\"color\":\"rgb(15,15,15)\",\"width\":1},\"type\":\"line\",\"x0\":0.0003379393459762841,\"x1\":0.00044705124492531745,\"y0\":-64.45000000000002,\"y1\":-64.45000000000002},{\"layer\":\"below\",\"line\":{\"color\":\"rgb(15,15,15)\",\"width\":1},\"type\":\"line\",\"x0\":0.00044705124492531745,\"x1\":0.00044705124492531745,\"y0\":-63.80000000000001,\"y1\":-65.10000000000002},{\"layer\":\"below\",\"line\":{\"color\":\"rgb(15,15,15)\",\"width\":1},\"type\":\"line\",\"x0\":0.00044705124492531745,\"x1\":0.008887531022206066,\"y0\":-65.10000000000002,\"y1\":-65.10000000000002},{\"layer\":\"below\",\"line\":{\"color\":\"rgb(15,15,15)\",\"width\":1},\"type\":\"line\",\"x0\":0.00044705124492531745,\"x1\":0.00890287146764457,\"y0\":-63.80000000000001,\"y1\":-63.80000000000001},{\"layer\":\"below\",\"line\":{\"color\":\"rgb(15,15,15)\",\"width\":1},\"type\":\"line\",\"x0\":0.00011847828805446601,\"x1\":0.00023097655630452304,\"y0\":-45.77265625000001,\"y1\":-45.77265625000001},{\"layer\":\"below\",\"line\":{\"color\":\"rgb(15,15,15)\",\"width\":1},\"type\":\"line\",\"x0\":0.00023097655630452304,\"x1\":0.00023097655630452304,\"y0\":-38.69375000000001,\"y1\":-52.851562500000014},{\"layer\":\"below\",\"line\":{\"color\":\"rgb(15,15,15)\",\"width\":1},\"type\":\"line\",\"x0\":0.00023097655630452304,\"x1\":0.00030874548808756356,\"y0\":-52.851562500000014,\"y1\":-52.851562500000014},{\"layer\":\"below\",\"line\":{\"color\":\"rgb(15,15,15)\",\"width\":1},\"type\":\"line\",\"x0\":0.00030874548808756356,\"x1\":0.00030874548808756356,\"y0\":-47.30625000000001,\"y1\":-58.39687500000001},{\"layer\":\"below\",\"line\":{\"color\":\"rgb(15,15,15)\",\"width\":1},\"type\":\"line\",\"x0\":0.00030874548808756356,\"x1\":0.00040748723901665423,\"y0\":-58.39687500000001,\"y1\":-58.39687500000001},{\"layer\":\"below\",\"line\":{\"color\":\"rgb(15,15,15)\",\"width\":1},\"type\":\"line\",\"x0\":0.00040748723901665423,\"x1\":0.00040748723901665423,\"y0\":-55.43125000000001,\"y1\":-61.362500000000004},{\"layer\":\"below\",\"line\":{\"color\":\"rgb(15,15,15)\",\"width\":1},\"type\":\"line\",\"x0\":0.00040748723901665423,\"x1\":0.0005555536885461288,\"y0\":-61.362500000000004,\"y1\":-61.362500000000004},{\"layer\":\"below\",\"line\":{\"color\":\"rgb(15,15,15)\",\"width\":1},\"type\":\"line\",\"x0\":0.0005555536885461288,\"x1\":0.0005555536885461288,\"y0\":-60.22500000000001,\"y1\":-62.5},{\"layer\":\"below\",\"line\":{\"color\":\"rgb(15,15,15)\",\"width\":1},\"type\":\"line\",\"x0\":0.0005555536885461288,\"x1\":0.009193990635930526,\"y0\":-62.5,\"y1\":-62.5},{\"layer\":\"below\",\"line\":{\"color\":\"rgb(15,15,15)\",\"width\":1},\"type\":\"line\",\"x0\":0.0005555536885461288,\"x1\":0.0007136417411617306,\"y0\":-60.22500000000001,\"y1\":-60.22500000000001},{\"layer\":\"below\",\"line\":{\"color\":\"rgb(15,15,15)\",\"width\":1},\"type\":\"line\",\"x0\":0.0007136417411617306,\"x1\":0.0007136417411617306,\"y0\":-59.25000000000003,\"y1\":-61.19999999999999},{\"layer\":\"below\",\"line\":{\"color\":\"rgb(15,15,15)\",\"width\":1},\"type\":\"line\",\"x0\":0.0007136417411617306,\"x1\":0.008362596185957227,\"y0\":-61.19999999999999,\"y1\":-61.19999999999999},{\"layer\":\"below\",\"line\":{\"color\":\"rgb(15,15,15)\",\"width\":1},\"type\":\"line\",\"x0\":0.0007136417411617306,\"x1\":0.0016673372963662337,\"y0\":-59.25000000000003,\"y1\":-59.25000000000003},{\"layer\":\"below\",\"line\":{\"color\":\"rgb(15,15,15)\",\"width\":1},\"type\":\"line\",\"x0\":0.0016673372963662337,\"x1\":0.0016673372963662337,\"y0\":-58.60000000000002,\"y1\":-59.900000000000034},{\"layer\":\"below\",\"line\":{\"color\":\"rgb(15,15,15)\",\"width\":1},\"type\":\"line\",\"x0\":0.0016673372963662337,\"x1\":0.009479503039088835,\"y0\":-59.900000000000034,\"y1\":-59.900000000000034},{\"layer\":\"below\",\"line\":{\"color\":\"rgb(15,15,15)\",\"width\":1},\"type\":\"line\",\"x0\":0.0016673372963662337,\"x1\":0.009255771553643632,\"y0\":-58.60000000000002,\"y1\":-58.60000000000002},{\"layer\":\"below\",\"line\":{\"color\":\"rgb(15,15,15)\",\"width\":1},\"type\":\"line\",\"x0\":0.00040748723901665423,\"x1\":0.0007173129769871792,\"y0\":-55.43125000000001,\"y1\":-55.43125000000001},{\"layer\":\"below\",\"line\":{\"color\":\"rgb(15,15,15)\",\"width\":1},\"type\":\"line\",\"x0\":0.0007173129769871792,\"x1\":0.0007173129769871792,\"y0\":-53.562500000000014,\"y1\":-57.30000000000001},{\"layer\":\"below\",\"line\":{\"color\":\"rgb(15,15,15)\",\"width\":1},\"type\":\"line\",\"x0\":0.0007173129769871792,\"x1\":0.00923491590174492,\"y0\":-57.30000000000001,\"y1\":-57.30000000000001},{\"layer\":\"below\",\"line\":{\"color\":\"rgb(15,15,15)\",\"width\":1},\"type\":\"line\",\"x0\":0.0007173129769871792,\"x1\":0.0009422100522294395,\"y0\":-53.562500000000014,\"y1\":-53.562500000000014},{\"layer\":\"below\",\"line\":{\"color\":\"rgb(15,15,15)\",\"width\":1},\"type\":\"line\",\"x0\":0.0009422100522294395,\"x1\":0.0009422100522294395,\"y0\":-52.10000000000002,\"y1\":-55.025000000000006},{\"layer\":\"below\",\"line\":{\"color\":\"rgb(15,15,15)\",\"width\":1},\"type\":\"line\",\"x0\":0.0009422100522294395,\"x1\":0.003254303918428015,\"y0\":-55.025000000000006,\"y1\":-55.025000000000006},{\"layer\":\"below\",\"line\":{\"color\":\"rgb(15,15,15)\",\"width\":1},\"type\":\"line\",\"x0\":0.003254303918428015,\"x1\":0.003254303918428015,\"y0\":-54.05000000000001,\"y1\":-56.0},{\"layer\":\"below\",\"line\":{\"color\":\"rgb(15,15,15)\",\"width\":1},\"type\":\"line\",\"x0\":0.003254303918428015,\"x1\":0.01016516422311552,\"y0\":-56.0,\"y1\":-56.0},{\"layer\":\"below\",\"line\":{\"color\":\"rgb(15,15,15)\",\"width\":1},\"type\":\"line\",\"x0\":0.003254303918428015,\"x1\":0.004578343613740511,\"y0\":-54.05000000000001,\"y1\":-54.05000000000001},{\"layer\":\"below\",\"line\":{\"color\":\"rgb(15,15,15)\",\"width\":1},\"type\":\"line\",\"x0\":0.004578343613740511,\"x1\":0.004578343613740511,\"y0\":-53.400000000000034,\"y1\":-54.69999999999999},{\"layer\":\"below\",\"line\":{\"color\":\"rgb(15,15,15)\",\"width\":1},\"type\":\"line\",\"x0\":0.004578343613740511,\"x1\":0.010181693557179412,\"y0\":-54.69999999999999,\"y1\":-54.69999999999999},{\"layer\":\"below\",\"line\":{\"color\":\"rgb(15,15,15)\",\"width\":1},\"type\":\"line\",\"x0\":0.004578343613740511,\"x1\":0.011656893670301607,\"y0\":-53.400000000000034,\"y1\":-53.400000000000034},{\"layer\":\"below\",\"line\":{\"color\":\"rgb(15,15,15)\",\"width\":1},\"type\":\"line\",\"x0\":0.0009422100522294395,\"x1\":0.010364641186030865,\"y0\":-52.10000000000002,\"y1\":-52.10000000000002},{\"layer\":\"below\",\"line\":{\"color\":\"rgb(15,15,15)\",\"width\":1},\"type\":\"line\",\"x0\":0.00030874548808756356,\"x1\":0.0008260773699709732,\"y0\":-47.30625000000001,\"y1\":-47.30625000000001},{\"layer\":\"below\",\"line\":{\"color\":\"rgb(15,15,15)\",\"width\":1},\"type\":\"line\",\"x0\":0.0008260773699709732,\"x1\":0.0008260773699709732,\"y0\":-44.95000000000002,\"y1\":-49.66250000000001},{\"layer\":\"below\",\"line\":{\"color\":\"rgb(15,15,15)\",\"width\":1},\"type\":\"line\",\"x0\":0.0008260773699709732,\"x1\":0.0011039921748110595,\"y0\":-49.66250000000001,\"y1\":-49.66250000000001},{\"layer\":\"below\",\"line\":{\"color\":\"rgb(15,15,15)\",\"width\":1},\"type\":\"line\",\"x0\":0.0011039921748110595,\"x1\":0.0011039921748110595,\"y0\":-48.525000000000006,\"y1\":-50.80000000000001},{\"layer\":\"below\",\"line\":{\"color\":\"rgb(15,15,15)\",\"width\":1},\"type\":\"line\",\"x0\":0.0011039921748110595,\"x1\":0.009306431643297714,\"y0\":-50.80000000000001,\"y1\":-50.80000000000001},{\"layer\":\"below\",\"line\":{\"color\":\"rgb(15,15,15)\",\"width\":1},\"type\":\"line\",\"x0\":0.0011039921748110595,\"x1\":0.0011992027063244051,\"y0\":-48.525000000000006,\"y1\":-48.525000000000006},{\"layer\":\"below\",\"line\":{\"color\":\"rgb(15,15,15)\",\"width\":1},\"type\":\"line\",\"x0\":0.0011992027063244051,\"x1\":0.0011992027063244051,\"y0\":-47.55000000000001,\"y1\":-49.5},{\"layer\":\"below\",\"line\":{\"color\":\"rgb(15,15,15)\",\"width\":1},\"type\":\"line\",\"x0\":0.0011992027063244051,\"x1\":0.009155782068967909,\"y0\":-49.5,\"y1\":-49.5},{\"layer\":\"below\",\"line\":{\"color\":\"rgb(15,15,15)\",\"width\":1},\"type\":\"line\",\"x0\":0.0011992027063244051,\"x1\":0.002318623343680902,\"y0\":-47.55000000000001,\"y1\":-47.55000000000001},{\"layer\":\"below\",\"line\":{\"color\":\"rgb(15,15,15)\",\"width\":1},\"type\":\"line\",\"x0\":0.002318623343680902,\"x1\":0.002318623343680902,\"y0\":-46.900000000000034,\"y1\":-48.19999999999999},{\"layer\":\"below\",\"line\":{\"color\":\"rgb(15,15,15)\",\"width\":1},\"type\":\"line\",\"x0\":0.002318623343680902,\"x1\":0.010369499718680905,\"y0\":-48.19999999999999,\"y1\":-48.19999999999999},{\"layer\":\"below\",\"line\":{\"color\":\"rgb(15,15,15)\",\"width\":1},\"type\":\"line\",\"x0\":0.002318623343680902,\"x1\":0.009454946968680898,\"y0\":-46.900000000000034,\"y1\":-46.900000000000034},{\"layer\":\"below\",\"line\":{\"color\":\"rgb(15,15,15)\",\"width\":1},\"type\":\"line\",\"x0\":0.0008260773699709732,\"x1\":0.0011074625651308857,\"y0\":-44.95000000000002,\"y1\":-44.95000000000002},{\"layer\":\"below\",\"line\":{\"color\":\"rgb(15,15,15)\",\"width\":1},\"type\":\"line\",\"x0\":0.0011074625651308857,\"x1\":0.0011074625651308857,\"y0\":-44.30000000000001,\"y1\":-45.60000000000002},{\"layer\":\"below\",\"line\":{\"color\":\"rgb(15,15,15)\",\"width\":1},\"type\":\"line\",\"x0\":0.0011074625651308857,\"x1\":0.008711210403376624,\"y0\":-45.60000000000002,\"y1\":-45.60000000000002},{\"layer\":\"below\",\"line\":{\"color\":\"rgb(15,15,15)\",\"width\":1},\"type\":\"line\",\"x0\":0.0011074625651308857,\"x1\":0.008479614726885146,\"y0\":-44.30000000000001,\"y1\":-44.30000000000001},{\"layer\":\"below\",\"line\":{\"color\":\"rgb(15,15,15)\",\"width\":1},\"type\":\"line\",\"x0\":0.00023097655630452304,\"x1\":0.00048496543702148255,\"y0\":-38.69375000000001,\"y1\":-38.69375000000001},{\"layer\":\"below\",\"line\":{\"color\":\"rgb(15,15,15)\",\"width\":1},\"type\":\"line\",\"x0\":0.00048496543702148255,\"x1\":0.00048496543702148255,\"y0\":-36.33750000000001,\"y1\":-41.05000000000001},{\"layer\":\"below\",\"line\":{\"color\":\"rgb(15,15,15)\",\"width\":1},\"type\":\"line\",\"x0\":0.00048496543702148255,\"x1\":0.0008298777374006177,\"y0\":-41.05000000000001,\"y1\":-41.05000000000001},{\"layer\":\"below\",\"line\":{\"color\":\"rgb(15,15,15)\",\"width\":1},\"type\":\"line\",\"x0\":0.0008298777374006177,\"x1\":0.0008298777374006177,\"y0\":-39.75000000000003,\"y1\":-42.349999999999994},{\"layer\":\"below\",\"line\":{\"color\":\"rgb(15,15,15)\",\"width\":1},\"type\":\"line\",\"x0\":0.0008298777374006177,\"x1\":0.0013203498593314222,\"y0\":-42.349999999999994,\"y1\":-42.349999999999994},{\"layer\":\"below\",\"line\":{\"color\":\"rgb(15,15,15)\",\"width\":1},\"type\":\"line\",\"x0\":0.0013203498593314222,\"x1\":0.0013203498593314222,\"y0\":-41.69999999999999,\"y1\":-43.0},{\"layer\":\"below\",\"line\":{\"color\":\"rgb(15,15,15)\",\"width\":1},\"type\":\"line\",\"x0\":0.0013203498593314222,\"x1\":0.014197007793059872,\"y0\":-43.0,\"y1\":-43.0},{\"layer\":\"below\",\"line\":{\"color\":\"rgb(15,15,15)\",\"width\":1},\"type\":\"line\",\"x0\":0.0013203498593314222,\"x1\":0.011300791925602974,\"y0\":-41.69999999999999,\"y1\":-41.69999999999999},{\"layer\":\"below\",\"line\":{\"color\":\"rgb(15,15,15)\",\"width\":1},\"type\":\"line\",\"x0\":0.0008298777374006177,\"x1\":0.0013572056154698142,\"y0\":-39.75000000000003,\"y1\":-39.75000000000003},{\"layer\":\"below\",\"line\":{\"color\":\"rgb(15,15,15)\",\"width\":1},\"type\":\"line\",\"x0\":0.0013572056154698142,\"x1\":0.0013572056154698142,\"y0\":-39.10000000000002,\"y1\":-40.400000000000034},{\"layer\":\"below\",\"line\":{\"color\":\"rgb(15,15,15)\",\"width\":1},\"type\":\"line\",\"x0\":0.0013572056154698142,\"x1\":0.00968625884730742,\"y0\":-40.400000000000034,\"y1\":-40.400000000000034},{\"layer\":\"below\",\"line\":{\"color\":\"rgb(15,15,15)\",\"width\":1},\"type\":\"line\",\"x0\":0.0013572056154698142,\"x1\":0.009867252383632208,\"y0\":-39.10000000000002,\"y1\":-39.10000000000002},{\"layer\":\"below\",\"line\":{\"color\":\"rgb(15,15,15)\",\"width\":1},\"type\":\"line\",\"x0\":0.00048496543702148255,\"x1\":0.0007423062616423478,\"y0\":-36.33750000000001,\"y1\":-36.33750000000001},{\"layer\":\"below\",\"line\":{\"color\":\"rgb(15,15,15)\",\"width\":1},\"type\":\"line\",\"x0\":0.0007423062616423478,\"x1\":0.0007423062616423478,\"y0\":-34.875000000000014,\"y1\":-37.80000000000001},{\"layer\":\"below\",\"line\":{\"color\":\"rgb(15,15,15)\",\"width\":1},\"type\":\"line\",\"x0\":0.0007423062616423478,\"x1\":0.010057510592697032,\"y0\":-37.80000000000001,\"y1\":-37.80000000000001},{\"layer\":\"below\",\"line\":{\"color\":\"rgb(15,15,15)\",\"width\":1},\"type\":\"line\",\"x0\":0.0007423062616423478,\"x1\":0.0011191019305876594,\"y0\":-34.875000000000014,\"y1\":-34.875000000000014},{\"layer\":\"below\",\"line\":{\"color\":\"rgb(15,15,15)\",\"width\":1},\"type\":\"line\",\"x0\":0.0011191019305876594,\"x1\":0.0011191019305876594,\"y0\":-33.900000000000034,\"y1\":-35.849999999999994},{\"layer\":\"below\",\"line\":{\"color\":\"rgb(15,15,15)\",\"width\":1},\"type\":\"line\",\"x0\":0.0011191019305876594,\"x1\":0.0011612258168908515,\"y0\":-35.849999999999994,\"y1\":-35.849999999999994},{\"layer\":\"below\",\"line\":{\"color\":\"rgb(15,15,15)\",\"width\":1},\"type\":\"line\",\"x0\":0.0011612258168908515,\"x1\":0.0011612258168908515,\"y0\":-35.19999999999999,\"y1\":-36.5},{\"layer\":\"below\",\"line\":{\"color\":\"rgb(15,15,15)\",\"width\":1},\"type\":\"line\",\"x0\":0.0011612258168908515,\"x1\":0.009196650905486218,\"y0\":-36.5,\"y1\":-36.5},{\"layer\":\"below\",\"line\":{\"color\":\"rgb(15,15,15)\",\"width\":1},\"type\":\"line\",\"x0\":0.0011612258168908515,\"x1\":0.009400700728295484,\"y0\":-35.19999999999999,\"y1\":-35.19999999999999},{\"layer\":\"below\",\"line\":{\"color\":\"rgb(15,15,15)\",\"width\":1},\"type\":\"line\",\"x0\":0.0011191019305876594,\"x1\":0.010066278044284472,\"y0\":-33.900000000000034,\"y1\":-33.900000000000034},{\"layer\":\"below\",\"line\":{\"color\":\"rgb(15,15,15)\",\"width\":1},\"type\":\"line\",\"x0\":1.249566549658775e-05,\"x1\":8.595683428049087e-05,\"y0\":-10.637902832031259,\"y1\":-10.637902832031259},{\"layer\":\"below\",\"line\":{\"color\":\"rgb(15,15,15)\",\"width\":1},\"type\":\"line\",\"x0\":8.595683428049087e-05,\"x1\":8.595683428049087e-05,\"y0\":3.2398193359374954,\"y1\":-24.515625000000014},{\"layer\":\"below\",\"line\":{\"color\":\"rgb(15,15,15)\",\"width\":1},\"type\":\"line\",\"x0\":8.595683428049087e-05,\"x1\":0.0001546417526108028,\"y0\":-24.515625000000014,\"y1\":-24.515625000000014},{\"layer\":\"below\",\"line\":{\"color\":\"rgb(15,15,15)\",\"width\":1},\"type\":\"line\",\"x0\":0.0001546417526108028,\"x1\":0.0001546417526108028,\"y0\":-20.250000000000014,\"y1\":-28.78125000000001},{\"layer\":\"below\",\"line\":{\"color\":\"rgb(15,15,15)\",\"width\":1},\"type\":\"line\",\"x0\":0.0001546417526108028,\"x1\":0.0001880851000648737,\"y0\":-28.78125000000001,\"y1\":-28.78125000000001},{\"layer\":\"below\",\"line\":{\"color\":\"rgb(15,15,15)\",\"width\":1},\"type\":\"line\",\"x0\":0.0001880851000648737,\"x1\":0.0001880851000648737,\"y0\":-25.937500000000007,\"y1\":-31.625000000000014},{\"layer\":\"below\",\"line\":{\"color\":\"rgb(15,15,15)\",\"width\":1},\"type\":\"line\",\"x0\":0.0001880851000648737,\"x1\":0.00038873906870636566,\"y0\":-31.625000000000014,\"y1\":-31.625000000000014},{\"layer\":\"below\",\"line\":{\"color\":\"rgb(15,15,15)\",\"width\":1},\"type\":\"line\",\"x0\":0.00038873906870636566,\"x1\":0.00038873906870636566,\"y0\":-30.650000000000006,\"y1\":-32.60000000000002},{\"layer\":\"below\",\"line\":{\"color\":\"rgb(15,15,15)\",\"width\":1},\"type\":\"line\",\"x0\":0.00038873906870636566,\"x1\":0.009353852677511704,\"y0\":-32.60000000000002,\"y1\":-32.60000000000002},{\"layer\":\"below\",\"line\":{\"color\":\"rgb(15,15,15)\",\"width\":1},\"type\":\"line\",\"x0\":0.00038873906870636566,\"x1\":0.0042338254599010305,\"y0\":-30.650000000000006,\"y1\":-30.650000000000006},{\"layer\":\"below\",\"line\":{\"color\":\"rgb(15,15,15)\",\"width\":1},\"type\":\"line\",\"x0\":0.0042338254599010305,\"x1\":0.0042338254599010305,\"y0\":-30.0,\"y1\":-31.30000000000001},{\"layer\":\"below\",\"line\":{\"color\":\"rgb(15,15,15)\",\"width\":1},\"type\":\"line\",\"x0\":0.0042338254599010305,\"x1\":0.011208656709901028,\"y0\":-31.30000000000001,\"y1\":-31.30000000000001},{\"layer\":\"below\",\"line\":{\"color\":\"rgb(15,15,15)\",\"width\":1},\"type\":\"line\",\"x0\":0.0042338254599010305,\"x1\":0.010467694209901034,\"y0\":-30.0,\"y1\":-30.0},{\"layer\":\"below\",\"line\":{\"color\":\"rgb(15,15,15)\",\"width\":1},\"type\":\"line\",\"x0\":0.0001880851000648737,\"x1\":0.0005902592564233813,\"y0\":-25.937500000000007,\"y1\":-25.937500000000007},{\"layer\":\"below\",\"line\":{\"color\":\"rgb(15,15,15)\",\"width\":1},\"type\":\"line\",\"x0\":0.0005902592564233813,\"x1\":0.0005902592564233813,\"y0\":-24.150000000000006,\"y1\":-27.72500000000001},{\"layer\":\"below\",\"line\":{\"color\":\"rgb(15,15,15)\",\"width\":1},\"type\":\"line\",\"x0\":0.0005902592564233813,\"x1\":0.0025121551117293704,\"y0\":-27.72500000000001,\"y1\":-27.72500000000001},{\"layer\":\"below\",\"line\":{\"color\":\"rgb(15,15,15)\",\"width\":1},\"type\":\"line\",\"x0\":0.0025121551117293704,\"x1\":0.0025121551117293704,\"y0\":-26.75000000000003,\"y1\":-28.69999999999999},{\"layer\":\"below\",\"line\":{\"color\":\"rgb(15,15,15)\",\"width\":1},\"type\":\"line\",\"x0\":0.0025121551117293704,\"x1\":0.011031511640747227,\"y0\":-28.69999999999999,\"y1\":-28.69999999999999},{\"layer\":\"below\",\"line\":{\"color\":\"rgb(15,15,15)\",\"width\":1},\"type\":\"line\",\"x0\":0.0025121551117293704,\"x1\":0.002730148582711514,\"y0\":-26.75000000000003,\"y1\":-26.75000000000003},{\"layer\":\"below\",\"line\":{\"color\":\"rgb(15,15,15)\",\"width\":1},\"type\":\"line\",\"x0\":0.002730148582711514,\"x1\":0.002730148582711514,\"y0\":-26.100000000000023,\"y1\":-27.400000000000034},{\"layer\":\"below\",\"line\":{\"color\":\"rgb(15,15,15)\",\"width\":1},\"type\":\"line\",\"x0\":0.002730148582711514,\"x1\":0.010997330663828544,\"y0\":-27.400000000000034,\"y1\":-27.400000000000034},{\"layer\":\"below\",\"line\":{\"color\":\"rgb(15,15,15)\",\"width\":1},\"type\":\"line\",\"x0\":0.002730148582711514,\"x1\":0.011302066501594484,\"y0\":-26.100000000000023,\"y1\":-26.100000000000023},{\"layer\":\"below\",\"line\":{\"color\":\"rgb(15,15,15)\",\"width\":1},\"type\":\"line\",\"x0\":0.0005902592564233813,\"x1\":0.0015897384011173935,\"y0\":-24.150000000000006,\"y1\":-24.150000000000006},{\"layer\":\"below\",\"line\":{\"color\":\"rgb(15,15,15)\",\"width\":1},\"type\":\"line\",\"x0\":0.0015897384011173935,\"x1\":0.0015897384011173935,\"y0\":-23.5,\"y1\":-24.80000000000001},{\"layer\":\"below\",\"line\":{\"color\":\"rgb(15,15,15)\",\"width\":1},\"type\":\"line\",\"x0\":0.0015897384011173935,\"x1\":0.008889913778634177,\"y0\":-24.80000000000001,\"y1\":-24.80000000000001},{\"layer\":\"below\",\"line\":{\"color\":\"rgb(15,15,15)\",\"width\":1},\"type\":\"line\",\"x0\":0.0015897384011173935,\"x1\":0.009476763023600608,\"y0\":-23.5,\"y1\":-23.5},{\"layer\":\"below\",\"line\":{\"color\":\"rgb(15,15,15)\",\"width\":1},\"type\":\"line\",\"x0\":0.0001546417526108028,\"x1\":0.0004151527020317312,\"y0\":-20.250000000000014,\"y1\":-20.250000000000014},{\"layer\":\"below\",\"line\":{\"color\":\"rgb(15,15,15)\",\"width\":1},\"type\":\"line\",\"x0\":0.0004151527020317312,\"x1\":0.0004151527020317312,\"y0\":-18.30000000000001,\"y1\":-22.200000000000017},{\"layer\":\"below\",\"line\":{\"color\":\"rgb(15,15,15)\",\"width\":1},\"type\":\"line\",\"x0\":0.0004151527020317312,\"x1\":0.01055817900647509,\"y0\":-22.200000000000017,\"y1\":-22.200000000000017},{\"layer\":\"below\",\"line\":{\"color\":\"rgb(15,15,15)\",\"width\":1},\"type\":\"line\",\"x0\":0.0004151527020317312,\"x1\":0.0006362513975883741,\"y0\":-18.30000000000001,\"y1\":-18.30000000000001},{\"layer\":\"below\",\"line\":{\"color\":\"rgb(15,15,15)\",\"width\":1},\"type\":\"line\",\"x0\":0.0006362513975883741,\"x1\":0.0006362513975883741,\"y0\":-16.35000000000001,\"y1\":-20.250000000000014},{\"layer\":\"below\",\"line\":{\"color\":\"rgb(15,15,15)\",\"width\":1},\"type\":\"line\",\"x0\":0.0006362513975883741,\"x1\":0.0018805883152236639,\"y0\":-20.250000000000014,\"y1\":-20.250000000000014},{\"layer\":\"below\",\"line\":{\"color\":\"rgb(15,15,15)\",\"width\":1},\"type\":\"line\",\"x0\":0.0018805883152236639,\"x1\":0.0018805883152236639,\"y0\":-19.600000000000023,\"y1\":-20.900000000000006},{\"layer\":\"below\",\"line\":{\"color\":\"rgb(15,15,15)\",\"width\":1},\"type\":\"line\",\"x0\":0.0018805883152236639,\"x1\":0.011687627628124309,\"y0\":-20.900000000000006,\"y1\":-20.900000000000006},{\"layer\":\"below\",\"line\":{\"color\":\"rgb(15,15,15)\",\"width\":1},\"type\":\"line\",\"x0\":0.0018805883152236639,\"x1\":0.009432549002323019,\"y0\":-19.600000000000023,\"y1\":-19.600000000000023},{\"layer\":\"below\",\"line\":{\"color\":\"rgb(15,15,15)\",\"width\":1},\"type\":\"line\",\"x0\":0.0006362513975883741,\"x1\":0.0011033769799530832,\"y0\":-16.35000000000001,\"y1\":-16.35000000000001},{\"layer\":\"below\",\"line\":{\"color\":\"rgb(15,15,15)\",\"width\":1},\"type\":\"line\",\"x0\":0.0011033769799530832,\"x1\":0.0011033769799530832,\"y0\":-15.050000000000011,\"y1\":-17.650000000000006},{\"layer\":\"below\",\"line\":{\"color\":\"rgb(15,15,15)\",\"width\":1},\"type\":\"line\",\"x0\":0.0011033769799530832,\"x1\":0.0034454748447892455,\"y0\":-17.650000000000006,\"y1\":-17.650000000000006},{\"layer\":\"below\",\"line\":{\"color\":\"rgb(15,15,15)\",\"width\":1},\"type\":\"line\",\"x0\":0.0034454748447892455,\"x1\":0.0034454748447892455,\"y0\":-17.0,\"y1\":-18.30000000000001},{\"layer\":\"below\",\"line\":{\"color\":\"rgb(15,15,15)\",\"width\":1},\"type\":\"line\",\"x0\":0.0034454748447892455,\"x1\":0.010444515546008757,\"y0\":-18.30000000000001,\"y1\":-18.30000000000001},{\"layer\":\"below\",\"line\":{\"color\":\"rgb(15,15,15)\",\"width\":1},\"type\":\"line\",\"x0\":0.0034454748447892455,\"x1\":0.010596634143569735,\"y0\":-17.0,\"y1\":-17.0},{\"layer\":\"below\",\"line\":{\"color\":\"rgb(15,15,15)\",\"width\":1},\"type\":\"line\",\"x0\":0.0011033769799530832,\"x1\":0.00350660411511692,\"y0\":-15.050000000000011,\"y1\":-15.050000000000011},{\"layer\":\"below\",\"line\":{\"color\":\"rgb(15,15,15)\",\"width\":1},\"type\":\"line\",\"x0\":0.00350660411511692,\"x1\":0.00350660411511692,\"y0\":-14.400000000000006,\"y1\":-15.700000000000017},{\"layer\":\"below\",\"line\":{\"color\":\"rgb(15,15,15)\",\"width\":1},\"type\":\"line\",\"x0\":0.00350660411511692,\"x1\":0.010764052476767412,\"y0\":-15.700000000000017,\"y1\":-15.700000000000017},{\"layer\":\"below\",\"line\":{\"color\":\"rgb(15,15,15)\",\"width\":1},\"type\":\"line\",\"x0\":0.00350660411511692,\"x1\":0.009121155753466427,\"y0\":-14.400000000000006,\"y1\":-14.400000000000006},{\"layer\":\"below\",\"line\":{\"color\":\"rgb(15,15,15)\",\"width\":1},\"type\":\"line\",\"x0\":8.595683428049087e-05,\"x1\":0.0002023137196916339,\"y0\":3.2398193359374954,\"y1\":3.2398193359374954},{\"layer\":\"below\",\"line\":{\"color\":\"rgb(15,15,15)\",\"width\":1},\"type\":\"line\",\"x0\":0.0002023137196916339,\"x1\":0.0002023137196916339,\"y0\":16.735888671874996,\"y1\":-10.256250000000005},{\"layer\":\"below\",\"line\":{\"color\":\"rgb(15,15,15)\",\"width\":1},\"type\":\"line\",\"x0\":0.0002023137196916339,\"x1\":0.0002853756480211017,\"y0\":-10.256250000000005,\"y1\":-10.256250000000005},{\"layer\":\"below\",\"line\":{\"color\":\"rgb(15,15,15)\",\"width\":1},\"type\":\"line\",\"x0\":0.0002853756480211017,\"x1\":0.0002853756480211017,\"y0\":-8.062500000000007,\"y1\":-12.450000000000003},{\"layer\":\"below\",\"line\":{\"color\":\"rgb(15,15,15)\",\"width\":1},\"type\":\"line\",\"x0\":0.0002853756480211017,\"x1\":0.0005619192596020856,\"y0\":-12.450000000000003,\"y1\":-12.450000000000003},{\"layer\":\"below\",\"line\":{\"color\":\"rgb(15,15,15)\",\"width\":1},\"type\":\"line\",\"x0\":0.0005619192596020856,\"x1\":0.0005619192596020856,\"y0\":-11.800000000000011,\"y1\":-13.099999999999994},{\"layer\":\"below\",\"line\":{\"color\":\"rgb(15,15,15)\",\"width\":1},\"type\":\"line\",\"x0\":0.0005619192596020856,\"x1\":0.010252068300567631,\"y0\":-13.099999999999994,\"y1\":-13.099999999999994},{\"layer\":\"below\",\"line\":{\"color\":\"rgb(15,15,15)\",\"width\":1},\"type\":\"line\",\"x0\":0.0005619192596020856,\"x1\":0.009184970218636542,\"y0\":-11.800000000000011,\"y1\":-11.800000000000011},{\"layer\":\"below\",\"line\":{\"color\":\"rgb(15,15,15)\",\"width\":1},\"type\":\"line\",\"x0\":0.0002853756480211017,\"x1\":0.00041070078644011616,\"y0\":-8.062500000000007,\"y1\":-8.062500000000007},{\"layer\":\"below\",\"line\":{\"color\":\"rgb(15,15,15)\",\"width\":1},\"type\":\"line\",\"x0\":0.00041070078644011616,\"x1\":0.00041070078644011616,\"y0\":-6.275000000000006,\"y1\":-9.850000000000009},{\"layer\":\"below\",\"line\":{\"color\":\"rgb(15,15,15)\",\"width\":1},\"type\":\"line\",\"x0\":0.00041070078644011616,\"x1\":0.001086206959830472,\"y0\":-9.850000000000009,\"y1\":-9.850000000000009},{\"layer\":\"below\",\"line\":{\"color\":\"rgb(15,15,15)\",\"width\":1},\"type\":\"line\",\"x0\":0.001086206959830472,\"x1\":0.001086206959830472,\"y0\":-9.200000000000017,\"y1\":-10.5},{\"layer\":\"below\",\"line\":{\"color\":\"rgb(15,15,15)\",\"width\":1},\"type\":\"line\",\"x0\":0.001086206959830472,\"x1\":0.009547125879667422,\"y0\":-10.5,\"y1\":-10.5},{\"layer\":\"below\",\"line\":{\"color\":\"rgb(15,15,15)\",\"width\":1},\"type\":\"line\",\"x0\":0.001086206959830472,\"x1\":0.008678388039993521,\"y0\":-9.200000000000017,\"y1\":-9.200000000000017},{\"layer\":\"below\",\"line\":{\"color\":\"rgb(15,15,15)\",\"width\":1},\"type\":\"line\",\"x0\":0.00041070078644011616,\"x1\":0.0010006196130497625,\"y0\":-6.275000000000006,\"y1\":-6.275000000000006},{\"layer\":\"below\",\"line\":{\"color\":\"rgb(15,15,15)\",\"width\":1},\"type\":\"line\",\"x0\":0.0010006196130497625,\"x1\":0.0010006196130497625,\"y0\":-5.300000000000011,\"y1\":-7.25},{\"layer\":\"below\",\"line\":{\"color\":\"rgb(15,15,15)\",\"width\":1},\"type\":\"line\",\"x0\":0.0010006196130497625,\"x1\":0.001229405748107232,\"y0\":-7.25,\"y1\":-7.25},{\"layer\":\"below\",\"line\":{\"color\":\"rgb(15,15,15)\",\"width\":1},\"type\":\"line\",\"x0\":0.001229405748107232,\"x1\":0.001229405748107232,\"y0\":-6.599999999999994,\"y1\":-7.900000000000006},{\"layer\":\"below\",\"line\":{\"color\":\"rgb(15,15,15)\",\"width\":1},\"type\":\"line\",\"x0\":0.001229405748107232,\"x1\":0.00969997314594377,\"y0\":-7.900000000000006,\"y1\":-7.900000000000006},{\"layer\":\"below\",\"line\":{\"color\":\"rgb(15,15,15)\",\"width\":1},\"type\":\"line\",\"x0\":0.001229405748107232,\"x1\":0.010590038350270692,\"y0\":-6.599999999999994,\"y1\":-6.599999999999994},{\"layer\":\"below\",\"line\":{\"color\":\"rgb(15,15,15)\",\"width\":1},\"type\":\"line\",\"x0\":0.0010006196130497625,\"x1\":0.009137483477992292,\"y0\":-5.300000000000011,\"y1\":-5.300000000000011},{\"layer\":\"below\",\"line\":{\"color\":\"rgb(15,15,15)\",\"width\":1},\"type\":\"line\",\"x0\":0.0002023137196916339,\"x1\":0.0002320200637620687,\"y0\":16.735888671874996,\"y1\":16.735888671874996},{\"layer\":\"below\",\"line\":{\"color\":\"rgb(15,15,15)\",\"width\":1},\"type\":\"line\",\"x0\":0.0002320200637620687,\"x1\":0.0002320200637620687,\"y0\":31.221874999999997,\"y1\":2.2499023437499934},{\"layer\":\"below\",\"line\":{\"color\":\"rgb(15,15,15)\",\"width\":1},\"type\":\"line\",\"x0\":0.0002320200637620687,\"x1\":0.00048720947998854235,\"y0\":2.2499023437499934,\"y1\":2.2499023437499934},{\"layer\":\"below\",\"line\":{\"color\":\"rgb(15,15,15)\",\"width\":1},\"type\":\"line\",\"x0\":0.00048720947998854235,\"x1\":0.00048720947998854235,\"y0\":7.849804687499995,\"y1\":-3.3500000000000085},{\"layer\":\"below\",\"line\":{\"color\":\"rgb(15,15,15)\",\"width\":1},\"type\":\"line\",\"x0\":0.00048720947998854235,\"x1\":0.0024899651473616552,\"y0\":-3.3500000000000085,\"y1\":-3.3500000000000085},{\"layer\":\"below\",\"line\":{\"color\":\"rgb(15,15,15)\",\"width\":1},\"type\":\"line\",\"x0\":0.0024899651473616552,\"x1\":0.0024899651473616552,\"y0\":-2.700000000000017,\"y1\":-4.0},{\"layer\":\"below\",\"line\":{\"color\":\"rgb(15,15,15)\",\"width\":1},\"type\":\"line\",\"x0\":0.0024899651473616552,\"x1\":0.00985830206800772,\"y0\":-4.0,\"y1\":-4.0},{\"layer\":\"below\",\"line\":{\"color\":\"rgb(15,15,15)\",\"width\":1},\"type\":\"line\",\"x0\":0.0024899651473616552,\"x1\":0.011452328226715592,\"y0\":-2.700000000000017,\"y1\":-2.700000000000017},{\"layer\":\"below\",\"line\":{\"color\":\"rgb(15,15,15)\",\"width\":1},\"type\":\"line\",\"x0\":0.00048720947998854235,\"x1\":0.0006281915567560548,\"y0\":7.849804687499995,\"y1\":7.849804687499995},{\"layer\":\"below\",\"line\":{\"color\":\"rgb(15,15,15)\",\"width\":1},\"type\":\"line\",\"x0\":0.0006281915567560548,\"x1\":0.0006281915567560548,\"y0\":16.124609374999995,\"y1\":-0.42500000000000426},{\"layer\":\"below\",\"line\":{\"color\":\"rgb(15,15,15)\",\"width\":1},\"type\":\"line\",\"x0\":0.0006281915567560548,\"x1\":0.00070528623656684,\"y0\":-0.42500000000000426,\"y1\":-0.42500000000000426},{\"layer\":\"below\",\"line\":{\"color\":\"rgb(15,15,15)\",\"width\":1},\"type\":\"line\",\"x0\":0.00070528623656684,\"x1\":0.00070528623656684,\"y0\":0.5499999999999972,\"y1\":-1.4000000000000057},{\"layer\":\"below\",\"line\":{\"color\":\"rgb(15,15,15)\",\"width\":1},\"type\":\"line\",\"x0\":0.00070528623656684,\"x1\":0.010327471605790579,\"y0\":-1.4000000000000057,\"y1\":-1.4000000000000057},{\"layer\":\"below\",\"line\":{\"color\":\"rgb(15,15,15)\",\"width\":1},\"type\":\"line\",\"x0\":0.00070528623656684,\"x1\":0.0012678008673431011,\"y0\":0.5499999999999972,\"y1\":0.5499999999999972},{\"layer\":\"below\",\"line\":{\"color\":\"rgb(15,15,15)\",\"width\":1},\"type\":\"line\",\"x0\":0.0012678008673431011,\"x1\":0.0012678008673431011,\"y0\":1.1999999999999886,\"y1\":-0.09999999999999432},{\"layer\":\"below\",\"line\":{\"color\":\"rgb(15,15,15)\",\"width\":1},\"type\":\"line\",\"x0\":0.0012678008673431011,\"x1\":0.010837275651569288,\"y0\":-0.09999999999999432,\"y1\":-0.09999999999999432},{\"layer\":\"below\",\"line\":{\"color\":\"rgb(15,15,15)\",\"width\":1},\"type\":\"line\",\"x0\":0.0012678008673431011,\"x1\":0.009950726083116913,\"y0\":1.1999999999999886,\"y1\":1.1999999999999886},{\"layer\":\"below\",\"line\":{\"color\":\"rgb(15,15,15)\",\"width\":1},\"type\":\"line\",\"x0\":0.0006281915567560548,\"x1\":0.0006739483417890202,\"y0\":16.124609374999995,\"y1\":16.124609374999995},{\"layer\":\"below\",\"line\":{\"color\":\"rgb(15,15,15)\",\"width\":1},\"type\":\"line\",\"x0\":0.0006739483417890202,\"x1\":0.0006739483417890202,\"y0\":22.974999999999994,\"y1\":9.274218749999994},{\"layer\":\"below\",\"line\":{\"color\":\"rgb(15,15,15)\",\"width\":1},\"type\":\"line\",\"x0\":0.0006739483417890202,\"x1\":0.0009790317792442392,\"y0\":9.274218749999994,\"y1\":9.274218749999994},{\"layer\":\"below\",\"line\":{\"color\":\"rgb(15,15,15)\",\"width\":1},\"type\":\"line\",\"x0\":0.0009790317792442392,\"x1\":0.0009790317792442392,\"y0\":13.935937499999994,\"y1\":4.612499999999994},{\"layer\":\"below\",\"line\":{\"color\":\"rgb(15,15,15)\",\"width\":1},\"type\":\"line\",\"x0\":0.0009790317792442392,\"x1\":0.0011830183393864433,\"y0\":4.612499999999994,\"y1\":4.612499999999994},{\"layer\":\"below\",\"line\":{\"color\":\"rgb(15,15,15)\",\"width\":1},\"type\":\"line\",\"x0\":0.0011830183393864433,\"x1\":0.0011830183393864433,\"y0\":6.074999999999996,\"y1\":3.1499999999999915},{\"layer\":\"below\",\"line\":{\"color\":\"rgb(15,15,15)\",\"width\":1},\"type\":\"line\",\"x0\":0.0011830183393864433,\"x1\":0.002494201794527572,\"y0\":3.1499999999999915,\"y1\":3.1499999999999915},{\"layer\":\"below\",\"line\":{\"color\":\"rgb(15,15,15)\",\"width\":1},\"type\":\"line\",\"x0\":0.002494201794527572,\"x1\":0.002494201794527572,\"y0\":3.799999999999983,\"y1\":2.5},{\"layer\":\"below\",\"line\":{\"color\":\"rgb(15,15,15)\",\"width\":1},\"type\":\"line\",\"x0\":0.002494201794527572,\"x1\":0.009830822856296573,\"y0\":2.5,\"y1\":2.5},{\"layer\":\"below\",\"line\":{\"color\":\"rgb(15,15,15)\",\"width\":1},\"type\":\"line\",\"x0\":0.002494201794527572,\"x1\":0.009768380732758571,\"y0\":3.799999999999983,\"y1\":3.799999999999983},{\"layer\":\"below\",\"line\":{\"color\":\"rgb(15,15,15)\",\"width\":1},\"type\":\"line\",\"x0\":0.0011830183393864433,\"x1\":0.0016478348842453147,\"y0\":6.074999999999996,\"y1\":6.074999999999996},{\"layer\":\"below\",\"line\":{\"color\":\"rgb(15,15,15)\",\"width\":1},\"type\":\"line\",\"x0\":0.0016478348842453147,\"x1\":0.0016478348842453147,\"y0\":7.049999999999997,\"y1\":5.099999999999994},{\"layer\":\"below\",\"line\":{\"color\":\"rgb(15,15,15)\",\"width\":1},\"type\":\"line\",\"x0\":0.0016478348842453147,\"x1\":0.010036127928226795,\"y0\":5.099999999999994,\"y1\":5.099999999999994},{\"layer\":\"below\",\"line\":{\"color\":\"rgb(15,15,15)\",\"width\":1},\"type\":\"line\",\"x0\":0.0016478348842453147,\"x1\":0.0017716918402638346,\"y0\":7.049999999999997,\"y1\":7.049999999999997},{\"layer\":\"below\",\"line\":{\"color\":\"rgb(15,15,15)\",\"width\":1},\"type\":\"line\",\"x0\":0.0017716918402638346,\"x1\":0.0017716918402638346,\"y0\":7.699999999999989,\"y1\":6.400000000000006},{\"layer\":\"below\",\"line\":{\"color\":\"rgb(15,15,15)\",\"width\":1},\"type\":\"line\",\"x0\":0.0017716918402638346,\"x1\":0.009828039108699092,\"y0\":6.400000000000006,\"y1\":6.400000000000006},{\"layer\":\"below\",\"line\":{\"color\":\"rgb(15,15,15)\",\"width\":1},\"type\":\"line\",\"x0\":0.0017716918402638346,\"x1\":0.011250244571828577,\"y0\":7.699999999999989,\"y1\":7.699999999999989},{\"layer\":\"below\",\"line\":{\"color\":\"rgb(15,15,15)\",\"width\":1},\"type\":\"line\",\"x0\":0.0009790317792442392,\"x1\":0.0015520579144145347,\"y0\":13.935937499999994,\"y1\":13.935937499999994},{\"layer\":\"below\",\"line\":{\"color\":\"rgb(15,15,15)\",\"width\":1},\"type\":\"line\",\"x0\":0.0015520579144145347,\"x1\":0.0015520579144145347,\"y0\":17.896874999999994,\"y1\":9.974999999999994},{\"layer\":\"below\",\"line\":{\"color\":\"rgb(15,15,15)\",\"width\":1},\"type\":\"line\",\"x0\":0.0015520579144145347,\"x1\":0.0028690476750041346,\"y0\":9.974999999999994,\"y1\":9.974999999999994},{\"layer\":\"below\",\"line\":{\"color\":\"rgb(15,15,15)\",\"width\":1},\"type\":\"line\",\"x0\":0.0028690476750041346,\"x1\":0.0028690476750041346,\"y0\":10.949999999999989,\"y1\":9.0},{\"layer\":\"below\",\"line\":{\"color\":\"rgb(15,15,15)\",\"width\":1},\"type\":\"line\",\"x0\":0.0028690476750041346,\"x1\":0.010406093004396023,\"y0\":9.0,\"y1\":9.0},{\"layer\":\"below\",\"line\":{\"color\":\"rgb(15,15,15)\",\"width\":1},\"type\":\"line\",\"x0\":0.0028690476750041346,\"x1\":0.003562702345612247,\"y0\":10.949999999999989,\"y1\":10.949999999999989},{\"layer\":\"below\",\"line\":{\"color\":\"rgb(15,15,15)\",\"width\":1},\"type\":\"line\",\"x0\":0.003562702345612247,\"x1\":0.003562702345612247,\"y0\":11.599999999999994,\"y1\":10.299999999999983},{\"layer\":\"below\",\"line\":{\"color\":\"rgb(15,15,15)\",\"width\":1},\"type\":\"line\",\"x0\":0.003562702345612247,\"x1\":0.010932896950711746,\"y0\":10.299999999999983,\"y1\":10.299999999999983},{\"layer\":\"below\",\"line\":{\"color\":\"rgb(15,15,15)\",\"width\":1},\"type\":\"line\",\"x0\":0.003562702345612247,\"x1\":0.010855107740512748,\"y0\":11.599999999999994,\"y1\":11.599999999999994},{\"layer\":\"below\",\"line\":{\"color\":\"rgb(15,15,15)\",\"width\":1},\"type\":\"line\",\"x0\":0.0015520579144145347,\"x1\":0.0016906658100749353,\"y0\":17.896874999999994,\"y1\":17.896874999999994},{\"layer\":\"below\",\"line\":{\"color\":\"rgb(15,15,15)\",\"width\":1},\"type\":\"line\",\"x0\":0.0016906658100749353,\"x1\":0.0016906658100749353,\"y0\":20.69999999999999,\"y1\":15.09375},{\"layer\":\"below\",\"line\":{\"color\":\"rgb(15,15,15)\",\"width\":1},\"type\":\"line\",\"x0\":0.0016906658100749353,\"x1\":0.001822473756134223,\"y0\":15.09375,\"y1\":15.09375},{\"layer\":\"below\",\"line\":{\"color\":\"rgb(15,15,15)\",\"width\":1},\"type\":\"line\",\"x0\":0.001822473756134223,\"x1\":0.001822473756134223,\"y0\":17.287499999999994,\"y1\":12.900000000000006},{\"layer\":\"below\",\"line\":{\"color\":\"rgb(15,15,15)\",\"width\":1},\"type\":\"line\",\"x0\":0.001822473756134223,\"x1\":0.012920984970326939,\"y0\":12.900000000000006,\"y1\":12.900000000000006},{\"layer\":\"below\",\"line\":{\"color\":\"rgb(15,15,15)\",\"width\":1},\"type\":\"line\",\"x0\":0.001822473756134223,\"x1\":0.002169106291941508,\"y0\":17.287499999999994,\"y1\":17.287499999999994},{\"layer\":\"below\",\"line\":{\"color\":\"rgb(15,15,15)\",\"width\":1},\"type\":\"line\",\"x0\":0.002169106291941508,\"x1\":0.002169106291941508,\"y0\":18.75,\"y1\":15.824999999999989},{\"layer\":\"below\",\"line\":{\"color\":\"rgb(15,15,15)\",\"width\":1},\"type\":\"line\",\"x0\":0.002169106291941508,\"x1\":0.002270200629092131,\"y0\":15.824999999999989,\"y1\":15.824999999999989},{\"layer\":\"below\",\"line\":{\"color\":\"rgb(15,15,15)\",\"width\":1},\"type\":\"line\",\"x0\":0.002270200629092131,\"x1\":0.002270200629092131,\"y0\":16.799999999999983,\"y1\":14.849999999999994},{\"layer\":\"below\",\"line\":{\"color\":\"rgb(15,15,15)\",\"width\":1},\"type\":\"line\",\"x0\":0.002270200629092131,\"x1\":0.003060490640595194,\"y0\":14.849999999999994,\"y1\":14.849999999999994},{\"layer\":\"below\",\"line\":{\"color\":\"rgb(15,15,15)\",\"width\":1},\"type\":\"line\",\"x0\":0.003060490640595194,\"x1\":0.003060490640595194,\"y0\":15.5,\"y1\":14.199999999999989},{\"layer\":\"below\",\"line\":{\"color\":\"rgb(15,15,15)\",\"width\":1},\"type\":\"line\",\"x0\":0.003060490640595194,\"x1\":0.011043972022174145,\"y0\":14.199999999999989,\"y1\":14.199999999999989},{\"layer\":\"below\",\"line\":{\"color\":\"rgb(15,15,15)\",\"width\":1},\"type\":\"line\",\"x0\":0.003060490640595194,\"x1\":0.009843509259016243,\"y0\":15.5,\"y1\":15.5},{\"layer\":\"below\",\"line\":{\"color\":\"rgb(15,15,15)\",\"width\":1},\"type\":\"line\",\"x0\":0.002270200629092131,\"x1\":0.010680260617589067,\"y0\":16.799999999999983,\"y1\":16.799999999999983},{\"layer\":\"below\",\"line\":{\"color\":\"rgb(15,15,15)\",\"width\":1},\"type\":\"line\",\"x0\":0.002169106291941508,\"x1\":0.005892874454790885,\"y0\":18.75,\"y1\":18.75},{\"layer\":\"below\",\"line\":{\"color\":\"rgb(15,15,15)\",\"width\":1},\"type\":\"line\",\"x0\":0.005892874454790885,\"x1\":0.005892874454790885,\"y0\":19.400000000000006,\"y1\":18.099999999999994},{\"layer\":\"below\",\"line\":{\"color\":\"rgb(15,15,15)\",\"width\":1},\"type\":\"line\",\"x0\":0.005892874454790885,\"x1\":0.013310471371090433,\"y0\":18.099999999999994,\"y1\":18.099999999999994},{\"layer\":\"below\",\"line\":{\"color\":\"rgb(15,15,15)\",\"width\":1},\"type\":\"line\",\"x0\":0.005892874454790885,\"x1\":0.011157177538491336,\"y0\":19.400000000000006,\"y1\":19.400000000000006},{\"layer\":\"below\",\"line\":{\"color\":\"rgb(15,15,15)\",\"width\":1},\"type\":\"line\",\"x0\":0.0016906658100749353,\"x1\":0.009843639114015647,\"y0\":20.69999999999999,\"y1\":20.69999999999999},{\"layer\":\"below\",\"line\":{\"color\":\"rgb(15,15,15)\",\"width\":1},\"type\":\"line\",\"x0\":0.0006739483417890202,\"x1\":0.002339068517615052,\"y0\":22.974999999999994,\"y1\":22.974999999999994},{\"layer\":\"below\",\"line\":{\"color\":\"rgb(15,15,15)\",\"width\":1},\"type\":\"line\",\"x0\":0.002339068517615052,\"x1\":0.002339068517615052,\"y0\":23.94999999999999,\"y1\":22.0},{\"layer\":\"below\",\"line\":{\"color\":\"rgb(15,15,15)\",\"width\":1},\"type\":\"line\",\"x0\":0.002339068517615052,\"x1\":0.009948511842319194,\"y0\":22.0,\"y1\":22.0},{\"layer\":\"below\",\"line\":{\"color\":\"rgb(15,15,15)\",\"width\":1},\"type\":\"line\",\"x0\":0.002339068517615052,\"x1\":0.0030658751929109095,\"y0\":23.94999999999999,\"y1\":23.94999999999999},{\"layer\":\"below\",\"line\":{\"color\":\"rgb(15,15,15)\",\"width\":1},\"type\":\"line\",\"x0\":0.0030658751929109095,\"x1\":0.0030658751929109095,\"y0\":24.599999999999994,\"y1\":23.299999999999983},{\"layer\":\"below\",\"line\":{\"color\":\"rgb(15,15,15)\",\"width\":1},\"type\":\"line\",\"x0\":0.0030658751929109095,\"x1\":0.01086142100476659,\"y0\":23.299999999999983,\"y1\":23.299999999999983},{\"layer\":\"below\",\"line\":{\"color\":\"rgb(15,15,15)\",\"width\":1},\"type\":\"line\",\"x0\":0.0030658751929109095,\"x1\":0.010298829381055228,\"y0\":24.599999999999994,\"y1\":24.599999999999994},{\"layer\":\"below\",\"line\":{\"color\":\"rgb(15,15,15)\",\"width\":1},\"type\":\"line\",\"x0\":0.0002320200637620687,\"x1\":0.0006154966479018062,\"y0\":31.221874999999997,\"y1\":31.221874999999997},{\"layer\":\"below\",\"line\":{\"color\":\"rgb(15,15,15)\",\"width\":1},\"type\":\"line\",\"x0\":0.0006154966479018062,\"x1\":0.0006154966479018062,\"y0\":34.43125,\"y1\":28.012499999999996},{\"layer\":\"below\",\"line\":{\"color\":\"rgb(15,15,15)\",\"width\":1},\"type\":\"line\",\"x0\":0.0006154966479018062,\"x1\":0.0008328561111739008,\"y0\":28.012499999999996,\"y1\":28.012499999999996},{\"layer\":\"below\",\"line\":{\"color\":\"rgb(15,15,15)\",\"width\":1},\"type\":\"line\",\"x0\":0.0008328561111739008,\"x1\":0.0008328561111739008,\"y0\":29.474999999999994,\"y1\":26.549999999999997},{\"layer\":\"below\",\"line\":{\"color\":\"rgb(15,15,15)\",\"width\":1},\"type\":\"line\",\"x0\":0.0008328561111739008,\"x1\":0.0017801289647709057,\"y0\":26.549999999999997,\"y1\":26.549999999999997},{\"layer\":\"below\",\"line\":{\"color\":\"rgb(15,15,15)\",\"width\":1},\"type\":\"line\",\"x0\":0.0017801289647709057,\"x1\":0.0017801289647709057,\"y0\":27.19999999999999,\"y1\":25.900000000000006},{\"layer\":\"below\",\"line\":{\"color\":\"rgb(15,15,15)\",\"width\":1},\"type\":\"line\",\"x0\":0.0017801289647709057,\"x1\":0.00928821493575305,\"y0\":25.900000000000006,\"y1\":25.900000000000006},{\"layer\":\"below\",\"line\":{\"color\":\"rgb(15,15,15)\",\"width\":1},\"type\":\"line\",\"x0\":0.0017801289647709057,\"x1\":0.009353342993788764,\"y0\":27.19999999999999,\"y1\":27.19999999999999},{\"layer\":\"below\",\"line\":{\"color\":\"rgb(15,15,15)\",\"width\":1},\"type\":\"line\",\"x0\":0.0008328561111739008,\"x1\":0.0014752332575768937,\"y0\":29.474999999999994,\"y1\":29.474999999999994},{\"layer\":\"below\",\"line\":{\"color\":\"rgb(15,15,15)\",\"width\":1},\"type\":\"line\",\"x0\":0.0014752332575768937,\"x1\":0.0014752332575768937,\"y0\":30.44999999999999,\"y1\":28.5},{\"layer\":\"below\",\"line\":{\"color\":\"rgb(15,15,15)\",\"width\":1},\"type\":\"line\",\"x0\":0.0014752332575768937,\"x1\":0.010015569661921409,\"y0\":28.5,\"y1\":28.5},{\"layer\":\"below\",\"line\":{\"color\":\"rgb(15,15,15)\",\"width\":1},\"type\":\"line\",\"x0\":0.0014752332575768937,\"x1\":0.002335446853232379,\"y0\":30.44999999999999,\"y1\":30.44999999999999},{\"layer\":\"below\",\"line\":{\"color\":\"rgb(15,15,15)\",\"width\":1},\"type\":\"line\",\"x0\":0.002335446853232379,\"x1\":0.002335446853232379,\"y0\":31.099999999999994,\"y1\":29.799999999999983},{\"layer\":\"below\",\"line\":{\"color\":\"rgb(15,15,15)\",\"width\":1},\"type\":\"line\",\"x0\":0.002335446853232379,\"x1\":0.010074715004429982,\"y0\":29.799999999999983,\"y1\":29.799999999999983},{\"layer\":\"below\",\"line\":{\"color\":\"rgb(15,15,15)\",\"width\":1},\"type\":\"line\",\"x0\":0.002335446853232379,\"x1\":0.010050378702034775,\"y0\":31.099999999999994,\"y1\":31.099999999999994},{\"layer\":\"below\",\"line\":{\"color\":\"rgb(15,15,15)\",\"width\":1},\"type\":\"line\",\"x0\":0.0006154966479018062,\"x1\":0.001124320778379712,\"y0\":34.43125,\"y1\":34.43125},{\"layer\":\"below\",\"line\":{\"color\":\"rgb(15,15,15)\",\"width\":1},\"type\":\"line\",\"x0\":0.001124320778379712,\"x1\":0.001124320778379712,\"y0\":36.46249999999999,\"y1\":32.400000000000006},{\"layer\":\"below\",\"line\":{\"color\":\"rgb(15,15,15)\",\"width\":1},\"type\":\"line\",\"x0\":0.001124320778379712,\"x1\":0.009679358202866448,\"y0\":32.400000000000006,\"y1\":32.400000000000006},{\"layer\":\"below\",\"line\":{\"color\":\"rgb(15,15,15)\",\"width\":1},\"type\":\"line\",\"x0\":0.001124320778379712,\"x1\":0.0017655208538929741,\"y0\":36.46249999999999,\"y1\":36.46249999999999},{\"layer\":\"below\",\"line\":{\"color\":\"rgb(15,15,15)\",\"width\":1},\"type\":\"line\",\"x0\":0.0017655208538929741,\"x1\":0.0017655208538929741,\"y0\":38.25,\"y1\":34.67499999999999},{\"layer\":\"below\",\"line\":{\"color\":\"rgb(15,15,15)\",\"width\":1},\"type\":\"line\",\"x0\":0.0017655208538929741,\"x1\":0.0019735690989110873,\"y0\":34.67499999999999,\"y1\":34.67499999999999},{\"layer\":\"below\",\"line\":{\"color\":\"rgb(15,15,15)\",\"width\":1},\"type\":\"line\",\"x0\":0.0019735690989110873,\"x1\":0.0019735690989110873,\"y0\":35.64999999999999,\"y1\":33.69999999999999},{\"layer\":\"below\",\"line\":{\"color\":\"rgb(15,15,15)\",\"width\":1},\"type\":\"line\",\"x0\":0.0019735690989110873,\"x1\":0.010604503296827753,\"y0\":33.69999999999999,\"y1\":33.69999999999999},{\"layer\":\"below\",\"line\":{\"color\":\"rgb(15,15,15)\",\"width\":1},\"type\":\"line\",\"x0\":0.0019735690989110873,\"x1\":0.0020677849009944228,\"y0\":35.64999999999999,\"y1\":35.64999999999999},{\"layer\":\"below\",\"line\":{\"color\":\"rgb(15,15,15)\",\"width\":1},\"type\":\"line\",\"x0\":0.0020677849009944228,\"x1\":0.0020677849009944228,\"y0\":36.29999999999998,\"y1\":35.0},{\"layer\":\"below\",\"line\":{\"color\":\"rgb(15,15,15)\",\"width\":1},\"type\":\"line\",\"x0\":0.0020677849009944228,\"x1\":0.009323891967987882,\"y0\":35.0,\"y1\":35.0},{\"layer\":\"below\",\"line\":{\"color\":\"rgb(15,15,15)\",\"width\":1},\"type\":\"line\",\"x0\":0.0020677849009944228,\"x1\":0.009578177834000964,\"y0\":36.29999999999998,\"y1\":36.29999999999998},{\"layer\":\"below\",\"line\":{\"color\":\"rgb(15,15,15)\",\"width\":1},\"type\":\"line\",\"x0\":0.0017655208538929741,\"x1\":0.0020306476088748603,\"y0\":38.25,\"y1\":38.25},{\"layer\":\"below\",\"line\":{\"color\":\"rgb(15,15,15)\",\"width\":1},\"type\":\"line\",\"x0\":0.0020306476088748603,\"x1\":0.0020306476088748603,\"y0\":38.900000000000006,\"y1\":37.599999999999994},{\"layer\":\"below\",\"line\":{\"color\":\"rgb(15,15,15)\",\"width\":1},\"type\":\"line\",\"x0\":0.0020306476088748603,\"x1\":0.010648510890124863,\"y0\":37.599999999999994,\"y1\":37.599999999999994},{\"layer\":\"below\",\"line\":{\"color\":\"rgb(15,15,15)\",\"width\":1},\"type\":\"line\",\"x0\":0.0020306476088748603,\"x1\":0.010024484327624858,\"y0\":38.900000000000006,\"y1\":38.900000000000006},{\"layer\":\"below\",\"line\":{\"color\":\"rgb(15,15,15)\",\"width\":1},\"type\":\"line\",\"x0\":0,\"x1\":7.478120667636393e-05,\"y0\":104.58015136718748,\"y1\":104.58015136718748},{\"layer\":\"below\",\"line\":{\"color\":\"rgb(15,15,15)\",\"width\":1},\"type\":\"line\",\"x0\":7.478120667636393e-05,\"x1\":7.478120667636393e-05,\"y0\":145.30036621093748,\"y1\":63.8599365234375},{\"layer\":\"below\",\"line\":{\"color\":\"rgb(15,15,15)\",\"width\":1},\"type\":\"line\",\"x0\":7.478120667636393e-05,\"x1\":0.00010985102839966652,\"y0\":63.8599365234375,\"y1\":63.8599365234375},{\"layer\":\"below\",\"line\":{\"color\":\"rgb(15,15,15)\",\"width\":1},\"type\":\"line\",\"x0\":0.00010985102839966652,\"x1\":0.00010985102839966652,\"y0\":81.344873046875,\"y1\":46.37499999999999},{\"layer\":\"below\",\"line\":{\"color\":\"rgb(15,15,15)\",\"width\":1},\"type\":\"line\",\"x0\":0.00010985102839966652,\"x1\":0.00019214752660815917,\"y0\":46.37499999999999,\"y1\":46.37499999999999},{\"layer\":\"below\",\"line\":{\"color\":\"rgb(15,15,15)\",\"width\":1},\"type\":\"line\",\"x0\":0.00019214752660815917,\"x1\":0.00019214752660815917,\"y0\":50.925,\"y1\":41.82499999999999},{\"layer\":\"below\",\"line\":{\"color\":\"rgb(15,15,15)\",\"width\":1},\"type\":\"line\",\"x0\":0.00019214752660815917,\"x1\":0.0004106853631280381,\"y0\":41.82499999999999,\"y1\":41.82499999999999},{\"layer\":\"below\",\"line\":{\"color\":\"rgb(15,15,15)\",\"width\":1},\"type\":\"line\",\"x0\":0.0004106853631280381,\"x1\":0.0004106853631280381,\"y0\":42.79999999999998,\"y1\":40.849999999999994},{\"layer\":\"below\",\"line\":{\"color\":\"rgb(15,15,15)\",\"width\":1},\"type\":\"line\",\"x0\":0.0004106853631280381,\"x1\":0.0008157816659897874,\"y0\":40.849999999999994,\"y1\":40.849999999999994},{\"layer\":\"below\",\"line\":{\"color\":\"rgb(15,15,15)\",\"width\":1},\"type\":\"line\",\"x0\":0.0008157816659897874,\"x1\":0.0008157816659897874,\"y0\":41.5,\"y1\":40.19999999999999},{\"layer\":\"below\",\"line\":{\"color\":\"rgb(15,15,15)\",\"width\":1},\"type\":\"line\",\"x0\":0.0008157816659897874,\"x1\":0.010538868466119991,\"y0\":40.19999999999999,\"y1\":40.19999999999999},{\"layer\":\"below\",\"line\":{\"color\":\"rgb(15,15,15)\",\"width\":1},\"type\":\"line\",\"x0\":0.0008157816659897874,\"x1\":0.009163594865859584,\"y0\":41.5,\"y1\":41.5},{\"layer\":\"below\",\"line\":{\"color\":\"rgb(15,15,15)\",\"width\":1},\"type\":\"line\",\"x0\":0.0004106853631280381,\"x1\":0.009164689060266285,\"y0\":42.79999999999998,\"y1\":42.79999999999998},{\"layer\":\"below\",\"line\":{\"color\":\"rgb(15,15,15)\",\"width\":1},\"type\":\"line\",\"x0\":0.00019214752660815917,\"x1\":0.00033362219008828203,\"y0\":50.925,\"y1\":50.925},{\"layer\":\"below\",\"line\":{\"color\":\"rgb(15,15,15)\",\"width\":1},\"type\":\"line\",\"x0\":0.00033362219008828203,\"x1\":0.00033362219008828203,\"y0\":54.5,\"y1\":47.349999999999994},{\"layer\":\"below\",\"line\":{\"color\":\"rgb(15,15,15)\",\"width\":1},\"type\":\"line\",\"x0\":0.00033362219008828203,\"x1\":0.0004251202229894437,\"y0\":47.349999999999994,\"y1\":47.349999999999994},{\"layer\":\"below\",\"line\":{\"color\":\"rgb(15,15,15)\",\"width\":1},\"type\":\"line\",\"x0\":0.0004251202229894437,\"x1\":0.0004251202229894437,\"y0\":48.974999999999994,\"y1\":45.724999999999994},{\"layer\":\"below\",\"line\":{\"color\":\"rgb(15,15,15)\",\"width\":1},\"type\":\"line\",\"x0\":0.0004251202229894437,\"x1\":0.0006232510017108461,\"y0\":45.724999999999994,\"y1\":45.724999999999994},{\"layer\":\"below\",\"line\":{\"color\":\"rgb(15,15,15)\",\"width\":1},\"type\":\"line\",\"x0\":0.0006232510017108461,\"x1\":0.0006232510017108461,\"y0\":46.69999999999999,\"y1\":44.75},{\"layer\":\"below\",\"line\":{\"color\":\"rgb(15,15,15)\",\"width\":1},\"type\":\"line\",\"x0\":0.0006232510017108461,\"x1\":0.0009775934542778097,\"y0\":44.75,\"y1\":44.75},{\"layer\":\"below\",\"line\":{\"color\":\"rgb(15,15,15)\",\"width\":1},\"type\":\"line\",\"x0\":0.0009775934542778097,\"x1\":0.0009775934542778097,\"y0\":45.400000000000006,\"y1\":44.099999999999994},{\"layer\":\"below\",\"line\":{\"color\":\"rgb(15,15,15)\",\"width\":1},\"type\":\"line\",\"x0\":0.0009775934542778097,\"x1\":0.008635110124326509,\"y0\":44.099999999999994,\"y1\":44.099999999999994},{\"layer\":\"below\",\"line\":{\"color\":\"rgb(15,15,15)\",\"width\":1},\"type\":\"line\",\"x0\":0.0009775934542778097,\"x1\":0.00931807678422911,\"y0\":45.400000000000006,\"y1\":45.400000000000006},{\"layer\":\"below\",\"line\":{\"color\":\"rgb(15,15,15)\",\"width\":1},\"type\":\"line\",\"x0\":0.0006232510017108461,\"x1\":0.008603058549143882,\"y0\":46.69999999999999,\"y1\":46.69999999999999},{\"layer\":\"below\",\"line\":{\"color\":\"rgb(15,15,15)\",\"width\":1},\"type\":\"line\",\"x0\":0.0004251202229894437,\"x1\":0.0006964331942680435,\"y0\":48.974999999999994,\"y1\":48.974999999999994},{\"layer\":\"below\",\"line\":{\"color\":\"rgb(15,15,15)\",\"width\":1},\"type\":\"line\",\"x0\":0.0006964331942680435,\"x1\":0.0006964331942680435,\"y0\":49.94999999999999,\"y1\":48.0},{\"layer\":\"below\",\"line\":{\"color\":\"rgb(15,15,15)\",\"width\":1},\"type\":\"line\",\"x0\":0.0006964331942680435,\"x1\":0.008655775505831341,\"y0\":48.0,\"y1\":48.0},{\"layer\":\"below\",\"line\":{\"color\":\"rgb(15,15,15)\",\"width\":1},\"type\":\"line\",\"x0\":0.0006964331942680435,\"x1\":0.0010459408827047459,\"y0\":49.94999999999999,\"y1\":49.94999999999999},{\"layer\":\"below\",\"line\":{\"color\":\"rgb(15,15,15)\",\"width\":1},\"type\":\"line\",\"x0\":0.0010459408827047459,\"x1\":0.0010459408827047459,\"y0\":50.599999999999994,\"y1\":49.29999999999998},{\"layer\":\"below\",\"line\":{\"color\":\"rgb(15,15,15)\",\"width\":1},\"type\":\"line\",\"x0\":0.0010459408827047459,\"x1\":0.009107787752821938,\"y0\":49.29999999999998,\"y1\":49.29999999999998},{\"layer\":\"below\",\"line\":{\"color\":\"rgb(15,15,15)\",\"width\":1},\"type\":\"line\",\"x0\":0.0010459408827047459,\"x1\":0.009539294012587555,\"y0\":50.599999999999994,\"y1\":50.599999999999994},{\"layer\":\"below\",\"line\":{\"color\":\"rgb(15,15,15)\",\"width\":1},\"type\":\"line\",\"x0\":0.00033362219008828203,\"x1\":0.0005264038446871201,\"y0\":54.5,\"y1\":54.5},{\"layer\":\"below\",\"line\":{\"color\":\"rgb(15,15,15)\",\"width\":1},\"type\":\"line\",\"x0\":0.0005264038446871201,\"x1\":0.0005264038446871201,\"y0\":57.099999999999994,\"y1\":51.900000000000006},{\"layer\":\"below\",\"line\":{\"color\":\"rgb(15,15,15)\",\"width\":1},\"type\":\"line\",\"x0\":0.0005264038446871201,\"x1\":0.009131734097440483,\"y0\":51.900000000000006,\"y1\":51.900000000000006},{\"layer\":\"below\",\"line\":{\"color\":\"rgb(15,15,15)\",\"width\":1},\"type\":\"line\",\"x0\":0.0005264038446871201,\"x1\":0.000752573591933758,\"y0\":57.099999999999994,\"y1\":57.099999999999994},{\"layer\":\"below\",\"line\":{\"color\":\"rgb(15,15,15)\",\"width\":1},\"type\":\"line\",\"x0\":0.000752573591933758,\"x1\":0.000752573591933758,\"y0\":59.05,\"y1\":55.14999999999999},{\"layer\":\"below\",\"line\":{\"color\":\"rgb(15,15,15)\",\"width\":1},\"type\":\"line\",\"x0\":0.000752573591933758,\"x1\":0.0010220130948081678,\"y0\":55.14999999999999,\"y1\":55.14999999999999},{\"layer\":\"below\",\"line\":{\"color\":\"rgb(15,15,15)\",\"width\":1},\"type\":\"line\",\"x0\":0.0010220130948081678,\"x1\":0.0010220130948081678,\"y0\":56.44999999999999,\"y1\":53.849999999999994},{\"layer\":\"below\",\"line\":{\"color\":\"rgb(15,15,15)\",\"width\":1},\"type\":\"line\",\"x0\":0.0010220130948081678,\"x1\":0.0014635095791831676,\"y0\":53.849999999999994,\"y1\":53.849999999999994},{\"layer\":\"below\",\"line\":{\"color\":\"rgb(15,15,15)\",\"width\":1},\"type\":\"line\",\"x0\":0.0014635095791831676,\"x1\":0.0014635095791831676,\"y0\":54.5,\"y1\":53.19999999999999},{\"layer\":\"below\",\"line\":{\"color\":\"rgb(15,15,15)\",\"width\":1},\"type\":\"line\",\"x0\":0.0014635095791831676,\"x1\":0.011719985751058162,\"y0\":53.19999999999999,\"y1\":53.19999999999999},{\"layer\":\"below\",\"line\":{\"color\":\"rgb(15,15,15)\",\"width\":1},\"type\":\"line\",\"x0\":0.0014635095791831676,\"x1\":0.010514933407308174,\"y0\":54.5,\"y1\":54.5},{\"layer\":\"below\",\"line\":{\"color\":\"rgb(15,15,15)\",\"width\":1},\"type\":\"line\",\"x0\":0.0010220130948081678,\"x1\":0.0016323166104331684,\"y0\":56.44999999999999,\"y1\":56.44999999999999},{\"layer\":\"below\",\"line\":{\"color\":\"rgb(15,15,15)\",\"width\":1},\"type\":\"line\",\"x0\":0.0016323166104331684,\"x1\":0.0016323166104331684,\"y0\":57.099999999999994,\"y1\":55.79999999999998},{\"layer\":\"below\",\"line\":{\"color\":\"rgb(15,15,15)\",\"width\":1},\"type\":\"line\",\"x0\":0.0016323166104331684,\"x1\":0.010415997481645279,\"y0\":55.79999999999998,\"y1\":55.79999999999998},{\"layer\":\"below\",\"line\":{\"color\":\"rgb(15,15,15)\",\"width\":1},\"type\":\"line\",\"x0\":0.0016323166104331684,\"x1\":0.010620235739221055,\"y0\":57.099999999999994,\"y1\":57.099999999999994},{\"layer\":\"below\",\"line\":{\"color\":\"rgb(15,15,15)\",\"width\":1},\"type\":\"line\",\"x0\":0.000752573591933758,\"x1\":0.003965009089059348,\"y0\":59.05,\"y1\":59.05},{\"layer\":\"below\",\"line\":{\"color\":\"rgb(15,15,15)\",\"width\":1},\"type\":\"line\",\"x0\":0.003965009089059348,\"x1\":0.003965009089059348,\"y0\":59.69999999999999,\"y1\":58.400000000000006},{\"layer\":\"below\",\"line\":{\"color\":\"rgb(15,15,15)\",\"width\":1},\"type\":\"line\",\"x0\":0.003965009089059348,\"x1\":0.010787426904479917,\"y0\":58.400000000000006,\"y1\":58.400000000000006},{\"layer\":\"below\",\"line\":{\"color\":\"rgb(15,15,15)\",\"width\":1},\"type\":\"line\",\"x0\":0.003965009089059348,\"x1\":0.010891391273638779,\"y0\":59.69999999999999,\"y1\":59.69999999999999},{\"layer\":\"below\",\"line\":{\"color\":\"rgb(15,15,15)\",\"width\":1},\"type\":\"line\",\"x0\":0.00010985102839966652,\"x1\":0.0002663287420747181,\"y0\":81.344873046875,\"y1\":81.344873046875},{\"layer\":\"below\",\"line\":{\"color\":\"rgb(15,15,15)\",\"width\":1},\"type\":\"line\",\"x0\":0.0002663287420747181,\"x1\":0.0002663287420747181,\"y0\":100.55224609375,\"y1\":62.137499999999996},{\"layer\":\"below\",\"line\":{\"color\":\"rgb(15,15,15)\",\"width\":1},\"type\":\"line\",\"x0\":0.0002663287420747181,\"x1\":0.0004745114704368034,\"y0\":62.137499999999996,\"y1\":62.137499999999996},{\"layer\":\"below\",\"line\":{\"color\":\"rgb(15,15,15)\",\"width\":1},\"type\":\"line\",\"x0\":0.0004745114704368034,\"x1\":0.0004745114704368034,\"y0\":63.27499999999999,\"y1\":61.0},{\"layer\":\"below\",\"line\":{\"color\":\"rgb(15,15,15)\",\"width\":1},\"type\":\"line\",\"x0\":0.0004745114704368034,\"x1\":0.01006861729013895,\"y0\":61.0,\"y1\":61.0},{\"layer\":\"below\",\"line\":{\"color\":\"rgb(15,15,15)\",\"width\":1},\"type\":\"line\",\"x0\":0.0004745114704368034,\"x1\":0.0010047556507346539,\"y0\":63.27499999999999,\"y1\":63.27499999999999},{\"layer\":\"below\",\"line\":{\"color\":\"rgb(15,15,15)\",\"width\":1},\"type\":\"line\",\"x0\":0.0010047556507346539,\"x1\":0.0010047556507346539,\"y0\":64.25,\"y1\":62.29999999999998},{\"layer\":\"below\",\"line\":{\"color\":\"rgb(15,15,15)\",\"width\":1},\"type\":\"line\",\"x0\":0.0010047556507346539,\"x1\":0.010293940587559496,\"y0\":62.29999999999998,\"y1\":62.29999999999998},{\"layer\":\"below\",\"line\":{\"color\":\"rgb(15,15,15)\",\"width\":1},\"type\":\"line\",\"x0\":0.0010047556507346539,\"x1\":0.0030250207139098104,\"y0\":64.25,\"y1\":64.25},{\"layer\":\"below\",\"line\":{\"color\":\"rgb(15,15,15)\",\"width\":1},\"type\":\"line\",\"x0\":0.0030250207139098104,\"x1\":0.0030250207139098104,\"y0\":64.9,\"y1\":63.599999999999994},{\"layer\":\"below\",\"line\":{\"color\":\"rgb(15,15,15)\",\"width\":1},\"type\":\"line\",\"x0\":0.0030250207139098104,\"x1\":0.011531506915832886,\"y0\":63.599999999999994,\"y1\":63.599999999999994},{\"layer\":\"below\",\"line\":{\"color\":\"rgb(15,15,15)\",\"width\":1},\"type\":\"line\",\"x0\":0.0030250207139098104,\"x1\":0.009547034511986737,\"y0\":64.9,\"y1\":64.9},{\"layer\":\"below\",\"line\":{\"color\":\"rgb(15,15,15)\",\"width\":1},\"type\":\"line\",\"x0\":0.0002663287420747181,\"x1\":0.0004364716881511112,\"y0\":100.55224609375,\"y1\":100.55224609375},{\"layer\":\"below\",\"line\":{\"color\":\"rgb(15,15,15)\",\"width\":1},\"type\":\"line\",\"x0\":0.0004364716881511112,\"x1\":0.0004364716881511112,\"y0\":112.4515625,\"y1\":88.65292968749999},{\"layer\":\"below\",\"line\":{\"color\":\"rgb(15,15,15)\",\"width\":1},\"type\":\"line\",\"x0\":0.0004364716881511112,\"x1\":0.0005725017988070018,\"y0\":88.65292968749999,\"y1\":88.65292968749999},{\"layer\":\"below\",\"line\":{\"color\":\"rgb(15,15,15)\",\"width\":1},\"type\":\"line\",\"x0\":0.0005725017988070018,\"x1\":0.0005725017988070018,\"y0\":102.11249999999998,\"y1\":75.193359375},{\"layer\":\"below\",\"line\":{\"color\":\"rgb(15,15,15)\",\"width\":1},\"type\":\"line\",\"x0\":0.0005725017988070018,\"x1\":0.0007654309451864148,\"y0\":75.193359375,\"y1\":75.193359375},{\"layer\":\"below\",\"line\":{\"color\":\"rgb(15,15,15)\",\"width\":1},\"type\":\"line\",\"x0\":0.0007654309451864148,\"x1\":0.0007654309451864148,\"y0\":81.58671874999999,\"y1\":68.8},{\"layer\":\"below\",\"line\":{\"color\":\"rgb(15,15,15)\",\"width\":1},\"type\":\"line\",\"x0\":0.0007654309451864148,\"x1\":0.0009007299978673844,\"y0\":68.8,\"y1\":68.8},{\"layer\":\"below\",\"line\":{\"color\":\"rgb(15,15,15)\",\"width\":1},\"type\":\"line\",\"x0\":0.0009007299978673844,\"x1\":0.0009007299978673844,\"y0\":70.75,\"y1\":66.85},{\"layer\":\"below\",\"line\":{\"color\":\"rgb(15,15,15)\",\"width\":1},\"type\":\"line\",\"x0\":0.0009007299978673844,\"x1\":0.002559130282431291,\"y0\":66.85,\"y1\":66.85},{\"layer\":\"below\",\"line\":{\"color\":\"rgb(15,15,15)\",\"width\":1},\"type\":\"line\",\"x0\":0.002559130282431291,\"x1\":0.002559130282431291,\"y0\":67.5,\"y1\":66.19999999999999},{\"layer\":\"below\",\"line\":{\"color\":\"rgb(15,15,15)\",\"width\":1},\"type\":\"line\",\"x0\":0.002559130282431291,\"x1\":0.010423285999555575,\"y0\":66.19999999999999,\"y1\":66.19999999999999},{\"layer\":\"below\",\"line\":{\"color\":\"rgb(15,15,15)\",\"width\":1},\"type\":\"line\",\"x0\":0.002559130282431291,\"x1\":0.01058317456530701,\"y0\":67.5,\"y1\":67.5},{\"layer\":\"below\",\"line\":{\"color\":\"rgb(15,15,15)\",\"width\":1},\"type\":\"line\",\"x0\":0.0009007299978673844,\"x1\":0.0009578547133034767,\"y0\":70.75,\"y1\":70.75},{\"layer\":\"below\",\"line\":{\"color\":\"rgb(15,15,15)\",\"width\":1},\"type\":\"line\",\"x0\":0.0009578547133034767,\"x1\":0.0009578547133034767,\"y0\":72.05,\"y1\":69.44999999999999},{\"layer\":\"below\",\"line\":{\"color\":\"rgb(15,15,15)\",\"width\":1},\"type\":\"line\",\"x0\":0.0009578547133034767,\"x1\":0.0014892588466782395,\"y0\":69.44999999999999,\"y1\":69.44999999999999},{\"layer\":\"below\",\"line\":{\"color\":\"rgb(15,15,15)\",\"width\":1},\"type\":\"line\",\"x0\":0.0014892588466782395,\"x1\":0.0014892588466782395,\"y0\":70.1,\"y1\":68.79999999999998},{\"layer\":\"below\",\"line\":{\"color\":\"rgb(15,15,15)\",\"width\":1},\"type\":\"line\",\"x0\":0.0014892588466782395,\"x1\":0.009273605468299863,\"y0\":68.79999999999998,\"y1\":68.79999999999998},{\"layer\":\"below\",\"line\":{\"color\":\"rgb(15,15,15)\",\"width\":1},\"type\":\"line\",\"x0\":0.0014892588466782395,\"x1\":0.009924212225056616,\"y0\":70.1,\"y1\":70.1},{\"layer\":\"below\",\"line\":{\"color\":\"rgb(15,15,15)\",\"width\":1},\"type\":\"line\",\"x0\":0.0009578547133034767,\"x1\":0.0019063005799287137,\"y0\":72.05,\"y1\":72.05},{\"layer\":\"below\",\"line\":{\"color\":\"rgb(15,15,15)\",\"width\":1},\"type\":\"line\",\"x0\":0.0019063005799287137,\"x1\":0.0019063005799287137,\"y0\":72.69999999999999,\"y1\":71.4},{\"layer\":\"below\",\"line\":{\"color\":\"rgb(15,15,15)\",\"width\":1},\"type\":\"line\",\"x0\":0.0019063005799287137,\"x1\":0.010931952240767864,\"y0\":71.4,\"y1\":71.4},{\"layer\":\"below\",\"line\":{\"color\":\"rgb(15,15,15)\",\"width\":1},\"type\":\"line\",\"x0\":0.0019063005799287137,\"x1\":0.011072348919089566,\"y0\":72.69999999999999,\"y1\":72.69999999999999},{\"layer\":\"below\",\"line\":{\"color\":\"rgb(15,15,15)\",\"width\":1},\"type\":\"line\",\"x0\":0.0007654309451864148,\"x1\":0.0008635409745366955,\"y0\":81.58671874999999,\"y1\":81.58671874999999},{\"layer\":\"below\",\"line\":{\"color\":\"rgb(15,15,15)\",\"width\":1},\"type\":\"line\",\"x0\":0.0008635409745366955,\"x1\":0.0008635409745366955,\"y0\":88.19843749999998,\"y1\":74.975},{\"layer\":\"below\",\"line\":{\"color\":\"rgb(15,15,15)\",\"width\":1},\"type\":\"line\",\"x0\":0.0008635409745366955,\"x1\":0.0024423980378959235,\"y0\":74.975,\"y1\":74.975},{\"layer\":\"below\",\"line\":{\"color\":\"rgb(15,15,15)\",\"width\":1},\"type\":\"line\",\"x0\":0.0024423980378959235,\"x1\":0.0024423980378959235,\"y0\":75.94999999999999,\"y1\":74.0},{\"layer\":\"below\",\"line\":{\"color\":\"rgb(15,15,15)\",\"width\":1},\"type\":\"line\",\"x0\":0.0024423980378959235,\"x1\":0.01076151385579716,\"y0\":74.0,\"y1\":74.0},{\"layer\":\"below\",\"line\":{\"color\":\"rgb(15,15,15)\",\"width\":1},\"type\":\"line\",\"x0\":0.0024423980378959235,\"x1\":0.004307332219994687,\"y0\":75.94999999999999,\"y1\":75.94999999999999},{\"layer\":\"below\",\"line\":{\"color\":\"rgb(15,15,15)\",\"width\":1},\"type\":\"line\",\"x0\":0.004307332219994687,\"x1\":0.004307332219994687,\"y0\":76.6,\"y1\":75.29999999999998},{\"layer\":\"below\",\"line\":{\"color\":\"rgb(15,15,15)\",\"width\":1},\"type\":\"line\",\"x0\":0.004307332219994687,\"x1\":0.010324582664307486,\"y0\":75.29999999999998,\"y1\":75.29999999999998},{\"layer\":\"below\",\"line\":{\"color\":\"rgb(15,15,15)\",\"width\":1},\"type\":\"line\",\"x0\":0.004307332219994687,\"x1\":0.011547381775681886,\"y0\":76.6,\"y1\":76.6},{\"layer\":\"below\",\"line\":{\"color\":\"rgb(15,15,15)\",\"width\":1},\"type\":\"line\",\"x0\":0.0008635409745366955,\"x1\":0.0010179081299274673,\"y0\":88.19843749999998,\"y1\":88.19843749999998},{\"layer\":\"below\",\"line\":{\"color\":\"rgb(15,15,15)\",\"width\":1},\"type\":\"line\",\"x0\":0.0010179081299274673,\"x1\":0.0010179081299274673,\"y0\":95.12499999999999,\"y1\":81.271875},{\"layer\":\"below\",\"line\":{\"color\":\"rgb(15,15,15)\",\"width\":1},\"type\":\"line\",\"x0\":0.0010179081299274673,\"x1\":0.0012066935123665758,\"y0\":81.271875,\"y1\":81.271875},{\"layer\":\"below\",\"line\":{\"color\":\"rgb(15,15,15)\",\"width\":1},\"type\":\"line\",\"x0\":0.0012066935123665758,\"x1\":0.0012066935123665758,\"y0\":84.64374999999998,\"y1\":77.9},{\"layer\":\"below\",\"line\":{\"color\":\"rgb(15,15,15)\",\"width\":1},\"type\":\"line\",\"x0\":0.0012066935123665758,\"x1\":0.010722207536039391,\"y0\":77.9,\"y1\":77.9},{\"layer\":\"below\",\"line\":{\"color\":\"rgb(15,15,15)\",\"width\":1},\"type\":\"line\",\"x0\":0.0012066935123665758,\"x1\":0.0013632630824437614,\"y0\":84.64374999999998,\"y1\":84.64374999999998},{\"layer\":\"below\",\"line\":{\"color\":\"rgb(15,15,15)\",\"width\":1},\"type\":\"line\",\"x0\":0.0013632630824437614,\"x1\":0.0013632630824437614,\"y0\":87.32499999999999,\"y1\":81.96249999999999},{\"layer\":\"below\",\"line\":{\"color\":\"rgb(15,15,15)\",\"width\":1},\"type\":\"line\",\"x0\":0.0013632630824437614,\"x1\":0.0015391858548532995,\"y0\":81.96249999999999,\"y1\":81.96249999999999},{\"layer\":\"below\",\"line\":{\"color\":\"rgb(15,15,15)\",\"width\":1},\"type\":\"line\",\"x0\":0.0015391858548532995,\"x1\":0.0015391858548532995,\"y0\":83.75,\"y1\":80.17499999999998},{\"layer\":\"below\",\"line\":{\"color\":\"rgb(15,15,15)\",\"width\":1},\"type\":\"line\",\"x0\":0.0015391858548532995,\"x1\":0.0018586723818745116,\"y0\":80.17499999999998,\"y1\":80.17499999999998},{\"layer\":\"below\",\"line\":{\"color\":\"rgb(15,15,15)\",\"width\":1},\"type\":\"line\",\"x0\":0.0018586723818745116,\"x1\":0.0018586723818745116,\"y0\":81.14999999999999,\"y1\":79.19999999999999},{\"layer\":\"below\",\"line\":{\"color\":\"rgb(15,15,15)\",\"width\":1},\"type\":\"line\",\"x0\":0.0018586723818745116,\"x1\":0.010693800606733535,\"y0\":79.19999999999999,\"y1\":79.19999999999999},{\"layer\":\"below\",\"line\":{\"color\":\"rgb(15,15,15)\",\"width\":1},\"type\":\"line\",\"x0\":0.0018586723818745116,\"x1\":0.0039885941570154924,\"y0\":81.14999999999999,\"y1\":81.14999999999999},{\"layer\":\"below\",\"line\":{\"color\":\"rgb(15,15,15)\",\"width\":1},\"type\":\"line\",\"x0\":0.0039885941570154924,\"x1\":0.0039885941570154924,\"y0\":81.79999999999998,\"y1\":80.5},{\"layer\":\"below\",\"line\":{\"color\":\"rgb(15,15,15)\",\"width\":1},\"type\":\"line\",\"x0\":0.0039885941570154924,\"x1\":0.011293399569694927,\"y0\":80.5,\"y1\":80.5},{\"layer\":\"below\",\"line\":{\"color\":\"rgb(15,15,15)\",\"width\":1},\"type\":\"line\",\"x0\":0.0039885941570154924,\"x1\":0.011870988744336057,\"y0\":81.79999999999998,\"y1\":81.79999999999998},{\"layer\":\"below\",\"line\":{\"color\":\"rgb(15,15,15)\",\"width\":1},\"type\":\"line\",\"x0\":0.0015391858548532995,\"x1\":0.0017121118278320847,\"y0\":83.75,\"y1\":83.75},{\"layer\":\"below\",\"line\":{\"color\":\"rgb(15,15,15)\",\"width\":1},\"type\":\"line\",\"x0\":0.0017121118278320847,\"x1\":0.0017121118278320847,\"y0\":84.4,\"y1\":83.1},{\"layer\":\"below\",\"line\":{\"color\":\"rgb(15,15,15)\",\"width\":1},\"type\":\"line\",\"x0\":0.0017121118278320847,\"x1\":0.010414470295574022,\"y0\":83.1,\"y1\":83.1},{\"layer\":\"below\",\"line\":{\"color\":\"rgb(15,15,15)\",\"width\":1},\"type\":\"line\",\"x0\":0.0017121118278320847,\"x1\":0.010020853360090148,\"y0\":84.4,\"y1\":84.4},{\"layer\":\"below\",\"line\":{\"color\":\"rgb(15,15,15)\",\"width\":1},\"type\":\"line\",\"x0\":0.0013632630824437614,\"x1\":0.0015459168725342246,\"y0\":87.32499999999999,\"y1\":87.32499999999999},{\"layer\":\"below\",\"line\":{\"color\":\"rgb(15,15,15)\",\"width\":1},\"type\":\"line\",\"x0\":0.0015459168725342246,\"x1\":0.0015459168725342246,\"y0\":88.94999999999999,\"y1\":85.69999999999999},{\"layer\":\"below\",\"line\":{\"color\":\"rgb(15,15,15)\",\"width\":1},\"type\":\"line\",\"x0\":0.0015459168725342246,\"x1\":0.010979261648812634,\"y0\":85.69999999999999,\"y1\":85.69999999999999},{\"layer\":\"below\",\"line\":{\"color\":\"rgb(15,15,15)\",\"width\":1},\"type\":\"line\",\"x0\":0.0015459168725342246,\"x1\":0.0017488220962558142,\"y0\":88.94999999999999,\"y1\":88.94999999999999},{\"layer\":\"below\",\"line\":{\"color\":\"rgb(15,15,15)\",\"width\":1},\"type\":\"line\",\"x0\":0.0017488220962558142,\"x1\":0.0017488220962558142,\"y0\":90.25,\"y1\":87.64999999999999},{\"layer\":\"below\",\"line\":{\"color\":\"rgb(15,15,15)\",\"width\":1},\"type\":\"line\",\"x0\":0.0017488220962558142,\"x1\":0.002664335605630816,\"y0\":87.64999999999999,\"y1\":87.64999999999999},{\"layer\":\"below\",\"line\":{\"color\":\"rgb(15,15,15)\",\"width\":1},\"type\":\"line\",\"x0\":0.002664335605630816,\"x1\":0.002664335605630816,\"y0\":88.29999999999998,\"y1\":87.0},{\"layer\":\"below\",\"line\":{\"color\":\"rgb(15,15,15)\",\"width\":1},\"type\":\"line\",\"x0\":0.002664335605630816,\"x1\":0.011241470589279073,\"y0\":87.0,\"y1\":87.0},{\"layer\":\"below\",\"line\":{\"color\":\"rgb(15,15,15)\",\"width\":1},\"type\":\"line\",\"x0\":0.002664335605630816,\"x1\":0.01041790062198256,\"y0\":88.29999999999998,\"y1\":88.29999999999998},{\"layer\":\"below\",\"line\":{\"color\":\"rgb(15,15,15)\",\"width\":1},\"type\":\"line\",\"x0\":0.0017488220962558142,\"x1\":0.002964358586880813,\"y0\":90.25,\"y1\":90.25},{\"layer\":\"below\",\"line\":{\"color\":\"rgb(15,15,15)\",\"width\":1},\"type\":\"line\",\"x0\":0.002964358586880813,\"x1\":0.002964358586880813,\"y0\":90.9,\"y1\":89.6},{\"layer\":\"below\",\"line\":{\"color\":\"rgb(15,15,15)\",\"width\":1},\"type\":\"line\",\"x0\":0.002964358586880813,\"x1\":0.01196387616714037,\"y0\":89.6,\"y1\":89.6},{\"layer\":\"below\",\"line\":{\"color\":\"rgb(15,15,15)\",\"width\":1},\"type\":\"line\",\"x0\":0.002964358586880813,\"x1\":0.010239741006621256,\"y0\":90.9,\"y1\":90.9},{\"layer\":\"below\",\"line\":{\"color\":\"rgb(15,15,15)\",\"width\":1},\"type\":\"line\",\"x0\":0.0010179081299274673,\"x1\":0.001121442278738359,\"y0\":95.12499999999999,\"y1\":95.12499999999999},{\"layer\":\"below\",\"line\":{\"color\":\"rgb(15,15,15)\",\"width\":1},\"type\":\"line\",\"x0\":0.001121442278738359,\"x1\":0.001121442278738359,\"y0\":97.07499999999999,\"y1\":93.17499999999998},{\"layer\":\"below\",\"line\":{\"color\":\"rgb(15,15,15)\",\"width\":1},\"type\":\"line\",\"x0\":0.001121442278738359,\"x1\":0.001263962398565215,\"y0\":93.17499999999998,\"y1\":93.17499999999998},{\"layer\":\"below\",\"line\":{\"color\":\"rgb(15,15,15)\",\"width\":1},\"type\":\"line\",\"x0\":0.001263962398565215,\"x1\":0.001263962398565215,\"y0\":94.14999999999999,\"y1\":92.19999999999999},{\"layer\":\"below\",\"line\":{\"color\":\"rgb(15,15,15)\",\"width\":1},\"type\":\"line\",\"x0\":0.001263962398565215,\"x1\":0.010436839831290911,\"y0\":92.19999999999999,\"y1\":92.19999999999999},{\"layer\":\"below\",\"line\":{\"color\":\"rgb(15,15,15)\",\"width\":1},\"type\":\"line\",\"x0\":0.001263962398565215,\"x1\":0.003094184965839522,\"y0\":94.14999999999999,\"y1\":94.14999999999999},{\"layer\":\"below\",\"line\":{\"color\":\"rgb(15,15,15)\",\"width\":1},\"type\":\"line\",\"x0\":0.003094184965839522,\"x1\":0.003094184965839522,\"y0\":94.79999999999998,\"y1\":93.5},{\"layer\":\"below\",\"line\":{\"color\":\"rgb(15,15,15)\",\"width\":1},\"type\":\"line\",\"x0\":0.003094184965839522,\"x1\":0.009890988132175496,\"y0\":93.5,\"y1\":93.5},{\"layer\":\"below\",\"line\":{\"color\":\"rgb(15,15,15)\",\"width\":1},\"type\":\"line\",\"x0\":0.003094184965839522,\"x1\":0.009313081799503548,\"y0\":94.79999999999998,\"y1\":94.79999999999998},{\"layer\":\"below\",\"line\":{\"color\":\"rgb(15,15,15)\",\"width\":1},\"type\":\"line\",\"x0\":0.001121442278738359,\"x1\":0.0014506471589115022,\"y0\":97.07499999999999,\"y1\":97.07499999999999},{\"layer\":\"below\",\"line\":{\"color\":\"rgb(15,15,15)\",\"width\":1},\"type\":\"line\",\"x0\":0.0014506471589115022,\"x1\":0.0014506471589115022,\"y0\":98.05,\"y1\":96.1},{\"layer\":\"below\",\"line\":{\"color\":\"rgb(15,15,15)\",\"width\":1},\"type\":\"line\",\"x0\":0.0014506471589115022,\"x1\":0.01021349119001547,\"y0\":96.1,\"y1\":96.1},{\"layer\":\"below\",\"line\":{\"color\":\"rgb(15,15,15)\",\"width\":1},\"type\":\"line\",\"x0\":0.0014506471589115022,\"x1\":0.0024717031278075332,\"y0\":98.05,\"y1\":98.05},{\"layer\":\"below\",\"line\":{\"color\":\"rgb(15,15,15)\",\"width\":1},\"type\":\"line\",\"x0\":0.0024717031278075332,\"x1\":0.0024717031278075332,\"y0\":98.69999999999999,\"y1\":97.4},{\"layer\":\"below\",\"line\":{\"color\":\"rgb(15,15,15)\",\"width\":1},\"type\":\"line\",\"x0\":0.0024717031278075332,\"x1\":0.009050631442201477,\"y0\":97.4,\"y1\":97.4},{\"layer\":\"below\",\"line\":{\"color\":\"rgb(15,15,15)\",\"width\":1},\"type\":\"line\",\"x0\":0.0024717031278075332,\"x1\":0.010246474813413592,\"y0\":98.69999999999999,\"y1\":98.69999999999999},{\"layer\":\"below\",\"line\":{\"color\":\"rgb(15,15,15)\",\"width\":1},\"type\":\"line\",\"x0\":0.0005725017988070018,\"x1\":0.0009331256797713384,\"y0\":102.11249999999998,\"y1\":102.11249999999998},{\"layer\":\"below\",\"line\":{\"color\":\"rgb(15,15,15)\",\"width\":1},\"type\":\"line\",\"x0\":0.0009331256797713384,\"x1\":0.0009331256797713384,\"y0\":103.57499999999999,\"y1\":100.64999999999999},{\"layer\":\"below\",\"line\":{\"color\":\"rgb(15,15,15)\",\"width\":1},\"type\":\"line\",\"x0\":0.0009331256797713384,\"x1\":0.0015351892102810414,\"y0\":100.64999999999999,\"y1\":100.64999999999999},{\"layer\":\"below\",\"line\":{\"color\":\"rgb(15,15,15)\",\"width\":1},\"type\":\"line\",\"x0\":0.0015351892102810414,\"x1\":0.0015351892102810414,\"y0\":101.29999999999998,\"y1\":100.0},{\"layer\":\"below\",\"line\":{\"color\":\"rgb(15,15,15)\",\"width\":1},\"type\":\"line\",\"x0\":0.0015351892102810414,\"x1\":0.009387496534499799,\"y0\":100.0,\"y1\":100.0},{\"layer\":\"below\",\"line\":{\"color\":\"rgb(15,15,15)\",\"width\":1},\"type\":\"line\",\"x0\":0.0015351892102810414,\"x1\":0.009735981886062285,\"y0\":101.29999999999998,\"y1\":101.29999999999998},{\"layer\":\"below\",\"line\":{\"color\":\"rgb(15,15,15)\",\"width\":1},\"type\":\"line\",\"x0\":0.0009331256797713384,\"x1\":0.0029163371492616354,\"y0\":103.57499999999999,\"y1\":103.57499999999999},{\"layer\":\"below\",\"line\":{\"color\":\"rgb(15,15,15)\",\"width\":1},\"type\":\"line\",\"x0\":0.0029163371492616354,\"x1\":0.0029163371492616354,\"y0\":104.54999999999998,\"y1\":102.6},{\"layer\":\"below\",\"line\":{\"color\":\"rgb(15,15,15)\",\"width\":1},\"type\":\"line\",\"x0\":0.0029163371492616354,\"x1\":0.009962385204817188,\"y0\":102.6,\"y1\":102.6},{\"layer\":\"below\",\"line\":{\"color\":\"rgb(15,15,15)\",\"width\":1},\"type\":\"line\",\"x0\":0.0029163371492616354,\"x1\":0.004941189093706083,\"y0\":104.54999999999998,\"y1\":104.54999999999998},{\"layer\":\"below\",\"line\":{\"color\":\"rgb(15,15,15)\",\"width\":1},\"type\":\"line\",\"x0\":0.004941189093706083,\"x1\":0.004941189093706083,\"y0\":105.19999999999999,\"y1\":103.89999999999999},{\"layer\":\"below\",\"line\":{\"color\":\"rgb(15,15,15)\",\"width\":1},\"type\":\"line\",\"x0\":0.004941189093706083,\"x1\":0.01122603471870609,\"y0\":103.89999999999999,\"y1\":103.89999999999999},{\"layer\":\"below\",\"line\":{\"color\":\"rgb(15,15,15)\",\"width\":1},\"type\":\"line\",\"x0\":0.004941189093706083,\"x1\":0.012504843468706076,\"y0\":105.19999999999999,\"y1\":105.19999999999999},{\"layer\":\"below\",\"line\":{\"color\":\"rgb(15,15,15)\",\"width\":1},\"type\":\"line\",\"x0\":0.0004364716881511112,\"x1\":0.0005001153018604556,\"y0\":112.4515625,\"y1\":112.4515625},{\"layer\":\"below\",\"line\":{\"color\":\"rgb(15,15,15)\",\"width\":1},\"type\":\"line\",\"x0\":0.0005001153018604556,\"x1\":0.0005001153018604556,\"y0\":116.453125,\"y1\":108.45},{\"layer\":\"below\",\"line\":{\"color\":\"rgb(15,15,15)\",\"width\":1},\"type\":\"line\",\"x0\":0.0005001153018604556,\"x1\":0.0017198497528492242,\"y0\":108.45,\"y1\":108.45},{\"layer\":\"below\",\"line\":{\"color\":\"rgb(15,15,15)\",\"width\":1},\"type\":\"line\",\"x0\":0.0017198497528492242,\"x1\":0.0017198497528492242,\"y0\":109.75,\"y1\":107.15},{\"layer\":\"below\",\"line\":{\"color\":\"rgb(15,15,15)\",\"width\":1},\"type\":\"line\",\"x0\":0.0017198497528492242,\"x1\":0.002160871398434542,\"y0\":107.15,\"y1\":107.15},{\"layer\":\"below\",\"line\":{\"color\":\"rgb(15,15,15)\",\"width\":1},\"type\":\"line\",\"x0\":0.002160871398434542,\"x1\":0.002160871398434542,\"y0\":107.8,\"y1\":106.5},{\"layer\":\"below\",\"line\":{\"color\":\"rgb(15,15,15)\",\"width\":1},\"type\":\"line\",\"x0\":0.002160871398434542,\"x1\":0.011139307822947536,\"y0\":106.5,\"y1\":106.5},{\"layer\":\"below\",\"line\":{\"color\":\"rgb(15,15,15)\",\"width\":1},\"type\":\"line\",\"x0\":0.002160871398434542,\"x1\":0.011617634973921548,\"y0\":107.8,\"y1\":107.8},{\"layer\":\"below\",\"line\":{\"color\":\"rgb(15,15,15)\",\"width\":1},\"type\":\"line\",\"x0\":0.0017198497528492242,\"x1\":0.001922678107263908,\"y0\":109.75,\"y1\":109.75},{\"layer\":\"below\",\"line\":{\"color\":\"rgb(15,15,15)\",\"width\":1},\"type\":\"line\",\"x0\":0.001922678107263908,\"x1\":0.001922678107263908,\"y0\":110.39999999999999,\"y1\":109.1},{\"layer\":\"below\",\"line\":{\"color\":\"rgb(15,15,15)\",\"width\":1},\"type\":\"line\",\"x0\":0.001922678107263908,\"x1\":0.011845956870950036,\"y0\":109.1,\"y1\":109.1},{\"layer\":\"below\",\"line\":{\"color\":\"rgb(15,15,15)\",\"width\":1},\"type\":\"line\",\"x0\":0.001922678107263908,\"x1\":0.012813899343577781,\"y0\":110.39999999999999,\"y1\":110.39999999999999},{\"layer\":\"below\",\"line\":{\"color\":\"rgb(15,15,15)\",\"width\":1},\"type\":\"line\",\"x0\":0.0005001153018604556,\"x1\":0.0009104933508716856,\"y0\":116.453125,\"y1\":116.453125},{\"layer\":\"below\",\"line\":{\"color\":\"rgb(15,15,15)\",\"width\":1},\"type\":\"line\",\"x0\":0.0009104933508716856,\"x1\":0.0009104933508716856,\"y0\":119.58125,\"y1\":113.32499999999999},{\"layer\":\"below\",\"line\":{\"color\":\"rgb(15,15,15)\",\"width\":1},\"type\":\"line\",\"x0\":0.0009104933508716856,\"x1\":0.0022713693721932993,\"y0\":113.32499999999999,\"y1\":113.32499999999999},{\"layer\":\"below\",\"line\":{\"color\":\"rgb(15,15,15)\",\"width\":1},\"type\":\"line\",\"x0\":0.0022713693721932993,\"x1\":0.0022713693721932993,\"y0\":114.3,\"y1\":112.35},{\"layer\":\"below\",\"line\":{\"color\":\"rgb(15,15,15)\",\"width\":1},\"type\":\"line\",\"x0\":0.0022713693721932993,\"x1\":0.003814499616333929,\"y0\":112.35,\"y1\":112.35},{\"layer\":\"below\",\"line\":{\"color\":\"rgb(15,15,15)\",\"width\":1},\"type\":\"line\",\"x0\":0.003814499616333929,\"x1\":0.003814499616333929,\"y0\":113.0,\"y1\":111.7},{\"layer\":\"below\",\"line\":{\"color\":\"rgb(15,15,15)\",\"width\":1},\"type\":\"line\",\"x0\":0.003814499616333929,\"x1\":0.011988908286677065,\"y0\":111.7,\"y1\":111.7},{\"layer\":\"below\",\"line\":{\"color\":\"rgb(15,15,15)\",\"width\":1},\"type\":\"line\",\"x0\":0.003814499616333929,\"x1\":0.009689290945990792,\"y0\":113.0,\"y1\":113.0},{\"layer\":\"below\",\"line\":{\"color\":\"rgb(15,15,15)\",\"width\":1},\"type\":\"line\",\"x0\":0.0022713693721932993,\"x1\":0.010148439128052673,\"y0\":114.3,\"y1\":114.3},{\"layer\":\"below\",\"line\":{\"color\":\"rgb(15,15,15)\",\"width\":1},\"type\":\"line\",\"x0\":0.0009104933508716856,\"x1\":0.0010808048295500713,\"y0\":119.58125,\"y1\":119.58125},{\"layer\":\"below\",\"line\":{\"color\":\"rgb(15,15,15)\",\"width\":1},\"type\":\"line\",\"x0\":0.0010808048295500713,\"x1\":0.0010808048295500713,\"y0\":120.8,\"y1\":118.3625},{\"layer\":\"below\",\"line\":{\"color\":\"rgb(15,15,15)\",\"width\":1},\"type\":\"line\",\"x0\":0.0010808048295500713,\"x1\":0.0011946984954571867,\"y0\":118.3625,\"y1\":118.3625},{\"layer\":\"below\",\"line\":{\"color\":\"rgb(15,15,15)\",\"width\":1},\"type\":\"line\",\"x0\":0.0011946984954571867,\"x1\":0.0011946984954571867,\"y0\":119.5,\"y1\":117.225},{\"layer\":\"below\",\"line\":{\"color\":\"rgb(15,15,15)\",\"width\":1},\"type\":\"line\",\"x0\":0.0011946984954571867,\"x1\":0.0015681705192667102,\"y0\":117.225,\"y1\":117.225},{\"layer\":\"below\",\"line\":{\"color\":\"rgb(15,15,15)\",\"width\":1},\"type\":\"line\",\"x0\":0.0015681705192667102,\"x1\":0.0015681705192667102,\"y0\":118.2,\"y1\":116.25},{\"layer\":\"below\",\"line\":{\"color\":\"rgb(15,15,15)\",\"width\":1},\"type\":\"line\",\"x0\":0.0015681705192667102,\"x1\":0.0043295952622765844,\"y0\":116.25,\"y1\":116.25},{\"layer\":\"below\",\"line\":{\"color\":\"rgb(15,15,15)\",\"width\":1},\"type\":\"line\",\"x0\":0.0043295952622765844,\"x1\":0.0043295952622765844,\"y0\":116.89999999999999,\"y1\":115.6},{\"layer\":\"below\",\"line\":{\"color\":\"rgb(15,15,15)\",\"width\":1},\"type\":\"line\",\"x0\":0.0043295952622765844,\"x1\":0.01149722070241743,\"y0\":115.6,\"y1\":115.6},{\"layer\":\"below\",\"line\":{\"color\":\"rgb(15,15,15)\",\"width\":1},\"type\":\"line\",\"x0\":0.0043295952622765844,\"x1\":0.011824569822135738,\"y0\":116.89999999999999,\"y1\":116.89999999999999},{\"layer\":\"below\",\"line\":{\"color\":\"rgb(15,15,15)\",\"width\":1},\"type\":\"line\",\"x0\":0.0015681705192667102,\"x1\":0.010499295776256839,\"y0\":118.2,\"y1\":118.2},{\"layer\":\"below\",\"line\":{\"color\":\"rgb(15,15,15)\",\"width\":1},\"type\":\"line\",\"x0\":0.0011946984954571867,\"x1\":0.009005826471647662,\"y0\":119.5,\"y1\":119.5},{\"layer\":\"below\",\"line\":{\"color\":\"rgb(15,15,15)\",\"width\":1},\"type\":\"line\",\"x0\":0.0010808048295500713,\"x1\":0.010009573663642957,\"y0\":120.8,\"y1\":120.8},{\"layer\":\"below\",\"line\":{\"color\":\"rgb(15,15,15)\",\"width\":1},\"type\":\"line\",\"x0\":7.478120667636393e-05,\"x1\":0.00016429375980595723,\"y0\":145.30036621093748,\"y1\":145.30036621093748},{\"layer\":\"below\",\"line\":{\"color\":\"rgb(15,15,15)\",\"width\":1},\"type\":\"line\",\"x0\":0.00016429375980595723,\"x1\":0.00016429375980595723,\"y0\":160.46713867187498,\"y1\":130.13359375},{\"layer\":\"below\",\"line\":{\"color\":\"rgb(15,15,15)\",\"width\":1},\"type\":\"line\",\"x0\":0.00016429375980595723,\"x1\":0.0003237483995715773,\"y0\":130.13359375,\"y1\":130.13359375},{\"layer\":\"below\",\"line\":{\"color\":\"rgb(15,15,15)\",\"width\":1},\"type\":\"line\",\"x0\":0.0003237483995715773,\"x1\":0.0003237483995715773,\"y0\":136.5421875,\"y1\":123.725},{\"layer\":\"below\",\"line\":{\"color\":\"rgb(15,15,15)\",\"width\":1},\"type\":\"line\",\"x0\":0.0003237483995715773,\"x1\":0.0008898405830899871,\"y0\":123.725,\"y1\":123.725},{\"layer\":\"below\",\"line\":{\"color\":\"rgb(15,15,15)\",\"width\":1},\"type\":\"line\",\"x0\":0.0008898405830899871,\"x1\":0.0008898405830899871,\"y0\":125.35,\"y1\":122.1},{\"layer\":\"below\",\"line\":{\"color\":\"rgb(15,15,15)\",\"width\":1},\"type\":\"line\",\"x0\":0.0008898405830899871,\"x1\":0.010261507689835784,\"y0\":122.1,\"y1\":122.1},{\"layer\":\"below\",\"line\":{\"color\":\"rgb(15,15,15)\",\"width\":1},\"type\":\"line\",\"x0\":0.0008898405830899871,\"x1\":0.0011420609763441916,\"y0\":125.35,\"y1\":125.35},{\"layer\":\"below\",\"line\":{\"color\":\"rgb(15,15,15)\",\"width\":1},\"type\":\"line\",\"x0\":0.0011420609763441916,\"x1\":0.0011420609763441916,\"y0\":126.65,\"y1\":124.05},{\"layer\":\"below\",\"line\":{\"color\":\"rgb(15,15,15)\",\"width\":1},\"type\":\"line\",\"x0\":0.0011420609763441916,\"x1\":0.0024753266794691896,\"y0\":124.05,\"y1\":124.05},{\"layer\":\"below\",\"line\":{\"color\":\"rgb(15,15,15)\",\"width\":1},\"type\":\"line\",\"x0\":0.0024753266794691896,\"x1\":0.0024753266794691896,\"y0\":124.7,\"y1\":123.39999999999999},{\"layer\":\"below\",\"line\":{\"color\":\"rgb(15,15,15)\",\"width\":1},\"type\":\"line\",\"x0\":0.0024753266794691896,\"x1\":0.011189514436822123,\"y0\":123.39999999999999,\"y1\":123.39999999999999},{\"layer\":\"below\",\"line\":{\"color\":\"rgb(15,15,15)\",\"width\":1},\"type\":\"line\",\"x0\":0.0024753266794691896,\"x1\":0.011473338922116256,\"y0\":124.7,\"y1\":124.7},{\"layer\":\"below\",\"line\":{\"color\":\"rgb(15,15,15)\",\"width\":1},\"type\":\"line\",\"x0\":0.0011420609763441916,\"x1\":0.0024521702732191917,\"y0\":126.65,\"y1\":126.65},{\"layer\":\"below\",\"line\":{\"color\":\"rgb(15,15,15)\",\"width\":1},\"type\":\"line\",\"x0\":0.0024521702732191917,\"x1\":0.0024521702732191917,\"y0\":127.3,\"y1\":126.0},{\"layer\":\"below\",\"line\":{\"color\":\"rgb(15,15,15)\",\"width\":1},\"type\":\"line\",\"x0\":0.0024521702732191917,\"x1\":0.011184269294411724,\"y0\":126.0,\"y1\":126.0},{\"layer\":\"below\",\"line\":{\"color\":\"rgb(15,15,15)\",\"width\":1},\"type\":\"line\",\"x0\":0.0024521702732191917,\"x1\":0.01038837125202666,\"y0\":127.3,\"y1\":127.3},{\"layer\":\"below\",\"line\":{\"color\":\"rgb(15,15,15)\",\"width\":1},\"type\":\"line\",\"x0\":0.0003237483995715773,\"x1\":0.00040861539574066737,\"y0\":136.5421875,\"y1\":136.5421875},{\"layer\":\"below\",\"line\":{\"color\":\"rgb(15,15,15)\",\"width\":1},\"type\":\"line\",\"x0\":0.00040861539574066737,\"x1\":0.00040861539574066737,\"y0\":141.7625,\"y1\":131.321875},{\"layer\":\"below\",\"line\":{\"color\":\"rgb(15,15,15)\",\"width\":1},\"type\":\"line\",\"x0\":0.00040861539574066737,\"x1\":0.0007064764250604319,\"y0\":131.321875,\"y1\":131.321875},{\"layer\":\"below\",\"line\":{\"color\":\"rgb(15,15,15)\",\"width\":1},\"type\":\"line\",\"x0\":0.0007064764250604319,\"x1\":0.0007064764250604319,\"y0\":133.39375,\"y1\":129.25},{\"layer\":\"below\",\"line\":{\"color\":\"rgb(15,15,15)\",\"width\":1},\"type\":\"line\",\"x0\":0.0007064764250604319,\"x1\":0.0011157036260771745,\"y0\":129.25,\"y1\":129.25},{\"layer\":\"below\",\"line\":{\"color\":\"rgb(15,15,15)\",\"width\":1},\"type\":\"line\",\"x0\":0.0011157036260771745,\"x1\":0.0011157036260771745,\"y0\":129.89999999999998,\"y1\":128.6},{\"layer\":\"below\",\"line\":{\"color\":\"rgb(15,15,15)\",\"width\":1},\"type\":\"line\",\"x0\":0.0011157036260771745,\"x1\":0.009828064734475613,\"y0\":128.6,\"y1\":128.6},{\"layer\":\"below\",\"line\":{\"color\":\"rgb(15,15,15)\",\"width\":1},\"type\":\"line\",\"x0\":0.0011157036260771745,\"x1\":0.008456442517678738,\"y0\":129.89999999999998,\"y1\":129.89999999999998},{\"layer\":\"below\",\"line\":{\"color\":\"rgb(15,15,15)\",\"width\":1},\"type\":\"line\",\"x0\":0.0007064764250604319,\"x1\":0.0013503242240436863,\"y0\":133.39375,\"y1\":133.39375},{\"layer\":\"below\",\"line\":{\"color\":\"rgb(15,15,15)\",\"width\":1},\"type\":\"line\",\"x0\":0.0013503242240436863,\"x1\":0.0013503242240436863,\"y0\":134.9375,\"y1\":131.85},{\"layer\":\"below\",\"line\":{\"color\":\"rgb(15,15,15)\",\"width\":1},\"type\":\"line\",\"x0\":0.0013503242240436863,\"x1\":0.0018516944253004798,\"y0\":131.85,\"y1\":131.85},{\"layer\":\"below\",\"line\":{\"color\":\"rgb(15,15,15)\",\"width\":1},\"type\":\"line\",\"x0\":0.0018516944253004798,\"x1\":0.0018516944253004798,\"y0\":132.5,\"y1\":131.2},{\"layer\":\"below\",\"line\":{\"color\":\"rgb(15,15,15)\",\"width\":1},\"type\":\"line\",\"x0\":0.0018516944253004798,\"x1\":0.009412226492767364,\"y0\":131.2,\"y1\":131.2},{\"layer\":\"below\",\"line\":{\"color\":\"rgb(15,15,15)\",\"width\":1},\"type\":\"line\",\"x0\":0.0018516944253004798,\"x1\":0.008340362357833595,\"y0\":132.5,\"y1\":132.5},{\"layer\":\"below\",\"line\":{\"color\":\"rgb(15,15,15)\",\"width\":1},\"type\":\"line\",\"x0\":0.0013503242240436863,\"x1\":0.0017260852727868942,\"y0\":134.9375,\"y1\":134.9375},{\"layer\":\"below\",\"line\":{\"color\":\"rgb(15,15,15)\",\"width\":1},\"type\":\"line\",\"x0\":0.0017260852727868942,\"x1\":0.0017260852727868942,\"y0\":136.075,\"y1\":133.8},{\"layer\":\"below\",\"line\":{\"color\":\"rgb(15,15,15)\",\"width\":1},\"type\":\"line\",\"x0\":0.0017260852727868942,\"x1\":0.00902668745975543,\"y0\":133.8,\"y1\":133.8},{\"layer\":\"below\",\"line\":{\"color\":\"rgb(15,15,15)\",\"width\":1},\"type\":\"line\",\"x0\":0.0017260852727868942,\"x1\":0.002181358085818358,\"y0\":136.075,\"y1\":136.075},{\"layer\":\"below\",\"line\":{\"color\":\"rgb(15,15,15)\",\"width\":1},\"type\":\"line\",\"x0\":0.002181358085818358,\"x1\":0.002181358085818358,\"y0\":137.04999999999998,\"y1\":135.1},{\"layer\":\"below\",\"line\":{\"color\":\"rgb(15,15,15)\",\"width\":1},\"type\":\"line\",\"x0\":0.002181358085818358,\"x1\":0.009135345485780245,\"y0\":135.1,\"y1\":135.1},{\"layer\":\"below\",\"line\":{\"color\":\"rgb(15,15,15)\",\"width\":1},\"type\":\"line\",\"x0\":0.002181358085818358,\"x1\":0.0026132706858564723,\"y0\":137.04999999999998,\"y1\":137.04999999999998},{\"layer\":\"below\",\"line\":{\"color\":\"rgb(15,15,15)\",\"width\":1},\"type\":\"line\",\"x0\":0.0026132706858564723,\"x1\":0.0026132706858564723,\"y0\":137.7,\"y1\":136.39999999999998},{\"layer\":\"below\",\"line\":{\"color\":\"rgb(15,15,15)\",\"width\":1},\"type\":\"line\",\"x0\":0.0026132706858564723,\"x1\":0.01313705443067691,\"y0\":136.39999999999998,\"y1\":136.39999999999998},{\"layer\":\"below\",\"line\":{\"color\":\"rgb(15,15,15)\",\"width\":1},\"type\":\"line\",\"x0\":0.0026132706858564723,\"x1\":0.010402686941036039,\"y0\":137.7,\"y1\":137.7},{\"layer\":\"below\",\"line\":{\"color\":\"rgb(15,15,15)\",\"width\":1},\"type\":\"line\",\"x0\":0.00040861539574066737,\"x1\":0.0009955758507959054,\"y0\":141.7625,\"y1\":141.7625},{\"layer\":\"below\",\"line\":{\"color\":\"rgb(15,15,15)\",\"width\":1},\"type\":\"line\",\"x0\":0.0009955758507959054,\"x1\":0.0009955758507959054,\"y0\":142.89999999999998,\"y1\":140.625},{\"layer\":\"below\",\"line\":{\"color\":\"rgb(15,15,15)\",\"width\":1},\"type\":\"line\",\"x0\":0.0009955758507959054,\"x1\":0.002285102568774935,\"y0\":140.625,\"y1\":140.625},{\"layer\":\"below\",\"line\":{\"color\":\"rgb(15,15,15)\",\"width\":1},\"type\":\"line\",\"x0\":0.002285102568774935,\"x1\":0.002285102568774935,\"y0\":141.6,\"y1\":139.65},{\"layer\":\"below\",\"line\":{\"color\":\"rgb(15,15,15)\",\"width\":1},\"type\":\"line\",\"x0\":0.002285102568774935,\"x1\":0.0034193963373761313,\"y0\":139.65,\"y1\":139.65},{\"layer\":\"below\",\"line\":{\"color\":\"rgb(15,15,15)\",\"width\":1},\"type\":\"line\",\"x0\":0.0034193963373761313,\"x1\":0.0034193963373761313,\"y0\":140.3,\"y1\":139.0},{\"layer\":\"below\",\"line\":{\"color\":\"rgb(15,15,15)\",\"width\":1},\"type\":\"line\",\"x0\":0.0034193963373761313,\"x1\":0.011154834905215332,\"y0\":139.0,\"y1\":139.0},{\"layer\":\"below\",\"line\":{\"color\":\"rgb(15,15,15)\",\"width\":1},\"type\":\"line\",\"x0\":0.0034193963373761313,\"x1\":0.00958245776953693,\"y0\":140.3,\"y1\":140.3},{\"layer\":\"below\",\"line\":{\"color\":\"rgb(15,15,15)\",\"width\":1},\"type\":\"line\",\"x0\":0.002285102568774935,\"x1\":0.008836758800173738,\"y0\":141.6,\"y1\":141.6},{\"layer\":\"below\",\"line\":{\"color\":\"rgb(15,15,15)\",\"width\":1},\"type\":\"line\",\"x0\":0.0009955758507959054,\"x1\":0.010733349132816875,\"y0\":142.89999999999998,\"y1\":142.89999999999998},{\"layer\":\"below\",\"line\":{\"color\":\"rgb(15,15,15)\",\"width\":1},\"type\":\"line\",\"x0\":0.00016429375980595723,\"x1\":0.00039503092263738353,\"y0\":160.46713867187498,\"y1\":160.46713867187498},{\"layer\":\"below\",\"line\":{\"color\":\"rgb(15,15,15)\",\"width\":1},\"type\":\"line\",\"x0\":0.00039503092263738353,\"x1\":0.00039503092263738353,\"y0\":173.72294921875,\"y1\":147.211328125},{\"layer\":\"below\",\"line\":{\"color\":\"rgb(15,15,15)\",\"width\":1},\"type\":\"line\",\"x0\":0.00039503092263738353,\"x1\":0.0008974406158491599,\"y0\":147.211328125,\"y1\":147.211328125},{\"layer\":\"below\",\"line\":{\"color\":\"rgb(15,15,15)\",\"width\":1},\"type\":\"line\",\"x0\":0.0008974406158491599,\"x1\":0.0008974406158491599,\"y0\":150.22265625,\"y1\":144.2},{\"layer\":\"below\",\"line\":{\"color\":\"rgb(15,15,15)\",\"width\":1},\"type\":\"line\",\"x0\":0.0008974406158491599,\"x1\":0.011199976018805034,\"y0\":144.2,\"y1\":144.2},{\"layer\":\"below\",\"line\":{\"color\":\"rgb(15,15,15)\",\"width\":1},\"type\":\"line\",\"x0\":0.0008974406158491599,\"x1\":0.0012739849003932837,\"y0\":150.22265625,\"y1\":150.22265625},{\"layer\":\"below\",\"line\":{\"color\":\"rgb(15,15,15)\",\"width\":1},\"type\":\"line\",\"x0\":0.0012739849003932837,\"x1\":0.0012739849003932837,\"y0\":153.97031249999998,\"y1\":146.475},{\"layer\":\"below\",\"line\":{\"color\":\"rgb(15,15,15)\",\"width\":1},\"type\":\"line\",\"x0\":0.0012739849003932837,\"x1\":0.005797105436873809,\"y0\":146.475,\"y1\":146.475},{\"layer\":\"below\",\"line\":{\"color\":\"rgb(15,15,15)\",\"width\":1},\"type\":\"line\",\"x0\":0.005797105436873809,\"x1\":0.005797105436873809,\"y0\":147.45,\"y1\":145.5},{\"layer\":\"below\",\"line\":{\"color\":\"rgb(15,15,15)\",\"width\":1},\"type\":\"line\",\"x0\":0.005797105436873809,\"x1\":0.011772598467847267,\"y0\":145.5,\"y1\":145.5},{\"layer\":\"below\",\"line\":{\"color\":\"rgb(15,15,15)\",\"width\":1},\"type\":\"line\",\"x0\":0.005797105436873809,\"x1\":0.0063744124059003536,\"y0\":147.45,\"y1\":147.45},{\"layer\":\"below\",\"line\":{\"color\":\"rgb(15,15,15)\",\"width\":1},\"type\":\"line\",\"x0\":0.0063744124059003536,\"x1\":0.0063744124059003536,\"y0\":148.1,\"y1\":146.8},{\"layer\":\"below\",\"line\":{\"color\":\"rgb(15,15,15)\",\"width\":1},\"type\":\"line\",\"x0\":0.0063744124059003536,\"x1\":0.012956904511163502,\"y0\":146.8,\"y1\":146.8},{\"layer\":\"below\",\"line\":{\"color\":\"rgb(15,15,15)\",\"width\":1},\"type\":\"line\",\"x0\":0.0063744124059003536,\"x1\":0.013640420300637203,\"y0\":148.1,\"y1\":148.1},{\"layer\":\"below\",\"line\":{\"color\":\"rgb(15,15,15)\",\"width\":1},\"type\":\"line\",\"x0\":0.0012739849003932837,\"x1\":0.00166584873891276,\"y0\":153.97031249999998,\"y1\":153.97031249999998},{\"layer\":\"below\",\"line\":{\"color\":\"rgb(15,15,15)\",\"width\":1},\"type\":\"line\",\"x0\":0.00166584873891276,\"x1\":0.00166584873891276,\"y0\":157.2,\"y1\":150.74062499999997},{\"layer\":\"below\",\"line\":{\"color\":\"rgb(15,15,15)\",\"width\":1},\"type\":\"line\",\"x0\":0.00166584873891276,\"x1\":0.002982425760170028,\"y0\":150.74062499999997,\"y1\":150.74062499999997},{\"layer\":\"below\",\"line\":{\"color\":\"rgb(15,15,15)\",\"width\":1},\"type\":\"line\",\"x0\":0.002982425760170028,\"x1\":0.002982425760170028,\"y0\":152.08124999999998,\"y1\":149.39999999999998},{\"layer\":\"below\",\"line\":{\"color\":\"rgb(15,15,15)\",\"width\":1},\"type\":\"line\",\"x0\":0.002982425760170028,\"x1\":0.011965898717222164,\"y0\":149.39999999999998,\"y1\":149.39999999999998},{\"layer\":\"below\",\"line\":{\"color\":\"rgb(15,15,15)\",\"width\":1},\"type\":\"line\",\"x0\":0.002982425760170028,\"x1\":0.0033850340531178923,\"y0\":152.08124999999998,\"y1\":152.08124999999998},{\"layer\":\"below\",\"line\":{\"color\":\"rgb(15,15,15)\",\"width\":1},\"type\":\"line\",\"x0\":0.0033850340531178923,\"x1\":0.0033850340531178923,\"y0\":153.46249999999998,\"y1\":150.7},{\"layer\":\"below\",\"line\":{\"color\":\"rgb(15,15,15)\",\"width\":1},\"type\":\"line\",\"x0\":0.0033850340531178923,\"x1\":0.01151244386434885,\"y0\":150.7,\"y1\":150.7},{\"layer\":\"below\",\"line\":{\"color\":\"rgb(15,15,15)\",\"width\":1},\"type\":\"line\",\"x0\":0.0033850340531178923,\"x1\":0.004102861741886933,\"y0\":153.46249999999998,\"y1\":153.46249999999998},{\"layer\":\"below\",\"line\":{\"color\":\"rgb(15,15,15)\",\"width\":1},\"type\":\"line\",\"x0\":0.004102861741886933,\"x1\":0.004102861741886933,\"y0\":154.92499999999998,\"y1\":152.0},{\"layer\":\"below\",\"line\":{\"color\":\"rgb(15,15,15)\",\"width\":1},\"type\":\"line\",\"x0\":0.004102861741886933,\"x1\":0.011499692783553596,\"y0\":152.0,\"y1\":152.0},{\"layer\":\"below\",\"line\":{\"color\":\"rgb(15,15,15)\",\"width\":1},\"type\":\"line\",\"x0\":0.004102861741886933,\"x1\":0.005105505700220268,\"y0\":154.92499999999998,\"y1\":154.92499999999998},{\"layer\":\"below\",\"line\":{\"color\":\"rgb(15,15,15)\",\"width\":1},\"type\":\"line\",\"x0\":0.005105505700220268,\"x1\":0.005105505700220268,\"y0\":155.89999999999998,\"y1\":153.95},{\"layer\":\"below\",\"line\":{\"color\":\"rgb(15,15,15)\",\"width\":1},\"type\":\"line\",\"x0\":0.005105505700220268,\"x1\":0.005570643425445499,\"y0\":153.95,\"y1\":153.95},{\"layer\":\"below\",\"line\":{\"color\":\"rgb(15,15,15)\",\"width\":1},\"type\":\"line\",\"x0\":0.005570643425445499,\"x1\":0.005570643425445499,\"y0\":154.6,\"y1\":153.3},{\"layer\":\"below\",\"line\":{\"color\":\"rgb(15,15,15)\",\"width\":1},\"type\":\"line\",\"x0\":0.005570643425445499,\"x1\":0.011534661282588357,\"y0\":153.3,\"y1\":153.3},{\"layer\":\"below\",\"line\":{\"color\":\"rgb(15,15,15)\",\"width\":1},\"type\":\"line\",\"x0\":0.005570643425445499,\"x1\":0.012194125568302641,\"y0\":154.6,\"y1\":154.6},{\"layer\":\"below\",\"line\":{\"color\":\"rgb(15,15,15)\",\"width\":1},\"type\":\"line\",\"x0\":0.005105505700220268,\"x1\":0.012233917974995036,\"y0\":155.89999999999998,\"y1\":155.89999999999998},{\"layer\":\"below\",\"line\":{\"color\":\"rgb(15,15,15)\",\"width\":1},\"type\":\"line\",\"x0\":0.00166584873891276,\"x1\":0.01087669046765549,\"y0\":157.2,\"y1\":157.2},{\"layer\":\"below\",\"line\":{\"color\":\"rgb(15,15,15)\",\"width\":1},\"type\":\"line\",\"x0\":0.00039503092263738353,\"x1\":0.0007762883604680879,\"y0\":173.72294921875,\"y1\":173.72294921875},{\"layer\":\"below\",\"line\":{\"color\":\"rgb(15,15,15)\",\"width\":1},\"type\":\"line\",\"x0\":0.0007762883604680879,\"x1\":0.0007762883604680879,\"y0\":184.8021484375,\"y1\":162.64375},{\"layer\":\"below\",\"line\":{\"color\":\"rgb(15,15,15)\",\"width\":1},\"type\":\"line\",\"x0\":0.0007762883604680879,\"x1\":0.001522256695312644,\"y0\":162.64375,\"y1\":162.64375},{\"layer\":\"below\",\"line\":{\"color\":\"rgb(15,15,15)\",\"width\":1},\"type\":\"line\",\"x0\":0.001522256695312644,\"x1\":0.001522256695312644,\"y0\":164.35,\"y1\":160.9375},{\"layer\":\"below\",\"line\":{\"color\":\"rgb(15,15,15)\",\"width\":1},\"type\":\"line\",\"x0\":0.001522256695312644,\"x1\":0.001693727464617911,\"y0\":160.9375,\"y1\":160.9375},{\"layer\":\"below\",\"line\":{\"color\":\"rgb(15,15,15)\",\"width\":1},\"type\":\"line\",\"x0\":0.001693727464617911,\"x1\":0.001693727464617911,\"y0\":162.39999999999998,\"y1\":159.475},{\"layer\":\"below\",\"line\":{\"color\":\"rgb(15,15,15)\",\"width\":1},\"type\":\"line\",\"x0\":0.001693727464617911,\"x1\":0.0037017287527858524,\"y0\":159.475,\"y1\":159.475},{\"layer\":\"below\",\"line\":{\"color\":\"rgb(15,15,15)\",\"width\":1},\"type\":\"line\",\"x0\":0.0037017287527858524,\"x1\":0.0037017287527858524,\"y0\":160.45,\"y1\":158.5},{\"layer\":\"below\",\"line\":{\"color\":\"rgb(15,15,15)\",\"width\":1},\"type\":\"line\",\"x0\":0.0037017287527858524,\"x1\":0.009366643138561715,\"y0\":158.5,\"y1\":158.5},{\"layer\":\"below\",\"line\":{\"color\":\"rgb(15,15,15)\",\"width\":1},\"type\":\"line\",\"x0\":0.0037017287527858524,\"x1\":0.005475464367009988,\"y0\":160.45,\"y1\":160.45},{\"layer\":\"below\",\"line\":{\"color\":\"rgb(15,15,15)\",\"width\":1},\"type\":\"line\",\"x0\":0.005475464367009988,\"x1\":0.005475464367009988,\"y0\":161.1,\"y1\":159.8},{\"layer\":\"below\",\"line\":{\"color\":\"rgb(15,15,15)\",\"width\":1},\"type\":\"line\",\"x0\":0.005475464367009988,\"x1\":0.01263141847812109,\"y0\":159.8,\"y1\":159.8},{\"layer\":\"below\",\"line\":{\"color\":\"rgb(15,15,15)\",\"width\":1},\"type\":\"line\",\"x0\":0.005475464367009988,\"x1\":0.011239310255898886,\"y0\":161.1,\"y1\":161.1},{\"layer\":\"below\",\"line\":{\"color\":\"rgb(15,15,15)\",\"width\":1},\"type\":\"line\",\"x0\":0.001693727464617911,\"x1\":0.01131802617644997,\"y0\":162.39999999999998,\"y1\":162.39999999999998},{\"layer\":\"below\",\"line\":{\"color\":\"rgb(15,15,15)\",\"width\":1},\"type\":\"line\",\"x0\":0.001522256695312644,\"x1\":0.0031627734260073776,\"y0\":164.35,\"y1\":164.35},{\"layer\":\"below\",\"line\":{\"color\":\"rgb(15,15,15)\",\"width\":1},\"type\":\"line\",\"x0\":0.0031627734260073776,\"x1\":0.0031627734260073776,\"y0\":165.0,\"y1\":163.7},{\"layer\":\"below\",\"line\":{\"color\":\"rgb(15,15,15)\",\"width\":1},\"type\":\"line\",\"x0\":0.0031627734260073776,\"x1\":0.012595030204978723,\"y0\":163.7,\"y1\":163.7},{\"layer\":\"below\",\"line\":{\"color\":\"rgb(15,15,15)\",\"width\":1},\"type\":\"line\",\"x0\":0.0031627734260073776,\"x1\":0.011922216647036033,\"y0\":165.0,\"y1\":165.0},{\"layer\":\"below\",\"line\":{\"color\":\"rgb(15,15,15)\",\"width\":1},\"type\":\"line\",\"x0\":0.0007762883604680879,\"x1\":0.0008757769531137651,\"y0\":184.8021484375,\"y1\":184.8021484375},{\"layer\":\"below\",\"line\":{\"color\":\"rgb(15,15,15)\",\"width\":1},\"type\":\"line\",\"x0\":0.0008757769531137651,\"x1\":0.0008757769531137651,\"y0\":198.612109375,\"y1\":170.9921875},{\"layer\":\"below\",\"line\":{\"color\":\"rgb(15,15,15)\",\"width\":1},\"type\":\"line\",\"x0\":0.0008757769531137651,\"x1\":0.0016190140842382338,\"y0\":170.9921875,\"y1\":170.9921875},{\"layer\":\"below\",\"line\":{\"color\":\"rgb(15,15,15)\",\"width\":1},\"type\":\"line\",\"x0\":0.0016190140842382338,\"x1\":0.0016190140842382338,\"y0\":174.059375,\"y1\":167.925},{\"layer\":\"below\",\"line\":{\"color\":\"rgb(15,15,15)\",\"width\":1},\"type\":\"line\",\"x0\":0.0016190140842382338,\"x1\":0.0022174328562509114,\"y0\":167.925,\"y1\":167.925},{\"layer\":\"below\",\"line\":{\"color\":\"rgb(15,15,15)\",\"width\":1},\"type\":\"line\",\"x0\":0.0022174328562509114,\"x1\":0.0022174328562509114,\"y0\":168.9,\"y1\":166.95},{\"layer\":\"below\",\"line\":{\"color\":\"rgb(15,15,15)\",\"width\":1},\"type\":\"line\",\"x0\":0.0022174328562509114,\"x1\":0.002797412044758976,\"y0\":166.95,\"y1\":166.95},{\"layer\":\"below\",\"line\":{\"color\":\"rgb(15,15,15)\",\"width\":1},\"type\":\"line\",\"x0\":0.002797412044758976,\"x1\":0.002797412044758976,\"y0\":167.6,\"y1\":166.3},{\"layer\":\"below\",\"line\":{\"color\":\"rgb(15,15,15)\",\"width\":1},\"type\":\"line\",\"x0\":0.002797412044758976,\"x1\":0.011144993705024336,\"y0\":166.3,\"y1\":166.3},{\"layer\":\"below\",\"line\":{\"color\":\"rgb(15,15,15)\",\"width\":1},\"type\":\"line\",\"x0\":0.002797412044758976,\"x1\":0.011174930384493617,\"y0\":167.6,\"y1\":167.6},{\"layer\":\"below\",\"line\":{\"color\":\"rgb(15,15,15)\",\"width\":1},\"type\":\"line\",\"x0\":0.0022174328562509114,\"x1\":0.01140690366774285,\"y0\":168.9,\"y1\":168.9},{\"layer\":\"below\",\"line\":{\"color\":\"rgb(15,15,15)\",\"width\":1},\"type\":\"line\",\"x0\":0.0016190140842382338,\"x1\":0.0032770953122255534,\"y0\":174.059375,\"y1\":174.059375},{\"layer\":\"below\",\"line\":{\"color\":\"rgb(15,15,15)\",\"width\":1},\"type\":\"line\",\"x0\":0.0032770953122255534,\"x1\":0.0032770953122255534,\"y0\":176.7,\"y1\":171.41875},{\"layer\":\"below\",\"line\":{\"color\":\"rgb(15,15,15)\",\"width\":1},\"type\":\"line\",\"x0\":0.0032770953122255534,\"x1\":0.004267892175081769,\"y0\":171.41875,\"y1\":171.41875},{\"layer\":\"below\",\"line\":{\"color\":\"rgb(15,15,15)\",\"width\":1},\"type\":\"line\",\"x0\":0.004267892175081769,\"x1\":0.004267892175081769,\"y0\":172.6375,\"y1\":170.2},{\"layer\":\"below\",\"line\":{\"color\":\"rgb(15,15,15)\",\"width\":1},\"type\":\"line\",\"x0\":0.004267892175081769,\"x1\":0.013102528650612427,\"y0\":170.2,\"y1\":170.2},{\"layer\":\"below\",\"line\":{\"color\":\"rgb(15,15,15)\",\"width\":1},\"type\":\"line\",\"x0\":0.004267892175081769,\"x1\":0.004404805699551111,\"y0\":172.6375,\"y1\":172.6375},{\"layer\":\"below\",\"line\":{\"color\":\"rgb(15,15,15)\",\"width\":1},\"type\":\"line\",\"x0\":0.004404805699551111,\"x1\":0.004404805699551111,\"y0\":173.775,\"y1\":171.5},{\"layer\":\"below\",\"line\":{\"color\":\"rgb(15,15,15)\",\"width\":1},\"type\":\"line\",\"x0\":0.004404805699551111,\"x1\":0.011231008824551117,\"y0\":171.5,\"y1\":171.5},{\"layer\":\"below\",\"line\":{\"color\":\"rgb(15,15,15)\",\"width\":1},\"type\":\"line\",\"x0\":0.004404805699551111,\"x1\":0.004888102574551105,\"y0\":173.775,\"y1\":173.775},{\"layer\":\"below\",\"line\":{\"color\":\"rgb(15,15,15)\",\"width\":1},\"type\":\"line\",\"x0\":0.004888102574551105,\"x1\":0.004888102574551105,\"y0\":174.75,\"y1\":172.8},{\"layer\":\"below\",\"line\":{\"color\":\"rgb(15,15,15)\",\"width\":1},\"type\":\"line\",\"x0\":0.004888102574551105,\"x1\":0.014846539361080791,\"y0\":172.8,\"y1\":172.8},{\"layer\":\"below\",\"line\":{\"color\":\"rgb(15,15,15)\",\"width\":1},\"type\":\"line\",\"x0\":0.004888102574551105,\"x1\":0.0054200157880214175,\"y0\":174.75,\"y1\":174.75},{\"layer\":\"below\",\"line\":{\"color\":\"rgb(15,15,15)\",\"width\":1},\"type\":\"line\",\"x0\":0.0054200157880214175,\"x1\":0.0054200157880214175,\"y0\":175.4,\"y1\":174.1},{\"layer\":\"below\",\"line\":{\"color\":\"rgb(15,15,15)\",\"width\":1},\"type\":\"line\",\"x0\":0.0054200157880214175,\"x1\":0.012047903400129033,\"y0\":174.1,\"y1\":174.1},{\"layer\":\"below\",\"line\":{\"color\":\"rgb(15,15,15)\",\"width\":1},\"type\":\"line\",\"x0\":0.0054200157880214175,\"x1\":0.011664128175913802,\"y0\":175.4,\"y1\":175.4},{\"layer\":\"below\",\"line\":{\"color\":\"rgb(15,15,15)\",\"width\":1},\"type\":\"line\",\"x0\":0.0032770953122255534,\"x1\":0.012645198449369338,\"y0\":176.7,\"y1\":176.7},{\"layer\":\"below\",\"line\":{\"color\":\"rgb(15,15,15)\",\"width\":1},\"type\":\"line\",\"x0\":0.0008757769531137651,\"x1\":0.0009783805019209376,\"y0\":198.612109375,\"y1\":198.612109375},{\"layer\":\"below\",\"line\":{\"color\":\"rgb(15,15,15)\",\"width\":1},\"type\":\"line\",\"x0\":0.0009783805019209376,\"x1\":0.0009783805019209376,\"y0\":207.52421875,\"y1\":189.70000000000002},{\"layer\":\"below\",\"line\":{\"color\":\"rgb(15,15,15)\",\"width\":1},\"type\":\"line\",\"x0\":0.0009783805019209376,\"x1\":0.001174553753177745,\"y0\":189.70000000000002,\"y1\":189.70000000000002},{\"layer\":\"below\",\"line\":{\"color\":\"rgb(15,15,15)\",\"width\":1},\"type\":\"line\",\"x0\":0.001174553753177745,\"x1\":0.001174553753177745,\"y0\":198.39375,\"y1\":181.00625000000002},{\"layer\":\"below\",\"line\":{\"color\":\"rgb(15,15,15)\",\"width\":1},\"type\":\"line\",\"x0\":0.001174553753177745,\"x1\":0.0012846389559083653,\"y0\":181.00625000000002,\"y1\":181.00625000000002},{\"layer\":\"below\",\"line\":{\"color\":\"rgb(15,15,15)\",\"width\":1},\"type\":\"line\",\"x0\":0.0012846389559083653,\"x1\":0.0012846389559083653,\"y0\":184.01250000000002,\"y1\":178.0},{\"layer\":\"below\",\"line\":{\"color\":\"rgb(15,15,15)\",\"width\":1},\"type\":\"line\",\"x0\":0.0012846389559083653,\"x1\":0.011911146659874562,\"y0\":178.0,\"y1\":178.0},{\"layer\":\"below\",\"line\":{\"color\":\"rgb(15,15,15)\",\"width\":1},\"type\":\"line\",\"x0\":0.0012846389559083653,\"x1\":0.0015828425800671684,\"y0\":184.01250000000002,\"y1\":184.01250000000002},{\"layer\":\"below\",\"line\":{\"color\":\"rgb(15,15,15)\",\"width\":1},\"type\":\"line\",\"x0\":0.0015828425800671684,\"x1\":0.0015828425800671684,\"y0\":187.50625000000002,\"y1\":180.51875},{\"layer\":\"below\",\"line\":{\"color\":\"rgb(15,15,15)\",\"width\":1},\"type\":\"line\",\"x0\":0.0015828425800671684,\"x1\":0.001994597732460158,\"y0\":180.51875,\"y1\":180.51875},{\"layer\":\"below\",\"line\":{\"color\":\"rgb(15,15,15)\",\"width\":1},\"type\":\"line\",\"x0\":0.001994597732460158,\"x1\":0.001994597732460158,\"y0\":181.7375,\"y1\":179.3},{\"layer\":\"below\",\"line\":{\"color\":\"rgb(15,15,15)\",\"width\":1},\"type\":\"line\",\"x0\":0.001994597732460158,\"x1\":0.012831098116207954,\"y0\":179.3,\"y1\":179.3},{\"layer\":\"below\",\"line\":{\"color\":\"rgb(15,15,15)\",\"width\":1},\"type\":\"line\",\"x0\":0.001994597732460158,\"x1\":0.00206225984871236,\"y0\":181.7375,\"y1\":181.7375},{\"layer\":\"below\",\"line\":{\"color\":\"rgb(15,15,15)\",\"width\":1},\"type\":\"line\",\"x0\":0.00206225984871236,\"x1\":0.00206225984871236,\"y0\":182.875,\"y1\":180.6},{\"layer\":\"below\",\"line\":{\"color\":\"rgb(15,15,15)\",\"width\":1},\"type\":\"line\",\"x0\":0.00206225984871236,\"x1\":0.010784987566923561,\"y0\":180.6,\"y1\":180.6},{\"layer\":\"below\",\"line\":{\"color\":\"rgb(15,15,15)\",\"width\":1},\"type\":\"line\",\"x0\":0.00206225984871236,\"x1\":0.004118407130501158,\"y0\":182.875,\"y1\":182.875},{\"layer\":\"below\",\"line\":{\"color\":\"rgb(15,15,15)\",\"width\":1},\"type\":\"line\",\"x0\":0.004118407130501158,\"x1\":0.004118407130501158,\"y0\":183.85,\"y1\":181.9},{\"layer\":\"below\",\"line\":{\"color\":\"rgb(15,15,15)\",\"width\":1},\"type\":\"line\",\"x0\":0.004118407130501158,\"x1\":0.011122001616679048,\"y0\":181.9,\"y1\":181.9},{\"layer\":\"below\",\"line\":{\"color\":\"rgb(15,15,15)\",\"width\":1},\"type\":\"line\",\"x0\":0.004118407130501158,\"x1\":0.004677962644323267,\"y0\":183.85,\"y1\":183.85},{\"layer\":\"below\",\"line\":{\"color\":\"rgb(15,15,15)\",\"width\":1},\"type\":\"line\",\"x0\":0.004677962644323267,\"x1\":0.004677962644323267,\"y0\":184.5,\"y1\":183.2},{\"layer\":\"below\",\"line\":{\"color\":\"rgb(15,15,15)\",\"width\":1},\"type\":\"line\",\"x0\":0.004677962644323267,\"x1\":0.012340294038332481,\"y0\":183.2,\"y1\":183.2},{\"layer\":\"below\",\"line\":{\"color\":\"rgb(15,15,15)\",\"width\":1},\"type\":\"line\",\"x0\":0.004677962644323267,\"x1\":0.010370331250314054,\"y0\":184.5,\"y1\":184.5},{\"layer\":\"below\",\"line\":{\"color\":\"rgb(15,15,15)\",\"width\":1},\"type\":\"line\",\"x0\":0.0015828425800671684,\"x1\":0.0023475397714241802,\"y0\":187.50625000000002,\"y1\":187.50625000000002},{\"layer\":\"below\",\"line\":{\"color\":\"rgb(15,15,15)\",\"width\":1},\"type\":\"line\",\"x0\":0.0023475397714241802,\"x1\":0.0023475397714241802,\"y0\":189.2125,\"y1\":185.8},{\"layer\":\"below\",\"line\":{\"color\":\"rgb(15,15,15)\",\"width\":1},\"type\":\"line\",\"x0\":0.0023475397714241802,\"x1\":0.011118015775182094,\"y0\":185.8,\"y1\":185.8},{\"layer\":\"below\",\"line\":{\"color\":\"rgb(15,15,15)\",\"width\":1},\"type\":\"line\",\"x0\":0.0023475397714241802,\"x1\":0.0026178012676662667,\"y0\":189.2125,\"y1\":189.2125},{\"layer\":\"below\",\"line\":{\"color\":\"rgb(15,15,15)\",\"width\":1},\"type\":\"line\",\"x0\":0.0026178012676662667,\"x1\":0.0026178012676662667,\"y0\":190.675,\"y1\":187.75},{\"layer\":\"below\",\"line\":{\"color\":\"rgb(15,15,15)\",\"width\":1},\"type\":\"line\",\"x0\":0.0026178012676662667,\"x1\":0.0037453237168379497,\"y0\":187.75,\"y1\":187.75},{\"layer\":\"below\",\"line\":{\"color\":\"rgb(15,15,15)\",\"width\":1},\"type\":\"line\",\"x0\":0.0037453237168379497,\"x1\":0.0037453237168379497,\"y0\":188.4,\"y1\":187.1},{\"layer\":\"below\",\"line\":{\"color\":\"rgb(15,15,15)\",\"width\":1},\"type\":\"line\",\"x0\":0.0037453237168379497,\"x1\":0.010863945055221789,\"y0\":187.1,\"y1\":187.1},{\"layer\":\"below\",\"line\":{\"color\":\"rgb(15,15,15)\",\"width\":1},\"type\":\"line\",\"x0\":0.0037453237168379497,\"x1\":0.010177502378454112,\"y0\":188.4,\"y1\":188.4},{\"layer\":\"below\",\"line\":{\"color\":\"rgb(15,15,15)\",\"width\":1},\"type\":\"line\",\"x0\":0.0026178012676662667,\"x1\":0.003337453818494583,\"y0\":190.675,\"y1\":190.675},{\"layer\":\"below\",\"line\":{\"color\":\"rgb(15,15,15)\",\"width\":1},\"type\":\"line\",\"x0\":0.003337453818494583,\"x1\":0.003337453818494583,\"y0\":191.65,\"y1\":189.7},{\"layer\":\"below\",\"line\":{\"color\":\"rgb(15,15,15)\",\"width\":1},\"type\":\"line\",\"x0\":0.003337453818494583,\"x1\":0.012717315680405572,\"y0\":189.7,\"y1\":189.7},{\"layer\":\"below\",\"line\":{\"color\":\"rgb(15,15,15)\",\"width\":1},\"type\":\"line\",\"x0\":0.003337453818494583,\"x1\":0.004607441956583594,\"y0\":191.65,\"y1\":191.65},{\"layer\":\"below\",\"line\":{\"color\":\"rgb(15,15,15)\",\"width\":1},\"type\":\"line\",\"x0\":0.004607441956583594,\"x1\":0.004607441956583594,\"y0\":192.3,\"y1\":191.0},{\"layer\":\"below\",\"line\":{\"color\":\"rgb(15,15,15)\",\"width\":1},\"type\":\"line\",\"x0\":0.004607441956583594,\"x1\":0.011212970776028041,\"y0\":191.0,\"y1\":191.0},{\"layer\":\"below\",\"line\":{\"color\":\"rgb(15,15,15)\",\"width\":1},\"type\":\"line\",\"x0\":0.004607441956583594,\"x1\":0.012202813137139147,\"y0\":192.3,\"y1\":192.3},{\"layer\":\"below\",\"line\":{\"color\":\"rgb(15,15,15)\",\"width\":1},\"type\":\"line\",\"x0\":0.001174553753177745,\"x1\":0.0013061714801346253,\"y0\":198.39375,\"y1\":198.39375},{\"layer\":\"below\",\"line\":{\"color\":\"rgb(15,15,15)\",\"width\":1},\"type\":\"line\",\"x0\":0.0013061714801346253,\"x1\":0.0013061714801346253,\"y0\":200.75,\"y1\":196.0375},{\"layer\":\"below\",\"line\":{\"color\":\"rgb(15,15,15)\",\"width\":1},\"type\":\"line\",\"x0\":0.0013061714801346253,\"x1\":0.0016013763457136706,\"y0\":196.0375,\"y1\":196.0375},{\"layer\":\"below\",\"line\":{\"color\":\"rgb(15,15,15)\",\"width\":1},\"type\":\"line\",\"x0\":0.0016013763457136706,\"x1\":0.0016013763457136706,\"y0\":197.5,\"y1\":194.575},{\"layer\":\"below\",\"line\":{\"color\":\"rgb(15,15,15)\",\"width\":1},\"type\":\"line\",\"x0\":0.0016013763457136706,\"x1\":0.0017823941110131475,\"y0\":194.575,\"y1\":194.575},{\"layer\":\"below\",\"line\":{\"color\":\"rgb(15,15,15)\",\"width\":1},\"type\":\"line\",\"x0\":0.0017823941110131475,\"x1\":0.0017823941110131475,\"y0\":195.55,\"y1\":193.6},{\"layer\":\"below\",\"line\":{\"color\":\"rgb(15,15,15)\",\"width\":1},\"type\":\"line\",\"x0\":0.0017823941110131475,\"x1\":0.010540061568945838,\"y0\":193.6,\"y1\":193.6},{\"layer\":\"below\",\"line\":{\"color\":\"rgb(15,15,15)\",\"width\":1},\"type\":\"line\",\"x0\":0.0017823941110131475,\"x1\":0.003454726653080454,\"y0\":195.55,\"y1\":195.55},{\"layer\":\"below\",\"line\":{\"color\":\"rgb(15,15,15)\",\"width\":1},\"type\":\"line\",\"x0\":0.003454726653080454,\"x1\":0.003454726653080454,\"y0\":196.2,\"y1\":194.9},{\"layer\":\"below\",\"line\":{\"color\":\"rgb(15,15,15)\",\"width\":1},\"type\":\"line\",\"x0\":0.003454726653080454,\"x1\":0.011551078024253918,\"y0\":194.9,\"y1\":194.9},{\"layer\":\"below\",\"line\":{\"color\":\"rgb(15,15,15)\",\"width\":1},\"type\":\"line\",\"x0\":0.003454726653080454,\"x1\":0.011801075281906992,\"y0\":196.2,\"y1\":196.2},{\"layer\":\"below\",\"line\":{\"color\":\"rgb(15,15,15)\",\"width\":1},\"type\":\"line\",\"x0\":0.0016013763457136706,\"x1\":0.010384758580414195,\"y0\":197.5,\"y1\":197.5},{\"layer\":\"below\",\"line\":{\"color\":\"rgb(15,15,15)\",\"width\":1},\"type\":\"line\",\"x0\":0.0013061714801346253,\"x1\":0.0030331228645555804,\"y0\":200.75,\"y1\":200.75},{\"layer\":\"below\",\"line\":{\"color\":\"rgb(15,15,15)\",\"width\":1},\"type\":\"line\",\"x0\":0.0030331228645555804,\"x1\":0.0030331228645555804,\"y0\":202.05,\"y1\":199.45},{\"layer\":\"below\",\"line\":{\"color\":\"rgb(15,15,15)\",\"width\":1},\"type\":\"line\",\"x0\":0.0030331228645555804,\"x1\":0.004028810016389816,\"y0\":199.45,\"y1\":199.45},{\"layer\":\"below\",\"line\":{\"color\":\"rgb(15,15,15)\",\"width\":1},\"type\":\"line\",\"x0\":0.004028810016389816,\"x1\":0.004028810016389816,\"y0\":200.1,\"y1\":198.8},{\"layer\":\"below\",\"line\":{\"color\":\"rgb(15,15,15)\",\"width\":1},\"type\":\"line\",\"x0\":0.004028810016389816,\"x1\":0.009765539152863241,\"y0\":198.8,\"y1\":198.8},{\"layer\":\"below\",\"line\":{\"color\":\"rgb(15,15,15)\",\"width\":1},\"type\":\"line\",\"x0\":0.004028810016389816,\"x1\":0.01092678087991639,\"y0\":200.1,\"y1\":200.1},{\"layer\":\"below\",\"line\":{\"color\":\"rgb(15,15,15)\",\"width\":1},\"type\":\"line\",\"x0\":0.0030331228645555804,\"x1\":0.0038332857127213456,\"y0\":202.05,\"y1\":202.05},{\"layer\":\"below\",\"line\":{\"color\":\"rgb(15,15,15)\",\"width\":1},\"type\":\"line\",\"x0\":0.0038332857127213456,\"x1\":0.0038332857127213456,\"y0\":202.7,\"y1\":201.4},{\"layer\":\"below\",\"line\":{\"color\":\"rgb(15,15,15)\",\"width\":1},\"type\":\"line\",\"x0\":0.0038332857127213456,\"x1\":0.011375023058018376,\"y0\":201.4,\"y1\":201.4},{\"layer\":\"below\",\"line\":{\"color\":\"rgb(15,15,15)\",\"width\":1},\"type\":\"line\",\"x0\":0.0038332857127213456,\"x1\":0.010902348367424316,\"y0\":202.7,\"y1\":202.7},{\"layer\":\"below\",\"line\":{\"color\":\"rgb(15,15,15)\",\"width\":1},\"type\":\"line\",\"x0\":0.0009783805019209376,\"x1\":0.0012643267941211608,\"y0\":207.52421875,\"y1\":207.52421875},{\"layer\":\"below\",\"line\":{\"color\":\"rgb(15,15,15)\",\"width\":1},\"type\":\"line\",\"x0\":0.0012643267941211608,\"x1\":0.0012643267941211608,\"y0\":210.0734375,\"y1\":204.975},{\"layer\":\"below\",\"line\":{\"color\":\"rgb(15,15,15)\",\"width\":1},\"type\":\"line\",\"x0\":0.0012643267941211608,\"x1\":0.0014158284882129567,\"y0\":204.975,\"y1\":204.975},{\"layer\":\"below\",\"line\":{\"color\":\"rgb(15,15,15)\",\"width\":1},\"type\":\"line\",\"x0\":0.0014158284882129567,\"x1\":0.0014158284882129567,\"y0\":205.95,\"y1\":204.0},{\"layer\":\"below\",\"line\":{\"color\":\"rgb(15,15,15)\",\"width\":1},\"type\":\"line\",\"x0\":0.0014158284882129567,\"x1\":0.010430670932512726,\"y0\":204.0,\"y1\":204.0},{\"layer\":\"below\",\"line\":{\"color\":\"rgb(15,15,15)\",\"width\":1},\"type\":\"line\",\"x0\":0.0014158284882129567,\"x1\":0.0027957860439131866,\"y0\":205.95,\"y1\":205.95},{\"layer\":\"below\",\"line\":{\"color\":\"rgb(15,15,15)\",\"width\":1},\"type\":\"line\",\"x0\":0.0027957860439131866,\"x1\":0.0027957860439131866,\"y0\":206.6,\"y1\":205.3},{\"layer\":\"below\",\"line\":{\"color\":\"rgb(15,15,15)\",\"width\":1},\"type\":\"line\",\"x0\":0.0027957860439131866,\"x1\":0.010903708801681554,\"y0\":205.3,\"y1\":205.3},{\"layer\":\"below\",\"line\":{\"color\":\"rgb(15,15,15)\",\"width\":1},\"type\":\"line\",\"x0\":0.0027957860439131866,\"x1\":0.011698963286144821,\"y0\":206.6,\"y1\":206.6},{\"layer\":\"below\",\"line\":{\"color\":\"rgb(15,15,15)\",\"width\":1},\"type\":\"line\",\"x0\":0.0012643267941211608,\"x1\":0.0014740661156543663,\"y0\":210.0734375,\"y1\":210.0734375},{\"layer\":\"below\",\"line\":{\"color\":\"rgb(15,15,15)\",\"width\":1},\"type\":\"line\",\"x0\":0.0014740661156543663,\"x1\":0.0014740661156543663,\"y0\":212.246875,\"y1\":207.9},{\"layer\":\"below\",\"line\":{\"color\":\"rgb(15,15,15)\",\"width\":1},\"type\":\"line\",\"x0\":0.0014740661156543663,\"x1\":0.011409761935448336,\"y0\":207.9,\"y1\":207.9},{\"layer\":\"below\",\"line\":{\"color\":\"rgb(15,15,15)\",\"width\":1},\"type\":\"line\",\"x0\":0.0014740661156543663,\"x1\":0.0017406077958603953,\"y0\":212.246875,\"y1\":212.246875},{\"layer\":\"below\",\"line\":{\"color\":\"rgb(15,15,15)\",\"width\":1},\"type\":\"line\",\"x0\":0.0017406077958603953,\"x1\":0.0017406077958603953,\"y0\":214.64375,\"y1\":209.85},{\"layer\":\"below\",\"line\":{\"color\":\"rgb(15,15,15)\",\"width\":1},\"type\":\"line\",\"x0\":0.0017406077958603953,\"x1\":0.001958852623154934,\"y0\":209.85,\"y1\":209.85},{\"layer\":\"below\",\"line\":{\"color\":\"rgb(15,15,15)\",\"width\":1},\"type\":\"line\",\"x0\":0.001958852623154934,\"x1\":0.001958852623154934,\"y0\":210.5,\"y1\":209.2},{\"layer\":\"below\",\"line\":{\"color\":\"rgb(15,15,15)\",\"width\":1},\"type\":\"line\",\"x0\":0.001958852623154934,\"x1\":0.01097230110498117,\"y0\":209.2,\"y1\":209.2},{\"layer\":\"below\",\"line\":{\"color\":\"rgb(15,15,15)\",\"width\":1},\"type\":\"line\",\"x0\":0.001958852623154934,\"x1\":0.011197804141328697,\"y0\":210.5,\"y1\":210.5},{\"layer\":\"below\",\"line\":{\"color\":\"rgb(15,15,15)\",\"width\":1},\"type\":\"line\",\"x0\":0.0017406077958603953,\"x1\":0.0018418285935658566,\"y0\":214.64375,\"y1\":214.64375},{\"layer\":\"below\",\"line\":{\"color\":\"rgb(15,15,15)\",\"width\":1},\"type\":\"line\",\"x0\":0.0018418285935658566,\"x1\":0.0018418285935658566,\"y0\":216.8375,\"y1\":212.45},{\"layer\":\"below\",\"line\":{\"color\":\"rgb(15,15,15)\",\"width\":1},\"type\":\"line\",\"x0\":0.0018418285935658566,\"x1\":0.002360177211802794,\"y0\":212.45,\"y1\":212.45},{\"layer\":\"below\",\"line\":{\"color\":\"rgb(15,15,15)\",\"width\":1},\"type\":\"line\",\"x0\":0.002360177211802794,\"x1\":0.002360177211802794,\"y0\":213.1,\"y1\":211.8},{\"layer\":\"below\",\"line\":{\"color\":\"rgb(15,15,15)\",\"width\":1},\"type\":\"line\",\"x0\":0.002360177211802794,\"x1\":0.012611509447073494,\"y0\":211.8,\"y1\":211.8},{\"layer\":\"below\",\"line\":{\"color\":\"rgb(15,15,15)\",\"width\":1},\"type\":\"line\",\"x0\":0.002360177211802794,\"x1\":0.012855844976532095,\"y0\":213.1,\"y1\":213.1},{\"layer\":\"below\",\"line\":{\"color\":\"rgb(15,15,15)\",\"width\":1},\"type\":\"line\",\"x0\":0.0018418285935658566,\"x1\":0.002105642475328919,\"y0\":216.8375,\"y1\":216.8375},{\"layer\":\"below\",\"line\":{\"color\":\"rgb(15,15,15)\",\"width\":1},\"type\":\"line\",\"x0\":0.002105642475328919,\"x1\":0.002105642475328919,\"y0\":218.625,\"y1\":215.05},{\"layer\":\"below\",\"line\":{\"color\":\"rgb(15,15,15)\",\"width\":1},\"type\":\"line\",\"x0\":0.002105642475328919,\"x1\":0.00289272567053584,\"y0\":215.05,\"y1\":215.05},{\"layer\":\"below\",\"line\":{\"color\":\"rgb(15,15,15)\",\"width\":1},\"type\":\"line\",\"x0\":0.00289272567053584,\"x1\":0.00289272567053584,\"y0\":215.7,\"y1\":214.4},{\"layer\":\"below\",\"line\":{\"color\":\"rgb(15,15,15)\",\"width\":1},\"type\":\"line\",\"x0\":0.00289272567053584,\"x1\":0.01241804381684265,\"y0\":214.4,\"y1\":214.4},{\"layer\":\"below\",\"line\":{\"color\":\"rgb(15,15,15)\",\"width\":1},\"type\":\"line\",\"x0\":0.00289272567053584,\"x1\":0.011680607524229034,\"y0\":215.7,\"y1\":215.7},{\"layer\":\"below\",\"line\":{\"color\":\"rgb(15,15,15)\",\"width\":1},\"type\":\"line\",\"x0\":0.002105642475328919,\"x1\":0.0024022217801219978,\"y0\":218.625,\"y1\":218.625},{\"layer\":\"below\",\"line\":{\"color\":\"rgb(15,15,15)\",\"width\":1},\"type\":\"line\",\"x0\":0.0024022217801219978,\"x1\":0.0024022217801219978,\"y0\":219.6,\"y1\":217.65},{\"layer\":\"below\",\"line\":{\"color\":\"rgb(15,15,15)\",\"width\":1},\"type\":\"line\",\"x0\":0.0024022217801219978,\"x1\":0.003150615544862562,\"y0\":217.65,\"y1\":217.65},{\"layer\":\"below\",\"line\":{\"color\":\"rgb(15,15,15)\",\"width\":1},\"type\":\"line\",\"x0\":0.003150615544862562,\"x1\":0.003150615544862562,\"y0\":218.3,\"y1\":217.0},{\"layer\":\"below\",\"line\":{\"color\":\"rgb(15,15,15)\",\"width\":1},\"type\":\"line\",\"x0\":0.003150615544862562,\"x1\":0.011927114259580304,\"y0\":217.0,\"y1\":217.0},{\"layer\":\"below\",\"line\":{\"color\":\"rgb(15,15,15)\",\"width\":1},\"type\":\"line\",\"x0\":0.003150615544862562,\"x1\":0.010760716830144821,\"y0\":218.3,\"y1\":218.3},{\"layer\":\"below\",\"line\":{\"color\":\"rgb(15,15,15)\",\"width\":1},\"type\":\"line\",\"x0\":0.0024022217801219978,\"x1\":0.01081102801538143,\"y0\":219.6,\"y1\":219.6},{\"layer\":\"below\",\"line\":{\"color\":\"rgb(15,15,15)\",\"width\":1},\"type\":\"line\",\"x0\":0,\"x1\":0.0002537356626331803,\"y0\":224.921875,\"y1\":224.921875},{\"layer\":\"below\",\"line\":{\"color\":\"rgb(15,15,15)\",\"width\":1},\"type\":\"line\",\"x0\":0.0002537356626331803,\"x1\":0.0002537356626331803,\"y0\":227.96875,\"y1\":221.875},{\"layer\":\"below\",\"line\":{\"color\":\"rgb(15,15,15)\",\"width\":1},\"type\":\"line\",\"x0\":0.0002537356626331803,\"x1\":0.0005849264042282821,\"y0\":221.875,\"y1\":221.875},{\"layer\":\"below\",\"line\":{\"color\":\"rgb(15,15,15)\",\"width\":1},\"type\":\"line\",\"x0\":0.0005849264042282821,\"x1\":0.0005849264042282821,\"y0\":222.85,\"y1\":220.9},{\"layer\":\"below\",\"line\":{\"color\":\"rgb(15,15,15)\",\"width\":1},\"type\":\"line\",\"x0\":0.0005849264042282821,\"x1\":0.009674864165969741,\"y0\":220.9,\"y1\":220.9},{\"layer\":\"below\",\"line\":{\"color\":\"rgb(15,15,15)\",\"width\":1},\"type\":\"line\",\"x0\":0.0005849264042282821,\"x1\":0.0007674886424868207,\"y0\":222.85,\"y1\":222.85},{\"layer\":\"below\",\"line\":{\"color\":\"rgb(15,15,15)\",\"width\":1},\"type\":\"line\",\"x0\":0.0007674886424868207,\"x1\":0.0007674886424868207,\"y0\":223.5,\"y1\":222.2},{\"layer\":\"below\",\"line\":{\"color\":\"rgb(15,15,15)\",\"width\":1},\"type\":\"line\",\"x0\":0.0007674886424868207,\"x1\":0.009880127635599485,\"y0\":222.2,\"y1\":222.2},{\"layer\":\"below\",\"line\":{\"color\":\"rgb(15,15,15)\",\"width\":1},\"type\":\"line\",\"x0\":0.0007674886424868207,\"x1\":0.009072349649374156,\"y0\":223.5,\"y1\":223.5},{\"layer\":\"below\",\"line\":{\"color\":\"rgb(15,15,15)\",\"width\":1},\"type\":\"line\",\"x0\":0.0002537356626331803,\"x1\":0.0004944308585380808,\"y0\":227.96875,\"y1\":227.96875},{\"layer\":\"below\",\"line\":{\"color\":\"rgb(15,15,15)\",\"width\":1},\"type\":\"line\",\"x0\":0.0004944308585380808,\"x1\":0.0004944308585380808,\"y0\":230.0,\"y1\":225.9375},{\"layer\":\"below\",\"line\":{\"color\":\"rgb(15,15,15)\",\"width\":1},\"type\":\"line\",\"x0\":0.0004944308585380808,\"x1\":0.0006841966539546612,\"y0\":225.9375,\"y1\":225.9375},{\"layer\":\"below\",\"line\":{\"color\":\"rgb(15,15,15)\",\"width\":1},\"type\":\"line\",\"x0\":0.0006841966539546612,\"x1\":0.0006841966539546612,\"y0\":227.075,\"y1\":224.8},{\"layer\":\"below\",\"line\":{\"color\":\"rgb(15,15,15)\",\"width\":1},\"type\":\"line\",\"x0\":0.0006841966539546612,\"x1\":0.008640707782625491,\"y0\":224.8,\"y1\":224.8},{\"layer\":\"below\",\"line\":{\"color\":\"rgb(15,15,15)\",\"width\":1},\"type\":\"line\",\"x0\":0.0006841966539546612,\"x1\":0.000965060525283829,\"y0\":227.075,\"y1\":227.075},{\"layer\":\"below\",\"line\":{\"color\":\"rgb(15,15,15)\",\"width\":1},\"type\":\"line\",\"x0\":0.000965060525283829,\"x1\":0.000965060525283829,\"y0\":228.05,\"y1\":226.1},{\"layer\":\"below\",\"line\":{\"color\":\"rgb(15,15,15)\",\"width\":1},\"type\":\"line\",\"x0\":0.000965060525283829,\"x1\":0.009636259953637491,\"y0\":226.1,\"y1\":226.1},{\"layer\":\"below\",\"line\":{\"color\":\"rgb(15,15,15)\",\"width\":1},\"type\":\"line\",\"x0\":0.000965060525283829,\"x1\":0.0012088110969301678,\"y0\":228.05,\"y1\":228.05},{\"layer\":\"below\",\"line\":{\"color\":\"rgb(15,15,15)\",\"width\":1},\"type\":\"line\",\"x0\":0.0012088110969301678,\"x1\":0.0012088110969301678,\"y0\":228.7,\"y1\":227.4},{\"layer\":\"below\",\"line\":{\"color\":\"rgb(15,15,15)\",\"width\":1},\"type\":\"line\",\"x0\":0.0012088110969301678,\"x1\":0.00832908423961885,\"y0\":227.4,\"y1\":227.4},{\"layer\":\"below\",\"line\":{\"color\":\"rgb(15,15,15)\",\"width\":1},\"type\":\"line\",\"x0\":0.0012088110969301678,\"x1\":0.009117037954241488,\"y0\":228.7,\"y1\":228.7},{\"layer\":\"below\",\"line\":{\"color\":\"rgb(15,15,15)\",\"width\":1},\"type\":\"line\",\"x0\":0.0004944308585380808,\"x1\":0.0091845775631215,\"y0\":230.0,\"y1\":230.0}],\"showlegend\":false,\"xaxis\":{\"showgrid\":false,\"showline\":false,\"showticklabels\":false,\"ticklen\":4,\"title\":{\"text\":\"\"},\"zeroline\":false},\"yaxis\":{\"showgrid\":false,\"showline\":false,\"showticklabels\":false,\"title\":{\"text\":\"\"},\"zeroline\":false},\"template\":{\"data\":{\"histogram2dcontour\":[{\"type\":\"histogram2dcontour\",\"colorbar\":{\"outlinewidth\":0,\"ticks\":\"\"},\"colorscale\":[[0.0,\"#0d0887\"],[0.1111111111111111,\"#46039f\"],[0.2222222222222222,\"#7201a8\"],[0.3333333333333333,\"#9c179e\"],[0.4444444444444444,\"#bd3786\"],[0.5555555555555556,\"#d8576b\"],[0.6666666666666666,\"#ed7953\"],[0.7777777777777778,\"#fb9f3a\"],[0.8888888888888888,\"#fdca26\"],[1.0,\"#f0f921\"]]}],\"choropleth\":[{\"type\":\"choropleth\",\"colorbar\":{\"outlinewidth\":0,\"ticks\":\"\"}}],\"histogram2d\":[{\"type\":\"histogram2d\",\"colorbar\":{\"outlinewidth\":0,\"ticks\":\"\"},\"colorscale\":[[0.0,\"#0d0887\"],[0.1111111111111111,\"#46039f\"],[0.2222222222222222,\"#7201a8\"],[0.3333333333333333,\"#9c179e\"],[0.4444444444444444,\"#bd3786\"],[0.5555555555555556,\"#d8576b\"],[0.6666666666666666,\"#ed7953\"],[0.7777777777777778,\"#fb9f3a\"],[0.8888888888888888,\"#fdca26\"],[1.0,\"#f0f921\"]]}],\"heatmap\":[{\"type\":\"heatmap\",\"colorbar\":{\"outlinewidth\":0,\"ticks\":\"\"},\"colorscale\":[[0.0,\"#0d0887\"],[0.1111111111111111,\"#46039f\"],[0.2222222222222222,\"#7201a8\"],[0.3333333333333333,\"#9c179e\"],[0.4444444444444444,\"#bd3786\"],[0.5555555555555556,\"#d8576b\"],[0.6666666666666666,\"#ed7953\"],[0.7777777777777778,\"#fb9f3a\"],[0.8888888888888888,\"#fdca26\"],[1.0,\"#f0f921\"]]}],\"heatmapgl\":[{\"type\":\"heatmapgl\",\"colorbar\":{\"outlinewidth\":0,\"ticks\":\"\"},\"colorscale\":[[0.0,\"#0d0887\"],[0.1111111111111111,\"#46039f\"],[0.2222222222222222,\"#7201a8\"],[0.3333333333333333,\"#9c179e\"],[0.4444444444444444,\"#bd3786\"],[0.5555555555555556,\"#d8576b\"],[0.6666666666666666,\"#ed7953\"],[0.7777777777777778,\"#fb9f3a\"],[0.8888888888888888,\"#fdca26\"],[1.0,\"#f0f921\"]]}],\"contourcarpet\":[{\"type\":\"contourcarpet\",\"colorbar\":{\"outlinewidth\":0,\"ticks\":\"\"}}],\"contour\":[{\"type\":\"contour\",\"colorbar\":{\"outlinewidth\":0,\"ticks\":\"\"},\"colorscale\":[[0.0,\"#0d0887\"],[0.1111111111111111,\"#46039f\"],[0.2222222222222222,\"#7201a8\"],[0.3333333333333333,\"#9c179e\"],[0.4444444444444444,\"#bd3786\"],[0.5555555555555556,\"#d8576b\"],[0.6666666666666666,\"#ed7953\"],[0.7777777777777778,\"#fb9f3a\"],[0.8888888888888888,\"#fdca26\"],[1.0,\"#f0f921\"]]}],\"surface\":[{\"type\":\"surface\",\"colorbar\":{\"outlinewidth\":0,\"ticks\":\"\"},\"colorscale\":[[0.0,\"#0d0887\"],[0.1111111111111111,\"#46039f\"],[0.2222222222222222,\"#7201a8\"],[0.3333333333333333,\"#9c179e\"],[0.4444444444444444,\"#bd3786\"],[0.5555555555555556,\"#d8576b\"],[0.6666666666666666,\"#ed7953\"],[0.7777777777777778,\"#fb9f3a\"],[0.8888888888888888,\"#fdca26\"],[1.0,\"#f0f921\"]]}],\"mesh3d\":[{\"type\":\"mesh3d\",\"colorbar\":{\"outlinewidth\":0,\"ticks\":\"\"}}],\"scatter\":[{\"fillpattern\":{\"fillmode\":\"overlay\",\"size\":10,\"solidity\":0.2},\"type\":\"scatter\"}],\"parcoords\":[{\"type\":\"parcoords\",\"line\":{\"colorbar\":{\"outlinewidth\":0,\"ticks\":\"\"}}}],\"scatterpolargl\":[{\"type\":\"scatterpolargl\",\"marker\":{\"colorbar\":{\"outlinewidth\":0,\"ticks\":\"\"}}}],\"bar\":[{\"error_x\":{\"color\":\"#2a3f5f\"},\"error_y\":{\"color\":\"#2a3f5f\"},\"marker\":{\"line\":{\"color\":\"#E5ECF6\",\"width\":0.5},\"pattern\":{\"fillmode\":\"overlay\",\"size\":10,\"solidity\":0.2}},\"type\":\"bar\"}],\"scattergeo\":[{\"type\":\"scattergeo\",\"marker\":{\"colorbar\":{\"outlinewidth\":0,\"ticks\":\"\"}}}],\"scatterpolar\":[{\"type\":\"scatterpolar\",\"marker\":{\"colorbar\":{\"outlinewidth\":0,\"ticks\":\"\"}}}],\"histogram\":[{\"marker\":{\"pattern\":{\"fillmode\":\"overlay\",\"size\":10,\"solidity\":0.2}},\"type\":\"histogram\"}],\"scattergl\":[{\"type\":\"scattergl\",\"marker\":{\"colorbar\":{\"outlinewidth\":0,\"ticks\":\"\"}}}],\"scatter3d\":[{\"type\":\"scatter3d\",\"line\":{\"colorbar\":{\"outlinewidth\":0,\"ticks\":\"\"}},\"marker\":{\"colorbar\":{\"outlinewidth\":0,\"ticks\":\"\"}}}],\"scattermapbox\":[{\"type\":\"scattermapbox\",\"marker\":{\"colorbar\":{\"outlinewidth\":0,\"ticks\":\"\"}}}],\"scatterternary\":[{\"type\":\"scatterternary\",\"marker\":{\"colorbar\":{\"outlinewidth\":0,\"ticks\":\"\"}}}],\"scattercarpet\":[{\"type\":\"scattercarpet\",\"marker\":{\"colorbar\":{\"outlinewidth\":0,\"ticks\":\"\"}}}],\"carpet\":[{\"aaxis\":{\"endlinecolor\":\"#2a3f5f\",\"gridcolor\":\"white\",\"linecolor\":\"white\",\"minorgridcolor\":\"white\",\"startlinecolor\":\"#2a3f5f\"},\"baxis\":{\"endlinecolor\":\"#2a3f5f\",\"gridcolor\":\"white\",\"linecolor\":\"white\",\"minorgridcolor\":\"white\",\"startlinecolor\":\"#2a3f5f\"},\"type\":\"carpet\"}],\"table\":[{\"cells\":{\"fill\":{\"color\":\"#EBF0F8\"},\"line\":{\"color\":\"white\"}},\"header\":{\"fill\":{\"color\":\"#C8D4E3\"},\"line\":{\"color\":\"white\"}},\"type\":\"table\"}],\"barpolar\":[{\"marker\":{\"line\":{\"color\":\"#E5ECF6\",\"width\":0.5},\"pattern\":{\"fillmode\":\"overlay\",\"size\":10,\"solidity\":0.2}},\"type\":\"barpolar\"}],\"pie\":[{\"automargin\":true,\"type\":\"pie\"}]},\"layout\":{\"autotypenumbers\":\"strict\",\"colorway\":[\"#636efa\",\"#EF553B\",\"#00cc96\",\"#ab63fa\",\"#FFA15A\",\"#19d3f3\",\"#FF6692\",\"#B6E880\",\"#FF97FF\",\"#FECB52\"],\"font\":{\"color\":\"#2a3f5f\"},\"hovermode\":\"closest\",\"hoverlabel\":{\"align\":\"left\"},\"paper_bgcolor\":\"white\",\"plot_bgcolor\":\"#E5ECF6\",\"polar\":{\"bgcolor\":\"#E5ECF6\",\"angularaxis\":{\"gridcolor\":\"white\",\"linecolor\":\"white\",\"ticks\":\"\"},\"radialaxis\":{\"gridcolor\":\"white\",\"linecolor\":\"white\",\"ticks\":\"\"}},\"ternary\":{\"bgcolor\":\"#E5ECF6\",\"aaxis\":{\"gridcolor\":\"white\",\"linecolor\":\"white\",\"ticks\":\"\"},\"baxis\":{\"gridcolor\":\"white\",\"linecolor\":\"white\",\"ticks\":\"\"},\"caxis\":{\"gridcolor\":\"white\",\"linecolor\":\"white\",\"ticks\":\"\"}},\"coloraxis\":{\"colorbar\":{\"outlinewidth\":0,\"ticks\":\"\"}},\"colorscale\":{\"sequential\":[[0.0,\"#0d0887\"],[0.1111111111111111,\"#46039f\"],[0.2222222222222222,\"#7201a8\"],[0.3333333333333333,\"#9c179e\"],[0.4444444444444444,\"#bd3786\"],[0.5555555555555556,\"#d8576b\"],[0.6666666666666666,\"#ed7953\"],[0.7777777777777778,\"#fb9f3a\"],[0.8888888888888888,\"#fdca26\"],[1.0,\"#f0f921\"]],\"sequentialminus\":[[0.0,\"#0d0887\"],[0.1111111111111111,\"#46039f\"],[0.2222222222222222,\"#7201a8\"],[0.3333333333333333,\"#9c179e\"],[0.4444444444444444,\"#bd3786\"],[0.5555555555555556,\"#d8576b\"],[0.6666666666666666,\"#ed7953\"],[0.7777777777777778,\"#fb9f3a\"],[0.8888888888888888,\"#fdca26\"],[1.0,\"#f0f921\"]],\"diverging\":[[0,\"#8e0152\"],[0.1,\"#c51b7d\"],[0.2,\"#de77ae\"],[0.3,\"#f1b6da\"],[0.4,\"#fde0ef\"],[0.5,\"#f7f7f7\"],[0.6,\"#e6f5d0\"],[0.7,\"#b8e186\"],[0.8,\"#7fbc41\"],[0.9,\"#4d9221\"],[1,\"#276419\"]]},\"xaxis\":{\"gridcolor\":\"white\",\"linecolor\":\"white\",\"ticks\":\"\",\"title\":{\"standoff\":15},\"zerolinecolor\":\"white\",\"automargin\":true,\"zerolinewidth\":2},\"yaxis\":{\"gridcolor\":\"white\",\"linecolor\":\"white\",\"ticks\":\"\",\"title\":{\"standoff\":15},\"zerolinecolor\":\"white\",\"automargin\":true,\"zerolinewidth\":2},\"scene\":{\"xaxis\":{\"backgroundcolor\":\"#E5ECF6\",\"gridcolor\":\"white\",\"linecolor\":\"white\",\"showbackground\":true,\"ticks\":\"\",\"zerolinecolor\":\"white\",\"gridwidth\":2},\"yaxis\":{\"backgroundcolor\":\"#E5ECF6\",\"gridcolor\":\"white\",\"linecolor\":\"white\",\"showbackground\":true,\"ticks\":\"\",\"zerolinecolor\":\"white\",\"gridwidth\":2},\"zaxis\":{\"backgroundcolor\":\"#E5ECF6\",\"gridcolor\":\"white\",\"linecolor\":\"white\",\"showbackground\":true,\"ticks\":\"\",\"zerolinecolor\":\"white\",\"gridwidth\":2}},\"shapedefaults\":{\"line\":{\"color\":\"#2a3f5f\"}},\"annotationdefaults\":{\"arrowcolor\":\"#2a3f5f\",\"arrowhead\":0,\"arrowwidth\":1},\"geo\":{\"bgcolor\":\"white\",\"landcolor\":\"#E5ECF6\",\"subunitcolor\":\"white\",\"showland\":true,\"showlakes\":true,\"lakecolor\":\"white\"},\"title\":{\"x\":0.05},\"mapbox\":{\"style\":\"light\"}}}},                        {\"responsive\": true}                    ).then(function(){\n",
       "                            \n",
       "var gd = document.getElementById('80b844b4-7d25-456c-9173-2c8e7acf1375');\n",
       "var x = new MutationObserver(function (mutations, observer) {{\n",
       "        var display = window.getComputedStyle(gd).display;\n",
       "        if (!display || display === 'none') {{\n",
       "            console.log([gd, 'removed!']);\n",
       "            Plotly.purge(gd);\n",
       "            observer.disconnect();\n",
       "        }}\n",
       "}});\n",
       "\n",
       "// Listen for the removal of the full notebook cells\n",
       "var notebookContainer = gd.closest('#notebook-container');\n",
       "if (notebookContainer) {{\n",
       "    x.observe(notebookContainer, {childList: true});\n",
       "}}\n",
       "\n",
       "// Listen for the clearing of the current output cell\n",
       "var outputEl = gd.closest('.output');\n",
       "if (outputEl) {{\n",
       "    x.observe(outputEl, {childList: true});\n",
       "}}\n",
       "\n",
       "                        })                };                });            </script>        </div>"
      ]
     },
     "metadata": {},
     "output_type": "display_data"
    }
   ],
   "source": [
    "#node_color_dict = {acc:'red' for acc in outliers}\n",
    "njTree_fig = jw_draw_tree.create_tree(njTree)#, node_color_dict=node_color_dict)\n",
    "go.Figure(njTree_fig)"
   ]
  },
  {
   "cell_type": "code",
   "execution_count": null,
   "metadata": {
    "tags": []
   },
   "outputs": [],
   "source": []
  },
  {
   "cell_type": "code",
   "execution_count": null,
   "metadata": {
    "tags": []
   },
   "outputs": [],
   "source": []
  },
  {
   "cell_type": "code",
   "execution_count": null,
   "metadata": {
    "tags": []
   },
   "outputs": [],
   "source": []
  },
  {
   "cell_type": "code",
   "execution_count": null,
   "metadata": {},
   "outputs": [],
   "source": []
  },
  {
   "cell_type": "code",
   "execution_count": null,
   "metadata": {},
   "outputs": [],
   "source": []
  },
  {
   "cell_type": "code",
   "execution_count": null,
   "metadata": {
    "tags": []
   },
   "outputs": [],
   "source": []
  },
  {
   "cell_type": "code",
   "execution_count": null,
   "metadata": {},
   "outputs": [],
   "source": []
  },
  {
   "cell_type": "code",
   "execution_count": null,
   "metadata": {
    "tags": []
   },
   "outputs": [],
   "source": []
  },
  {
   "cell_type": "code",
   "execution_count": null,
   "metadata": {},
   "outputs": [],
   "source": []
  },
  {
   "cell_type": "code",
   "execution_count": null,
   "metadata": {},
   "outputs": [],
   "source": [
    "\n"
   ]
  },
  {
   "cell_type": "code",
   "execution_count": null,
   "metadata": {},
   "outputs": [],
   "source": []
  },
  {
   "cell_type": "code",
   "execution_count": 6,
   "metadata": {},
   "outputs": [],
   "source": []
  },
  {
   "cell_type": "code",
   "execution_count": null,
   "metadata": {},
   "outputs": [],
   "source": [
    "\n"
   ]
  },
  {
   "cell_type": "code",
   "execution_count": 8,
   "metadata": {},
   "outputs": [],
   "source": []
  },
  {
   "cell_type": "code",
   "execution_count": 9,
   "metadata": {},
   "outputs": [],
   "source": []
  },
  {
   "cell_type": "code",
   "execution_count": 10,
   "metadata": {},
   "outputs": [],
   "source": []
  },
  {
   "cell_type": "code",
   "execution_count": 13,
   "metadata": {},
   "outputs": [],
   "source": [
    "\n",
    "        "
   ]
  },
  {
   "cell_type": "code",
   "execution_count": 20,
   "metadata": {},
   "outputs": [],
   "source": []
  },
  {
   "cell_type": "code",
   "execution_count": null,
   "metadata": {},
   "outputs": [],
   "source": []
  },
  {
   "cell_type": "code",
   "execution_count": null,
   "metadata": {},
   "outputs": [],
   "source": []
  },
  {
   "cell_type": "code",
   "execution_count": null,
   "metadata": {},
   "outputs": [],
   "source": []
  },
  {
   "cell_type": "code",
   "execution_count": null,
   "metadata": {},
   "outputs": [],
   "source": []
  },
  {
   "cell_type": "code",
   "execution_count": null,
   "metadata": {},
   "outputs": [],
   "source": []
  }
 ],
 "metadata": {
  "kernelspec": {
   "display_name": "Python 3 (ipykernel)",
   "language": "python",
   "name": "python3"
  },
  "language_info": {
   "codemirror_mode": {
    "name": "ipython",
    "version": 3
   },
   "file_extension": ".py",
   "mimetype": "text/x-python",
   "name": "python",
   "nbconvert_exporter": "python",
   "pygments_lexer": "ipython3",
   "version": "3.10.1"
  },
  "vscode": {
   "interpreter": {
    "hash": "4739966dd006f6d66c6566d17dcf1849036a7f72a2dda21e01ad772dab55fd84"
   }
  }
 },
 "nbformat": 4,
 "nbformat_minor": 4
}
